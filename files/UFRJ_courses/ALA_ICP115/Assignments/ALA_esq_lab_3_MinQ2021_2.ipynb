{
  "nbformat": 4,
  "nbformat_minor": 0,
  "metadata": {
    "colab": {
      "name": "LabMinQ2021-2.ipynb",
      "provenance": [],
      "collapsed_sections": [],
      "include_colab_link": true
    },
    "kernelspec": {
      "name": "python3",
      "display_name": "Python 3"
    },
    "language_info": {
      "name": "python"
    }
  },
  "cells": [
    {
      "cell_type": "markdown",
      "metadata": {
        "id": "view-in-github",
        "colab_type": "text"
      },
      "source": [
        "<a href=\"https://colab.research.google.com/github/jvitordeoliveira96/UFRJ_courses/blob/main/ALA_ICP115/Assignments/ALA_esq_Lab3MinQ2021_2.ipynb\" target=\"_parent\"><img src=\"https://colab.research.google.com/assets/colab-badge.svg\" alt=\"Open In Colab\"/></a>"
      ]
    },
    {
      "cell_type": "markdown",
      "metadata": {
        "id": "IXJ4T9RqjCMF"
      },
      "source": [
        "#**Álgebra Linear Algorítmica 2021.2**\n",
        "\n",
        "**Professor: João Vitor de Oliveira Silva**\n",
        "\n",
        "**Laboratório 3**\n",
        "\n",
        "\n",
        "*Para realizar uma cópia editável deste esqueleto, você pode clicar em Arquivo > Salvar uma cópia no Drive. Você pode remover as células de texto de enunciado e de avisos*, **mas mantendo as células de texto que marcam o início das questões.**\n",
        "\n",
        "*É fortemente recomendado que o aluno veja o material de apoio ao laboratório 4 disponibilizado no Google Classroom.*\n",
        "\n",
        "\n",
        "---\n",
        "###**Avisos**:\n",
        "\n",
        "\n",
        "*   **Sua solução deve ser devidamente comentada, usando células de texto e/ou códigos desenvolvidos.**\n",
        "*   **Como já informado, soluções com plágio serão desconsideradas e receberão grau 0.**\n",
        "*   **O trabalho pode ser feito individualmente ou em dupla.**\n",
        "\n",
        "* **O nome do seu arquivo contendo a solução deve ser**\n",
        "$$\\mathtt{nome\\_DRE\\_lab03.ipynb}$$ ou $$\\mathtt{nome1\\_DRE\\_nome2\\_DRE2\\_lab03.ipynb}$$\n",
        " **e deve ser submetido na atividade presente no Google Classroom até as 23:59 do dia 01/10.**\n"
      ]
    },
    {
      "cell_type": "code",
      "metadata": {
        "id": "ePEcuAeLqizO"
      },
      "source": [
        "import sympy as sym\n",
        "import numpy as np\n",
        "from IPython.display import display, Markdown, Latex, HTML\n",
        "import scipy as sp\n",
        "import scipy.linalg\n",
        "import matplotlib.pyplot as plt\n",
        "from matplotlib import animation\n",
        "from mpl_toolkits.mplot3d.art3d import Poly3DCollection\n",
        "from google.colab import files\n",
        "import pandas as pd\n",
        "\n"
      ],
      "execution_count": null,
      "outputs": []
    },
    {
      "cell_type": "code",
      "metadata": {
        "id": "pYIe5fhFqfu-",
        "cellView": "form"
      },
      "source": [
        "#@title Funções que realizam eliminação Gaussiana (sem subs reversa)\n",
        "\n",
        "def permutation_check(A_aug, l, c):\n",
        "  for k in range(l+1, A_aug.shape[0]):\n",
        "    if (A_aug[k, c] != 0):\n",
        "      return k\n",
        "    \n",
        "  return -1\n",
        "\n",
        "\n",
        "def gaussian_elimination(A, b = None, show_steps = True, save_iters = False):\n",
        "  \"\"\" Computes Gaussian elimination (row echoleon form), showing step by step. \n",
        "  Sympy Matrix, Sympy Matrix -> Sympy Matrix \"\"\"\n",
        "\n",
        "  if (b == None):\n",
        "    A_aug = A.copy()\n",
        "  else:\n",
        "    A_aug = A.col_insert(A.shape[1], b)\n",
        "\n",
        "  if (save_iters):\n",
        "    A_aug_iters = []\n",
        "    A_aug_iters.append(A_aug.copy())\n",
        "  \n",
        "  if (show_steps):\n",
        "    print('\\033[1mInício\\033[0m')\n",
        "    print('--------------------------------------')\n",
        "    display(A_aug)\n",
        "    print('\\n')\n",
        "    print('--------------------------------------')\n",
        "\n",
        "  el = 0\n",
        "  for j in range(0, A.shape[1]):\n",
        "    pivot_in_column = False\n",
        "\n",
        "    if (A_aug[el,j] == 0):\n",
        "      if (show_steps):\n",
        "        print('Atenção: pivô zero em A[{0}, {1}]!'. format(el, j) )\n",
        "        display(A_aug)\n",
        "      \n",
        "      l = permutation_check(A_aug, el, j)\n",
        "      if ( l !=-1 ):\n",
        "        A_aug[l, :], A_aug[el, :] = A_aug[el, :], A_aug[l, :]\n",
        "        if (show_steps):\n",
        "          print('Permutação L{0} <-> L{1}'.format(l, el))\n",
        "          display(A_aug)\n",
        "        pivot_in_column = True\n",
        "        if (save_iters):\n",
        "          A_aug_iters.append(A_aug.copy())\n",
        "\n",
        "    else:\n",
        "      pivot_in_column = True\n",
        "    \n",
        "    if ( pivot_in_column ):\n",
        "      for i in range(el+1, A_aug.shape[0]):\n",
        "        c = - A_aug[i, j] / A_aug[el, j] \n",
        "        A_aug[i, :] = A_aug[i, :] + c * A_aug[el, :]\n",
        "        if (show_steps):\n",
        "          print('L{0} <- L{0} + ({2}) * L{1}'.format(i, el, c))\n",
        "          display(A_aug)\n",
        "          print('\\n')\n",
        "        if (save_iters):\n",
        "          A_aug_iters.append(A_aug.copy())\n",
        "      \n",
        "      el = (el + 1) if (el + 1 < A_aug.shape[0] ) else el \n",
        "      if (show_steps):  \n",
        "        print('--------------------------------------')\n",
        "\n",
        "  if (show_steps):\n",
        "    print('\\033[1mFim\\033[0m')\n",
        "  \n",
        "  if (save_iters):\n",
        "    return A_aug_iters\n",
        "  else:\n",
        "    return A_aug\n",
        "\n",
        "\n",
        "\n"
      ],
      "execution_count": null,
      "outputs": []
    },
    {
      "cell_type": "code",
      "metadata": {
        "cellView": "form",
        "id": "WiwrUWqY3Oj5"
      },
      "source": [
        "#@title Funções que retornam espaço nulo e espaço de colunas de uma matriz\n",
        "\n",
        "def show_nullspace_basis(A):\n",
        "  \"\"\" Receives matrix and presents linear transform nullspace basis using Sympy Matrix \n",
        "  method nullspace.\n",
        "\n",
        "  Sympy Matrix-> None \"\"\"\n",
        "\n",
        "  A_null = A.nullspace()\n",
        "  latex_output = \"\\\\left\\\\{\"\n",
        "\n",
        "  for v in A_null:\n",
        "    latex_output += sym.latex(v) + \", \"\n",
        "  if (latex_output[-2] ==\",\"):\n",
        "    latex_output = latex_output[:-2]\n",
        "\n",
        "  latex_output += \"\\\\right\\\\}\"\n",
        "\n",
        "  display(Latex(latex_output))\n",
        "\n",
        "def show_cspace_basis(A):\n",
        "  \"\"\" Receives matrix and presents linear transform image basis using Sympy Matrix \n",
        "  method columnspace.\n",
        "\n",
        "  Sympy Matrix-> None \"\"\"\n",
        "\n",
        "  A_col = A.columnspace()\n",
        "  latex_output = \"\\\\left\\\\{\"\n",
        "\n",
        "  for v in A_col:\n",
        "    latex_output += sym.latex(v) + \", \"\n",
        "  if (latex_output[-2] ==\",\"):\n",
        "    latex_output = latex_output[:-2]\n",
        "\n",
        "  latex_output += \"\\\\right\\\\}\"\n",
        "\n",
        "  display(Latex(latex_output))\n",
        "\n",
        "\n",
        "\n",
        "\n"
      ],
      "execution_count": null,
      "outputs": []
    },
    {
      "cell_type": "markdown",
      "metadata": {
        "id": "VYwun_dJWtfG"
      },
      "source": [
        "#Interpolação\n",
        "\n",
        "O problema de interpolação é um problema bastante comum em diversas áreas da ciência. Dado um conjunto discreto de pontos\n",
        "\n",
        "$$\\{(x_0, y_0), (x_1, y_1),\\ldots, (x_n, y_n) \\}$$\n",
        "\n",
        "deseja-se encontrar uma função $p(x)$ tal que $ p(x_i) = y_i$.\n",
        "\n",
        "O exemplo mais simples de interpolação é determinar uma reta que passa por dois pontos. Considere o caso em que deseja-se achar uma reta que passe pelo par de pontos $\\{(0,1), (1,2)\\}$. Sabemos que uma reta é dada por\n",
        "\n",
        "$$p(x) = \\beta_0 x + \\beta_1, $$\n",
        "\n",
        "em que os coeficientes $\\beta_0$ e $\\beta_1$ são o coeficiente angular e linear da reta, respectivamente. Para encontrar a reta que passa pelo par de pontos de interesse, é possível construir um sistema linear usando que $p(x_i) = y_i$:\n",
        "\n",
        "$$\\begin{align*}\n",
        "\\begin{cases}\n",
        "\\beta_0.0 + \\beta_1 = 1 \\\\\n",
        "\\beta_0.1 + \\beta_1 = 2\n",
        "\\end{cases} \\to \\underbrace{\\begin{bmatrix} 0 & 1 \\\\ 1 & 1  \\end{bmatrix}}_{A}\\underbrace{\\begin{bmatrix} \\beta_0 \\\\ \\beta_1 \\end{bmatrix}}_{x} = \\underbrace{\\begin{bmatrix}  1 \\\\ 2 \\end{bmatrix}}_{b}\n",
        "\\end{align*}$$\n",
        "\n",
        "Resolvendo este sistema linear, concluímos que $\\beta_0 = 1$ e $\\beta_1 = 1$. Vejamos a seguir um código em Python que constrói/resolve o sistema linear e \"plota\" a reta encontrada:"
      ]
    },
    {
      "cell_type": "code",
      "metadata": {
        "id": "8cxX917hgpKz"
      },
      "source": [
        "# Atribuição de pontos (x, y)\n",
        "x, y = sym.Matrix([0, 1]), sym.Matrix([1, 2])"
      ],
      "execution_count": null,
      "outputs": []
    },
    {
      "cell_type": "code",
      "metadata": {
        "colab": {
          "base_uri": "https://localhost:8080/",
          "height": 58
        },
        "id": "kmIA6mfjhMfH",
        "outputId": "92245dc1-9bad-49f5-9fc5-7805892e94f0"
      },
      "source": [
        "# Construção do sistema linear\n",
        "# matriz A\n",
        "A = sym.Matrix([[0, 1], [1, 1]])\n",
        "A"
      ],
      "execution_count": null,
      "outputs": [
        {
          "output_type": "execute_result",
          "data": {
            "text/latex": "$\\displaystyle \\left[\\begin{matrix}0 & 1\\\\1 & 1\\end{matrix}\\right]$",
            "text/plain": [
              "Matrix([\n",
              "[0, 1],\n",
              "[1, 1]])"
            ]
          },
          "metadata": {},
          "execution_count": 7
        }
      ]
    },
    {
      "cell_type": "code",
      "metadata": {
        "colab": {
          "base_uri": "https://localhost:8080/",
          "height": 58
        },
        "id": "lvZXVeAGhYid",
        "outputId": "9faf33cd-ba2e-4cf4-deb3-a6803ded653f"
      },
      "source": [
        "# vetor b\n",
        "b = y\n",
        "b"
      ],
      "execution_count": null,
      "outputs": [
        {
          "output_type": "execute_result",
          "data": {
            "text/latex": "$\\displaystyle \\left[\\begin{matrix}1\\\\2\\end{matrix}\\right]$",
            "text/plain": [
              "Matrix([\n",
              "[1],\n",
              "[2]])"
            ]
          },
          "metadata": {},
          "execution_count": 8
        }
      ]
    },
    {
      "cell_type": "code",
      "metadata": {
        "colab": {
          "base_uri": "https://localhost:8080/",
          "height": 401
        },
        "id": "1fw3xtXWheNf",
        "outputId": "ea95f7c0-663e-41ad-af8b-ce6470f15fc1"
      },
      "source": [
        "# Resolução do sistema linear\n",
        "gaussian_elimination(A, b)\n",
        "beta_s = sym.symbols('beta_0 beta_1')\n",
        "X = sym.Matrix(beta_s)\n",
        "solution = sym.linsolve((A,b)) \n",
        "solution = solution if len(solution)==0 else list(solution)[0]"
      ],
      "execution_count": null,
      "outputs": [
        {
          "output_type": "stream",
          "name": "stdout",
          "text": [
            "\u001b[1mInício\u001b[0m\n",
            "--------------------------------------\n"
          ]
        },
        {
          "output_type": "display_data",
          "data": {
            "text/latex": "$\\displaystyle \\left[\\begin{matrix}0 & 1 & 1\\\\1 & 1 & 2\\end{matrix}\\right]$",
            "text/plain": [
              "Matrix([\n",
              "[0, 1, 1],\n",
              "[1, 1, 2]])"
            ]
          },
          "metadata": {}
        },
        {
          "output_type": "stream",
          "name": "stdout",
          "text": [
            "\n",
            "\n",
            "--------------------------------------\n",
            "Atenção: pivô zero em A[0, 0]!\n"
          ]
        },
        {
          "output_type": "display_data",
          "data": {
            "text/latex": "$\\displaystyle \\left[\\begin{matrix}0 & 1 & 1\\\\1 & 1 & 2\\end{matrix}\\right]$",
            "text/plain": [
              "Matrix([\n",
              "[0, 1, 1],\n",
              "[1, 1, 2]])"
            ]
          },
          "metadata": {}
        },
        {
          "output_type": "stream",
          "name": "stdout",
          "text": [
            "Permutação L1 <-> L0\n"
          ]
        },
        {
          "output_type": "display_data",
          "data": {
            "text/latex": "$\\displaystyle \\left[\\begin{matrix}1 & 1 & 2\\\\0 & 1 & 1\\end{matrix}\\right]$",
            "text/plain": [
              "Matrix([\n",
              "[1, 1, 2],\n",
              "[0, 1, 1]])"
            ]
          },
          "metadata": {}
        },
        {
          "output_type": "stream",
          "name": "stdout",
          "text": [
            "L1 <- L1 + (0) * L0\n"
          ]
        },
        {
          "output_type": "display_data",
          "data": {
            "text/latex": "$\\displaystyle \\left[\\begin{matrix}1 & 1 & 2\\\\0 & 1 & 1\\end{matrix}\\right]$",
            "text/plain": [
              "Matrix([\n",
              "[1, 1, 2],\n",
              "[0, 1, 1]])"
            ]
          },
          "metadata": {}
        },
        {
          "output_type": "stream",
          "name": "stdout",
          "text": [
            "\n",
            "\n",
            "--------------------------------------\n",
            "--------------------------------------\n",
            "\u001b[1mFim\u001b[0m\n"
          ]
        }
      ]
    },
    {
      "cell_type": "code",
      "metadata": {
        "colab": {
          "base_uri": "https://localhost:8080/",
          "height": 37
        },
        "id": "ont0zGFLrXQF",
        "outputId": "b043a202-458a-42c4-cfff-9fda9e2453c1"
      },
      "source": [
        "solution"
      ],
      "execution_count": null,
      "outputs": [
        {
          "output_type": "execute_result",
          "data": {
            "text/latex": "$\\displaystyle \\left( 1, \\  1\\right)$",
            "text/plain": [
              "(1, 1)"
            ]
          },
          "metadata": {},
          "execution_count": 16
        }
      ]
    },
    {
      "cell_type": "code",
      "metadata": {
        "colab": {
          "base_uri": "https://localhost:8080/",
          "height": 451
        },
        "id": "5WGLb4SgrpOk",
        "outputId": "b131645c-793f-45a3-9a70-ac9c0a24508f"
      },
      "source": [
        "# Realizando plot \n",
        "# Convertendo respostas para numpy\n",
        "x_num, y_num = np.array(x).astype(float).flatten(), np.array(y).astype(float).flatten() \n",
        "beta_num = np.array(solution).astype(float).flatten()\n",
        "\n",
        "# Gerando a malha (grid)\n",
        "x_min, x_max = -6, 6\n",
        "x_grid = np.linspace(x_min, x_max, 80)\n",
        "\n",
        "# Calculando o valor da função (no caso, a reta) nesta malha (grid) gerada\n",
        "p_grid = beta_num[0] * x_grid + beta_num[1]\n",
        "\n",
        "# Instruções do plot\n",
        "fig, ax = plt.subplots(figsize = (7,7))\n",
        "ax.plot(x_grid, p_grid, linewidth = 3) # reta\n",
        "ax.plot(x_num, y_num, linestyle = \"None\", marker = 'o', markersize = 10) # pontos do conjunto de dados\n",
        "\n",
        "# Labels nos eixos, limites do plot e legenda\n",
        "ax.set_xlabel(\"$x$\", size = 16)\n",
        "ax.set_ylabel(\"$y$\", size = 18)\n",
        "ax.set_xlim(x_min, x_max)\n",
        "ax.tick_params(axis='both', which='major', labelsize=14)\n",
        "ax.legend([\"$p(x)$\", \"dados\"], loc = \"upper right\", fontsize = 11)\n",
        "ax.grid(True)\n",
        "\n",
        "plt.show()"
      ],
      "execution_count": null,
      "outputs": [
        {
          "output_type": "display_data",
          "data": {
            "image/png": "[encoded data removed]",
            "text/plain": [
              "<Figure size 504x504 with 1 Axes>"
            ]
          },
          "metadata": {
            "needs_background": "light"
          }
        }
      ]
    },
    {
      "cell_type": "code",
      "metadata": {
        "colab": {
          "base_uri": "https://localhost:8080/",
          "height": 58
        },
        "id": "SVwCxPuf6eV7",
        "outputId": "a6e370c4-f503-4a9c-fbee-a9463665637a"
      },
      "source": [
        "# Mostrar uma base para espaço de colunas da matriz A do sistema Ax=b\n",
        "# será útil para certas questões \n",
        "show_cspace_basis(A)"
      ],
      "execution_count": null,
      "outputs": [
        {
          "output_type": "display_data",
          "data": {
            "text/latex": "\\left\\{\\left[\\begin{matrix}0\\\\1\\end{matrix}\\right], \\left[\\begin{matrix}1\\\\1\\end{matrix}\\right]\\right\\}",
            "text/plain": [
              "<IPython.core.display.Latex object>"
            ]
          },
          "metadata": {}
        }
      ]
    },
    {
      "cell_type": "code",
      "metadata": {
        "colab": {
          "base_uri": "https://localhost:8080/",
          "height": 37
        },
        "id": "w1lzHWtquX74",
        "outputId": "22e4fbdd-978f-48ea-b865-bafefec1242d"
      },
      "source": [
        "# Mostrar uma base para o espaço nulo A do sistema Ax=b\n",
        "# será útil para certas questões \n",
        "show_nullspace_basis(A)\n",
        "# neste caso, o núcleo é trivial (apenas o vetor nulo é levado no vetor nulo)"
      ],
      "execution_count": null,
      "outputs": [
        {
          "output_type": "display_data",
          "data": {
            "text/latex": "\\left\\{\\right\\}",
            "text/plain": [
              "<IPython.core.display.Latex object>"
            ]
          },
          "metadata": {}
        }
      ]
    },
    {
      "cell_type": "code",
      "source": [
        "# Mostrar vetor b. Neste caso, o vetor b pertence ao espaço de colunas \n",
        "# (que coincide com todo o R^2). \n",
        "# Como espaço nulo é trivial b é expresso como Comb. linear das colunas unicamente \n",
        "# como b = 1 (0,1) + 1 (1,1).\n",
        "b"
      ],
      "metadata": {
        "colab": {
          "base_uri": "https://localhost:8080/",
          "height": 58
        },
        "id": "43GzVpCIymVY",
        "outputId": "6cbe4283-f68e-4f9e-bdda-8052c2b5850e"
      },
      "execution_count": null,
      "outputs": [
        {
          "output_type": "execute_result",
          "data": {
            "text/latex": "$\\displaystyle \\left[\\begin{matrix}1\\\\2\\end{matrix}\\right]$",
            "text/plain": [
              "Matrix([\n",
              "[1],\n",
              "[2]])"
            ]
          },
          "metadata": {},
          "execution_count": 24
        }
      ]
    },
    {
      "cell_type": "markdown",
      "metadata": {
        "id": "LwfUrSuvwAHp"
      },
      "source": [
        "Perceba que a mesma abordagem poderia ser utilizada se a função escolhida fosse:\n",
        "\n",
        "- Uma parábola: $p(x) = \\beta_0 x^2 + \\beta_1 x + \\beta_2$\n",
        "- Um polinômio de grau 3: $p(x) = \\beta_0 x^3 + \\beta_1 x^2 + \\beta_2 x + \\beta_3 $\n",
        "\n",
        "\n",
        "e por aí vai.\n"
      ]
    },
    {
      "cell_type": "markdown",
      "metadata": {
        "id": "-f0Wju6hx2c4"
      },
      "source": [
        "Sobre o problema de interpolação apresentado, responda:"
      ]
    },
    {
      "cell_type": "markdown",
      "metadata": {
        "id": "nu6JCVV7yCZg"
      },
      "source": [
        "#Questão 1\n",
        "\n",
        "(a) Existe uma reta $p(x) = \\beta_0 x + \\beta_1$ que passa pelo conjunto de pontos $\\{(1, 3), (4,5)\\}$? Se existir, determine quem seria a reta e mostre seu gráfico junto com o conjunto de pontos informado."
      ]
    },
    {
      "cell_type": "code",
      "metadata": {
        "id": "l8lKHfHrylsp"
      },
      "source": [
        ""
      ],
      "execution_count": null,
      "outputs": []
    },
    {
      "cell_type": "markdown",
      "metadata": {
        "id": "yWxpRFlOym7k"
      },
      "source": [
        "R:"
      ]
    },
    {
      "cell_type": "markdown",
      "metadata": {
        "id": "RcbVWDSXf84K"
      },
      "source": [
        "(b) Considere $A$ e $b$ do sistema construído no item (a).  Relacione sua resposta anterior com o espaço nulo e o espaço de colunas $A$.\n",
        "\n",
        "\n"
      ]
    },
    {
      "cell_type": "code",
      "metadata": {
        "id": "kJv6Xsezx342"
      },
      "source": [
        "show_cspace_basis(A)"
      ],
      "execution_count": null,
      "outputs": []
    },
    {
      "cell_type": "code",
      "source": [
        "show_nullspace_basis(A)"
      ],
      "metadata": {
        "id": "C0NiRCwcx343"
      },
      "execution_count": null,
      "outputs": []
    },
    {
      "cell_type": "code",
      "source": [
        "b"
      ],
      "metadata": {
        "id": "JzUIkLIjx345"
      },
      "execution_count": null,
      "outputs": []
    },
    {
      "cell_type": "markdown",
      "metadata": {
        "id": "3oaAlxSdv_TI"
      },
      "source": [
        "R: "
      ]
    },
    {
      "cell_type": "markdown",
      "metadata": {
        "id": "IAg2VKZsyoAw"
      },
      "source": [
        "# Questão 2\n",
        "\n",
        "(a) Existe uma reta $p(x) = \\beta_0 x + \\beta_1$ que passa pelo conjunto de pontos $\\{(1, 3), (1,5)\\}$? Se existir, determine quem seria a reta e mostre seu gráfico junto com o conjunto de pontos informado.\n"
      ]
    },
    {
      "cell_type": "code",
      "metadata": {
        "id": "BvM188sqwD-2"
      },
      "source": [
        ""
      ],
      "execution_count": null,
      "outputs": []
    },
    {
      "cell_type": "markdown",
      "metadata": {
        "id": "yF8-G7jQwD-3"
      },
      "source": [
        "R:"
      ]
    },
    {
      "cell_type": "markdown",
      "metadata": {
        "id": "DwLGkXErwD-3"
      },
      "source": [
        "(b) Considere $A$ e $b$ do sistema construído no item (a).  Relacione sua resposta anterior com o espaço nulo e o espaço de colunas $A$.\n",
        "\n"
      ]
    },
    {
      "cell_type": "code",
      "metadata": {
        "id": "I3VyAH6GwD-4"
      },
      "source": [
        "show_cspace_basis(A)"
      ],
      "execution_count": null,
      "outputs": []
    },
    {
      "cell_type": "code",
      "source": [
        "show_nullspace_basis(A)"
      ],
      "metadata": {
        "id": "BJp15jlExze6"
      },
      "execution_count": null,
      "outputs": []
    },
    {
      "cell_type": "code",
      "source": [
        "b"
      ],
      "metadata": {
        "id": "Ro-_TXDax17F"
      },
      "execution_count": null,
      "outputs": []
    },
    {
      "cell_type": "markdown",
      "metadata": {
        "id": "qB4jwOaIwD-5"
      },
      "source": [
        "R: "
      ]
    },
    {
      "cell_type": "markdown",
      "metadata": {
        "id": "EfoV5rO1pDuv"
      },
      "source": [
        "## Questão 3\n",
        "\n",
        "(a) Existe uma reta $p(x) = \\beta_0 x + \\beta_1$ que passa pelo conjunto de pontos $\\{(1, 3), (4,5), (2,4)\\}$? Se existir, determine quem seria a reta e mostre seu gráfico junto com o conjunto de pontos informado.\n"
      ]
    },
    {
      "cell_type": "code",
      "metadata": {
        "id": "0vlZ210Bp1nK"
      },
      "source": [
        ""
      ],
      "execution_count": null,
      "outputs": []
    },
    {
      "cell_type": "markdown",
      "metadata": {
        "id": "tyzoVliNp1nL"
      },
      "source": [
        "R: "
      ]
    },
    {
      "cell_type": "markdown",
      "metadata": {
        "id": "VF9I2MaJpz0_"
      },
      "source": [
        "(b) Considere $A$ e $b$ do sistema construído no item (a).  Relacione sua resposta anterior com o espaço nulo e o espaço de colunas $A$.\n",
        "\n"
      ]
    },
    {
      "cell_type": "code",
      "metadata": {
        "id": "SGlGPRANzKn7"
      },
      "source": [
        "show_cspace_basis(A)"
      ],
      "execution_count": null,
      "outputs": []
    },
    {
      "cell_type": "code",
      "source": [
        "show_nullspace_basis(A)"
      ],
      "metadata": {
        "id": "KKD5AI25zKn8"
      },
      "execution_count": null,
      "outputs": []
    },
    {
      "cell_type": "code",
      "source": [
        "b"
      ],
      "metadata": {
        "id": "7IbJWfPjzKn9"
      },
      "execution_count": null,
      "outputs": []
    },
    {
      "cell_type": "markdown",
      "metadata": {
        "id": "vH_c12Bhpz1C"
      },
      "source": [
        "R: "
      ]
    },
    {
      "cell_type": "markdown",
      "metadata": {
        "id": "sqlOU2uHqEBm"
      },
      "source": [
        "## Questão 4\n",
        "\n",
        "(a) Existe uma parábola $p(x) = \\beta_0 x^2 + \\beta_1 x + \\beta_2$ que passa pelo conjunto de pontos $\\{(1, 3), (4,5)\\}$? Se existir, determine quem seria a parábola e mostre seu gráfico junto com o conjunto de pontos informado.\n"
      ]
    },
    {
      "cell_type": "code",
      "metadata": {
        "id": "14dOG551qEBo"
      },
      "source": [
        ""
      ],
      "execution_count": null,
      "outputs": []
    },
    {
      "cell_type": "markdown",
      "metadata": {
        "id": "Q_KcQiuHqEBp"
      },
      "source": [
        "R: "
      ]
    },
    {
      "cell_type": "markdown",
      "metadata": {
        "id": "0B5U3LSYqEBp"
      },
      "source": [
        "(b) Considere $A$ e $b$ do sistema construído no item (a).  Relacione sua resposta anterior com o espaço nulo e o espaço de colunas $A$.\n"
      ]
    },
    {
      "cell_type": "code",
      "metadata": {
        "id": "eKTWXorBzOHE"
      },
      "source": [
        "show_cspace_basis(A)"
      ],
      "execution_count": null,
      "outputs": []
    },
    {
      "cell_type": "code",
      "source": [
        "show_nullspace_basis(A)"
      ],
      "metadata": {
        "id": "QYDLrEf8zOHE"
      },
      "execution_count": null,
      "outputs": []
    },
    {
      "cell_type": "code",
      "source": [
        "b"
      ],
      "metadata": {
        "id": "MYQvX9OXzOHF"
      },
      "execution_count": null,
      "outputs": []
    },
    {
      "cell_type": "markdown",
      "metadata": {
        "id": "q-i2aUT9qEBr"
      },
      "source": [
        "R: "
      ]
    },
    {
      "cell_type": "markdown",
      "metadata": {
        "id": "VU2T4xIatjF9"
      },
      "source": [
        "## Questão 5\n",
        "\n",
        "(a) Existe uma parábola $p(x) = \\beta_0 x^2 + \\beta_1 x + \\beta_2$ que passa pelo conjunto de pontos $\\{(1, 3), (4,5), (6, 0)\\}$? Se existir, determine quem seria a parábola e mostre seu gráfico junto com o conjunto de pontos informado.\n"
      ]
    },
    {
      "cell_type": "code",
      "metadata": {
        "id": "uLEb7Lh4tjGB"
      },
      "source": [
        ""
      ],
      "execution_count": null,
      "outputs": []
    },
    {
      "cell_type": "markdown",
      "metadata": {
        "id": "4F-d1G29tjGD"
      },
      "source": [
        "R: "
      ]
    },
    {
      "cell_type": "markdown",
      "metadata": {
        "id": "tmxOki5r02jH"
      },
      "source": [
        "(b) Considere $A$ e $b$ do sistema construído no item (a).  Relacione sua resposta anterior com o espaço nulo e o espaço de colunas $A$.\n"
      ]
    },
    {
      "cell_type": "code",
      "metadata": {
        "id": "13kzsZzf02je"
      },
      "source": [
        "show_cspace_basis(A)"
      ],
      "execution_count": null,
      "outputs": []
    },
    {
      "cell_type": "markdown",
      "metadata": {
        "id": "68-014KUt20X"
      },
      "source": [
        "## Questão 6\n",
        "\n",
        "(a) Existe uma parábola $p(x) = \\beta_0 x^2 + \\beta_1 x + \\beta_2$ que passa pelo conjunto de pontos $\\{(1, 1), (2,2), (3, 3)\\}$? Se existir, determine quem seria a parábola e mostre seu gráfico junto com o conjunto de pontos informado.\n"
      ]
    },
    {
      "cell_type": "code",
      "metadata": {
        "id": "qKekdcUst20Z"
      },
      "source": [
        ""
      ],
      "execution_count": null,
      "outputs": []
    },
    {
      "cell_type": "markdown",
      "metadata": {
        "id": "RXu05Hv1t20a"
      },
      "source": [
        "R: "
      ]
    },
    {
      "cell_type": "markdown",
      "metadata": {
        "id": "OdmMT5bft20b"
      },
      "source": [
        "(b) Considere $A$ e $b$ do sistema construído no item (a).  Relacione sua resposta anterior com o espaço nulo e o espaço de colunas $A$.\n"
      ]
    },
    {
      "cell_type": "code",
      "metadata": {
        "id": "bWPeaYm60AHp"
      },
      "source": [
        "show_cspace_basis(A)"
      ],
      "execution_count": null,
      "outputs": []
    },
    {
      "cell_type": "code",
      "source": [
        "show_nullspace_basis(A)"
      ],
      "metadata": {
        "id": "PPRlQ6sW0AHs"
      },
      "execution_count": null,
      "outputs": []
    },
    {
      "cell_type": "code",
      "source": [
        "b"
      ],
      "metadata": {
        "id": "CW5tYlX40AHu"
      },
      "execution_count": null,
      "outputs": []
    },
    {
      "cell_type": "markdown",
      "metadata": {
        "id": "nvDOjQ9-t20c"
      },
      "source": [
        "R: "
      ]
    },
    {
      "cell_type": "markdown",
      "metadata": {
        "id": "6mdx9RUdpSmH"
      },
      "source": [
        "## Questão 7\n",
        "\n",
        "(a) Existe uma parábola $p(x) = \\beta_0 x^2 + \\beta_1 x + \\beta_2$ que passa pelo conjunto de pontos $\\{(0, 0), (1,1), (2, 4), (-3, 0)\\}$? Se existir, determine quem seria a parábola e mostre seu gráfico junto com o conjunto de pontos informado.\n"
      ]
    },
    {
      "cell_type": "code",
      "metadata": {
        "id": "iGN_-eBIpSmJ"
      },
      "source": [
        ""
      ],
      "execution_count": null,
      "outputs": []
    },
    {
      "cell_type": "markdown",
      "metadata": {
        "id": "YaRuM_fqpSmJ"
      },
      "source": [
        "R: "
      ]
    },
    {
      "cell_type": "markdown",
      "metadata": {
        "id": "l2ZOq4yBpSmK"
      },
      "source": [
        "(b) Considere $A$ e $b$ do sistema construído no item (a).  Relacione sua resposta anterior com o espaço nulo e o espaço de colunas $A$.\n"
      ]
    },
    {
      "cell_type": "code",
      "metadata": {
        "id": "jUncmckm0CN9"
      },
      "source": [
        "show_cspace_basis(A)"
      ],
      "execution_count": null,
      "outputs": []
    },
    {
      "cell_type": "code",
      "source": [
        "show_nullspace_basis(A)"
      ],
      "metadata": {
        "id": "Hpnew2F40CN9"
      },
      "execution_count": null,
      "outputs": []
    },
    {
      "cell_type": "code",
      "source": [
        "b"
      ],
      "metadata": {
        "id": "jSZgSi3O0CN-"
      },
      "execution_count": null,
      "outputs": []
    },
    {
      "cell_type": "markdown",
      "metadata": {
        "id": "gA0uTjz3pSmL"
      },
      "source": [
        "R: "
      ]
    },
    {
      "cell_type": "markdown",
      "metadata": {
        "id": "sKJOB1c3uAsv"
      },
      "source": [
        "##  Questão 8\n",
        "\n",
        "(a) Existe uma parábola $p(x) = \\beta_0 x^2 + \\beta_1 x + \\beta_2$ que passa pelo conjunto de pontos $\\{(0, 0), (-2,4), (2, 4), (3, 9), (-3, 9)\\}$? Se existir, determine quem seria a parábola e mostre seu gráfico junto com o conjunto de pontos informado.\n"
      ]
    },
    {
      "cell_type": "code",
      "metadata": {
        "id": "3_xmObPwuAsx"
      },
      "source": [
        ""
      ],
      "execution_count": null,
      "outputs": []
    },
    {
      "cell_type": "markdown",
      "metadata": {
        "id": "aJBl_kHGuAsx"
      },
      "source": [
        "R: "
      ]
    },
    {
      "cell_type": "markdown",
      "metadata": {
        "id": "L3RU_jjSuAsy"
      },
      "source": [
        "(b) Considere $A$ e $b$ do sistema construído no item (a).  Relacione sua resposta anterior com o espaço nulo e o espaço de colunas $A$.\n"
      ]
    },
    {
      "cell_type": "code",
      "metadata": {
        "id": "i-rPh_EruAsz"
      },
      "source": [
        ""
      ],
      "execution_count": null,
      "outputs": []
    },
    {
      "cell_type": "markdown",
      "metadata": {
        "id": "4XQEXy5euAs0"
      },
      "source": [
        "R: "
      ]
    },
    {
      "cell_type": "markdown",
      "metadata": {
        "id": "FqMcJUZ01qEV"
      },
      "source": [
        "## Questão 9\n",
        "\n",
        "(a) Existe uma cúbica $p(x) = \\beta_0 x^3 + \\beta_1 x^2 + \\beta_2 x + \\beta_3$ que passa pelo conjunto de pontos $\\{(0, 0), (1,1), (2, 4), (3, 12)\\}$? Se existir, determine quem seria a cúbica e mostre seu gráfico junto com o conjunto de pontos informado.\n"
      ]
    },
    {
      "cell_type": "code",
      "metadata": {
        "id": "RDKshDR11qEf"
      },
      "source": [
        ""
      ],
      "execution_count": null,
      "outputs": []
    },
    {
      "cell_type": "markdown",
      "metadata": {
        "id": "c4ktZCFV1qEf"
      },
      "source": [
        "R: "
      ]
    },
    {
      "cell_type": "markdown",
      "metadata": {
        "id": "OO-TIsxZ1qEf"
      },
      "source": [
        "(b) Considere $A$ e $b$ do sistema construído no item (a).  Relacione sua resposta anterior com o espaço nulo e o espaço de colunas $A$.\n"
      ]
    },
    {
      "cell_type": "code",
      "metadata": {
        "id": "5DhauQzZ1qEg"
      },
      "source": [
        ""
      ],
      "execution_count": null,
      "outputs": []
    },
    {
      "cell_type": "markdown",
      "metadata": {
        "id": "dAtHEWLM1qEg"
      },
      "source": [
        "R: "
      ]
    },
    {
      "cell_type": "markdown",
      "metadata": {
        "id": "_Um63bfczW_i"
      },
      "source": [
        "# Regressão\n",
        "\n",
        "O problema de regressão também é um problema bastante comum em diversas áreas, mais recentemente em aprendizado de máquina. Dado um conjunto discreto de pontos\n",
        "\n",
        "$$\\{(x_0, y_0), (x_1, y_1),\\ldots, (x_n, y_n) \\}$$\n",
        "\n",
        "deseja-se encontrar a melhor função $p(x)$ tal que $ p(x_i) \\approx y_i$ de acordo com algum critério de \"proximidade\". Aqui, o critério utilizado será a dos mínimos quadrados.\n",
        "\n",
        "Por exemplo, se tivéssemos o conjunto de pontos $\\{(0, 0), (1, 1), (2,3)\\}$ e fosse de interesse encontrar a melhor reta de forma $p(x) = \\beta_0x + \\beta_1$ que passe por estes pontos. Iríamos construir um sistema linear\n",
        "\n",
        "$$\\begin{align*}\n",
        "\\begin{cases}\n",
        "\\beta_0 \\cdot 0 + \\beta_1 = 0 \\\\\n",
        "\\beta_0 \\cdot 1 + \\beta_1 = 1 \\\\\n",
        "\\beta_0 \\cdot 2 + \\beta_1 = 3 \\\\\n",
        "\\end{cases} \\to \\underbrace{\\begin{bmatrix} 0 & 1 \\\\ 1 & 1 \\\\ 2 & 1 \\end{bmatrix}}_{A}\\underbrace{\\begin{bmatrix} \\beta_0 \\\\ \\beta_1 \\end{bmatrix}}_{x} = \\underbrace{\\begin{bmatrix} 0 \\\\ 1 \\\\ 3 \\end{bmatrix}}_{b}\n",
        "\\end{align*}\n",
        "$$\n",
        "que acreditamos não ter solução.  Ao se construir o sistema a partir de de suas equações normais e resolvê-lo, chegamos na solução aproximada\n",
        "\n",
        "$$\\beta_0 = \\frac{3}{2}, \\quad \\beta_1 = -\\frac{1}{6}.$$\n",
        "\n",
        "\n",
        "Sobre o problema de regresão, pede-se que faça:"
      ]
    },
    {
      "cell_type": "markdown",
      "metadata": {
        "id": "FwRe9gsAoS4Z"
      },
      "source": [
        "## Questão 10\n",
        "\n",
        "(a) Determine a melhor reta (no sentído dos mínimos quadrados) de forma $p(x) = \\beta_0 x + \\beta_1$ que se aproxima do conjunto de pontos $\\{(1, 3), (4,5), (2,4)\\}$. Mostre seu gráfico junto com o conjunto de pontos informado. **Sua resolução deve apresentar quem seriam as equações normais.**\n",
        "\n",
        "*Dica: $A^t v$ em código pode ser obtido fazendo* **` A.T @ v `** *sendo* **`A`** *e* **`v`** *Sympy Matrix/Numpy array de dimensões compatíveis.*\n"
      ]
    },
    {
      "cell_type": "code",
      "metadata": {
        "id": "pMrt1PqKoS4-"
      },
      "source": [
        ""
      ],
      "execution_count": null,
      "outputs": []
    },
    {
      "cell_type": "markdown",
      "metadata": {
        "id": "T_LEuIFLoS4_"
      },
      "source": [
        "R: "
      ]
    },
    {
      "cell_type": "markdown",
      "metadata": {
        "id": "QxfUOYAbqU1F"
      },
      "source": [
        "## Questão 11\n",
        "\n",
        "(a) Determine a melhor reta (no sentído dos mínimos quadrados) de forma $p(x) = \\beta_0 x + \\beta_1$ que se aproxima do conjunto de pontos $\\{(1, 3), (4,5)\\}$. Mostreu seu gráfico junto com o conjunto de pontos informado. **Sua resolução deve apresentar quem seriam as equações normais.**\n"
      ]
    },
    {
      "cell_type": "code",
      "metadata": {
        "id": "jntP7cQJqU1e"
      },
      "source": [
        ""
      ],
      "execution_count": null,
      "outputs": []
    },
    {
      "cell_type": "markdown",
      "metadata": {
        "id": "Z2T3FUWsqU1f"
      },
      "source": [
        "R: "
      ]
    },
    {
      "cell_type": "markdown",
      "metadata": {
        "id": "sAr7T3KKqcSK"
      },
      "source": [
        "(b) Houve alguma diferença do resultado encontrado na **questão 1**? Justifique sua resposta usando conceitos vistos em nosso curso que achar apropriado (subespaço, combinação linear, espaço de colunas,  etc)."
      ]
    },
    {
      "cell_type": "code",
      "metadata": {
        "id": "XPaPTJGLrJ7s"
      },
      "source": [
        ""
      ],
      "execution_count": null,
      "outputs": []
    },
    {
      "cell_type": "markdown",
      "metadata": {
        "id": "QuLs_qKFsabU"
      },
      "source": [
        "## Questão 12\n",
        "\n",
        "(a) Determine a melhor parábola (no sentído dos mínimos quadrados) de forma $p(x) = \\beta_0 x^2 + \\beta_1x + \\beta_2$ que se aproxima do conjunto de pontos $\\{(0, 0), (1,1), (2, 4), (3, 12), (-1,-2)\\}$. Mostre seu gráfico junto com o conjunto de pontos informado. **Sua resolução deve apresentar quem seriam as equações normais.**\n"
      ]
    },
    {
      "cell_type": "code",
      "metadata": {
        "id": "_-AMdOPlsabW"
      },
      "source": [
        ""
      ],
      "execution_count": null,
      "outputs": []
    },
    {
      "cell_type": "markdown",
      "metadata": {
        "id": "VQL_AG5UsabX"
      },
      "source": [
        "R: "
      ]
    },
    {
      "cell_type": "markdown",
      "metadata": {
        "id": "iQQNQH9bYI7S"
      },
      "source": [
        "## Questão 13: \n",
        "\n",
        "\n",
        "Um professor em outro país sempre faz chamada nos cursos que leciona. O mesmo coloca a situação diretamente após o fim das aulas em uma planilha em seu computador. Ele desejava entender o que influenciava na proporção de alunos que iam as aulas, e escolheu as seguintes *features*:\n",
        "\n",
        "\n",
        " - $x_0$ é o dia da semana, partindo de segunda como número 1 até sexta como número 5.\n",
        " - $x_1$ é a semana do curso, partindo da primeira como $1$ até a última como $20$.\n",
        " - $x_2$ é o horário em que foi feita a chamada, partindo de $8$ da manhã como $8$, até $16h$ como 16.\n",
        " - $x_3 = \\text{Max}(T-27,0)$, onde $T$ é a temperatura exterior (então $x_3$ é o número de graus acima de 27$^\\circ$ C).\n",
        " - $x_4 = \\text{Max}(10-T,0)$, onde $T$ é a temperatura exterior (então $x_4$ é o número de graus abaixo de 10$^\\circ$ C)\n",
        "\n",
        "\n",
        "O professor formulou um modelo linear em função destas features da forma\n",
        "\n",
        "$$ h(x_0, x_1, x_2, x_3, x_4) = \\beta_0x_0 + \\beta_1 x_1 + \\beta_2x_2 + \\beta_3x_3 +\\beta_4x_4 + \\beta_5$$\n",
        "onde $h$ é a previsão da proporção de alunos (0 a 100%) que atenderá a aula baseado nas *features*.\n",
        "\n",
        "\n"
      ]
    },
    {
      "cell_type": "markdown",
      "metadata": {
        "id": "zqrZ6QUkG6X0"
      },
      "source": [
        "### Link de table_class.csv: [Download](https://drive.google.com/file/d/1TxAkd4R1tHSnuohpzfHCC4mjuHLYW1Mq/view?usp=sharing)\n",
        "### e lógica para upload do arquivo\n",
        "\n"
      ]
    },
    {
      "cell_type": "code",
      "metadata": {
        "id": "1V1kKrjIG6X2",
        "colab": {
          "resources": {
            "http://localhost:8080/nbextensions/google.colab/files.js": {
              "data": "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",
              "ok": true,
              "headers": [
                [
                  "content-type",
                  "application/javascript"
                ]
              ],
              "status": 200,
              "status_text": ""
            }
          },
          "base_uri": "https://localhost:8080/",
          "height": 89
        },
        "outputId": "e6a7a1d4-0be8-417c-e946-ce3e3716dbae"
      },
      "source": [
        "uploaded = files.upload()\n",
        "\n",
        "for fn in uploaded.keys():\n",
        "  print('User uploaded file \"{name}\" with length {length} bytes'.format(\n",
        "      name=fn, length=len(uploaded[fn])))\n",
        "  dataset2f = pd.read_csv(fn, sep=',',header=None)"
      ],
      "execution_count": null,
      "outputs": [
        {
          "output_type": "display_data",
          "data": {
            "text/html": [
              "\n",
              "     <input type=\"file\" id=\"files-76ba2b8e-5f51-4a0d-8677-1d0a0da361ed\" name=\"files[]\" multiple disabled\n",
              "        style=\"border:none\" />\n",
              "     <output id=\"result-76ba2b8e-5f51-4a0d-8677-1d0a0da361ed\">\n",
              "      Upload widget is only available when the cell has been executed in the\n",
              "      current browser session. Please rerun this cell to enable.\n",
              "      </output>\n",
              "      <script src=\"/nbextensions/google.colab/files.js\"></script> "
            ],
            "text/plain": [
              "<IPython.core.display.HTML object>"
            ]
          },
          "metadata": {}
        },
        {
          "output_type": "stream",
          "name": "stdout",
          "text": [
            "Saving table_class_d.csv to table_class_d (1).csv\n",
            "User uploaded file \"table_class_d.csv\" with length 2267 bytes\n"
          ]
        }
      ]
    },
    {
      "cell_type": "code",
      "metadata": {
        "id": "b4-341ZDG6X5",
        "colab": {
          "base_uri": "https://localhost:8080/",
          "height": 1000
        },
        "outputId": "ac392f7a-5928-4d4f-dc09-c8f549ac9bbe"
      },
      "source": [
        "#@title Visualizacao da tabela\n",
        "dataset2f"
      ],
      "execution_count": null,
      "outputs": [
        {
          "output_type": "execute_result",
          "data": {
            "text/html": [
              "<div>\n",
              "<style scoped>\n",
              "    .dataframe tbody tr th:only-of-type {\n",
              "        vertical-align: middle;\n",
              "    }\n",
              "\n",
              "    .dataframe tbody tr th {\n",
              "        vertical-align: top;\n",
              "    }\n",
              "\n",
              "    .dataframe thead th {\n",
              "        text-align: right;\n",
              "    }\n",
              "</style>\n",
              "<table border=\"1\" class=\"dataframe\">\n",
              "  <thead>\n",
              "    <tr style=\"text-align: right;\">\n",
              "      <th></th>\n",
              "      <th>0</th>\n",
              "      <th>1</th>\n",
              "      <th>2</th>\n",
              "      <th>3</th>\n",
              "      <th>4</th>\n",
              "    </tr>\n",
              "  </thead>\n",
              "  <tbody>\n",
              "    <tr>\n",
              "      <th>0</th>\n",
              "      <td>Day (1-5)</td>\n",
              "      <td>Week (1-20)</td>\n",
              "      <td>Hour (8-16)</td>\n",
              "      <td>Temperature (ºC)</td>\n",
              "      <td>Attendance (%)</td>\n",
              "    </tr>\n",
              "    <tr>\n",
              "      <th>1</th>\n",
              "      <td>2.00</td>\n",
              "      <td>1.00</td>\n",
              "      <td>12.00</td>\n",
              "      <td>0.51</td>\n",
              "      <td>64.00</td>\n",
              "    </tr>\n",
              "    <tr>\n",
              "      <th>2</th>\n",
              "      <td>4.00</td>\n",
              "      <td>2.00</td>\n",
              "      <td>12.00</td>\n",
              "      <td>5.01</td>\n",
              "      <td>65.00</td>\n",
              "    </tr>\n",
              "    <tr>\n",
              "      <th>3</th>\n",
              "      <td>3.00</td>\n",
              "      <td>2.00</td>\n",
              "      <td>13.00</td>\n",
              "      <td>0.24</td>\n",
              "      <td>63.00</td>\n",
              "    </tr>\n",
              "    <tr>\n",
              "      <th>4</th>\n",
              "      <td>2.00</td>\n",
              "      <td>3.00</td>\n",
              "      <td>15.00</td>\n",
              "      <td>-6.51</td>\n",
              "      <td>61.00</td>\n",
              "    </tr>\n",
              "    <tr>\n",
              "      <th>5</th>\n",
              "      <td>3.00</td>\n",
              "      <td>3.00</td>\n",
              "      <td>11.00</td>\n",
              "      <td>-7.11</td>\n",
              "      <td>55.00</td>\n",
              "    </tr>\n",
              "    <tr>\n",
              "      <th>6</th>\n",
              "      <td>2.00</td>\n",
              "      <td>4.00</td>\n",
              "      <td>10.00</td>\n",
              "      <td>-0.50</td>\n",
              "      <td>60.00</td>\n",
              "    </tr>\n",
              "    <tr>\n",
              "      <th>7</th>\n",
              "      <td>1.00</td>\n",
              "      <td>5.00</td>\n",
              "      <td>8.00</td>\n",
              "      <td>-6.51</td>\n",
              "      <td>54.00</td>\n",
              "    </tr>\n",
              "    <tr>\n",
              "      <th>8</th>\n",
              "      <td>5.00</td>\n",
              "      <td>5.00</td>\n",
              "      <td>13.00</td>\n",
              "      <td>8.94</td>\n",
              "      <td>68.00</td>\n",
              "    </tr>\n",
              "    <tr>\n",
              "      <th>9</th>\n",
              "      <td>5.00</td>\n",
              "      <td>5.00</td>\n",
              "      <td>9.00</td>\n",
              "      <td>9.76</td>\n",
              "      <td>64.00</td>\n",
              "    </tr>\n",
              "    <tr>\n",
              "      <th>10</th>\n",
              "      <td>3.00</td>\n",
              "      <td>5.00</td>\n",
              "      <td>15.00</td>\n",
              "      <td>11.27</td>\n",
              "      <td>73.00</td>\n",
              "    </tr>\n",
              "    <tr>\n",
              "      <th>11</th>\n",
              "      <td>5.00</td>\n",
              "      <td>6.00</td>\n",
              "      <td>15.00</td>\n",
              "      <td>12.44</td>\n",
              "      <td>70.00</td>\n",
              "    </tr>\n",
              "    <tr>\n",
              "      <th>12</th>\n",
              "      <td>1.00</td>\n",
              "      <td>6.00</td>\n",
              "      <td>15.00</td>\n",
              "      <td>10.47</td>\n",
              "      <td>76.00</td>\n",
              "    </tr>\n",
              "    <tr>\n",
              "      <th>13</th>\n",
              "      <td>2.00</td>\n",
              "      <td>7.00</td>\n",
              "      <td>11.00</td>\n",
              "      <td>5.10</td>\n",
              "      <td>66.00</td>\n",
              "    </tr>\n",
              "    <tr>\n",
              "      <th>14</th>\n",
              "      <td>4.00</td>\n",
              "      <td>8.00</td>\n",
              "      <td>12.00</td>\n",
              "      <td>11.27</td>\n",
              "      <td>68.00</td>\n",
              "    </tr>\n",
              "    <tr>\n",
              "      <th>15</th>\n",
              "      <td>5.00</td>\n",
              "      <td>8.00</td>\n",
              "      <td>13.00</td>\n",
              "      <td>14.97</td>\n",
              "      <td>68.00</td>\n",
              "    </tr>\n",
              "    <tr>\n",
              "      <th>16</th>\n",
              "      <td>1.00</td>\n",
              "      <td>10.00</td>\n",
              "      <td>16.00</td>\n",
              "      <td>14.05</td>\n",
              "      <td>76.00</td>\n",
              "    </tr>\n",
              "    <tr>\n",
              "      <th>17</th>\n",
              "      <td>4.00</td>\n",
              "      <td>10.00</td>\n",
              "      <td>9.00</td>\n",
              "      <td>13.61</td>\n",
              "      <td>64.00</td>\n",
              "    </tr>\n",
              "    <tr>\n",
              "      <th>18</th>\n",
              "      <td>1.00</td>\n",
              "      <td>10.00</td>\n",
              "      <td>16.00</td>\n",
              "      <td>13.80</td>\n",
              "      <td>76.00</td>\n",
              "    </tr>\n",
              "    <tr>\n",
              "      <th>19</th>\n",
              "      <td>5.00</td>\n",
              "      <td>10.00</td>\n",
              "      <td>10.00</td>\n",
              "      <td>13.64</td>\n",
              "      <td>64.00</td>\n",
              "    </tr>\n",
              "    <tr>\n",
              "      <th>20</th>\n",
              "      <td>4.00</td>\n",
              "      <td>11.00</td>\n",
              "      <td>11.00</td>\n",
              "      <td>13.64</td>\n",
              "      <td>66.00</td>\n",
              "    </tr>\n",
              "    <tr>\n",
              "      <th>21</th>\n",
              "      <td>4.00</td>\n",
              "      <td>11.00</td>\n",
              "      <td>8.00</td>\n",
              "      <td>14.05</td>\n",
              "      <td>63.00</td>\n",
              "    </tr>\n",
              "    <tr>\n",
              "      <th>22</th>\n",
              "      <td>4.00</td>\n",
              "      <td>12.00</td>\n",
              "      <td>11.00</td>\n",
              "      <td>19.14</td>\n",
              "      <td>66.00</td>\n",
              "    </tr>\n",
              "    <tr>\n",
              "      <th>23</th>\n",
              "      <td>5.00</td>\n",
              "      <td>12.00</td>\n",
              "      <td>8.00</td>\n",
              "      <td>18.23</td>\n",
              "      <td>61.00</td>\n",
              "    </tr>\n",
              "    <tr>\n",
              "      <th>24</th>\n",
              "      <td>1.00</td>\n",
              "      <td>13.00</td>\n",
              "      <td>13.00</td>\n",
              "      <td>19.14</td>\n",
              "      <td>72.00</td>\n",
              "    </tr>\n",
              "    <tr>\n",
              "      <th>25</th>\n",
              "      <td>5.00</td>\n",
              "      <td>14.00</td>\n",
              "      <td>9.00</td>\n",
              "      <td>15.08</td>\n",
              "      <td>62.00</td>\n",
              "    </tr>\n",
              "    <tr>\n",
              "      <th>26</th>\n",
              "      <td>4.00</td>\n",
              "      <td>14.00</td>\n",
              "      <td>8.00</td>\n",
              "      <td>18.23</td>\n",
              "      <td>62.00</td>\n",
              "    </tr>\n",
              "    <tr>\n",
              "      <th>27</th>\n",
              "      <td>5.00</td>\n",
              "      <td>14.00</td>\n",
              "      <td>16.00</td>\n",
              "      <td>17.50</td>\n",
              "      <td>70.00</td>\n",
              "    </tr>\n",
              "    <tr>\n",
              "      <th>28</th>\n",
              "      <td>2.00</td>\n",
              "      <td>14.00</td>\n",
              "      <td>15.00</td>\n",
              "      <td>19.33</td>\n",
              "      <td>73.00</td>\n",
              "    </tr>\n",
              "    <tr>\n",
              "      <th>29</th>\n",
              "      <td>1.00</td>\n",
              "      <td>15.00</td>\n",
              "      <td>8.00</td>\n",
              "      <td>20.54</td>\n",
              "      <td>66.00</td>\n",
              "    </tr>\n",
              "    <tr>\n",
              "      <th>30</th>\n",
              "      <td>1.00</td>\n",
              "      <td>15.00</td>\n",
              "      <td>16.00</td>\n",
              "      <td>23.64</td>\n",
              "      <td>75.00</td>\n",
              "    </tr>\n",
              "    <tr>\n",
              "      <th>31</th>\n",
              "      <td>3.00</td>\n",
              "      <td>15.00</td>\n",
              "      <td>16.00</td>\n",
              "      <td>19.88</td>\n",
              "      <td>72.00</td>\n",
              "    </tr>\n",
              "    <tr>\n",
              "      <th>32</th>\n",
              "      <td>3.00</td>\n",
              "      <td>15.00</td>\n",
              "      <td>9.00</td>\n",
              "      <td>22.35</td>\n",
              "      <td>64.00</td>\n",
              "    </tr>\n",
              "    <tr>\n",
              "      <th>33</th>\n",
              "      <td>5.00</td>\n",
              "      <td>16.00</td>\n",
              "      <td>13.00</td>\n",
              "      <td>21.71</td>\n",
              "      <td>66.00</td>\n",
              "    </tr>\n",
              "    <tr>\n",
              "      <th>34</th>\n",
              "      <td>4.00</td>\n",
              "      <td>16.00</td>\n",
              "      <td>16.00</td>\n",
              "      <td>22.35</td>\n",
              "      <td>70.00</td>\n",
              "    </tr>\n",
              "    <tr>\n",
              "      <th>35</th>\n",
              "      <td>1.00</td>\n",
              "      <td>18.00</td>\n",
              "      <td>15.00</td>\n",
              "      <td>19.88</td>\n",
              "      <td>73.00</td>\n",
              "    </tr>\n",
              "    <tr>\n",
              "      <th>36</th>\n",
              "      <td>5.00</td>\n",
              "      <td>18.00</td>\n",
              "      <td>13.00</td>\n",
              "      <td>24.47</td>\n",
              "      <td>65.00</td>\n",
              "    </tr>\n",
              "    <tr>\n",
              "      <th>37</th>\n",
              "      <td>4.00</td>\n",
              "      <td>19.00</td>\n",
              "      <td>15.00</td>\n",
              "      <td>29.58</td>\n",
              "      <td>66.00</td>\n",
              "    </tr>\n",
              "    <tr>\n",
              "      <th>38</th>\n",
              "      <td>2.00</td>\n",
              "      <td>20.00</td>\n",
              "      <td>15.00</td>\n",
              "      <td>31.79</td>\n",
              "      <td>66.00</td>\n",
              "    </tr>\n",
              "    <tr>\n",
              "      <th>39</th>\n",
              "      <td>1.00</td>\n",
              "      <td>20.00</td>\n",
              "      <td>11.00</td>\n",
              "      <td>31.79</td>\n",
              "      <td>63.00</td>\n",
              "    </tr>\n",
              "    <tr>\n",
              "      <th>40</th>\n",
              "      <td>4.00</td>\n",
              "      <td>20.00</td>\n",
              "      <td>13.00</td>\n",
              "      <td>28.15</td>\n",
              "      <td>65.00</td>\n",
              "    </tr>\n",
              "  </tbody>\n",
              "</table>\n",
              "</div>"
            ],
            "text/plain": [
              "             0            1            2                 3               4\n",
              "0    Day (1-5)  Week (1-20)  Hour (8-16)  Temperature (ºC)  Attendance (%)\n",
              "1         2.00         1.00        12.00              0.51           64.00\n",
              "2         4.00         2.00        12.00              5.01           65.00\n",
              "3         3.00         2.00        13.00              0.24           63.00\n",
              "4         2.00         3.00        15.00             -6.51           61.00\n",
              "5         3.00         3.00        11.00             -7.11           55.00\n",
              "6         2.00         4.00        10.00             -0.50           60.00\n",
              "7         1.00         5.00         8.00             -6.51           54.00\n",
              "8         5.00         5.00        13.00              8.94           68.00\n",
              "9         5.00         5.00         9.00              9.76           64.00\n",
              "10        3.00         5.00        15.00             11.27           73.00\n",
              "11        5.00         6.00        15.00             12.44           70.00\n",
              "12        1.00         6.00        15.00             10.47           76.00\n",
              "13        2.00         7.00        11.00              5.10           66.00\n",
              "14        4.00         8.00        12.00             11.27           68.00\n",
              "15        5.00         8.00        13.00             14.97           68.00\n",
              "16        1.00        10.00        16.00             14.05           76.00\n",
              "17        4.00        10.00         9.00             13.61           64.00\n",
              "18        1.00        10.00        16.00             13.80           76.00\n",
              "19        5.00        10.00        10.00             13.64           64.00\n",
              "20        4.00        11.00        11.00             13.64           66.00\n",
              "21        4.00        11.00         8.00             14.05           63.00\n",
              "22        4.00        12.00        11.00             19.14           66.00\n",
              "23        5.00        12.00         8.00             18.23           61.00\n",
              "24        1.00        13.00        13.00             19.14           72.00\n",
              "25        5.00        14.00         9.00             15.08           62.00\n",
              "26        4.00        14.00         8.00             18.23           62.00\n",
              "27        5.00        14.00        16.00             17.50           70.00\n",
              "28        2.00        14.00        15.00             19.33           73.00\n",
              "29        1.00        15.00         8.00             20.54           66.00\n",
              "30        1.00        15.00        16.00             23.64           75.00\n",
              "31        3.00        15.00        16.00             19.88           72.00\n",
              "32        3.00        15.00         9.00             22.35           64.00\n",
              "33        5.00        16.00        13.00             21.71           66.00\n",
              "34        4.00        16.00        16.00             22.35           70.00\n",
              "35        1.00        18.00        15.00             19.88           73.00\n",
              "36        5.00        18.00        13.00             24.47           65.00\n",
              "37        4.00        19.00        15.00             29.58           66.00\n",
              "38        2.00        20.00        15.00             31.79           66.00\n",
              "39        1.00        20.00        11.00             31.79           63.00\n",
              "40        4.00        20.00        13.00             28.15           65.00"
            ]
          },
          "metadata": {},
          "execution_count": 216
        }
      ]
    },
    {
      "cell_type": "code",
      "metadata": {
        "id": "bBcb-7dSbTf1"
      },
      "source": [
        "# Conversao para Numpy Array\n",
        "dataset = dataset2f.values[1:].astype(float)\n",
        "h_num = dataset[:, 4]\n",
        "# Dica: dataset[:, i] -> retorna i-ésima coluna"
      ],
      "execution_count": null,
      "outputs": []
    },
    {
      "cell_type": "markdown",
      "metadata": {
        "id": "JkN1678-m4IW"
      },
      "source": [
        "a) Auxilie este professor e realize uma regressão linear (por meio de mínimos quadrados), ou seja, obtenha os coeficientes $\\beta_i, \\quad 0 \\leq i \\leq 5$. \n",
        "\n",
        "*Nesta questão, sugere-se o uso apenas de Numpy arrays e funções da biblioteca Numpy, tendo em vista que os dados são numéricos e aproximados. As funções abaixo podem ser úteis:*\n",
        "\n",
        " - **`np.linalg.solve(A, b)`**: retorna solução $v$ de um sistema linear $Av = b$ com Numpy arrays $A$ e $b$ sendo uma matriz quadrada e um vetor de dimensões compatíveis, respectivamente.\n",
        " - **`np.maximum(v, w)`**: retorna um terceiro vetor $s$ em que sua i-ésima componente é dada por $s_i = \\text{Max}(v_i, w_i)$."
      ]
    },
    {
      "cell_type": "code",
      "metadata": {
        "id": "SqMWm13Bmnjz"
      },
      "source": [
        ""
      ],
      "execution_count": null,
      "outputs": []
    },
    {
      "cell_type": "markdown",
      "metadata": {
        "id": "ryFjWfMOm806"
      },
      "source": [
        "R:"
      ]
    },
    {
      "cell_type": "markdown",
      "metadata": {
        "id": "HtDaa_gVm_GW"
      },
      "source": [
        "b) Dê uma interpretação breve sobre os coeficientes (pesos) $\\beta_i, \\quad 0 \\leq i \\leq 5$ obtidos no item anterior. Espera-se que relacione como cada uma das *features* influencia na proporção de alunos em sala de aula."
      ]
    },
    {
      "cell_type": "markdown",
      "metadata": {
        "id": "JGTSu57NsC-K"
      },
      "source": [
        "R: "
      ]
    },
    {
      "cell_type": "markdown",
      "metadata": {
        "id": "iuTqlvQZnUQK"
      },
      "source": [
        "c) Estime qual seria a proporção de alunos em uma aula que:\n",
        "\n",
        " - ocorreu uma sexta-feira da semana 15;\n",
        " - a chamada foi feita as 16h;\n",
        " - a temperatura externa estava em torno de 26 graus celsius;"
      ]
    },
    {
      "cell_type": "code",
      "metadata": {
        "id": "9XrT3LFssAJc"
      },
      "source": [
        ""
      ],
      "execution_count": null,
      "outputs": []
    },
    {
      "cell_type": "markdown",
      "metadata": {
        "id": "SvBiweSUsEJ5"
      },
      "source": [
        "R: "
      ]
    },
    {
      "cell_type": "code",
      "metadata": {
        "id": "0EqSweo0sEhF"
      },
      "source": [
        ""
      ],
      "execution_count": null,
      "outputs": []
    }
  ]
}
