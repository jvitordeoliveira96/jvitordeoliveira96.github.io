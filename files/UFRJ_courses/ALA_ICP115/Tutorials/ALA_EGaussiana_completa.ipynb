{
  "nbformat": 4,
  "nbformat_minor": 0,
  "metadata": {
    "colab": {
      "name": "ALA_EGaussiana_completa.ipynb",
      "provenance": [],
      "authorship_tag": "ABX9TyPtTEn3oEIEMpVQzACWsICs",
      "include_colab_link": true
    },
    "kernelspec": {
      "name": "python3",
      "display_name": "Python 3"
    },
    "language_info": {
      "name": "python"
    }
  },
  "cells": [
    {
      "cell_type": "markdown",
      "metadata": {
        "id": "view-in-github",
        "colab_type": "text"
      },
      "source": [
        "<a href=\"https://colab.research.google.com/github/jvitordeoliveira96/UFRJ_courses/blob/main/ALA_ICP115/Tutorials/ALA_EGaussiana_completa.ipynb\" target=\"_parent\"><img src=\"https://colab.research.google.com/assets/colab-badge.svg\" alt=\"Open In Colab\"/></a>"
      ]
    },
    {
      "cell_type": "code",
      "metadata": {
        "id": "ePEcuAeLqizO"
      },
      "source": [
        "import sympy as sym\n",
        "import numpy as np\n",
        "from IPython.display import display, Markdown, Latex, HTML\n",
        "import scipy as sp\n",
        "import scipy.linalg\n",
        "import matplotlib.pyplot as plt\n",
        "from matplotlib import animation\n",
        "from mpl_toolkits.mplot3d.art3d import Poly3DCollection\n"
      ],
      "execution_count": null,
      "outputs": []
    },
    {
      "cell_type": "code",
      "metadata": {
        "id": "pYIe5fhFqfu-",
        "cellView": "form"
      },
      "source": [
        "#@title Funções que realizam eliminação Gaussiana (sem subs reversa)\n",
        "\n",
        "def permutation_check(A_aug, l, c):\n",
        "  for k in range(l+1, A_aug.shape[0]):\n",
        "    if (A_aug[k, c] != 0):\n",
        "      return k\n",
        "    \n",
        "  return -1\n",
        "\n",
        "\n",
        "def gaussian_elimination(A, b = None, show_steps = True, save_iters = False):\n",
        "  \"\"\" Computes Gaussian elimination (row echoleon form), showing step by step. \n",
        "  Sympy Matrix, Sympy Matrix -> Sympy Matrix \"\"\"\n",
        "\n",
        "  if (b == None):\n",
        "    A_aug = A.copy()\n",
        "  else:\n",
        "    A_aug = A.col_insert(A.shape[1], b)\n",
        "\n",
        "  if (save_iters):\n",
        "    A_aug_iters = []\n",
        "    A_aug_iters.append(A_aug.copy())\n",
        "  \n",
        "  if (show_steps):\n",
        "    print('\\033[1mInício\\033[0m')\n",
        "    print('--------------------------------------')\n",
        "    display(A_aug)\n",
        "    print('\\n')\n",
        "    print('--------------------------------------')\n",
        "\n",
        "  el = 0\n",
        "  for j in range(0, A.shape[1]):\n",
        "    pivot_in_column = False\n",
        "\n",
        "    if (A_aug[el,j] == 0):\n",
        "      if (show_steps):\n",
        "        print('Atenção: pivô zero em A[{0}, {1}]!'. format(el, j) )\n",
        "        display(A_aug)\n",
        "      \n",
        "      l = permutation_check(A_aug, el, j)\n",
        "      if ( l !=-1 ):\n",
        "        A_aug[l, :], A_aug[el, :] = A_aug[el, :], A_aug[l, :]\n",
        "        if (show_steps):\n",
        "          print('Permutação L{0} <-> L{1}'.format(l, el))\n",
        "          display(A_aug)\n",
        "        pivot_in_column = True\n",
        "        if (save_iters):\n",
        "          A_aug_iters.append(A_aug.copy())\n",
        "\n",
        "    else:\n",
        "      pivot_in_column = True\n",
        "    \n",
        "    if ( pivot_in_column ):\n",
        "      for i in range(el+1, A_aug.shape[0]):\n",
        "        c = - A_aug[i, j] / A_aug[el, j] \n",
        "        A_aug[i, :] = A_aug[i, :] + c * A_aug[el, :]\n",
        "        if (show_steps):\n",
        "          print('L{0} <- L{0} + ({2}) * L{1}'.format(i, el, c))\n",
        "          display(A_aug)\n",
        "          print('\\n')\n",
        "        if (save_iters):\n",
        "          A_aug_iters.append(A_aug.copy())\n",
        "      \n",
        "      el = (el + 1) if (el + 1 < A_aug.shape[0] ) else el \n",
        "      if (show_steps):  \n",
        "        print('--------------------------------------')\n",
        "\n",
        "  if (show_steps):\n",
        "    print('\\033[1mFim\\033[0m')\n",
        "  \n",
        "  if (save_iters):\n",
        "    return A_aug_iters\n",
        "  else:\n",
        "    return A_aug\n",
        "\n",
        "\n",
        "\n"
      ],
      "execution_count": null,
      "outputs": []
    },
    {
      "cell_type": "code",
      "metadata": {
        "id": "i8HA2dPjduGa"
      },
      "source": [
        "A = sym.Matrix([[1,2,3], [4,5,6], [-1, -2, -4]])\n",
        "b = sym.Matrix([14,32,-17])"
      ],
      "execution_count": null,
      "outputs": []
    },
    {
      "cell_type": "code",
      "metadata": {
        "colab": {
          "base_uri": "https://localhost:8080/",
          "height": 567
        },
        "id": "-ijLIHUyd3Ko",
        "outputId": "a80bc13e-5ad5-4fac-9ab5-7379c2838b00"
      },
      "source": [
        "A_aug_iters = gaussian_elimination(A, b, save_iters=True)"
      ],
      "execution_count": null,
      "outputs": [
        {
          "output_type": "stream",
          "text": [
            "\u001b[1mInício\u001b[0m\n",
            "--------------------------------------\n"
          ],
          "name": "stdout"
        },
        {
          "output_type": "display_data",
          "data": {
            "text/latex": "$\\displaystyle \\left[\\begin{matrix}1 & 2 & 3 & 14\\\\4 & 5 & 6 & 32\\\\-1 & -2 & -4 & -17\\end{matrix}\\right]$",
            "text/plain": [
              "Matrix([\n",
              "[ 1,  2,  3,  14],\n",
              "[ 4,  5,  6,  32],\n",
              "[-1, -2, -4, -17]])"
            ]
          },
          "metadata": {}
        },
        {
          "output_type": "stream",
          "text": [
            "\n",
            "\n",
            "--------------------------------------\n",
            "L1 <- L1 + (-4) * L0\n"
          ],
          "name": "stdout"
        },
        {
          "output_type": "display_data",
          "data": {
            "text/latex": "$\\displaystyle \\left[\\begin{matrix}1 & 2 & 3 & 14\\\\0 & -3 & -6 & -24\\\\-1 & -2 & -4 & -17\\end{matrix}\\right]$",
            "text/plain": [
              "Matrix([\n",
              "[ 1,  2,  3,  14],\n",
              "[ 0, -3, -6, -24],\n",
              "[-1, -2, -4, -17]])"
            ]
          },
          "metadata": {}
        },
        {
          "output_type": "stream",
          "text": [
            "\n",
            "\n",
            "L2 <- L2 + (1) * L0\n"
          ],
          "name": "stdout"
        },
        {
          "output_type": "display_data",
          "data": {
            "text/latex": "$\\displaystyle \\left[\\begin{matrix}1 & 2 & 3 & 14\\\\0 & -3 & -6 & -24\\\\0 & 0 & -1 & -3\\end{matrix}\\right]$",
            "text/plain": [
              "Matrix([\n",
              "[1,  2,  3,  14],\n",
              "[0, -3, -6, -24],\n",
              "[0,  0, -1,  -3]])"
            ]
          },
          "metadata": {}
        },
        {
          "output_type": "stream",
          "text": [
            "\n",
            "\n",
            "--------------------------------------\n",
            "L2 <- L2 + (0) * L1\n"
          ],
          "name": "stdout"
        },
        {
          "output_type": "display_data",
          "data": {
            "text/latex": "$\\displaystyle \\left[\\begin{matrix}1 & 2 & 3 & 14\\\\0 & -3 & -6 & -24\\\\0 & 0 & -1 & -3\\end{matrix}\\right]$",
            "text/plain": [
              "Matrix([\n",
              "[1,  2,  3,  14],\n",
              "[0, -3, -6, -24],\n",
              "[0,  0, -1,  -3]])"
            ]
          },
          "metadata": {}
        },
        {
          "output_type": "stream",
          "text": [
            "\n",
            "\n",
            "--------------------------------------\n",
            "--------------------------------------\n",
            "\u001b[1mFim\u001b[0m\n"
          ],
          "name": "stdout"
        }
      ]
    },
    {
      "cell_type": "code",
      "metadata": {
        "colab": {
          "base_uri": "https://localhost:8080/",
          "height": 37
        },
        "id": "U2QKvvVyeAcR",
        "outputId": "2b135283-dee3-46ed-bcce-4089879d2421"
      },
      "source": [
        "# para obter a solução do sistema, usamos função nativa\n",
        "list(sym.linsolve((A, b)))[0]"
      ],
      "execution_count": null,
      "outputs": [
        {
          "output_type": "execute_result",
          "data": {
            "text/latex": "$\\displaystyle \\left( 1, \\  4, \\  2\\right)$",
            "text/plain": [
              "(1, 4, 2)"
            ]
          },
          "metadata": {},
          "execution_count": 17
        }
      ]
    },
    {
      "cell_type": "code",
      "metadata": {
        "id": "cjT7bUARznrB"
      },
      "source": [
        "A = sym.Matrix([[0,2,3], [0,5,6], [-1, -2, -4]])\n",
        "b = sym.Matrix([14,32,-17])"
      ],
      "execution_count": null,
      "outputs": []
    },
    {
      "cell_type": "code",
      "metadata": {
        "colab": {
          "base_uri": "https://localhost:8080/",
          "height": 723
        },
        "id": "L7luNOqLzvBL",
        "outputId": "95d8b35a-1764-4f60-d335-9c6cae80221f"
      },
      "source": [
        "A_aug_iters = gaussian_elimination(A, b, save_iters=True)"
      ],
      "execution_count": null,
      "outputs": [
        {
          "output_type": "stream",
          "text": [
            "\u001b[1mInício\u001b[0m\n",
            "--------------------------------------\n"
          ],
          "name": "stdout"
        },
        {
          "output_type": "display_data",
          "data": {
            "text/latex": "$\\displaystyle \\left[\\begin{matrix}0 & 2 & 3 & 14\\\\0 & 5 & 6 & 32\\\\-1 & -2 & -4 & -17\\end{matrix}\\right]$",
            "text/plain": [
              "Matrix([\n",
              "[ 0,  2,  3,  14],\n",
              "[ 0,  5,  6,  32],\n",
              "[-1, -2, -4, -17]])"
            ]
          },
          "metadata": {}
        },
        {
          "output_type": "stream",
          "text": [
            "\n",
            "\n",
            "--------------------------------------\n",
            "Atenção: pivô zero em A[0, 0]!\n"
          ],
          "name": "stdout"
        },
        {
          "output_type": "display_data",
          "data": {
            "text/latex": "$\\displaystyle \\left[\\begin{matrix}0 & 2 & 3 & 14\\\\0 & 5 & 6 & 32\\\\-1 & -2 & -4 & -17\\end{matrix}\\right]$",
            "text/plain": [
              "Matrix([\n",
              "[ 0,  2,  3,  14],\n",
              "[ 0,  5,  6,  32],\n",
              "[-1, -2, -4, -17]])"
            ]
          },
          "metadata": {}
        },
        {
          "output_type": "stream",
          "text": [
            "Permutação L2 <-> L0\n"
          ],
          "name": "stdout"
        },
        {
          "output_type": "display_data",
          "data": {
            "text/latex": "$\\displaystyle \\left[\\begin{matrix}-1 & -2 & -4 & -17\\\\0 & 5 & 6 & 32\\\\0 & 2 & 3 & 14\\end{matrix}\\right]$",
            "text/plain": [
              "Matrix([\n",
              "[-1, -2, -4, -17],\n",
              "[ 0,  5,  6,  32],\n",
              "[ 0,  2,  3,  14]])"
            ]
          },
          "metadata": {}
        },
        {
          "output_type": "stream",
          "text": [
            "L1 <- L1 + (0) * L0\n"
          ],
          "name": "stdout"
        },
        {
          "output_type": "display_data",
          "data": {
            "text/latex": "$\\displaystyle \\left[\\begin{matrix}-1 & -2 & -4 & -17\\\\0 & 5 & 6 & 32\\\\0 & 2 & 3 & 14\\end{matrix}\\right]$",
            "text/plain": [
              "Matrix([\n",
              "[-1, -2, -4, -17],\n",
              "[ 0,  5,  6,  32],\n",
              "[ 0,  2,  3,  14]])"
            ]
          },
          "metadata": {}
        },
        {
          "output_type": "stream",
          "text": [
            "\n",
            "\n",
            "L2 <- L2 + (0) * L0\n"
          ],
          "name": "stdout"
        },
        {
          "output_type": "display_data",
          "data": {
            "text/latex": "$\\displaystyle \\left[\\begin{matrix}-1 & -2 & -4 & -17\\\\0 & 5 & 6 & 32\\\\0 & 2 & 3 & 14\\end{matrix}\\right]$",
            "text/plain": [
              "Matrix([\n",
              "[-1, -2, -4, -17],\n",
              "[ 0,  5,  6,  32],\n",
              "[ 0,  2,  3,  14]])"
            ]
          },
          "metadata": {}
        },
        {
          "output_type": "stream",
          "text": [
            "\n",
            "\n",
            "--------------------------------------\n",
            "L2 <- L2 + (-2/5) * L1\n"
          ],
          "name": "stdout"
        },
        {
          "output_type": "display_data",
          "data": {
            "text/latex": "$\\displaystyle \\left[\\begin{matrix}-1 & -2 & -4 & -17\\\\0 & 5 & 6 & 32\\\\0 & 0 & \\frac{3}{5} & \\frac{6}{5}\\end{matrix}\\right]$",
            "text/plain": [
              "Matrix([\n",
              "[-1, -2,  -4, -17],\n",
              "[ 0,  5,   6,  32],\n",
              "[ 0,  0, 3/5, 6/5]])"
            ]
          },
          "metadata": {}
        },
        {
          "output_type": "stream",
          "text": [
            "\n",
            "\n",
            "--------------------------------------\n",
            "--------------------------------------\n",
            "\u001b[1mFim\u001b[0m\n"
          ],
          "name": "stdout"
        }
      ]
    },
    {
      "cell_type": "code",
      "metadata": {
        "colab": {
          "base_uri": "https://localhost:8080/",
          "height": 37
        },
        "id": "cAUUeEMHzxQ6",
        "outputId": "fab92db9-da04-4a07-92f7-7f5f6eba2a58"
      },
      "source": [
        "# para obter a solução do sistema, usamos função nativa\n",
        "list(sym.linsolve((A, b)))[0]"
      ],
      "execution_count": null,
      "outputs": [
        {
          "output_type": "execute_result",
          "data": {
            "text/latex": "$\\displaystyle \\left( 1, \\  4, \\  2\\right)$",
            "text/plain": [
              "(1, 4, 2)"
            ]
          },
          "metadata": {},
          "execution_count": 14
        }
      ]
    },
    {
      "cell_type": "code",
      "metadata": {
        "id": "h319e70dzzac"
      },
      "source": [
        "A = sym.Matrix([[1,0,3], [2,0,6], [-1, -2, 0]])\n",
        "b = sym.Matrix([4, 8, -3])"
      ],
      "execution_count": null,
      "outputs": []
    },
    {
      "cell_type": "code",
      "metadata": {
        "colab": {
          "base_uri": "https://localhost:8080/",
          "height": 784
        },
        "id": "WP07_jMo1Msc",
        "outputId": "4b491e38-5486-45e6-cd6f-5906c7a9c232"
      },
      "source": [
        "A_aug_iters = gaussian_elimination(A, b, save_iters=True)"
      ],
      "execution_count": null,
      "outputs": [
        {
          "output_type": "stream",
          "text": [
            "\u001b[1mInício\u001b[0m\n",
            "--------------------------------------\n"
          ],
          "name": "stdout"
        },
        {
          "output_type": "display_data",
          "data": {
            "text/latex": "$\\displaystyle \\left[\\begin{matrix}1 & 0 & 3 & 4\\\\2 & 0 & 6 & 8\\\\-1 & -2 & 0 & -3\\end{matrix}\\right]$",
            "text/plain": [
              "Matrix([\n",
              "[ 1,  0, 3,  4],\n",
              "[ 2,  0, 6,  8],\n",
              "[-1, -2, 0, -3]])"
            ]
          },
          "metadata": {}
        },
        {
          "output_type": "stream",
          "text": [
            "\n",
            "\n",
            "--------------------------------------\n",
            "L1 <- L1 + (-2) * L0\n"
          ],
          "name": "stdout"
        },
        {
          "output_type": "display_data",
          "data": {
            "text/latex": "$\\displaystyle \\left[\\begin{matrix}1 & 0 & 3 & 4\\\\0 & 0 & 0 & 0\\\\-1 & -2 & 0 & -3\\end{matrix}\\right]$",
            "text/plain": [
              "Matrix([\n",
              "[ 1,  0, 3,  4],\n",
              "[ 0,  0, 0,  0],\n",
              "[-1, -2, 0, -3]])"
            ]
          },
          "metadata": {}
        },
        {
          "output_type": "stream",
          "text": [
            "\n",
            "\n",
            "L2 <- L2 + (1) * L0\n"
          ],
          "name": "stdout"
        },
        {
          "output_type": "display_data",
          "data": {
            "text/latex": "$\\displaystyle \\left[\\begin{matrix}1 & 0 & 3 & 4\\\\0 & 0 & 0 & 0\\\\0 & -2 & 3 & 1\\end{matrix}\\right]$",
            "text/plain": [
              "Matrix([\n",
              "[1,  0, 3, 4],\n",
              "[0,  0, 0, 0],\n",
              "[0, -2, 3, 1]])"
            ]
          },
          "metadata": {}
        },
        {
          "output_type": "stream",
          "text": [
            "\n",
            "\n",
            "--------------------------------------\n",
            "Atenção: pivô zero em A[1, 1]!\n"
          ],
          "name": "stdout"
        },
        {
          "output_type": "display_data",
          "data": {
            "text/latex": "$\\displaystyle \\left[\\begin{matrix}1 & 0 & 3 & 4\\\\0 & 0 & 0 & 0\\\\0 & -2 & 3 & 1\\end{matrix}\\right]$",
            "text/plain": [
              "Matrix([\n",
              "[1,  0, 3, 4],\n",
              "[0,  0, 0, 0],\n",
              "[0, -2, 3, 1]])"
            ]
          },
          "metadata": {}
        },
        {
          "output_type": "stream",
          "text": [
            "Permutação L2 <-> L1\n"
          ],
          "name": "stdout"
        },
        {
          "output_type": "display_data",
          "data": {
            "text/latex": "$\\displaystyle \\left[\\begin{matrix}1 & 0 & 3 & 4\\\\0 & -2 & 3 & 1\\\\0 & 0 & 0 & 0\\end{matrix}\\right]$",
            "text/plain": [
              "Matrix([\n",
              "[1,  0, 3, 4],\n",
              "[0, -2, 3, 1],\n",
              "[0,  0, 0, 0]])"
            ]
          },
          "metadata": {}
        },
        {
          "output_type": "stream",
          "text": [
            "L2 <- L2 + (0) * L1\n"
          ],
          "name": "stdout"
        },
        {
          "output_type": "display_data",
          "data": {
            "text/latex": "$\\displaystyle \\left[\\begin{matrix}1 & 0 & 3 & 4\\\\0 & -2 & 3 & 1\\\\0 & 0 & 0 & 0\\end{matrix}\\right]$",
            "text/plain": [
              "Matrix([\n",
              "[1,  0, 3, 4],\n",
              "[0, -2, 3, 1],\n",
              "[0,  0, 0, 0]])"
            ]
          },
          "metadata": {}
        },
        {
          "output_type": "stream",
          "text": [
            "\n",
            "\n",
            "--------------------------------------\n",
            "Atenção: pivô zero em A[2, 2]!\n"
          ],
          "name": "stdout"
        },
        {
          "output_type": "display_data",
          "data": {
            "text/latex": "$\\displaystyle \\left[\\begin{matrix}1 & 0 & 3 & 4\\\\0 & -2 & 3 & 1\\\\0 & 0 & 0 & 0\\end{matrix}\\right]$",
            "text/plain": [
              "Matrix([\n",
              "[1,  0, 3, 4],\n",
              "[0, -2, 3, 1],\n",
              "[0,  0, 0, 0]])"
            ]
          },
          "metadata": {}
        },
        {
          "output_type": "stream",
          "text": [
            "\u001b[1mFim\u001b[0m\n"
          ],
          "name": "stdout"
        }
      ]
    },
    {
      "cell_type": "code",
      "metadata": {
        "colab": {
          "base_uri": "https://localhost:8080/",
          "height": 58
        },
        "id": "6FTOFob-1seA",
        "outputId": "a641fdb5-f216-45f0-f5ed-c84294a05727"
      },
      "source": [
        "list(sym.linsolve((A, b)))[0]"
      ],
      "execution_count": null,
      "outputs": [
        {
          "output_type": "execute_result",
          "data": {
            "text/latex": "$\\displaystyle \\left( 4 - 3 \\tau_{0}, \\  \\frac{3 \\tau_{0}}{2} - \\frac{1}{2}, \\  \\tau_{0}\\right)$",
            "text/plain": [
              "(4 - 3*tau0, 3*tau0/2 - 1/2, tau0)"
            ]
          },
          "metadata": {},
          "execution_count": 38
        }
      ]
    }
  ]
}