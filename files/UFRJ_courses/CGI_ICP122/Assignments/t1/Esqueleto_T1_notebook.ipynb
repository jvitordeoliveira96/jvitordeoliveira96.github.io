{
  "nbformat": 4,
  "nbformat_minor": 0,
  "metadata": {
    "colab": {
      "name": "Esqueleto_T1_notebook.ipynb",
      "provenance": [],
      "collapsed_sections": [],
      "include_colab_link": true
    },
    "kernelspec": {
      "name": "python3",
      "display_name": "Python 3"
    },
    "language_info": {
      "name": "python"
    }
  },
  "cells": [
    {
      "cell_type": "markdown",
      "metadata": {
        "id": "view-in-github",
        "colab_type": "text"
      },
      "source": [
        "<a href=\"https://colab.research.google.com/github/jvitordeoliveira96/UFRJ_courses/blob/main/CGI_ICP122/Assignments/t1/Esqueleto_T1_notebook.ipynb\" target=\"_parent\"><img src=\"https://colab.research.google.com/assets/colab-badge.svg\" alt=\"Open In Colab\"/></a>"
      ]
    },
    {
      "cell_type": "markdown",
      "metadata": {
        "id": "TGh1CRnf6QXm"
      },
      "source": [
        "# Python imports"
      ]
    },
    {
      "cell_type": "code",
      "metadata": {
        "id": "jN2Gm8wVkItc"
      },
      "source": [
        "import numpy as np\n",
        "import scipy as sp\n",
        "from google.colab.patches import cv2_imshow\n",
        "from google.colab import files\n",
        "from matplotlib import patheffects\n",
        "import matplotlib.pyplot as plt\n",
        "import json\n"
      ],
      "execution_count": null,
      "outputs": []
    },
    {
      "cell_type": "markdown",
      "metadata": {
        "id": "Iw0wdpexVbHZ"
      },
      "source": [
        "## JSON upload"
      ]
    },
    {
      "cell_type": "code",
      "metadata": {
        "id": "Y7Nx9N5LVapf"
      },
      "source": [
        "from google.colab import files\n",
        "uploaded = files.upload()\n",
        "\n",
        "for fn in uploaded.keys():\n",
        "  f = open(fn, )\n",
        "  graphic_data = json.load(f)\n",
        "  print('User uploaded file \"{name}\" with length {length} bytes'.format(name=fn, length=len(uploaded[fn])))"
      ],
      "execution_count": null,
      "outputs": []
    },
    {
      "cell_type": "markdown",
      "metadata": {
        "id": "X5OYmUAE50vV"
      },
      "source": [
        "# Code (inside test and Screen class)"
      ]
    },
    {
      "cell_type": "code",
      "metadata": {
        "id": "PnZSPpU2Wav9"
      },
      "source": [
        "def inside(x, y, primitive):\n",
        "  \"\"\"\n",
        "  Check if point (x,y) is inside the primitive\n",
        "  \n",
        "  Args:\n",
        "    x (float): horizontal point position\n",
        "    y (float): vertical point position\n",
        "  Returns:\n",
        "    True if (x,y) is inside the primitive, False case contrary\n",
        "  \"\"\"\n",
        "  \n",
        "  # You should implement your inside test here for all shapes   \n",
        "  # for now, it only returns a false test\n",
        "\n",
        "  return False\n",
        "  "
      ],
      "execution_count": null,
      "outputs": []
    },
    {
      "cell_type": "code",
      "metadata": {
        "id": "RPhF5veRZ6S-"
      },
      "source": [
        "class Screen:\n",
        "  ''' Creates a virtual basic screen\n",
        "\n",
        "    Args:\n",
        "        gdata (dict): dictionary containing screen size and scene description\n",
        "    '''\n",
        "\n",
        "  def __init__(self, gdata):\n",
        "    self._width = gdata.get(\"width\")\n",
        "    self._height = gdata.get(\"height\")\n",
        "    self._scene = self.preprocess( gdata.get(\"scene\") )\n",
        "    self.create_image()\n",
        "\n",
        "\n",
        "  def preprocess(self, scene):\n",
        "    ''' ?????????????\n",
        "\n",
        "    Args:\n",
        "      scene (dict): Scene containing the graphic primitives\n",
        "\n",
        "    Returns:\n",
        "      scene (dict): Scene containing the graphic primitives with additional info\n",
        "    '''\n",
        "\n",
        "    # Possible preprocessing with scene primitives, for now we don't change anything\n",
        "    # You may define bounding boxes, convert shapes, etc\n",
        "    preprop_scene = []\n",
        "\n",
        "    for primitive in scene:\n",
        "      # do some processing\n",
        "      # for now, only copies each primitive to a new list\n",
        "      \n",
        "      preprop_scene.append(primitive)\n",
        "\n",
        "    return preprop_scene\n",
        "\n",
        "  def create_image(self):\n",
        "    ''' Creates image with white background \n",
        "    \n",
        "    Returns \n",
        "      image (numpy array): White image with R, G, B channels\n",
        "    '''\n",
        "\n",
        "    self._image = 255 *  np.ones((self._height, self._width, 3), np.uint8)\n",
        "\n",
        "  def rasterize(self):\n",
        "    ''' Rasterize the primitives along the Screen    \n",
        "    '''\n",
        "    \n",
        "    for primitive in self._scene:\n",
        "    # Loop through all pixels\n",
        "    # You MUST use bounding boxes in order to speed up this loop\n",
        "      for w in range(0, self._width):\n",
        "        x = w + 0.5\n",
        "        for h in range(0, self._height):\n",
        "          y = h + 0.5\n",
        "          # First, we check if the pixel center is inside the primitive\n",
        "          if ( inside(x, y, primitive) ):\n",
        "            im_x, im_y = w, self._height - (h + 1)\n",
        "            self._image[im_y, im_x] = primitive['color'][::-1]\n",
        "        \n",
        "\n",
        "  def show(self, exec_rasterize = False):\n",
        "    ''' Show the virtual Screen    \n",
        "    '''\n",
        "\n",
        "    if (exec_rasterize):\n",
        "      self.rasterize()\n",
        "      \n",
        "    cv2_imshow(self._image)\n",
        "\n",
        "  "
      ],
      "execution_count": null,
      "outputs": []
    },
    {
      "cell_type": "markdown",
      "metadata": {
        "id": "JsSbaVi720LE"
      },
      "source": [
        "# Virtual Screen "
      ]
    },
    {
      "cell_type": "markdown",
      "metadata": {
        "id": "ved1pcTW6aYv"
      },
      "source": [
        "### Initialization"
      ]
    },
    {
      "cell_type": "code",
      "metadata": {
        "id": "4dzokiPNQYWv"
      },
      "source": [
        "screen = Screen(graphic_data)"
      ],
      "execution_count": null,
      "outputs": []
    },
    {
      "cell_type": "markdown",
      "metadata": {
        "id": "oJVOidWA3K-O"
      },
      "source": [
        "### Rasterization and raster graphic visualization"
      ]
    },
    {
      "cell_type": "code",
      "metadata": {
        "id": "9vupa7VhatzO"
      },
      "source": [
        "screen.show(True)"
      ],
      "execution_count": null,
      "outputs": []
    }
  ]
}