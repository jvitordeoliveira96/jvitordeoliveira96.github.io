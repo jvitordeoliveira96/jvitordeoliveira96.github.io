{
  "nbformat": 4,
  "nbformat_minor": 0,
  "metadata": {
    "kernelspec": {
      "display_name": "Python 3",
      "language": "python",
      "name": "python3"
    },
    "language_info": {
      "codemirror_mode": {
        "name": "ipython",
        "version": 3
      },
      "file_extension": ".py",
      "mimetype": "text/x-python",
      "name": "python",
      "nbconvert_exporter": "python",
      "pygments_lexer": "ipython3",
      "version": "3.5.2"
    },
    "colab": {
      "name": "Introducao_ao_Colab_pt1.ipynb",
      "provenance": [],
      "collapsed_sections": [],
      "include_colab_link": true
    }
  },
  "cells": [
    {
      "cell_type": "markdown",
      "metadata": {
        "id": "view-in-github",
        "colab_type": "text"
      },
      "source": [
        "<a href=\"https://colab.research.google.com/github/jvitordeoliveira96/UFRJ_courses/blob/main/Introducao_ao_Colab_pt1.ipynb\" target=\"_parent\"><img src=\"https://colab.research.google.com/assets/colab-badge.svg\" alt=\"Open In Colab\"/></a>"
      ]
    },
    {
      "cell_type": "markdown",
      "metadata": {
        "deletable": true,
        "editable": true,
        "id": "meS1sE10zumD"
      },
      "source": [
        "**Autor: João Vitor de Oliveira Silva**\n",
        "\n",
        "**Data: 16/07/2021**\n",
        "\n",
        "\n",
        "\n",
        "---\n",
        "\n",
        "\n",
        "\n",
        "**Adaptado de [learning-python3.ipynb]: https://gist.githubusercontent.com/kenjyco/69eeb503125035f21a9d/raw/learning-python3.ipynb**\n",
        "\n",
        "\n",
        "## *Notas sobre o Colab*\n",
        "\n",
        "Ao editar uma célula no Colab, é necessário executar novamente a célula pressionando **`<Shift> + <Enter>`**. Isso permitirá que as alterações feitas estejam disponíveis para outras células.\n",
        "\n",
        "Use **`<Enter>`** para pular linhas na sua célula atual.\n",
        "\n",
        "#### *Células de código*\n",
        "\n",
        "Células que contém código fonte em Python 3. \n",
        "\n",
        "#### *Células de Markdown* \n",
        "\n",
        "Células que contém texto.\n",
        "\n",
        "<hr>"
      ]
    },
    {
      "cell_type": "markdown",
      "metadata": {
        "deletable": true,
        "editable": true,
        "id": "79FQOD2QzumL"
      },
      "source": [
        "## Referências\n",
        "\n",
        "- https://towardsdatascience.com/getting-started-with-google-colab-f2fff97f594c?gi=e8fe3378db80\n",
        "- https://try.jupyter.org\n",
        "- https://docs.python.org/3/tutorial/index.html\n",
        "- https://docs.python.org/3/tutorial/introduction.html\n",
        "- https://daringfireball.net/projects/markdown/syntax\n",
        "- https://docs.scipy.org/doc/scipy/reference/\n",
        "- https://numpy.org/doc/1.21/\n",
        "\n",
        "\n",
        "<hr>"
      ]
    },
    {
      "cell_type": "markdown",
      "metadata": {
        "deletable": true,
        "editable": true,
        "id": "eOvpzGEuzumN"
      },
      "source": [
        "## Objetos, tipos básicos e variáveis\n",
        "\n",
        "Tudo em Python é um **objeto** e todo objeto em Python tem um **type**. Alguns tipos básicos são:\n",
        "\n",
        "- **`int`** (integer; números inteiros)\n",
        "  - `10`\n",
        "  - `-3`\n",
        "- **`float`** (float; números reais)\n",
        "  - `7.41`\n",
        "  - `-0.006`\n",
        "- **`complex`** (complex; números complexos)\n",
        "  - `7.41j`\n",
        "  - `-0.006 + 2j`  \n",
        "- **`str`** (string; uma sequência de caracteres)\n",
        "  - `'this is a string using single quotes'`\n",
        "  - `\"this is a string using double quotes\"`\n",
        "  - `'''this is a triple quoted string using single quotes'''`\n",
        "  - `\"\"\"this is a triple quoted string using double quotes\"\"\"`\n",
        "- **`bool`** (boolean; um valor binário que é verdadeiro *True* ou falso *False*)\n",
        "  - `True`\n",
        "  - `False`\n",
        "- **`NoneType`** (um tipo especial representando a ausência de valor. Análogo ao NULL de outras linguagens.)\n",
        "  - `None`\n",
        "\n",
        "Em Python, nome de variáves deve começar com uma letra. É possível ser usado letras maiúsculas, minúsculas, underscore (_), números...\n",
        "\n",
        "<hr>"
      ]
    },
    {
      "cell_type": "markdown",
      "metadata": {
        "deletable": true,
        "editable": true,
        "id": "JkeLXwMJzumP"
      },
      "source": [
        "## Operadores básicos\n",
        "\n",
        "No Python, existem diferentes tipos de **operadores** (símbolos especiais) que operam com valores diferentes. Alguns dos operadores básicos incluem:\n",
        "\n",
        "- operadores aritméticos\n",
        "  - **`+`** (adição)\n",
        "  - **`-`** (subtração)\n",
        "  - **`*`** (multiplicação)\n",
        "  - **`/`** (divisão)\n",
        "  - __`**`__ (potenciação)\n",
        "- operadores de atribuição\n",
        "  - **`=`** (atribuição a algum valor)\n",
        "  - **`+=`** (adicionar e re-atribuir; incremento)\n",
        "  - **`-=`** (subtrair e re-atribuir; decremento)\n",
        "  - **`*=`** (multiplicação e re-atribuir)\n",
        "- operadores de comparação (retornam `True` ou `False`)\n",
        "  - **`==`** (igual)\n",
        "  - **`!=`** (diferente)\n",
        "  - **`<`**  (menor que)\n",
        "  - **`<=`** (menor ou igual que)\n",
        "  - **`>`**  (maior que)\n",
        "  - **`>=`** (maior ou igual que)\n",
        "\n",
        "Quando vários operadores são usados ​​em uma única expressão, ** precedência do operador ** determina quais partes da expressão são avaliadas em que ordem. Os operadores com maior precedência são avaliados primeiro (como em matemática). Operadores com a mesma precedência são avaliados da esquerda para a direita.\n",
        "\n",
        "- `()` parenteses\n",
        "- `**` potenciação\n",
        "- `*`, `/` multiplicação e divisão\n",
        "- `+`, `-` adição e subtração\n",
        "- `==`, `!=`, `<`, `<=`, `>`, `>=` comparação\n",
        "\n",
        "> Ver https://docs.python.org/3/reference/expressions.html#operator-precedence para mais detalhes."
      ]
    },
    {
      "cell_type": "code",
      "metadata": {
        "deletable": true,
        "editable": true,
        "id": "7uVTCjLozumR"
      },
      "source": [
        "# Atribuindo alguns números a diferentes variáveis\n",
        "num1 = 10\n",
        "num2 = -3\n",
        "num3 = 7.41\n",
        "num4 = -.6\n",
        "num5 = 7\n",
        "num6 = 3\n",
        "num7 = 11.11\n",
        "num8 = 5 + 30j  # exemplo de número complexo"
      ],
      "execution_count": null,
      "outputs": []
    },
    {
      "cell_type": "code",
      "metadata": {
        "deletable": true,
        "editable": true,
        "id": "STEFgxOszumY",
        "colab": {
          "base_uri": "https://localhost:8080/"
        },
        "outputId": "ea415421-211b-4649-b645-66ab82e9f5d2"
      },
      "source": [
        "# Adição\n",
        "num1 + num2"
      ],
      "execution_count": null,
      "outputs": [
        {
          "output_type": "execute_result",
          "data": {
            "text/plain": [
              "7"
            ]
          },
          "metadata": {
            "tags": []
          },
          "execution_count": 12
        }
      ]
    },
    {
      "cell_type": "code",
      "metadata": {
        "deletable": true,
        "editable": true,
        "id": "pyznCkACzumm",
        "colab": {
          "base_uri": "https://localhost:8080/"
        },
        "outputId": "cb5b8a1c-c901-4958-e5e0-9e6f31b2d646"
      },
      "source": [
        "# Subtração\n",
        "num2 - num3"
      ],
      "execution_count": null,
      "outputs": [
        {
          "output_type": "execute_result",
          "data": {
            "text/plain": [
              "-10.41"
            ]
          },
          "metadata": {
            "tags": []
          },
          "execution_count": 13
        }
      ]
    },
    {
      "cell_type": "code",
      "metadata": {
        "deletable": true,
        "editable": true,
        "id": "zd9FjwYkzumt",
        "colab": {
          "base_uri": "https://localhost:8080/"
        },
        "outputId": "9339d303-a785-4a6a-d5c8-29ad704455a4"
      },
      "source": [
        "# Multiplicação\n",
        "num3 * num4"
      ],
      "execution_count": null,
      "outputs": [
        {
          "output_type": "execute_result",
          "data": {
            "text/plain": [
              "-4.446"
            ]
          },
          "metadata": {
            "tags": []
          },
          "execution_count": 14
        }
      ]
    },
    {
      "cell_type": "code",
      "metadata": {
        "deletable": true,
        "editable": true,
        "id": "hukxBmjLzumz",
        "colab": {
          "base_uri": "https://localhost:8080/"
        },
        "outputId": "0ebd522c-a51e-4365-8992-7051c7694c08"
      },
      "source": [
        "# Divisão\n",
        "num4 / num5"
      ],
      "execution_count": null,
      "outputs": [
        {
          "output_type": "execute_result",
          "data": {
            "text/plain": [
              "-0.08571428571428572"
            ]
          },
          "metadata": {
            "tags": []
          },
          "execution_count": 15
        }
      ]
    },
    {
      "cell_type": "code",
      "metadata": {
        "deletable": true,
        "editable": true,
        "id": "dJLDzi7rzum6",
        "colab": {
          "base_uri": "https://localhost:8080/"
        },
        "outputId": "14047c22-e80e-41bc-f29e-6a69a9243bce"
      },
      "source": [
        "# Potenciação\n",
        "num5 ** num6"
      ],
      "execution_count": null,
      "outputs": [
        {
          "output_type": "execute_result",
          "data": {
            "text/plain": [
              "343"
            ]
          },
          "metadata": {
            "tags": []
          },
          "execution_count": 16
        }
      ]
    },
    {
      "cell_type": "code",
      "metadata": {
        "id": "Yrj7gZHdQa7W",
        "colab": {
          "base_uri": "https://localhost:8080/"
        },
        "outputId": "e12644dd-cb2c-4f63-f999-a229fb243350"
      },
      "source": [
        "# Adição (complexo)\n",
        "num8 + num6"
      ],
      "execution_count": null,
      "outputs": [
        {
          "output_type": "execute_result",
          "data": {
            "text/plain": [
              "(8+30j)"
            ]
          },
          "metadata": {
            "tags": []
          },
          "execution_count": 17
        }
      ]
    },
    {
      "cell_type": "code",
      "metadata": {
        "id": "L4xMMfmNQlws",
        "colab": {
          "base_uri": "https://localhost:8080/"
        },
        "outputId": "096abca9-3c68-43f5-b297-04eab774eca4"
      },
      "source": [
        "# Potenciação (complexo)\n",
        "num8**2"
      ],
      "execution_count": null,
      "outputs": [
        {
          "output_type": "execute_result",
          "data": {
            "text/plain": [
              "(-875+300j)"
            ]
          },
          "metadata": {
            "tags": []
          },
          "execution_count": 18
        }
      ]
    },
    {
      "cell_type": "code",
      "metadata": {
        "deletable": true,
        "editable": true,
        "id": "w7FMfWXtzunA",
        "colab": {
          "base_uri": "https://localhost:8080/"
        },
        "outputId": "3c1770ef-b9d8-4f2d-ef9c-eb7cc40b6629"
      },
      "source": [
        "# Incrementando uma variável existente\n",
        "num7 += 4\n",
        "num7"
      ],
      "execution_count": null,
      "outputs": [
        {
          "output_type": "execute_result",
          "data": {
            "text/plain": [
              "15.11"
            ]
          },
          "metadata": {
            "tags": []
          },
          "execution_count": 19
        }
      ]
    },
    {
      "cell_type": "code",
      "metadata": {
        "deletable": true,
        "editable": true,
        "id": "AWFQopq8zunT",
        "colab": {
          "base_uri": "https://localhost:8080/"
        },
        "outputId": "8f269dc3-ef1f-4598-b4ab-a6c0b1322745"
      },
      "source": [
        "# Atribua o valor de uma expressão a uma variável\n",
        "num8 = num1 + num2 * num3\n",
        "num8"
      ],
      "execution_count": null,
      "outputs": [
        {
          "output_type": "execute_result",
          "data": {
            "text/plain": [
              "-12.23"
            ]
          },
          "metadata": {
            "tags": []
          },
          "execution_count": 20
        }
      ]
    },
    {
      "cell_type": "code",
      "metadata": {
        "deletable": true,
        "editable": true,
        "id": "Qwog3i1kzunf",
        "colab": {
          "base_uri": "https://localhost:8080/"
        },
        "outputId": "5748aff3-37d3-4d0f-d441-da868661c894"
      },
      "source": [
        "# Essas duas expressões são iguais uma à outra?\n",
        "num1 + num2 == num5"
      ],
      "execution_count": null,
      "outputs": [
        {
          "output_type": "execute_result",
          "data": {
            "text/plain": [
              "True"
            ]
          },
          "metadata": {
            "tags": []
          },
          "execution_count": 21
        }
      ]
    },
    {
      "cell_type": "code",
      "metadata": {
        "deletable": true,
        "editable": true,
        "id": "I2zj8jI3zunk",
        "colab": {
          "base_uri": "https://localhost:8080/"
        },
        "outputId": "4e67b06b-d364-4a36-caf1-6759cbb57055"
      },
      "source": [
        "# Essas duas expressões não são iguais uma à outra?\n",
        "num3 != num4"
      ],
      "execution_count": null,
      "outputs": [
        {
          "output_type": "execute_result",
          "data": {
            "text/plain": [
              "True"
            ]
          },
          "metadata": {
            "tags": []
          },
          "execution_count": 22
        }
      ]
    },
    {
      "cell_type": "code",
      "metadata": {
        "deletable": true,
        "editable": true,
        "id": "a0RhztMVzunq",
        "colab": {
          "base_uri": "https://localhost:8080/"
        },
        "outputId": "023b73ac-82ff-41dc-d05b-bf74dffc428e"
      },
      "source": [
        "# A primeira expressão é menor que a segunda expressão?\n",
        "num5 < num6"
      ],
      "execution_count": null,
      "outputs": [
        {
          "output_type": "execute_result",
          "data": {
            "text/plain": [
              "False"
            ]
          },
          "metadata": {
            "tags": []
          },
          "execution_count": 23
        }
      ]
    },
    {
      "cell_type": "code",
      "metadata": {
        "deletable": true,
        "editable": true,
        "id": "83axFd8Rzunw",
        "colab": {
          "base_uri": "https://localhost:8080/"
        },
        "outputId": "5973fc93-a7ee-4dee-da70-a54b9011942f"
      },
      "source": [
        "# Esta expressão é True?\n",
        "5 > 3 > 1"
      ],
      "execution_count": null,
      "outputs": [
        {
          "output_type": "execute_result",
          "data": {
            "text/plain": [
              "True"
            ]
          },
          "metadata": {
            "tags": []
          },
          "execution_count": 24
        }
      ]
    },
    {
      "cell_type": "code",
      "metadata": {
        "deletable": true,
        "editable": true,
        "id": "AUdzDqs-zun2",
        "colab": {
          "base_uri": "https://localhost:8080/"
        },
        "outputId": "1f9dd046-18a4-468b-c64b-70fb3323968a"
      },
      "source": [
        "# Esta expressão é True?\n",
        "5 > 3 < 4 == 3 + 1"
      ],
      "execution_count": null,
      "outputs": [
        {
          "output_type": "execute_result",
          "data": {
            "text/plain": [
              "True"
            ]
          },
          "metadata": {
            "tags": []
          },
          "execution_count": 25
        }
      ]
    },
    {
      "cell_type": "code",
      "metadata": {
        "deletable": true,
        "editable": true,
        "id": "LtxI-ZUmzun8"
      },
      "source": [
        "# Atribua algumas strings a diferentes variáveis\n",
        "simple_string1 = 'an example'\n",
        "simple_string2 = \"oranges \""
      ],
      "execution_count": null,
      "outputs": []
    },
    {
      "cell_type": "code",
      "metadata": {
        "deletable": true,
        "editable": true,
        "id": "a0kmaNIYzuoD",
        "colab": {
          "base_uri": "https://localhost:8080/",
          "height": 35
        },
        "outputId": "652d7f6f-c9e8-4914-9a3c-fd6f57471ce9"
      },
      "source": [
        "# Adição\n",
        "simple_string1 + ' of using the + operator'"
      ],
      "execution_count": null,
      "outputs": [
        {
          "output_type": "execute_result",
          "data": {
            "application/vnd.google.colaboratory.intrinsic+json": {
              "type": "string"
            },
            "text/plain": [
              "'an example of using the + operator'"
            ]
          },
          "metadata": {
            "tags": []
          },
          "execution_count": 27
        }
      ]
    },
    {
      "cell_type": "code",
      "metadata": {
        "deletable": true,
        "editable": true,
        "id": "muA0F9Q0zuoM",
        "colab": {
          "base_uri": "https://localhost:8080/",
          "height": 35
        },
        "outputId": "7a25b0d5-8bc1-471d-ed6e-21484a73b1bc"
      },
      "source": [
        "# Observe que a sequência não foi modificada\n",
        "simple_string1"
      ],
      "execution_count": null,
      "outputs": [
        {
          "output_type": "execute_result",
          "data": {
            "application/vnd.google.colaboratory.intrinsic+json": {
              "type": "string"
            },
            "text/plain": [
              "'an example'"
            ]
          },
          "metadata": {
            "tags": []
          },
          "execution_count": 28
        }
      ]
    },
    {
      "cell_type": "code",
      "metadata": {
        "id": "d8LmOctHgfXx",
        "colab": {
          "base_uri": "https://localhost:8080/"
        },
        "outputId": "dceb3dd2-b298-4f81-8720-21431e87317a"
      },
      "source": [
        "# Comparação entre strings\n",
        "simple_string1==simple_string2"
      ],
      "execution_count": null,
      "outputs": [
        {
          "output_type": "execute_result",
          "data": {
            "text/plain": [
              "False"
            ]
          },
          "metadata": {
            "tags": []
          },
          "execution_count": 29
        }
      ]
    },
    {
      "cell_type": "markdown",
      "metadata": {
        "deletable": true,
        "editable": true,
        "id": "-ZzxBj-pzupG"
      },
      "source": [
        "<hr>\n",
        "\n",
        "## Listas, tuplas e dicionários\n",
        "\n",
        "- **`list`** (list: mutável; indexado por inteiros; itens são armazenados na ordem em que são adicionados)\n",
        "  - `[3, 5, 6, 3, 'dog', 'cat', False]`\n",
        "- **`tuple`** (tuple: imutável; indexado por inteiros; itens são armazenados na ordem definida)\n",
        "  - `(3, 5, 6, 3, 'dog', 'cat', False)`\n",
        "- **`dict`** (dictionary: mutável; pares chave-valor são indexados pelas chaves; itens NÃO são armazenados na ordem em que são adicionados)\n",
        "  - `{'name': 'Jane', 'age': 23, 'fav_foods': ['pizza', 'fruit', 'fish']}`\n",
        "\n",
        "Ao definir listas e tuplas, use (,) para separar os itens individuais. Ao definir dicionários, use dois pontos (:) para separar chaves de valores e vírgulas (,) para separar os pares de chave e valor.\n"
      ]
    },
    {
      "cell_type": "code",
      "metadata": {
        "deletable": true,
        "editable": true,
        "id": "UzAN1ELNzupI"
      },
      "source": [
        "list1 = [3, 5, 6, 3, 'dog', 'cat', False]\n",
        "tuple1 = (3, 5, 6, 3, 'dog', 'cat', False)\n",
        "dict1 = {'name': 'Jane', 'age': 23, 'fav_foods': ['pizza', 'fruit', 'fish']}"
      ],
      "execution_count": null,
      "outputs": []
    },
    {
      "cell_type": "code",
      "metadata": {
        "deletable": true,
        "editable": true,
        "id": "fVevHmomzupN",
        "colab": {
          "base_uri": "https://localhost:8080/"
        },
        "outputId": "b86b828e-19ec-4388-bfa3-07eb9f3e51f4"
      },
      "source": [
        "# Os itens em listas são armazenados na ordem em que foram adicionados\n",
        "list1"
      ],
      "execution_count": null,
      "outputs": [
        {
          "output_type": "execute_result",
          "data": {
            "text/plain": [
              "[3, 5, 6, 3, 'dog', 'cat', False]"
            ]
          },
          "metadata": {
            "tags": []
          },
          "execution_count": 31
        }
      ]
    },
    {
      "cell_type": "code",
      "metadata": {
        "deletable": true,
        "editable": true,
        "id": "-MZdt-ZdzupT",
        "colab": {
          "base_uri": "https://localhost:8080/"
        },
        "outputId": "a8c7c9d7-aa9f-4f85-f76f-f880b09f9e9b"
      },
      "source": [
        "# Os itens em tuplas são armazenados na ordem em que foram adicionados\n",
        "tuple1"
      ],
      "execution_count": null,
      "outputs": [
        {
          "output_type": "execute_result",
          "data": {
            "text/plain": [
              "(3, 5, 6, 3, 'dog', 'cat', False)"
            ]
          },
          "metadata": {
            "tags": []
          },
          "execution_count": 32
        }
      ]
    },
    {
      "cell_type": "code",
      "metadata": {
        "deletable": true,
        "editable": true,
        "id": "91lKnEL3zupd",
        "colab": {
          "base_uri": "https://localhost:8080/"
        },
        "outputId": "76e863f0-1b6a-4518-dc66-459b57bde513"
      },
      "source": [
        "# Os itens em dicionários NÃO são armazenados na ordem em que foram adicionados\n",
        "dict1"
      ],
      "execution_count": null,
      "outputs": [
        {
          "output_type": "execute_result",
          "data": {
            "text/plain": [
              "{'age': 23, 'fav_foods': ['pizza', 'fruit', 'fish'], 'name': 'Jane'}"
            ]
          },
          "metadata": {
            "tags": []
          },
          "execution_count": 33
        }
      ]
    },
    {
      "cell_type": "markdown",
      "metadata": {
        "deletable": true,
        "editable": true,
        "id": "ztJQS1YBzup8"
      },
      "source": [
        "<hr>\n",
        "\n",
        "## Acessando elementos de strings, listas, tuplas e dicionários.\n",
        "\n",
        "Para strings, listas, tuplas e dict, podemos usar colchetes para acessar dados em um índice.\n",
        "\n",
        "- strings, listas e tuplas são indexadas por números inteiros, ** começando em 0 ** para o primeiro item\n",
        "  - esses tipos de sequência também oferecem suporte a vários itens, conhecidos como ** slicing **\n",
        "  - use ** indexação negativa ** para iniciar na parte de final da sequência\n",
        "- dicts são indexados por suas chaves.\n"
      ]
    },
    {
      "cell_type": "code",
      "metadata": {
        "deletable": true,
        "editable": true,
        "id": "P2GKw_Vhzup-",
        "colab": {
          "base_uri": "https://localhost:8080/"
        },
        "outputId": "9ef8c4ba-4721-42bb-857d-f146ef1e9d01"
      },
      "source": [
        "# Acesse o primeiro item em uma sequência\n",
        "list1[0]"
      ],
      "execution_count": null,
      "outputs": [
        {
          "output_type": "execute_result",
          "data": {
            "text/plain": [
              "3"
            ]
          },
          "metadata": {
            "tags": []
          },
          "execution_count": 34
        }
      ]
    },
    {
      "cell_type": "code",
      "metadata": {
        "deletable": true,
        "editable": true,
        "id": "TPYX-aYbzuqK",
        "colab": {
          "base_uri": "https://localhost:8080/"
        },
        "outputId": "e03b6cbf-5bb1-4ccc-93a3-59404514a9b0"
      },
      "source": [
        "# Acesse o primeiro item em uma sequência\n",
        "tuple1[-1]"
      ],
      "execution_count": null,
      "outputs": [
        {
          "output_type": "execute_result",
          "data": {
            "text/plain": [
              "False"
            ]
          },
          "metadata": {
            "tags": []
          },
          "execution_count": 35
        }
      ]
    },
    {
      "cell_type": "code",
      "metadata": {
        "deletable": true,
        "editable": true,
        "id": "HLhcY5PdzuqT",
        "colab": {
          "base_uri": "https://localhost:8080/",
          "height": 35
        },
        "outputId": "a89444fa-c5e5-4d40-c967-b9550289922e"
      },
      "source": [
        "# Acesse um intervalo de itens em uma sequência\n",
        "simple_string1[3:8]"
      ],
      "execution_count": null,
      "outputs": [
        {
          "output_type": "execute_result",
          "data": {
            "application/vnd.google.colaboratory.intrinsic+json": {
              "type": "string"
            },
            "text/plain": [
              "'examp'"
            ]
          },
          "metadata": {
            "tags": []
          },
          "execution_count": 36
        }
      ]
    },
    {
      "cell_type": "code",
      "metadata": {
        "deletable": true,
        "editable": true,
        "id": "pQdFtyh-zuqb",
        "colab": {
          "base_uri": "https://localhost:8080/"
        },
        "outputId": "93b3411f-bef6-4057-dc57-2deeca449799"
      },
      "source": [
        "# Acesse um intervalo de itens em uma sequência\n",
        "tuple1[:-3]"
      ],
      "execution_count": null,
      "outputs": [
        {
          "output_type": "execute_result",
          "data": {
            "text/plain": [
              "(3, 5, 6, 3)"
            ]
          },
          "metadata": {
            "tags": []
          },
          "execution_count": 37
        }
      ]
    },
    {
      "cell_type": "code",
      "metadata": {
        "deletable": true,
        "editable": true,
        "id": "La03xRy3zuqi",
        "colab": {
          "base_uri": "https://localhost:8080/"
        },
        "outputId": "3bf4b3cd-e4f2-4290-ce7c-c61947433c41"
      },
      "source": [
        "# Acesse um intervalo de itens em uma sequência\n",
        "list1[4:]"
      ],
      "execution_count": null,
      "outputs": [
        {
          "output_type": "execute_result",
          "data": {
            "text/plain": [
              "['dog', 'cat', False]"
            ]
          },
          "metadata": {
            "tags": []
          },
          "execution_count": 38
        }
      ]
    },
    {
      "cell_type": "code",
      "metadata": {
        "deletable": true,
        "editable": true,
        "id": "-FkyKJ5Vzuqn",
        "colab": {
          "base_uri": "https://localhost:8080/",
          "height": 35
        },
        "outputId": "22f1ad30-409c-42a1-bb50-4b65234a8324"
      },
      "source": [
        "# Accesse um item em um dicionário\n",
        "dict1['name']"
      ],
      "execution_count": null,
      "outputs": [
        {
          "output_type": "execute_result",
          "data": {
            "application/vnd.google.colaboratory.intrinsic+json": {
              "type": "string"
            },
            "text/plain": [
              "'Jane'"
            ]
          },
          "metadata": {
            "tags": []
          },
          "execution_count": 39
        }
      ]
    },
    {
      "cell_type": "code",
      "metadata": {
        "deletable": true,
        "editable": true,
        "id": "CtL7fBqBzuqs",
        "colab": {
          "base_uri": "https://localhost:8080/",
          "height": 35
        },
        "outputId": "a9a1a000-cff4-4aca-86c8-81c696d2e71b"
      },
      "source": [
        "# Acesse um elemento de uma sequência em um dicionário\n",
        "dict1['fav_foods'][2]"
      ],
      "execution_count": null,
      "outputs": [
        {
          "output_type": "execute_result",
          "data": {
            "application/vnd.google.colaboratory.intrinsic+json": {
              "type": "string"
            },
            "text/plain": [
              "'fish'"
            ]
          },
          "metadata": {
            "tags": []
          },
          "execution_count": 40
        }
      ]
    },
    {
      "cell_type": "code",
      "metadata": {
        "id": "6fOen5rPo4KA",
        "colab": {
          "base_uri": "https://localhost:8080/",
          "height": 180
        },
        "outputId": "b970c435-ec2f-4ecd-a3e8-a217e3843629"
      },
      "source": [
        "# Acessar um elemento inexistente gera erros\n",
        "list1[8]"
      ],
      "execution_count": null,
      "outputs": [
        {
          "output_type": "error",
          "ename": "IndexError",
          "evalue": "ignored",
          "traceback": [
            "\u001b[0;31m---------------------------------------------------------------------------\u001b[0m",
            "\u001b[0;31mIndexError\u001b[0m                                Traceback (most recent call last)",
            "\u001b[0;32m<ipython-input-41-d46288b37b4c>\u001b[0m in \u001b[0;36m<module>\u001b[0;34m()\u001b[0m\n\u001b[1;32m      1\u001b[0m \u001b[0;31m# Acessar um elemento inexistente gera erros\u001b[0m\u001b[0;34m\u001b[0m\u001b[0;34m\u001b[0m\u001b[0;34m\u001b[0m\u001b[0m\n\u001b[0;32m----> 2\u001b[0;31m \u001b[0mlist1\u001b[0m\u001b[0;34m[\u001b[0m\u001b[0;36m8\u001b[0m\u001b[0;34m]\u001b[0m\u001b[0;34m\u001b[0m\u001b[0;34m\u001b[0m\u001b[0m\n\u001b[0m",
            "\u001b[0;31mIndexError\u001b[0m: list index out of range"
          ]
        }
      ]
    },
    {
      "cell_type": "code",
      "metadata": {
        "id": "v22_Vu1-o9dq"
      },
      "source": [
        "dict1['address']"
      ],
      "execution_count": null,
      "outputs": []
    },
    {
      "cell_type": "markdown",
      "metadata": {
        "collapsed": true,
        "deletable": true,
        "editable": true,
        "id": "9WP-uJnOzutd"
      },
      "source": [
        "## Alguns métodos de listas\n",
        "\n",
        "- **`.append(item)`** adiciona um novo elemento item ao final da lista\n",
        "- **`.extend([item1, item2, ...])`** adiciona todos os elementos de uma outra lista ao final da lista\n",
        "- **`.remove(item)`** remove o elemento *item* da lista (se existir)\n",
        "- **`.pop()`** remove e retorna o ultimo element da lista\n",
        "- **`.pop(index)`** remove e retorna o elemento de indíce *index*"
      ]
    },
    {
      "cell_type": "code",
      "metadata": {
        "deletable": true,
        "editable": true,
        "id": "NJ7XfX2tzutf"
      },
      "source": [
        "list_t = []"
      ],
      "execution_count": null,
      "outputs": []
    },
    {
      "cell_type": "code",
      "metadata": {
        "deletable": true,
        "editable": true,
        "id": "-pWEmWkpzuto",
        "colab": {
          "base_uri": "https://localhost:8080/"
        },
        "outputId": "6e2f3216-ca6b-4300-c706-235a3e7343de"
      },
      "source": [
        "list_t.append(2.4)\n",
        "list_t"
      ],
      "execution_count": null,
      "outputs": [
        {
          "output_type": "execute_result",
          "data": {
            "text/plain": [
              "[2.4]"
            ]
          },
          "metadata": {
            "tags": []
          },
          "execution_count": 43
        }
      ]
    },
    {
      "cell_type": "code",
      "metadata": {
        "id": "3csUvPm-8azn",
        "colab": {
          "base_uri": "https://localhost:8080/"
        },
        "outputId": "1f78ed99-23c5-48ec-ff31-a8ffff0bdb97"
      },
      "source": [
        "list_t.extend([2.75, 2.2])\n",
        "list_t"
      ],
      "execution_count": null,
      "outputs": [
        {
          "output_type": "execute_result",
          "data": {
            "text/plain": [
              "[2.4, 2.75, 2.2]"
            ]
          },
          "metadata": {
            "tags": []
          },
          "execution_count": 44
        }
      ]
    },
    {
      "cell_type": "code",
      "metadata": {
        "id": "IR4Er7EO8DF3",
        "colab": {
          "base_uri": "https://localhost:8080/"
        },
        "outputId": "c03808e9-61d3-4eed-ec02-f367e074860a"
      },
      "source": [
        "# Se for usado append, será adicionado uma lista para a lista\n",
        "# ao invés de apenas o elemento\n",
        "list_t.append([2.75, 2.2])\n",
        "list_t"
      ],
      "execution_count": null,
      "outputs": [
        {
          "output_type": "execute_result",
          "data": {
            "text/plain": [
              "[2.4, 2.75, 2.2, [2.75, 2.2]]"
            ]
          },
          "metadata": {
            "tags": []
          },
          "execution_count": 45
        }
      ]
    },
    {
      "cell_type": "code",
      "metadata": {
        "id": "PI1x7AJi8s7Y",
        "colab": {
          "base_uri": "https://localhost:8080/"
        },
        "outputId": "4cfcb730-0cc5-4a77-eaee-1cbbaf31de54"
      },
      "source": [
        "list_t.remove(2.75)\n",
        "list_t"
      ],
      "execution_count": null,
      "outputs": [
        {
          "output_type": "execute_result",
          "data": {
            "text/plain": [
              "[2.4, 2.2, [2.75, 2.2]]"
            ]
          },
          "metadata": {
            "tags": []
          },
          "execution_count": 46
        }
      ]
    },
    {
      "cell_type": "code",
      "metadata": {
        "id": "FXhN4-NT80Cf",
        "colab": {
          "base_uri": "https://localhost:8080/"
        },
        "outputId": "004b0d4a-89bb-40d9-b1d4-0b1953d95fd1"
      },
      "source": [
        "list_t2 = list_t.pop()\n",
        "list_t, list_t2"
      ],
      "execution_count": null,
      "outputs": [
        {
          "output_type": "execute_result",
          "data": {
            "text/plain": [
              "([2.4, 2.2], [2.75, 2.2])"
            ]
          },
          "metadata": {
            "tags": []
          },
          "execution_count": 47
        }
      ]
    },
    {
      "cell_type": "markdown",
      "metadata": {
        "deletable": true,
        "editable": true,
        "id": "fRMA8ltbzut7"
      },
      "source": [
        "## Alguns métodos de dicionários\n",
        "\n",
        "- **`.update([(key1, val1), (key2, val2), ...])`** adiciona diversos pares chave/valor ao dicionário\n",
        "- **`.update(dict2)`** adiciona todos os pares chave/valor ao dicionário\n",
        "- **`.pop(key)`** remove a chave *key* e retorna o seu valor do dicionário (erro se não existir)\n",
        "- **`.pop(key, default_val)`** remove a chave *key* e retorna o seu valor do dicionário (ou retorna default_val se a chave não for encontrada, evitando o erro anterior)\n",
        "- **`.keys()`** retorna uma lista com todas as chaves do dicionário\n",
        "- **`.values()`** retorna uma lista com todos os valores do dicionário\n",
        "- **`.items()`** retorna uma view com todos os pares chave/valor do dicionario"
      ]
    },
    {
      "cell_type": "code",
      "metadata": {
        "deletable": true,
        "editable": true,
        "id": "sA4E7K2czut8"
      },
      "source": [
        "my_data = {\"name\": \"Joao\", \"age\": 23, \"institution\": \"LNCC\"}"
      ],
      "execution_count": null,
      "outputs": []
    },
    {
      "cell_type": "code",
      "metadata": {
        "deletable": true,
        "editable": true,
        "id": "UHb-GO3YzuvM"
      },
      "source": [
        "my_data.update([('occupation', 'graduate student')])"
      ],
      "execution_count": null,
      "outputs": []
    },
    {
      "cell_type": "code",
      "metadata": {
        "id": "PZHzow2tCL5w",
        "colab": {
          "base_uri": "https://localhost:8080/"
        },
        "outputId": "2af23730-0a0e-4555-b796-3632be5bfc56"
      },
      "source": [
        "my_data"
      ],
      "execution_count": null,
      "outputs": [
        {
          "output_type": "execute_result",
          "data": {
            "text/plain": [
              "{'age': 23,\n",
              " 'institution': 'LNCC',\n",
              " 'name': 'Joao',\n",
              " 'occupation': 'graduate student'}"
            ]
          },
          "metadata": {
            "tags": []
          },
          "execution_count": 50
        }
      ]
    },
    {
      "cell_type": "code",
      "metadata": {
        "id": "CktSWWtuCR8D",
        "colab": {
          "base_uri": "https://localhost:8080/"
        },
        "outputId": "78efb0d1-df6d-4bbb-f00a-d54e1e3c9993"
      },
      "source": [
        "s = my_data.pop('age')\n",
        "s"
      ],
      "execution_count": null,
      "outputs": [
        {
          "output_type": "execute_result",
          "data": {
            "text/plain": [
              "23"
            ]
          },
          "metadata": {
            "tags": []
          },
          "execution_count": 51
        }
      ]
    },
    {
      "cell_type": "code",
      "metadata": {
        "id": "wJO9us4uCXRt",
        "colab": {
          "base_uri": "https://localhost:8080/",
          "height": 180
        },
        "outputId": "95f4152d-c0f5-4310-b22f-b7f82d55b6b6"
      },
      "source": [
        "# Apos removido, ocorre um erro ao acessar esta chave\n",
        "my_data['age']"
      ],
      "execution_count": null,
      "outputs": [
        {
          "output_type": "error",
          "ename": "KeyError",
          "evalue": "ignored",
          "traceback": [
            "\u001b[0;31m---------------------------------------------------------------------------\u001b[0m",
            "\u001b[0;31mKeyError\u001b[0m                                  Traceback (most recent call last)",
            "\u001b[0;32m<ipython-input-52-6a20931ade7f>\u001b[0m in \u001b[0;36m<module>\u001b[0;34m()\u001b[0m\n\u001b[1;32m      1\u001b[0m \u001b[0;31m# Apos removido, ocorre um erro ao acessar esta chave\u001b[0m\u001b[0;34m\u001b[0m\u001b[0;34m\u001b[0m\u001b[0;34m\u001b[0m\u001b[0m\n\u001b[0;32m----> 2\u001b[0;31m \u001b[0mmy_data\u001b[0m\u001b[0;34m[\u001b[0m\u001b[0;34m'age'\u001b[0m\u001b[0;34m]\u001b[0m\u001b[0;34m\u001b[0m\u001b[0;34m\u001b[0m\u001b[0m\n\u001b[0m",
            "\u001b[0;31mKeyError\u001b[0m: 'age'"
          ]
        }
      ]
    },
    {
      "cell_type": "markdown",
      "metadata": {
        "deletable": true,
        "editable": true,
        "id": "_WN3zGG6zuqw"
      },
      "source": [
        "<hr>\n",
        "\n",
        "## Funções internas\n",
        "\n",
        "Uma **função** é um objeto Python que você pode \"chamar\" para **executar uma ação** ou calcular e **retornar outro objeto**. Você chama uma função colocando parênteses à direita do nome da função. Algumas funções permitem passar **argumentos** entre parênteses (separando vários argumentos com vírgula). Internos à função, esses argumentos são tratados como variáveis.\n",
        "\n",
        "O Python possui várias funções internas úteis para ajudá-lo a trabalhar com diferentes objetos e / ou seu ambiente. Aqui está uma pequena amostra deles:\n",
        "\n",
        "- **`type(obj)`** para determinar o tipo de um objeto\n",
        "- **`len(container)`** para determinar quantos itens estão em um container\n",
        "- **`input(opt_str)`** ler um input do teclado, podendo ter uma mensagem opcional\n",
        "\n",
        "> Lista completa de funções internas: https://docs.python.org/3/library/functions.html\n"
      ]
    },
    {
      "cell_type": "code",
      "metadata": {
        "deletable": true,
        "editable": true,
        "id": "NmLmt4Mozuq1",
        "colab": {
          "base_uri": "https://localhost:8080/"
        },
        "outputId": "1ae44848-b686-4077-edfc-2be0837da563"
      },
      "source": [
        "# Use a função type() para determinar o tipo de um objeto\n",
        "type(simple_string1)"
      ],
      "execution_count": null,
      "outputs": [
        {
          "output_type": "execute_result",
          "data": {
            "text/plain": [
              "str"
            ]
          },
          "metadata": {
            "tags": []
          },
          "execution_count": 53
        }
      ]
    },
    {
      "cell_type": "code",
      "metadata": {
        "deletable": true,
        "editable": true,
        "id": "6ttfWNz5zuq9",
        "colab": {
          "base_uri": "https://localhost:8080/"
        },
        "outputId": "982056a6-526e-4896-d740-542015fd1780"
      },
      "source": [
        "# Use a função len() para determinar quantos itens estão em um container\n",
        "len(dict1)"
      ],
      "execution_count": null,
      "outputs": [
        {
          "output_type": "execute_result",
          "data": {
            "text/plain": [
              "3"
            ]
          },
          "metadata": {
            "tags": []
          },
          "execution_count": 54
        }
      ]
    },
    {
      "cell_type": "code",
      "metadata": {
        "deletable": true,
        "editable": true,
        "id": "nQDJ1mw2zurL",
        "colab": {
          "base_uri": "https://localhost:8080/"
        },
        "outputId": "68f52d10-0d29-4064-cce4-75ea6ba127e0"
      },
      "source": [
        "# Use a função len() para determinar quantos itens estão em um container\n",
        "len(simple_string2)"
      ],
      "execution_count": null,
      "outputs": [
        {
          "output_type": "execute_result",
          "data": {
            "text/plain": [
              "8"
            ]
          },
          "metadata": {
            "tags": []
          },
          "execution_count": 55
        }
      ]
    },
    {
      "cell_type": "code",
      "metadata": {
        "id": "i80qw422DohC",
        "colab": {
          "base_uri": "https://localhost:8080/"
        },
        "outputId": "b71363c1-c838-4317-f61a-555195894469"
      },
      "source": [
        "string1 = input(\"Digite uma sequência de caracteres:\")"
      ],
      "execution_count": null,
      "outputs": [
        {
          "output_type": "stream",
          "text": [
            "Digite uma sequência de caracteres:Le\n"
          ],
          "name": "stdout"
        }
      ]
    },
    {
      "cell_type": "code",
      "metadata": {
        "id": "GxpnH_VvD0bz",
        "colab": {
          "base_uri": "https://localhost:8080/",
          "height": 35
        },
        "outputId": "27a875a1-6a78-4d21-a344-52a0904f9b00"
      },
      "source": [
        "string1"
      ],
      "execution_count": null,
      "outputs": [
        {
          "output_type": "execute_result",
          "data": {
            "application/vnd.google.colaboratory.intrinsic+json": {
              "type": "string"
            },
            "text/plain": [
              "'Le'"
            ]
          },
          "metadata": {
            "tags": []
          },
          "execution_count": 60
        }
      ]
    },
    {
      "cell_type": "markdown",
      "metadata": {
        "deletable": true,
        "editable": true,
        "id": "fipJEGfEzusU"
      },
      "source": [
        "<hr>\n",
        "\n",
        "## Casting de tipos\n",
        "O ato de fazer **casting** é o de converter uma expressão de um tipo para outro. Alguns exemplos \n",
        "\n",
        "- **`str(expr)`** converte expr em string\n",
        "- **`int(expr)`** converte expr em int\n",
        "- **`float(expr)`** converte expr em float\n",
        "\n"
      ]
    },
    {
      "cell_type": "code",
      "metadata": {
        "id": "f-G1hgmuwMtE",
        "colab": {
          "base_uri": "https://localhost:8080/",
          "height": 35
        },
        "outputId": "6f0c9bbf-f306-4ccb-d687-c0d7d43dbfd9"
      },
      "source": [
        "str(5.256)"
      ],
      "execution_count": null,
      "outputs": [
        {
          "output_type": "execute_result",
          "data": {
            "application/vnd.google.colaboratory.intrinsic+json": {
              "type": "string"
            },
            "text/plain": [
              "'5.256'"
            ]
          },
          "metadata": {
            "tags": []
          },
          "execution_count": 61
        }
      ]
    },
    {
      "cell_type": "code",
      "metadata": {
        "id": "DqiR_SRQwV5q",
        "colab": {
          "base_uri": "https://localhost:8080/"
        },
        "outputId": "26a0187e-4f52-4543-87cf-ec62afdca4d7"
      },
      "source": [
        "string3 = \"3.14\"\n",
        "float(string3)"
      ],
      "execution_count": null,
      "outputs": [
        {
          "output_type": "execute_result",
          "data": {
            "text/plain": [
              "3.14"
            ]
          },
          "metadata": {
            "tags": []
          },
          "execution_count": 62
        }
      ]
    },
    {
      "cell_type": "code",
      "metadata": {
        "id": "5lEeo2xTwP2d",
        "colab": {
          "base_uri": "https://localhost:8080/"
        },
        "outputId": "a70388e1-ef4e-4de3-ffda-fdee550dc0e2"
      },
      "source": [
        "int(5.561)"
      ],
      "execution_count": null,
      "outputs": [
        {
          "output_type": "execute_result",
          "data": {
            "text/plain": [
              "5"
            ]
          },
          "metadata": {
            "tags": []
          },
          "execution_count": 63
        }
      ]
    },
    {
      "cell_type": "code",
      "metadata": {
        "id": "cwxmiQ9Wwe9q",
        "colab": {
          "base_uri": "https://localhost:8080/",
          "height": 197
        },
        "outputId": "0a571455-c575-4117-fafe-2a7bb69fe4ed"
      },
      "source": [
        "# float e int são incapazes de converter listas\n",
        "# seria necessário fazer a conversão elemento a elemento\n",
        "float([1, 3, 4, 5])"
      ],
      "execution_count": null,
      "outputs": [
        {
          "output_type": "error",
          "ename": "TypeError",
          "evalue": "ignored",
          "traceback": [
            "\u001b[0;31m---------------------------------------------------------------------------\u001b[0m",
            "\u001b[0;31mTypeError\u001b[0m                                 Traceback (most recent call last)",
            "\u001b[0;32m<ipython-input-64-94665d09fe7d>\u001b[0m in \u001b[0;36m<module>\u001b[0;34m()\u001b[0m\n\u001b[1;32m      1\u001b[0m \u001b[0;31m# float e int são incapazes de converter listas\u001b[0m\u001b[0;34m\u001b[0m\u001b[0;34m\u001b[0m\u001b[0;34m\u001b[0m\u001b[0m\n\u001b[1;32m      2\u001b[0m \u001b[0;31m# seria necessário fazer a conversão elemento a elemento\u001b[0m\u001b[0;34m\u001b[0m\u001b[0;34m\u001b[0m\u001b[0;34m\u001b[0m\u001b[0m\n\u001b[0;32m----> 3\u001b[0;31m \u001b[0mfloat\u001b[0m\u001b[0;34m(\u001b[0m\u001b[0;34m[\u001b[0m\u001b[0;36m1\u001b[0m\u001b[0;34m,\u001b[0m \u001b[0;36m3\u001b[0m\u001b[0;34m,\u001b[0m \u001b[0;36m4\u001b[0m\u001b[0;34m,\u001b[0m \u001b[0;36m5\u001b[0m\u001b[0;34m]\u001b[0m\u001b[0;34m)\u001b[0m\u001b[0;34m\u001b[0m\u001b[0;34m\u001b[0m\u001b[0m\n\u001b[0m",
            "\u001b[0;31mTypeError\u001b[0m: float() argument must be a string or a number, not 'list'"
          ]
        }
      ]
    },
    {
      "cell_type": "code",
      "metadata": {
        "id": "ZKQj_NNbzniV",
        "colab": {
          "base_uri": "https://localhost:8080/"
        },
        "outputId": "d955e333-436d-407b-c82d-97d5367e3aed"
      },
      "source": [
        "list_t3 = [1, 3, 4, 5]\n",
        "list_t3[0] = float(list_t3[0])\n",
        "list_t3"
      ],
      "execution_count": null,
      "outputs": [
        {
          "output_type": "execute_result",
          "data": {
            "text/plain": [
              "[1.0, 3, 4, 5]"
            ]
          },
          "metadata": {
            "tags": []
          },
          "execution_count": 65
        }
      ]
    },
    {
      "cell_type": "markdown",
      "metadata": {
        "deletable": true,
        "editable": true,
        "id": "55FpaHcazu1f"
      },
      "source": [
        "## Python \"for loops\"\n",
        "\n",
        "É fácil **iterar** sobre uma coleção de itens usando um **loop `for`**. As strings, listas, tuplas e dicionários que definimos são todos objetos **iteráveis​**.\n",
        "\n",
        "O loop for percorrerá o objeto especificado, um item de cada vez, e fornecerá uma variável temporária para o item atual. Você pode usar essa variável temporária como uma variável normal.\n",
        "\n",
        "No caso de listas, é possível realizar o acesso indíce a indíce como o comando **`range`**"
      ]
    },
    {
      "cell_type": "code",
      "metadata": {
        "deletable": true,
        "editable": true,
        "id": "RJbPvNzNzu1g"
      },
      "source": [
        "my_list5 = ['abacaxi', 'maçã', 'pêssego', 387.525, 'limão']\n",
        "dict1 = {'name': 'Jane', 'age': 23, 'fav_foods': ['pizza', 'fruit', 'fish']}"
      ],
      "execution_count": null,
      "outputs": []
    },
    {
      "cell_type": "code",
      "metadata": {
        "deletable": true,
        "editable": true,
        "id": "kRRnb8AMzu1l",
        "colab": {
          "base_uri": "https://localhost:8080/"
        },
        "outputId": "1d5a8327-0ed3-47e8-9a22-fe3419ee79c1"
      },
      "source": [
        "# acesso elemento a elemento sem índice\n",
        "for element in my_list5:\n",
        "  print(element)"
      ],
      "execution_count": null,
      "outputs": [
        {
          "output_type": "stream",
          "text": [
            "abacaxi\n",
            "maçã\n",
            "pêssego\n",
            "387.525\n",
            "limão\n"
          ],
          "name": "stdout"
        }
      ]
    },
    {
      "cell_type": "code",
      "metadata": {
        "id": "QLQMupVdN0Yp",
        "colab": {
          "base_uri": "https://localhost:8080/"
        },
        "outputId": "9ce1d92a-9248-43e3-cf7c-1c2d9ed46e65"
      },
      "source": [
        "# acesso elemento a elemento com índice\n",
        "for j in range( 0, len(my_list5) ):\n",
        "  print(my_list5[j])"
      ],
      "execution_count": null,
      "outputs": [
        {
          "output_type": "stream",
          "text": [
            "abacaxi\n",
            "maçã\n",
            "pêssego\n",
            "387.525\n",
            "limão\n"
          ],
          "name": "stdout"
        }
      ]
    },
    {
      "cell_type": "code",
      "metadata": {
        "id": "-B0T77qDRWtB",
        "colab": {
          "base_uri": "https://localhost:8080/"
        },
        "outputId": "5414fcba-df70-4405-f763-e3e618703d6f"
      },
      "source": [
        "for key, value in dict1.items():\n",
        "  print(str(key) + \": \" + str(value))"
      ],
      "execution_count": null,
      "outputs": [
        {
          "output_type": "stream",
          "text": [
            "name: Jane\n",
            "age: 23\n",
            "fav_foods: ['pizza', 'fruit', 'fish']\n"
          ],
          "name": "stdout"
        }
      ]
    },
    {
      "cell_type": "markdown",
      "metadata": {
        "deletable": true,
        "editable": true,
        "id": "xKICPM9Lzu1o"
      },
      "source": [
        "## Python \"if\" e \"loops while\"\n",
        "\n",
        "O comando **`if`** permite que se teste uma condição e realiza uma série de outros comandos se esta for **True**. É possível usar dos comandos else e elif se for necessário tomar ações adicionais no caso desta condição avaliar **False**.\n",
        "\n",
        "O loop **`while`** vai continuar a repetir uma sequência de comandos até que a condição passe a ser avaliada como **False**.\n",
        "\n",
        "> OBS$_1$: É possível que um loop **`while`** execute indefinidamente se a condição avaliada nunca passa a ser **False**\n"
      ]
    },
    {
      "cell_type": "code",
      "metadata": {
        "deletable": true,
        "editable": true,
        "id": "qsT6-fvbzu1p",
        "colab": {
          "base_uri": "https://localhost:8080/"
        },
        "outputId": "2f666f18-e02d-4c4e-f5ff-a0734623b169"
      },
      "source": [
        "# Exemplo usando if, elif e else\n",
        "num = 1122\n",
        "if (9 < num < 99):\n",
        "    print(\"Two digit number\")\n",
        "elif (99 < num < 999):\n",
        "    print(\"Three digit number\")\n",
        "elif (999 < num < 9999):\n",
        "    print(\"Four digit number\")\n",
        "else:\n",
        "    print(\"number is <= 9 or >= 9999\")"
      ],
      "execution_count": null,
      "outputs": [
        {
          "output_type": "stream",
          "text": [
            "Four digit number\n"
          ],
          "name": "stdout"
        }
      ]
    },
    {
      "cell_type": "code",
      "metadata": {
        "deletable": true,
        "editable": true,
        "id": "o25qBCQ3zu1x",
        "colab": {
          "base_uri": "https://localhost:8080/"
        },
        "outputId": "a5b13da2-4fb8-409e-fbb8-2019d4e6081f"
      },
      "source": [
        "num2 = 10\n",
        "while(num2>0):\n",
        "  print(num2, end = ' ')\n",
        "  num2 += -1"
      ],
      "execution_count": null,
      "outputs": [
        {
          "output_type": "stream",
          "text": [
            "10 9 8 7 6 5 4 3 2 1 "
          ],
          "name": "stdout"
        }
      ]
    },
    {
      "cell_type": "markdown",
      "metadata": {
        "deletable": true,
        "editable": true,
        "id": "3tGRF7abzu34"
      },
      "source": [
        "## Definindo funções\n",
        "\n",
        "A definição de uma função em Python pode ser feita da seguinte forma:\n",
        "\n",
        "```python\n",
        "def function_name(arg1, arg2, ..., opt_arg1 = value1, opt_arg2 = value2, ...):\n",
        "  # Lógica da função\n",
        "\n",
        "\n",
        "  return return1, return2, ...\n",
        "```\n",
        "\n",
        "- **`function_name`**: nome da função desejada\n",
        "- **`arg1`**: nome do primeiro argumento obrigatório\n",
        "- **`arg2`**: nome do segundo argumento obrigatório\n",
        "- **`opt_arg1`**: nome do primeiro argumento opcional. Se não for especificado, o valor será o valor padrão value1\n",
        "- **`opt_arg2`**: nome do primeiro argumento opcional. Se não for especificado, o valor será o valor padrão value2\n",
        "- **`return1`**, **`return2`** são saídas retornadas ao fim da execução da função\n",
        "\n",
        "Vejamos alguns exemplos:\n"
      ]
    },
    {
      "cell_type": "code",
      "metadata": {
        "deletable": true,
        "editable": true,
        "id": "LsVOQYHdzu35"
      },
      "source": [
        "def parabola(x, a = 1, b = 0, c = 0):\n",
        "  return a * x**2 + b * x + c"
      ],
      "execution_count": null,
      "outputs": []
    },
    {
      "cell_type": "code",
      "metadata": {
        "deletable": true,
        "editable": true,
        "id": "U_9P0yidzu4A",
        "colab": {
          "base_uri": "https://localhost:8080/"
        },
        "outputId": "5c4a91c7-c9d1-40f3-dbfe-6b602675768b"
      },
      "source": [
        "parabola(2) # Usando apenas o argumento obrigatório, estaremos\n",
        "            # tratando da parábola y = 1 * x**2"
      ],
      "execution_count": null,
      "outputs": [
        {
          "output_type": "execute_result",
          "data": {
            "text/plain": [
              "4"
            ]
          },
          "metadata": {
            "tags": []
          },
          "execution_count": 73
        }
      ]
    },
    {
      "cell_type": "code",
      "metadata": {
        "id": "u9GbNS-QNZZc",
        "colab": {
          "base_uri": "https://localhost:8080/"
        },
        "outputId": "655c3fe4-8107-4694-e30b-1e2693e570fd"
      },
      "source": [
        "parabola(2, a = 1, b = 1)  # Agora, tratando da parábola com a = 1, b = 1"
      ],
      "execution_count": null,
      "outputs": [
        {
          "output_type": "execute_result",
          "data": {
            "text/plain": [
              "6"
            ]
          },
          "metadata": {
            "tags": []
          },
          "execution_count": 74
        }
      ]
    },
    {
      "cell_type": "code",
      "metadata": {
        "id": "q1pvnl_ANhld",
        "colab": {
          "base_uri": "https://localhost:8080/"
        },
        "outputId": "b9835a6f-a573-43fa-afc5-e36e3ddefe7c"
      },
      "source": [
        "parabola(2, a = 1, b = 1, c = 1)"
      ],
      "execution_count": null,
      "outputs": [
        {
          "output_type": "execute_result",
          "data": {
            "text/plain": [
              "7"
            ]
          },
          "metadata": {
            "tags": []
          },
          "execution_count": 75
        }
      ]
    },
    {
      "cell_type": "code",
      "metadata": {
        "deletable": true,
        "editable": true,
        "id": "KuOyjIdCzu2u"
      },
      "source": [
        "# Exemplo de função com múltiplos retornos\n",
        "def area_volume_cubo(lado):\n",
        "  return 6 * lado**2, lado**3"
      ],
      "execution_count": null,
      "outputs": []
    },
    {
      "cell_type": "code",
      "metadata": {
        "id": "TlVdnVGkONyQ",
        "colab": {
          "base_uri": "https://localhost:8080/"
        },
        "outputId": "4338f955-74ef-41f7-b9b9-e9e023b1af03"
      },
      "source": [
        "resp = area_volume_cubo(4)\n",
        "resp"
      ],
      "execution_count": null,
      "outputs": [
        {
          "output_type": "execute_result",
          "data": {
            "text/plain": [
              "(96, 64)"
            ]
          },
          "metadata": {
            "tags": []
          },
          "execution_count": 77
        }
      ]
    },
    {
      "cell_type": "code",
      "metadata": {
        "id": "owcyqTeqOUdN"
      },
      "source": [
        "# É possível atribuir retornos multiplos em um mesmo número variáveis distintas \n",
        "area_c, volume_c = area_volume_cubo(4)"
      ],
      "execution_count": null,
      "outputs": []
    },
    {
      "cell_type": "code",
      "metadata": {
        "id": "jO-V8SYIOjow",
        "colab": {
          "base_uri": "https://localhost:8080/"
        },
        "outputId": "e45676d3-b1bb-47ab-9455-d64795c787b3"
      },
      "source": [
        "area_c"
      ],
      "execution_count": null,
      "outputs": [
        {
          "output_type": "execute_result",
          "data": {
            "text/plain": [
              "96"
            ]
          },
          "metadata": {
            "tags": []
          },
          "execution_count": 79
        }
      ]
    },
    {
      "cell_type": "code",
      "metadata": {
        "id": "XKwSqGAVOlAs",
        "colab": {
          "base_uri": "https://localhost:8080/"
        },
        "outputId": "04123138-cfa4-4fb7-ced1-167a22f07674"
      },
      "source": [
        "volume_c"
      ],
      "execution_count": null,
      "outputs": [
        {
          "output_type": "execute_result",
          "data": {
            "text/plain": [
              "64"
            ]
          },
          "metadata": {
            "tags": []
          },
          "execution_count": 80
        }
      ]
    },
    {
      "cell_type": "markdown",
      "metadata": {
        "deletable": true,
        "editable": true,
        "id": "XtBzrJ_azu2l"
      },
      "source": [
        "## Importando módulos\n",
        "\n",
        "Existem diversos módulos disponíveis para a linguagem Python, muitas delas fundamentais para solução de problemas. A importação pode ser feita das seguintes formas:\n",
        "\n",
        "- **`import bibnome`**: Desta forma, toda as funcionalidades da biblioteca será realizadas com `bibnome.funcao(...)` \n",
        "- **`import bibnome as bib`**: Funciona da mesma maneira, mas usando o alias \n",
        " `bib.funcao(...)` \n",
        "- **`from bibnome import funcao`**: importa apenas `funcao` da biblioteca `bibnome`. Para utilizá-la, basta fazer `funcao(...)` \n",
        "\n"
      ]
    },
    {
      "cell_type": "markdown",
      "metadata": {
        "id": "E-F5kIrKmgnM"
      },
      "source": [
        "## Importando Numpy e Scipy\n",
        "\n",
        "O numpy e o scipy são bibliotecas que possuem uma série de funções e estruturas que permitem realização de cálculos científicos envolvendo matrizes e vetores, além de diversos métodos numéricos. A estrutura básica usada nos métodos é o Numpy array. A documentação de ambas as bibliotecas pode ser acessada em https://docs.scipy.org/doc/\n",
        "\n",
        "De início, vamos importar ambas as bibliotecas da seguinte forma:\n",
        "\n",
        "```python\n",
        "import numpy as np\n",
        "import scipy as sp\n",
        "```\n",
        "O uso dos alias **`np`** e **`sp`** são opcionais, mas é muito comum serem usados pela comunidade. \n",
        "\n"
      ]
    },
    {
      "cell_type": "code",
      "metadata": {
        "deletable": true,
        "editable": true,
        "id": "AfWcieybzu2n"
      },
      "source": [
        "import numpy as np\n",
        "import scipy as sp\n",
        "import scipy.linalg  # necessario para certas funcoes de Alg Lin Computacional"
      ],
      "execution_count": null,
      "outputs": []
    },
    {
      "cell_type": "markdown",
      "metadata": {
        "id": "usjGdrmkTXpB"
      },
      "source": [
        "## Numpy arrays"
      ]
    },
    {
      "cell_type": "code",
      "metadata": {
        "id": "FCP-12W9IBu8"
      },
      "source": [
        "# Exemplo de criação de vetores de duas entradas (com entradas float)\n",
        "v = np.array([1., 2.])"
      ],
      "execution_count": null,
      "outputs": []
    },
    {
      "cell_type": "code",
      "metadata": {
        "id": "DykKR75VNZkA",
        "colab": {
          "base_uri": "https://localhost:8080/"
        },
        "outputId": "a568581a-6070-4ddb-8c49-0755e6d90296"
      },
      "source": [
        "v"
      ],
      "execution_count": null,
      "outputs": [
        {
          "output_type": "execute_result",
          "data": {
            "text/plain": [
              "array([1., 2.])"
            ]
          },
          "metadata": {
            "tags": []
          },
          "execution_count": 130
        }
      ]
    },
    {
      "cell_type": "code",
      "metadata": {
        "id": "akixJ3tgNEqz"
      },
      "source": [
        "# Exemplo de criação de uma matriz 2x2 (com entradas float)\n",
        "A = np.array(\n",
        "    [[2, -0.5],[-0.5, 2]]\n",
        ")"
      ],
      "execution_count": null,
      "outputs": []
    },
    {
      "cell_type": "code",
      "metadata": {
        "id": "ohddJNwyNb3U",
        "colab": {
          "base_uri": "https://localhost:8080/"
        },
        "outputId": "2bda15be-76aa-4a99-a3e7-f7e53ee4ebe1"
      },
      "source": [
        "A"
      ],
      "execution_count": null,
      "outputs": [
        {
          "output_type": "execute_result",
          "data": {
            "text/plain": [
              "array([[ 2. , -0.5],\n",
              "       [-0.5,  2. ]])"
            ]
          },
          "metadata": {
            "tags": []
          },
          "execution_count": 132
        }
      ]
    },
    {
      "cell_type": "markdown",
      "metadata": {
        "id": "PL3JODJFNAEV"
      },
      "source": [
        "Além de criar Numpy arrays informando uma lista, existem funções da próprio biblioteca para criá-los. Algumas delas são:\n",
        "\n",
        "- **`zeros( (dim1, dim2,...) )`**: cria um Numpy array de dimensão da tupla (dim1, dim2, ...) com 0's em todas as entradas.\n",
        "- **`ones(dim)`**: cria um Numpy array de dimensão da tupla (dim1, dim2, ...) com 1's todas as entradas.\n",
        "- **`eye(dim)`**: cria um Numpy array sendo uma matriz identidade de dimensão dim x dim.\n",
        "- **`linspace(a, b, npts)`**: cria um Numpy array (1D, vetor) onde cada entrada são **npts** pontos igualmente espaçados entre **a** e **b**. Muito usado para gerar *grids*.\n",
        "\n",
        "\n",
        "- **`random.rand(dim1, dim2, ...)`**: cria um Numpy array aleatório (distribuição uniforme no intervalo [0, 1]) com dimensões dim1 x dim2 x ...\n"
      ]
    },
    {
      "cell_type": "code",
      "metadata": {
        "id": "rGS_gUB97xii"
      },
      "source": [
        "z = np.zeros((2,2))"
      ],
      "execution_count": null,
      "outputs": []
    },
    {
      "cell_type": "code",
      "metadata": {
        "colab": {
          "base_uri": "https://localhost:8080/"
        },
        "id": "iFQiWxdu72Qb",
        "outputId": "53f264a4-2ccb-458b-9220-e95c1ea02dff"
      },
      "source": [
        "z"
      ],
      "execution_count": null,
      "outputs": [
        {
          "output_type": "execute_result",
          "data": {
            "text/plain": [
              "array([[0., 0.],\n",
              "       [0., 0.]])"
            ]
          },
          "metadata": {
            "tags": []
          },
          "execution_count": 134
        }
      ]
    },
    {
      "cell_type": "code",
      "metadata": {
        "id": "l8NIXEts74DA"
      },
      "source": [
        "Idt = np.eye(2)"
      ],
      "execution_count": null,
      "outputs": []
    },
    {
      "cell_type": "code",
      "metadata": {
        "colab": {
          "base_uri": "https://localhost:8080/"
        },
        "id": "ETyAF9uW79Aw",
        "outputId": "e827cf17-b8e3-46df-a467-5a67b4b9b61b"
      },
      "source": [
        "Idt"
      ],
      "execution_count": null,
      "outputs": [
        {
          "output_type": "execute_result",
          "data": {
            "text/plain": [
              "array([[1., 0.],\n",
              "       [0., 1.]])"
            ]
          },
          "metadata": {
            "tags": []
          },
          "execution_count": 136
        }
      ]
    },
    {
      "cell_type": "code",
      "metadata": {
        "id": "BBrhkrnbM63D"
      },
      "source": [
        "w = np.random.rand(2)"
      ],
      "execution_count": null,
      "outputs": []
    },
    {
      "cell_type": "code",
      "metadata": {
        "id": "xPUtbMTpa2rw",
        "colab": {
          "base_uri": "https://localhost:8080/"
        },
        "outputId": "f25958cb-f499-4c00-9398-daecd0d1c602"
      },
      "source": [
        "w"
      ],
      "execution_count": null,
      "outputs": [
        {
          "output_type": "execute_result",
          "data": {
            "text/plain": [
              "array([0.22397968, 0.0009587 ])"
            ]
          },
          "metadata": {
            "tags": []
          },
          "execution_count": 138
        }
      ]
    },
    {
      "cell_type": "code",
      "metadata": {
        "id": "BIZrXzX1tKIr"
      },
      "source": [
        "xg = np.linspace(-1, 1, 8)"
      ],
      "execution_count": null,
      "outputs": []
    },
    {
      "cell_type": "code",
      "metadata": {
        "id": "SN_dnjDqtQZb",
        "colab": {
          "base_uri": "https://localhost:8080/"
        },
        "outputId": "9fa2737f-7dc6-499d-deb4-09cdfc83dcbd"
      },
      "source": [
        "xg"
      ],
      "execution_count": null,
      "outputs": [
        {
          "output_type": "execute_result",
          "data": {
            "text/plain": [
              "array([-1.        , -0.71428571, -0.42857143, -0.14285714,  0.14285714,\n",
              "        0.42857143,  0.71428571,  1.        ])"
            ]
          },
          "metadata": {
            "tags": []
          },
          "execution_count": 140
        }
      ]
    },
    {
      "cell_type": "markdown",
      "metadata": {
        "id": "Gt5d8W9jITTs"
      },
      "source": [
        "Numpy arrays possuem **operadores** definidos, que podem ser operados entre  2\n",
        "Numpy arrays ou entre um Numpy array e um número\n",
        "\n",
        "- operadores \n",
        "  - **`+`** (adição)\n",
        "  - **`-`** (subtração)\n",
        "  - **`*`** (multiplicação; *elementwise*)\n",
        "  - **`/`** (divisão; *elementwise*)\n",
        "  - __`**`__ (potenciação; *elementwise*)\n",
        "  - `@` (multiplicação matricial, produto interno)"
      ]
    },
    {
      "cell_type": "code",
      "metadata": {
        "id": "xFTUE6mDIQAq",
        "colab": {
          "base_uri": "https://localhost:8080/"
        },
        "outputId": "e887f581-4f2a-4879-bb61-cadd2c9ab5f1"
      },
      "source": [
        "# Adição/subtração\n",
        "v + v"
      ],
      "execution_count": null,
      "outputs": [
        {
          "output_type": "execute_result",
          "data": {
            "text/plain": [
              "array([2., 4.])"
            ]
          },
          "metadata": {
            "tags": []
          },
          "execution_count": 141
        }
      ]
    },
    {
      "cell_type": "code",
      "metadata": {
        "id": "MPxiAuyXMN_g",
        "colab": {
          "base_uri": "https://localhost:8080/"
        },
        "outputId": "a3a43557-3db2-40e0-9958-c846c22f47b8"
      },
      "source": [
        "v - 3"
      ],
      "execution_count": null,
      "outputs": [
        {
          "output_type": "execute_result",
          "data": {
            "text/plain": [
              "array([-2., -1.])"
            ]
          },
          "metadata": {
            "tags": []
          },
          "execution_count": 142
        }
      ]
    },
    {
      "cell_type": "code",
      "metadata": {
        "id": "3LotnfEdMPsT",
        "colab": {
          "base_uri": "https://localhost:8080/"
        },
        "outputId": "5c87b4d5-31ef-433e-8222-c8d833c42386"
      },
      "source": [
        "# Multiplicação (por escalar)\n",
        "v * 2"
      ],
      "execution_count": null,
      "outputs": [
        {
          "output_type": "execute_result",
          "data": {
            "text/plain": [
              "array([2., 4.])"
            ]
          },
          "metadata": {
            "tags": []
          },
          "execution_count": 143
        }
      ]
    },
    {
      "cell_type": "code",
      "metadata": {
        "id": "aOaayb24siG-",
        "colab": {
          "base_uri": "https://localhost:8080/"
        },
        "outputId": "d3c1fcad-23ee-4757-ef47-3ccae353d0e7"
      },
      "source": [
        "# Multiplicação (elementwise, vetor-vetor)\n",
        "v * v"
      ],
      "execution_count": null,
      "outputs": [
        {
          "output_type": "execute_result",
          "data": {
            "text/plain": [
              "array([1., 4.])"
            ]
          },
          "metadata": {
            "tags": []
          },
          "execution_count": 144
        }
      ]
    },
    {
      "cell_type": "code",
      "metadata": {
        "id": "F66hPxLktaWz",
        "colab": {
          "base_uri": "https://localhost:8080/"
        },
        "outputId": "8e5cd82d-4aa5-44e5-a510-e145824cfb3a"
      },
      "source": [
        "# Multiplicação (elementwise, matriz-vetor)\n",
        "A * v"
      ],
      "execution_count": null,
      "outputs": [
        {
          "output_type": "execute_result",
          "data": {
            "text/plain": [
              "array([[ 2. , -1. ],\n",
              "       [-0.5,  4. ]])"
            ]
          },
          "metadata": {
            "tags": []
          },
          "execution_count": 145
        }
      ]
    },
    {
      "cell_type": "code",
      "metadata": {
        "id": "kur-K7Sgv6AM",
        "colab": {
          "base_uri": "https://localhost:8080/"
        },
        "outputId": "995871a2-cc06-491b-a1b7-82f0efa44129"
      },
      "source": [
        "# Divisão (escalar)\n",
        "1 / A"
      ],
      "execution_count": null,
      "outputs": [
        {
          "output_type": "execute_result",
          "data": {
            "text/plain": [
              "array([[ 0.5, -2. ],\n",
              "       [-2. ,  0.5]])"
            ]
          },
          "metadata": {
            "tags": []
          },
          "execution_count": 146
        }
      ]
    },
    {
      "cell_type": "code",
      "metadata": {
        "id": "VKg08h5Xv8gN",
        "colab": {
          "base_uri": "https://localhost:8080/"
        },
        "outputId": "bc4ca545-7470-4712-9527-6e967cede97e"
      },
      "source": [
        "# Potenciação (elementwise, vetor)\n",
        "v**2"
      ],
      "execution_count": null,
      "outputs": [
        {
          "output_type": "execute_result",
          "data": {
            "text/plain": [
              "array([1., 4.])"
            ]
          },
          "metadata": {
            "tags": []
          },
          "execution_count": 147
        }
      ]
    },
    {
      "cell_type": "code",
      "metadata": {
        "id": "a2aaHrGDtiqP",
        "colab": {
          "base_uri": "https://localhost:8080/"
        },
        "outputId": "72f0a735-637a-44c1-a237-4925879c697e"
      },
      "source": [
        "# Potenciação (elementwise, matriz)\n",
        "A**2"
      ],
      "execution_count": null,
      "outputs": [
        {
          "output_type": "execute_result",
          "data": {
            "text/plain": [
              "array([[4.  , 0.25],\n",
              "       [0.25, 4.  ]])"
            ]
          },
          "metadata": {
            "tags": []
          },
          "execution_count": 148
        }
      ]
    },
    {
      "cell_type": "code",
      "metadata": {
        "id": "tz9K_pNks5ri",
        "colab": {
          "base_uri": "https://localhost:8080/"
        },
        "outputId": "8421ca6b-38d1-4077-fc20-66135165f513"
      },
      "source": [
        "# Potenciação (elementwise, matriz)\n",
        "\n",
        "# Atenção, isso não inverte a matriz A!\n",
        "# É o mesmo que 1/A !\n",
        "\n",
        "A**(-1)"
      ],
      "execution_count": null,
      "outputs": [
        {
          "output_type": "execute_result",
          "data": {
            "text/plain": [
              "array([[ 0.5, -2. ],\n",
              "       [-2. ,  0.5]])"
            ]
          },
          "metadata": {
            "tags": []
          },
          "execution_count": 149
        }
      ]
    },
    {
      "cell_type": "code",
      "metadata": {
        "id": "zDDD-npV2_RE",
        "colab": {
          "base_uri": "https://localhost:8080/"
        },
        "outputId": "47d878e1-4dbb-4627-ae87-70dc6d43e97c"
      },
      "source": [
        "# Multiplicacao matricial/produto interno\n",
        "# (vetor - vetor) \n",
        "v @ v"
      ],
      "execution_count": null,
      "outputs": [
        {
          "output_type": "execute_result",
          "data": {
            "text/plain": [
              "5.0"
            ]
          },
          "metadata": {
            "tags": []
          },
          "execution_count": 150
        }
      ]
    },
    {
      "cell_type": "code",
      "metadata": {
        "id": "3BkHKgh6xzf1",
        "colab": {
          "base_uri": "https://localhost:8080/"
        },
        "outputId": "d7b528af-447f-4c68-834c-4dfd4620549a"
      },
      "source": [
        "# Multiplicacao matricial/produto interno\n",
        "# (matriz-vetor)\n",
        "A @ v"
      ],
      "execution_count": null,
      "outputs": [
        {
          "output_type": "execute_result",
          "data": {
            "text/plain": [
              "array([1. , 3.5])"
            ]
          },
          "metadata": {
            "tags": []
          },
          "execution_count": 151
        }
      ]
    },
    {
      "cell_type": "code",
      "metadata": {
        "id": "g_baV-qj1LNe",
        "colab": {
          "base_uri": "https://localhost:8080/"
        },
        "outputId": "f311e450-d875-4c76-8ad8-ff0a718a1c49"
      },
      "source": [
        "# Multiplicao matricial\n",
        "# (matriz - matriz) \n",
        "A @ A"
      ],
      "execution_count": null,
      "outputs": [
        {
          "output_type": "execute_result",
          "data": {
            "text/plain": [
              "array([[ 4.25, -2.  ],\n",
              "       [-2.  ,  4.25]])"
            ]
          },
          "metadata": {
            "tags": []
          },
          "execution_count": 152
        }
      ]
    },
    {
      "cell_type": "markdown",
      "metadata": {
        "id": "uWipGMJFVV9h"
      },
      "source": [
        "## Acesso e modificação de Numpy arrays\n",
        "\n",
        "O acesso individual a um elemento de um Numpy array pode ser feito da mesma forma que em listas nativas da linguagem Python. Além disso, usando fateamento, somos capazes de obter trechos específicos de interesse como uma coluna ou uma linha de uma matriz."
      ]
    },
    {
      "cell_type": "code",
      "metadata": {
        "colab": {
          "base_uri": "https://localhost:8080/"
        },
        "id": "QImBlKx9V28W",
        "outputId": "0a94c63c-f4c2-4245-a553-db458de3abfa"
      },
      "source": [
        "A"
      ],
      "execution_count": null,
      "outputs": [
        {
          "output_type": "execute_result",
          "data": {
            "text/plain": [
              "array([[ 2. , -0.5],\n",
              "       [-0.5,  2. ]])"
            ]
          },
          "metadata": {
            "tags": []
          },
          "execution_count": 153
        }
      ]
    },
    {
      "cell_type": "code",
      "metadata": {
        "colab": {
          "base_uri": "https://localhost:8080/"
        },
        "id": "4x5OSP4zWLY7",
        "outputId": "2bb28552-f64f-4af0-f4a0-9ea5ec2eee1d"
      },
      "source": [
        "# Acesso de um elemento de um Numpy array\n",
        "A[0][1]"
      ],
      "execution_count": null,
      "outputs": [
        {
          "output_type": "execute_result",
          "data": {
            "text/plain": [
              "-0.5"
            ]
          },
          "metadata": {
            "tags": []
          },
          "execution_count": 154
        }
      ]
    },
    {
      "cell_type": "code",
      "metadata": {
        "colab": {
          "base_uri": "https://localhost:8080/"
        },
        "id": "AzHMYnShWNBz",
        "outputId": "b7bd6083-38d5-4935-c758-69026c04d1e4"
      },
      "source": [
        "# Forma alternativa de acesso a um elemento de um Numpy array\n",
        "A[0,1]"
      ],
      "execution_count": null,
      "outputs": [
        {
          "output_type": "execute_result",
          "data": {
            "text/plain": [
              "-0.5"
            ]
          },
          "metadata": {
            "tags": []
          },
          "execution_count": 155
        }
      ]
    },
    {
      "cell_type": "code",
      "metadata": {
        "id": "oiLyKqrCWTET"
      },
      "source": [
        "# Alteracao de um elemento de um Numpy array\n",
        "A[0,1] = -1"
      ],
      "execution_count": null,
      "outputs": []
    },
    {
      "cell_type": "code",
      "metadata": {
        "colab": {
          "base_uri": "https://localhost:8080/"
        },
        "id": "n1OCRL9yWbcD",
        "outputId": "7ba30819-8d17-4826-d63f-d277d07f7356"
      },
      "source": [
        "A"
      ],
      "execution_count": null,
      "outputs": [
        {
          "output_type": "execute_result",
          "data": {
            "text/plain": [
              "array([[ 2. , -1. ],\n",
              "       [-0.5,  2. ]])"
            ]
          },
          "metadata": {
            "tags": []
          },
          "execution_count": 157
        }
      ]
    },
    {
      "cell_type": "code",
      "metadata": {
        "colab": {
          "base_uri": "https://localhost:8080/"
        },
        "id": "PEk-1BMjWcmJ",
        "outputId": "e4d5cfee-3674-4cc3-91c1-d689a0147df5"
      },
      "source": [
        "# Acessando a primeira coluna de um Numpy array\n",
        "A[:, 0]"
      ],
      "execution_count": null,
      "outputs": [
        {
          "output_type": "execute_result",
          "data": {
            "text/plain": [
              "array([ 2. , -0.5])"
            ]
          },
          "metadata": {
            "tags": []
          },
          "execution_count": 158
        }
      ]
    },
    {
      "cell_type": "code",
      "metadata": {
        "colab": {
          "base_uri": "https://localhost:8080/"
        },
        "id": "CwRAfYCRWmB6",
        "outputId": "38afb931-cbd4-4a08-ac5a-0ec38c6b5943"
      },
      "source": [
        "# Acessando a segunda linha de um Numpy array\n",
        "A[1, :]"
      ],
      "execution_count": null,
      "outputs": [
        {
          "output_type": "execute_result",
          "data": {
            "text/plain": [
              "array([-0.5,  2. ])"
            ]
          },
          "metadata": {
            "tags": []
          },
          "execution_count": 159
        }
      ]
    },
    {
      "cell_type": "code",
      "metadata": {
        "id": "rZPDl-6CWqPm"
      },
      "source": [
        "# Alterando a segunda linha de um Numpy array para uma outra de dimensão compativel\n",
        "A[1, :] = np.array([7, 10])"
      ],
      "execution_count": null,
      "outputs": []
    },
    {
      "cell_type": "code",
      "metadata": {
        "id": "1QFucJS1Wzzj",
        "colab": {
          "base_uri": "https://localhost:8080/"
        },
        "outputId": "b148b285-37b7-4932-d044-6fcc53f75d14"
      },
      "source": [
        "A"
      ],
      "execution_count": null,
      "outputs": [
        {
          "output_type": "execute_result",
          "data": {
            "text/plain": [
              "array([[ 2., -1.],\n",
              "       [ 7., 10.]])"
            ]
          },
          "metadata": {
            "tags": []
          },
          "execution_count": 161
        }
      ]
    },
    {
      "cell_type": "markdown",
      "metadata": {
        "id": "VBOjDjUfAhPD"
      },
      "source": [
        "Também somos capazes de obter as dimensões de um Numpy array usando o atributo **``shape``**. É retornada uma tupla com estas informações."
      ]
    },
    {
      "cell_type": "code",
      "metadata": {
        "colab": {
          "base_uri": "https://localhost:8080/"
        },
        "id": "ia9Cvh5xAqRo",
        "outputId": "12d30bb7-2a04-41f4-e771-62803dfee068"
      },
      "source": [
        "v.shape  "
      ],
      "execution_count": null,
      "outputs": [
        {
          "output_type": "execute_result",
          "data": {
            "text/plain": [
              "(2,)"
            ]
          },
          "metadata": {
            "tags": []
          },
          "execution_count": 162
        }
      ]
    },
    {
      "cell_type": "code",
      "metadata": {
        "colab": {
          "base_uri": "https://localhost:8080/"
        },
        "id": "lN5IvEnJBOjR",
        "outputId": "66846985-3501-4175-862a-3ef9b5fc49f7"
      },
      "source": [
        "A.shape"
      ],
      "execution_count": null,
      "outputs": [
        {
          "output_type": "execute_result",
          "data": {
            "text/plain": [
              "(2, 2)"
            ]
          },
          "metadata": {
            "tags": []
          },
          "execution_count": 163
        }
      ]
    },
    {
      "cell_type": "code",
      "metadata": {
        "colab": {
          "base_uri": "https://localhost:8080/"
        },
        "id": "YYcW2v-OBhX_",
        "outputId": "7c12b516-6713-4113-e4f1-8cd733de6324"
      },
      "source": [
        "# Conta arbitraria: soma entre numero de linhas e colunas\n",
        "A.shape[0] + A.shape[1]  "
      ],
      "execution_count": null,
      "outputs": [
        {
          "output_type": "execute_result",
          "data": {
            "text/plain": [
              "4"
            ]
          },
          "metadata": {
            "tags": []
          },
          "execution_count": 182
        }
      ]
    },
    {
      "cell_type": "markdown",
      "metadata": {
        "id": "p0Q3PMSv61dZ"
      },
      "source": [
        "## Funções matemáticas e auxiliares (Numpy)\n",
        "\n",
        "Existe uma série de funções matemáticas presentes em ambas as bibliotecas que operam sobre números (**int**, **float**, **complex**)  e Numpy arrays. Alguns exemplos:\n",
        "\n",
        "- **`cos(np_arr)`**: calcula o cosseno *elementwise* de um Numpy array **np_arr**\n",
        "- **`exp(np_arr)`**: calcula a função exponencial *elementwise* de um Numpy array **np_arr**\n",
        "- **`sqrt(np_arr)`**: calcula a raiz quadrada *elementwise* de um Numpy array **np_arr**\n",
        "- **`around(np_arr, decimals = d)`**: arredonda todos os elementos de um Numpy array **np_arr** até **d** (int) casas decimais (também funciona com apenas um número)\n",
        "- **`clip(np_arr, low, high)`**: faz com que todos os elementos de um Numpy array **np_arr** menores que o número **low** passem a assumir este valor e números maiores que **high** passem a assumir este valor (também funciona apenas com um número)\n",
        "\n",
        "\n",
        "\n",
        "Outras diversas funções podem ser consultadas https://docs.scipy.org/doc/numpy-1.13.0/reference/routines.math.html"
      ]
    },
    {
      "cell_type": "code",
      "metadata": {
        "id": "TA4sMz3euE5R",
        "colab": {
          "base_uri": "https://localhost:8080/"
        },
        "outputId": "f2d0b554-0b68-4482-c004-ef5ffb8af516"
      },
      "source": [
        "xg"
      ],
      "execution_count": null,
      "outputs": [
        {
          "output_type": "execute_result",
          "data": {
            "text/plain": [
              "array([-1.        , -0.71428571, -0.42857143, -0.14285714,  0.14285714,\n",
              "        0.42857143,  0.71428571,  1.        ])"
            ]
          },
          "metadata": {
            "tags": []
          },
          "execution_count": 165
        }
      ]
    },
    {
      "cell_type": "code",
      "metadata": {
        "id": "4LT55alq68UL",
        "colab": {
          "base_uri": "https://localhost:8080/"
        },
        "outputId": "b10c4333-31b1-4cea-ed33-40c5ac1ef39a"
      },
      "source": [
        "np.cos(xg)"
      ],
      "execution_count": null,
      "outputs": [
        {
          "output_type": "execute_result",
          "data": {
            "text/plain": [
              "array([0.54030231, 0.75556135, 0.90956035, 0.98981326, 0.98981326,\n",
              "       0.90956035, 0.75556135, 0.54030231])"
            ]
          },
          "metadata": {
            "tags": []
          },
          "execution_count": 166
        }
      ]
    },
    {
      "cell_type": "code",
      "metadata": {
        "id": "CCh-GYlp9Q8n",
        "colab": {
          "base_uri": "https://localhost:8080/"
        },
        "outputId": "d53f2b96-68cf-4f52-dfaf-3efe3436a702"
      },
      "source": [
        "# Tirar raiz quadrada de número real negativa gera um float\n",
        "# nan (not a number)\n",
        "np.sqrt(xg)"
      ],
      "execution_count": null,
      "outputs": [
        {
          "output_type": "stream",
          "text": [
            "/usr/local/lib/python3.7/dist-packages/ipykernel_launcher.py:3: RuntimeWarning: invalid value encountered in sqrt\n",
            "  This is separate from the ipykernel package so we can avoid doing imports until\n"
          ],
          "name": "stderr"
        },
        {
          "output_type": "execute_result",
          "data": {
            "text/plain": [
              "array([       nan,        nan,        nan,        nan, 0.37796447,\n",
              "       0.65465367, 0.84515425, 1.        ])"
            ]
          },
          "metadata": {
            "tags": []
          },
          "execution_count": 167
        }
      ]
    },
    {
      "cell_type": "code",
      "metadata": {
        "id": "aEvRPJZ4qXpq",
        "colab": {
          "base_uri": "https://localhost:8080/"
        },
        "outputId": "65a25efa-8832-4bd1-b0df-185428af5440"
      },
      "source": [
        "# Convertendo todas as entradas para o tipo complex\n",
        "# Casting é feito com o comando astype\n",
        "xg_c = xg.astype(complex)\n",
        "xg_c"
      ],
      "execution_count": null,
      "outputs": [
        {
          "output_type": "execute_result",
          "data": {
            "text/plain": [
              "array([-1.        +0.j, -0.71428571+0.j, -0.42857143+0.j, -0.14285714+0.j,\n",
              "        0.14285714+0.j,  0.42857143+0.j,  0.71428571+0.j,  1.        +0.j])"
            ]
          },
          "metadata": {
            "tags": []
          },
          "execution_count": 168
        }
      ]
    },
    {
      "cell_type": "code",
      "metadata": {
        "id": "QDXTp7LquW2R",
        "colab": {
          "base_uri": "https://localhost:8080/"
        },
        "outputId": "f89050dc-b9aa-4f1c-de4c-b1438ef0f264"
      },
      "source": [
        "# Um Numpy array com entradas complexas não há este problema\n",
        "np.sqrt(xg_c)"
      ],
      "execution_count": null,
      "outputs": [
        {
          "output_type": "execute_result",
          "data": {
            "text/plain": [
              "array([0.        +1.j        , 0.        +0.84515425j,\n",
              "       0.        +0.65465367j, 0.        +0.37796447j,\n",
              "       0.37796447+0.j        , 0.65465367+0.j        ,\n",
              "       0.84515425+0.j        , 1.        +0.j        ])"
            ]
          },
          "metadata": {
            "tags": []
          },
          "execution_count": 169
        }
      ]
    },
    {
      "cell_type": "code",
      "metadata": {
        "id": "fJyiahAswJEy",
        "colab": {
          "base_uri": "https://localhost:8080/"
        },
        "outputId": "f1923549-76bd-4f4f-d1d6-57616f5662f7"
      },
      "source": [
        "np.around(xg, decimals = 3)"
      ],
      "execution_count": null,
      "outputs": [
        {
          "output_type": "execute_result",
          "data": {
            "text/plain": [
              "array([-1.   , -0.714, -0.429, -0.143,  0.143,  0.429,  0.714,  1.   ])"
            ]
          },
          "metadata": {
            "tags": []
          },
          "execution_count": 170
        }
      ]
    },
    {
      "cell_type": "code",
      "metadata": {
        "id": "uKFGYwdFta35",
        "colab": {
          "base_uri": "https://localhost:8080/"
        },
        "outputId": "043e101a-6455-4fc6-a875-791fa2a8110e"
      },
      "source": [
        "# Numpy array, entradas distribuidas uniformemente em [0,5]\n",
        "xt = np.random.rand(5) * 5\n",
        "xt "
      ],
      "execution_count": null,
      "outputs": [
        {
          "output_type": "execute_result",
          "data": {
            "text/plain": [
              "array([2.17465736, 4.43901217, 2.76187391, 0.12562413, 3.89799516])"
            ]
          },
          "metadata": {
            "tags": []
          },
          "execution_count": 171
        }
      ]
    },
    {
      "cell_type": "code",
      "metadata": {
        "id": "xslsF_E-tv31",
        "colab": {
          "base_uri": "https://localhost:8080/"
        },
        "outputId": "e14dfe16-8cba-4bae-d9fe-6b0ae6683658"
      },
      "source": [
        "np.clip(xt, 2, 4)"
      ],
      "execution_count": null,
      "outputs": [
        {
          "output_type": "execute_result",
          "data": {
            "text/plain": [
              "array([2.17465736, 4.        , 2.76187391, 2.        , 3.89799516])"
            ]
          },
          "metadata": {
            "tags": []
          },
          "execution_count": 172
        }
      ]
    },
    {
      "cell_type": "markdown",
      "metadata": {
        "id": "-grdvFGlAcCK"
      },
      "source": [
        "## Funções matemáticas e auxiliares (Scipy.linalg)\n",
        "\n",
        "- **`norm(np_arr)`**: calcula a norma de um Numpy array **np_arr**.\n",
        "- **`det(np_arr)`**: calcula o determinante de um Numpy array **np_arr**\n",
        "- **`eig(np_arr)`**: calcula os autovalores e autovetores de um Numpy array **np_arr**, retornando uma tupla em que o primeiro elemento são os autovalores e o segundo elemento os respectivos autovetores.   \n",
        "\n",
        "Outras diversas funções podem ser consultadas https://docs.scipy.org/doc/numpy-1.13.0/reference/routines.math.html"
      ]
    },
    {
      "cell_type": "code",
      "metadata": {
        "id": "xgNwVzi-CORP"
      },
      "source": [
        "r = np.array([2, -4])"
      ],
      "execution_count": null,
      "outputs": []
    },
    {
      "cell_type": "code",
      "metadata": {
        "colab": {
          "base_uri": "https://localhost:8080/"
        },
        "id": "y3g7jVfKCY1Y",
        "outputId": "4a602c2a-2240-42ac-be8c-0b0170e55894"
      },
      "source": [
        "sp.linalg.norm(r)"
      ],
      "execution_count": null,
      "outputs": [
        {
          "output_type": "execute_result",
          "data": {
            "text/plain": [
              "4.47213595499958"
            ]
          },
          "metadata": {
            "tags": []
          },
          "execution_count": 180
        }
      ]
    },
    {
      "cell_type": "code",
      "metadata": {
        "id": "m7JWYtgJCFDC"
      },
      "source": [
        "B = np.array([[4, 0],\n",
        "              [2, -1]])"
      ],
      "execution_count": null,
      "outputs": []
    },
    {
      "cell_type": "code",
      "metadata": {
        "colab": {
          "base_uri": "https://localhost:8080/"
        },
        "id": "9wEowspU8uF9",
        "outputId": "5c068282-17a6-4ef6-ede4-0fda840edf51"
      },
      "source": [
        "sp.linalg.det(B)"
      ],
      "execution_count": null,
      "outputs": [
        {
          "output_type": "execute_result",
          "data": {
            "text/plain": [
              "-4.0"
            ]
          },
          "metadata": {
            "tags": []
          },
          "execution_count": 175
        }
      ]
    },
    {
      "cell_type": "code",
      "metadata": {
        "colab": {
          "base_uri": "https://localhost:8080/"
        },
        "id": "KilIXcmeC3Nh",
        "outputId": "c2bd6f9a-b056-440c-c497-84d2be138b58"
      },
      "source": [
        "sp.linalg.eig(B)"
      ],
      "execution_count": null,
      "outputs": [
        {
          "output_type": "execute_result",
          "data": {
            "text/plain": [
              "(array([-1.+0.j,  4.+0.j]), array([[0.        , 0.92847669],\n",
              "        [1.        , 0.37139068]]))"
            ]
          },
          "metadata": {
            "tags": []
          },
          "execution_count": 181
        }
      ]
    },
    {
      "cell_type": "markdown",
      "metadata": {
        "id": "PQ3zPA9xBODO"
      },
      "source": [
        "## Exercícios para fixação\n",
        "\n",
        "1) Desenvolva uma função em Python para calcular toda sequência de Fibonacci até o n-ésimo termo, armazenando todos os termos calculados em uma lista."
      ]
    },
    {
      "cell_type": "code",
      "metadata": {
        "id": "g7R3iohaAThp"
      },
      "source": [
        "# possível protótipo de função\n",
        "def fib(n):\n",
        "  \"\"\" Retorna uma lista com os n primeiros termos da sequência\n",
        "  de fibonacci\n",
        "  int -> list \"\"\"\n",
        "\n",
        "  # Aqui segue seu código"
      ],
      "execution_count": null,
      "outputs": []
    },
    {
      "cell_type": "markdown",
      "metadata": {
        "id": "jVVpIDs2B0Wp"
      },
      "source": [
        "2) Desenvolva uma função em Python para receber dois vetores $v$ e $w$ (Numpy arrays) e retorne o cosseno do ângulo que estes formam. \n",
        "\n",
        "Dica: Use a relação do produto interno (algébrico e geométrico):\n",
        "$$ v \\cdot w = ||v|| ||w|| \\cos({\\theta})$$\n",
        "no qual $\\theta$ é o ângulo formado por estes dois vetores.\n",
        "\n",
        "Dica2: Use que\n",
        "$$||v|| = \\sqrt{v \\cdot v}, \\quad ||w|| = \\sqrt{w \\cdot w}$$ \n",
        "ou use a função **``sp.linalg.norm``**."
      ]
    },
    {
      "cell_type": "code",
      "metadata": {
        "id": "-gy3hP4jBxaC"
      },
      "source": [
        "# possível protótipo de função\n",
        "def cos_vet(v, w):\n",
        "  \"\"\" Calcula o produto interno entre dois numpy arrays de dimensões compatíveis\n",
        "  numpy array, numpy array -> float \"\"\"\n",
        "\n",
        "  # Aqui segue seu código"
      ],
      "execution_count": null,
      "outputs": []
    },
    {
      "cell_type": "code",
      "metadata": {
        "id": "0hdilromszRN"
      },
      "source": [
        ""
      ],
      "execution_count": null,
      "outputs": []
    }
  ]
}