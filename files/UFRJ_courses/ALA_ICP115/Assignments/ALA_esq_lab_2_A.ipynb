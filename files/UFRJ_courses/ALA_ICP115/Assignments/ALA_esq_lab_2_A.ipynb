{
  "nbformat": 4,
  "nbformat_minor": 0,
  "metadata": {
    "kernelspec": {
      "display_name": "Python 3",
      "language": "python",
      "name": "python3"
    },
    "language_info": {
      "codemirror_mode": {
        "name": "ipython",
        "version": 3
      },
      "file_extension": ".py",
      "mimetype": "text/x-python",
      "name": "python",
      "nbconvert_exporter": "python",
      "pygments_lexer": "ipython3",
      "version": "3.5.2"
    },
    "colab": {
      "name": "Lab_2_esqueletoA.ipynb",
      "provenance": [],
      "collapsed_sections": [],
      "include_colab_link": true
    }
  },
  "cells": [
    {
      "cell_type": "markdown",
      "metadata": {
        "id": "view-in-github",
        "colab_type": "text"
      },
      "source": [
        "<a href=\"https://colab.research.google.com/github/jvitordeoliveira96/UFRJ_courses/blob/main/ALA_ICP115/Assignments/Lab_2_esqueletoA.ipynb\" target=\"_parent\"><img src=\"https://colab.research.google.com/assets/colab-badge.svg\" alt=\"Open In Colab\"/></a>"
      ]
    },
    {
      "cell_type": "markdown",
      "metadata": {
        "deletable": true,
        "editable": true,
        "id": "meS1sE10zumD"
      },
      "source": [
        "#**Álgebra Linear Algorítmica 2021.2**\n",
        "\n",
        "**Professor: João Vitor de Oliveira Silva**\n",
        "\n",
        "**Laboratório 2**\n",
        "\n",
        "\n",
        "\n",
        "\n",
        "*Para realizar uma cópia editável deste esqueleto, você pode clicar em Arquivo > Salvar uma cópia no Drive. Você pode remover as células de texto de enunciado e de avisos*, **mas mantendo as células de texto que marcam o início das questões.**\n",
        "\n",
        "---\n",
        "###**Avisos**:\n",
        "\n",
        "\n",
        "*   **Sua solução deve ser devidamente comentada, usando células de texto e/ou códigos desenvolvidos.**\n",
        "*   **Como já informado, soluções com plágio serão desconsideradas e receberão grau 0.**\n",
        "\n",
        "*   **O trabalho pode ser feito individualmente ou em dupla.**\n",
        "\n",
        "* **O nome do seu arquivo contendo a solução deve ser**\n",
        "$$\\mathtt{nome\\_DRE\\_lab02A.ipynb}$$ ou $$\\mathtt{nome1\\_DRE\\_nome2\\_DRE2\\_lab02A.ipynb}$$\n"
      ]
    },
    {
      "cell_type": "code",
      "metadata": {
        "id": "0hdilromszRN"
      },
      "source": [
        "# Bibliotecas que sao necessarias ou podem auxiliar a realizacao desta atividade\n",
        "import numpy as np\n",
        "import sympy as sym\n",
        "import matplotlib.pyplot as plt"
      ],
      "execution_count": null,
      "outputs": []
    },
    {
      "cell_type": "markdown",
      "metadata": {
        "id": "jtqr5Q9BBc62"
      },
      "source": [
        "## Enunciado do problema\n",
        "\n",
        "\n"
      ]
    },
    {
      "cell_type": "markdown",
      "metadata": {
        "id": "Oy8ZXxFsWXVZ"
      },
      "source": [
        "Para melhor controlar o fluxo de carros em uma região central do Rio, a \n",
        "CET-Rio pôs sensores eletrônicos em cada esquina. Infelizmente alguns \n",
        "dos sensores pararam de funcionar e, por falta de verbas, permanecem desativados. O mapa \n",
        "destas ruas está desenhado abaixo. Como as ruas são estreitas e com casario antigo:\n",
        "\n",
        " - não há estacionamento nas casas; \n",
        " - o estacionamento nas ruas é proibido; \n",
        " - todas as ruas têm mão unica, indicada no mapa pela seta.\n",
        "\n",
        "\n",
        "As ruas onde os sensores pararam de funcionar estão rotuladas por \n",
        "letras de $a$ a $g$ que usaremos para nos referir a elas. \n",
        "Os números correspondem à quantidade média de carros que trafegam por hora \n",
        "nas ruas cujos sensores ainda funcionam. Nosso objetivo é usar os dados da \n",
        "figura para investigar \n",
        "o comportamento do fluxo médio de carros nessas ruas sob várias \n",
        "restrições que a CET-Rio precisará fazer no trânsito de \n",
        "algumas ruas. \n",
        "\n",
        "![](https://drive.google.com/uc?id=1hnXteYgZppH4rEp35AUKdxDwO8Wny3ro)\n"
      ]
    },
    {
      "cell_type": "markdown",
      "metadata": {
        "id": "g7qcGKHX3cVC"
      },
      "source": [
        "Modelaremos este problema como um sistema linear cujas \n",
        "variáveis corresponderão ao fluxo médio de carros em cada rua. Sugiro \n",
        "que você use o próprio rótulo como sendo a variável que \n",
        "representa o fluxo naquela rua. Para obter as equações do sistema \n",
        "aplique a cada cruzamento de ruas a **lei de conservação dos carros**: se um carro entra em uma rua, ele tem que sair por outra. "
      ]
    },
    {
      "cell_type": "markdown",
      "metadata": {
        "id": "bHZHkwft5igq"
      },
      "source": [
        "É possível resolver um sistema especificando a letra de cada variável associada ao sistema, passando-as como argumento para função **solve**. Esta função tem comportamento semelhante a função **linsolve** que vimos, mas o que é passado como entrada um pouco diferente. Veja no problema a seguir:"
      ]
    },
    {
      "cell_type": "code",
      "metadata": {
        "id": "Tc0K29IM5vOf"
      },
      "source": [
        "# Reservando simbolos\n",
        "x_s, y_s, w_s, z_s = sym.symbols('x y w z')\n",
        "# Criando vetor de incógnitas\n",
        "X = sym.Matrix([x_s, y_s, w_s, z_s])\n",
        "\n",
        "# Criando sistema linear\n",
        "A = sym.Matrix([[1, 1, -1, -1], [1, -1, -2, 3], [2, 0, -3, 2] ])\n",
        "b = sym.Matrix([2, 3, 5])\n",
        "\n",
        "# Resolvendo o sistema (sem criacao da matriz aumentada e usando funçao solve)\n",
        "solution = sym.solve( A @ X - b, [x_s, y_s, w_s, z_s])\n",
        "\n"
      ],
      "execution_count": null,
      "outputs": []
    },
    {
      "cell_type": "markdown",
      "metadata": {
        "id": "0BNt7zTUAWqu"
      },
      "source": [
        "A solução é retornada como um dicionário da linguagem Python."
      ]
    },
    {
      "cell_type": "code",
      "metadata": {
        "colab": {
          "base_uri": "https://localhost:8080/"
        },
        "id": "4_IVmDNuAcnW",
        "outputId": "2ba652cf-a087-4fb2-a631-97c67aa35c1b"
      },
      "source": [
        "solution"
      ],
      "execution_count": null,
      "outputs": [
        {
          "output_type": "execute_result",
          "data": {
            "text/plain": [
              "{x: 3*w/2 - z + 5/2, y: -w/2 + 2*z - 1/2}"
            ]
          },
          "metadata": {
            "tags": []
          },
          "execution_count": 72
        }
      ]
    },
    {
      "cell_type": "markdown",
      "metadata": {
        "id": "IV1tf0rkIWtY"
      },
      "source": [
        "É possível extrair as expressões associadas a uma variável acessando o elemento correspondente:"
      ]
    },
    {
      "cell_type": "code",
      "metadata": {
        "colab": {
          "base_uri": "https://localhost:8080/",
          "height": 51
        },
        "id": "pPb_VvRxAlhM",
        "outputId": "cea0d352-0f27-4a5e-8686-65da8599f5a2"
      },
      "source": [
        "# Obtendo o elemento associado a chave (variável) x\n",
        "solution[x_s]"
      ],
      "execution_count": null,
      "outputs": [
        {
          "output_type": "execute_result",
          "data": {
            "text/latex": "$\\displaystyle \\frac{3 w}{2} - z + \\frac{5}{2}$",
            "text/plain": [
              "3*w/2 - z + 5/2"
            ]
          },
          "metadata": {
            "tags": []
          },
          "execution_count": 73
        }
      ]
    },
    {
      "cell_type": "code",
      "metadata": {
        "colab": {
          "base_uri": "https://localhost:8080/",
          "height": 51
        },
        "id": "2aGdylkTAp68",
        "outputId": "0e81bd24-c582-4e30-d88c-d7e752d16f66"
      },
      "source": [
        "# Obtendo o elemento associado a chave (variável) y\n",
        "solution[y_s]"
      ],
      "execution_count": null,
      "outputs": [
        {
          "output_type": "execute_result",
          "data": {
            "text/latex": "$\\displaystyle - \\frac{w}{2} + 2 z - \\frac{1}{2}$",
            "text/plain": [
              "-w/2 + 2*z - 1/2"
            ]
          },
          "metadata": {
            "tags": []
          },
          "execution_count": 80
        }
      ]
    },
    {
      "cell_type": "markdown",
      "metadata": {
        "id": "F9fOrTZtB76i"
      },
      "source": [
        "No caso do sistema anterior, \n",
        "$$x = \\frac{3}{2}w - z + \\frac{5}{2}, \\quad w, z \\in \\mathbb{R};$$\n",
        "$$y = -\\frac{1}{2}w + 2z - \\frac{1}{2}, \\quad w, z \\in \\mathbb{R}. $$ \n",
        "\n",
        "Uma vez que isso indica que há 2 variáveis livres, se fosse do seu interesse exigir que $w$ e $z$ estivessem em função de $x$ e $y$, seria possível fazer:"
      ]
    },
    {
      "cell_type": "code",
      "metadata": {
        "id": "Ys4GgwjLItjl"
      },
      "source": [
        "solution_alt = sym.solve( A @ X - b, [w_s, z_s])"
      ],
      "execution_count": null,
      "outputs": []
    },
    {
      "cell_type": "code",
      "metadata": {
        "colab": {
          "base_uri": "https://localhost:8080/"
        },
        "id": "ZWVOAXAhJfYp",
        "outputId": "f03f6bc2-0dd2-40a2-d043-3a85aae4f8d1"
      },
      "source": [
        "solution_alt"
      ],
      "execution_count": null,
      "outputs": [
        {
          "output_type": "execute_result",
          "data": {
            "text/plain": [
              "{w: 4*x/5 + 2*y/5 - 9/5, z: x/5 + 3*y/5 - 1/5}"
            ]
          },
          "metadata": {
            "tags": []
          },
          "execution_count": 94
        }
      ]
    },
    {
      "cell_type": "code",
      "metadata": {
        "colab": {
          "base_uri": "https://localhost:8080/",
          "height": 51
        },
        "id": "mBNpp5h6JXZe",
        "outputId": "4a67e325-2bd4-4099-abac-e4ec31e79bd5"
      },
      "source": [
        "solution_alt[w_s]"
      ],
      "execution_count": null,
      "outputs": [
        {
          "output_type": "execute_result",
          "data": {
            "text/latex": "$\\displaystyle \\frac{4 x}{5} + \\frac{2 y}{5} - \\frac{9}{5}$",
            "text/plain": [
              "4*x/5 + 2*y/5 - 9/5"
            ]
          },
          "metadata": {
            "tags": []
          },
          "execution_count": 95
        }
      ]
    },
    {
      "cell_type": "code",
      "metadata": {
        "colab": {
          "base_uri": "https://localhost:8080/",
          "height": 51
        },
        "id": "RXHmOb35JdaN",
        "outputId": "333b2148-0074-4da4-bbf4-bd9948e63ab8"
      },
      "source": [
        "solution_alt[z_s]"
      ],
      "execution_count": null,
      "outputs": [
        {
          "output_type": "execute_result",
          "data": {
            "text/latex": "$\\displaystyle \\frac{x}{5} + \\frac{3 y}{5} - \\frac{1}{5}$",
            "text/plain": [
              "x/5 + 3*y/5 - 1/5"
            ]
          },
          "metadata": {
            "tags": []
          },
          "execution_count": 96
        }
      ]
    },
    {
      "cell_type": "markdown",
      "metadata": {
        "id": "0mhh3olqKofS"
      },
      "source": [
        "Isto é extremamente útil para determinar os valores máximo e mínimo que uma dada variável do \n",
        "sistema pode atingir."
      ]
    },
    {
      "cell_type": "markdown",
      "metadata": {
        "id": "QibRm_oJMtFn"
      },
      "source": [
        "Para os propósitos deste laboratório diremos que o trânsito \n",
        "**trava** neste grupo de ruas se o movimento de carros em todas as ruas se \n",
        "torna inviável. Isto acontece quando o sistema é impossível ou o valor da \n",
        "variável correspondente a uma das ruas for negativo."
      ]
    },
    {
      "cell_type": "markdown",
      "metadata": {
        "id": "N2_5BawGM6ai"
      },
      "source": [
        "\n",
        "\n",
        "---\n",
        "\n"
      ]
    },
    {
      "cell_type": "markdown",
      "metadata": {
        "id": "E84yXPGZM7n-"
      },
      "source": [
        "Responda todas as questões abaixo. Você deve retornar, na \n",
        "atividade correspondente do Google Classroom, um arquivo ${\\tt .ipynb}$ (com o nome \n",
        "no formato padrão) que precisa incluir em uma célula de texto a pergunta e a \n",
        "resposta que você obteve, seguidas de uma ou mais células de código/saída\n",
        "contendo os cálculos no Python/Sympy que justificam sua resposta. \n",
        "As respostas devem ser dadas por extenso. Não esqueça de incluir em seu arquivo comentários explicando o que você fez. "
      ]
    },
    {
      "cell_type": "markdown",
      "metadata": {
        "id": "MvSZ8UWdNWsK"
      },
      "source": [
        "## Exercício 1\n",
        "\n"
      ]
    },
    {
      "cell_type": "markdown",
      "metadata": {
        "id": "3wnt7l6CNWs0"
      },
      "source": [
        "Se o fluxo médio nas ruas $a$ e $g$ for, respectivamente, de 20 carros e de 100 carros, qual será o fluxo médio nas demais ruas?"
      ]
    },
    {
      "cell_type": "code",
      "metadata": {
        "id": "mRzgXydFNZLD"
      },
      "source": [
        "# Calculos (pode criar mais celulas de código)"
      ],
      "execution_count": null,
      "outputs": []
    },
    {
      "cell_type": "markdown",
      "metadata": {
        "id": "LrZ-4v9jNZXZ"
      },
      "source": [
        "Resposta:"
      ]
    },
    {
      "cell_type": "markdown",
      "metadata": {
        "id": "hnaJcS0jNr-s"
      },
      "source": [
        "## Exercício 2\n",
        "\n"
      ]
    },
    {
      "cell_type": "markdown",
      "metadata": {
        "id": "mO1y3N5INr-u"
      },
      "source": [
        "Quais são os grupos de três ruas que podem ser fechadas sem que o \n",
        " trânsito trave?"
      ]
    },
    {
      "cell_type": "code",
      "metadata": {
        "id": "nocy23iHNr-w"
      },
      "source": [
        "# Calculos (pode criar mais celulas de código)"
      ],
      "execution_count": null,
      "outputs": []
    },
    {
      "cell_type": "markdown",
      "metadata": {
        "id": "bx49MPwJNr-x"
      },
      "source": [
        "Resposta:"
      ]
    },
    {
      "cell_type": "markdown",
      "metadata": {
        "id": "jJ-S0YvgN6Ke"
      },
      "source": [
        "## Exercício 3\n",
        "\n"
      ]
    },
    {
      "cell_type": "markdown",
      "metadata": {
        "id": "Al5NQR2bN6Kg"
      },
      "source": [
        "Quais são os grupos de duas ruas que podem ser fechadas sem que o \n",
        " trânsito trave?"
      ]
    },
    {
      "cell_type": "code",
      "metadata": {
        "id": "5Mn7jCxZN6Kh"
      },
      "source": [
        "# Calculos (pode criar mais celulas de código)"
      ],
      "execution_count": null,
      "outputs": []
    },
    {
      "cell_type": "markdown",
      "metadata": {
        "id": "Qk57KtZIN6Ki"
      },
      "source": [
        "Resposta:"
      ]
    },
    {
      "cell_type": "markdown",
      "metadata": {
        "id": "XIG0LhczOFpB"
      },
      "source": [
        "## Exercício 4\n",
        "\n"
      ]
    },
    {
      "cell_type": "markdown",
      "metadata": {
        "id": "4dqZ1RgwOFpC"
      },
      "source": [
        "Se a CET-RIO precisar fechar as ruas $e$ e $g$ para obras durante dois dias, \n",
        " o que pode ser feito para evitar que o trânsito trave neste grupo de ruas?  "
      ]
    },
    {
      "cell_type": "code",
      "metadata": {
        "id": "4jgJ86WSOFpC"
      },
      "source": [
        "# Calculos (pode criar mais celulas de código)"
      ],
      "execution_count": null,
      "outputs": []
    },
    {
      "cell_type": "markdown",
      "metadata": {
        "id": "-0Qp8nTYOFpC"
      },
      "source": [
        "Resposta:"
      ]
    },
    {
      "cell_type": "markdown",
      "metadata": {
        "id": "kdaWqvtOOMxy"
      },
      "source": [
        "## Exercício 5\n",
        "\n"
      ]
    },
    {
      "cell_type": "markdown",
      "metadata": {
        "id": "UwKwxOnDOMx0"
      },
      "source": [
        "Qual a quantidade máxima de carros que pode passar na rua $g$, sem que o \n",
        " trânsito trave completamente? "
      ]
    },
    {
      "cell_type": "code",
      "metadata": {
        "id": "f33SQhIxOMx1"
      },
      "source": [
        "# Calculos (pode criar mais celulas de código)"
      ],
      "execution_count": null,
      "outputs": []
    },
    {
      "cell_type": "markdown",
      "metadata": {
        "id": "dN_E_ZwjOMx2"
      },
      "source": [
        "Resposta:"
      ]
    }
  ]
}
