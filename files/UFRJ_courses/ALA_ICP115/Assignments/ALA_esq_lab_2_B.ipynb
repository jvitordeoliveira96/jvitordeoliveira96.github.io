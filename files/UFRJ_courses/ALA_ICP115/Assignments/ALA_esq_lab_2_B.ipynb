{
  "cells": [
    {
      "cell_type": "markdown",
      "metadata": {
        "id": "view-in-github",
        "colab_type": "text"
      },
      "source": [
        "<a href=\"https://colab.research.google.com/github/jvitordeoliveira96/UFRJ_courses/blob/main/ALA_ICP115/Assignments/ALA_esq_lab_2_B.ipynb\" target=\"_parent\"><img src=\"https://colab.research.google.com/assets/colab-badge.svg\" alt=\"Open In Colab\"/></a>"
      ]
    },
    {
      "cell_type": "markdown",
      "metadata": {
        "id": "meS1sE10zumD"
      },
      "source": [
        "#**Álgebra Linear Algorítmica 2021.2**\n",
        "\n",
        "**Professor: João Vitor de Oliveira Silva**\n",
        "\n",
        "**Laboratório 2**\n",
        "\n",
        "\n",
        "\n",
        "\n",
        "\n",
        "*Para realizar uma cópia editável deste esqueleto, você pode clicar em Arquivo > Salvar uma cópia no Drive. Você pode remover as células de texto de enunciado e de avisos*, **mas mantendo as células de texto que marcam o início das questões.**\n",
        "\n",
        "---\n",
        "###**Avisos**:\n",
        "\n",
        "\n",
        "*   **Sua solução deve ser devidamente comentada, usando células de texto e/ou códigos desenvolvidos.**\n",
        "*   **Como já informado, soluções com plágio serão desconsideradas e receberão grau 0.**\n",
        "\n",
        "*   **O trabalho pode ser feito individualmente ou em dupla.**\n",
        "\n",
        "* **O nome do seu arquivo contendo a solução deve ser**\n",
        "$$\\mathtt{nome\\_DRE\\_lab02B.ipynb}$$ ou $$\\mathtt{nome1\\_DRE\\_nome2\\_DRE2\\_lab02B.ipynb}$$\n"
      ]
    },
    {
      "cell_type": "code",
      "execution_count": null,
      "metadata": {
        "id": "0hdilromszRN"
      },
      "outputs": [],
      "source": [
        "# Bibliotecas que sao necessarias ou podem auxiliar a realizacao desta atividade\n",
        "import numpy as np\n",
        "import sympy as sym\n",
        "import scipy as sp\n",
        "import scipy.linalg\n",
        "import matplotlib.pyplot as plt"
      ]
    },
    {
      "cell_type": "code",
      "execution_count": null,
      "metadata": {
        "cellView": "form",
        "id": "pYIe5fhFqfu-"
      },
      "outputs": [],
      "source": [
        ""
      ]
    },
    {
      "cell_type": "markdown",
      "metadata": {
        "id": "jtqr5Q9BBc62"
      },
      "source": [
        "## Enunciado do problema\n",
        "\n",
        "\n"
      ]
    },
    {
      "cell_type": "markdown",
      "metadata": {
        "id": "Oy8ZXxFsWXVZ"
      },
      "source": [
        "Um novo *food-truck* da cidade está se tornando uma febre entre os moradores. Como o mesmo ainda está no início de suas operações, há apenas uma pessoa para atender as solicitações na cozinha e outra para servir o pedido. Os responsáveis pelo *food-truck* estão preocupados em saber se estão dando conta dos pedidos em um tempo razoável ou se estão pecando muito na demora, e pediram a sua ajuda para avaliar essa situação. \n",
        "\n",
        "![](https://cdn.pixabay.com/photo/2018/06/04/01/40/stalls-3452163_960_720.png)\n",
        "\n"
      ]
    },
    {
      "cell_type": "markdown",
      "metadata": {
        "id": "g7qcGKHX3cVC"
      },
      "source": [
        "Modelaremos este problema como um sistema linear cujas \n",
        "variáveis corresponderão a probabilidade de se encontrar o estabelecimento com $i$ pessoas na fila. Por exemplo, $x_2$ seria a probabilidade de se ter 2 pessoas na fila: uma aguardando seu pedido e a outra esperando para realizar o seu. Você foi capaz de reparar algumas coisas:\n",
        "\n",
        "  - Em 60 minutos de observação (1 hora), foi possível perceber que 28 clientes foram atendidos. Com isso, lhe parece razoável considerar que a probabilidade de um cliente ser atendido numa janela de 1 minuto é de $p_{s} = \\frac{28}{60} = \\frac{7}{15}$.\n",
        "  - Em 60 minutos de observação (1 hora), foi possível perceber que 36 pessoas foram até o estabelecimento. Com isso, lhe parece razoável considerar que a probabilidade de um cliente chegar ao estabelecimento numa janela de 1 minuto é de $p_{c} = \\frac{36}{60} = \\frac{3}{5}$.\n",
        "  - Quando um cliente via que havia 3 pessoas ou mais na fila, quase sempre desistia e ia para um outro estabelecimento por receio de ter que esperar muito. Logo, você considera em seu modelo que um cliente que chega com 3 pessoas na fila já irá desistir de realizar um pedido.\n",
        "  - O tempo gasto por uma pessoa descrevendo seu pedido costumou ser muito menor que o tempo de preparação do pedido. Com isso, modela-se que a pessoa que chega imediatamente já aguarda seu pedido (fica desprezado o tempo em que o cliente descreve seu pedido).\n",
        "\n",
        "É interessante enxergar esse problema por meio de um grafo:\n"
      ]
    },
    {
      "cell_type": "markdown",
      "metadata": {
        "id": "XCIOHmG3Ep1v"
      },
      "source": [
        "![](https://drive.google.com/uc?id=108VWhVwUEww9T8QZhT5crk1O8gUZ2sGh)"
      ]
    },
    {
      "cell_type": "markdown",
      "metadata": {
        "id": "_E15EsphEsqB"
      },
      "source": [
        "\n",
        "O peso em cada aresta representa a probabilidade de o cenário migrar de um estado $i$ para outro $j$, em que o $i$-ésimo estado representa quantos clientes há na fila em um dado momento. Alguns exemplos são:\n",
        "\n",
        "-  o peso da aresta $p_s(1-p_c)$ do estado 1 para o estado 0 representa a **probabilidade de se atender o pedido do único cliente na fila** $\\color{red}{\\text{e}}$ **a probabilidade de não chegar um novo cliente** durante o período de 1 minuto;\n",
        "- o peso da aresta $(1-p_c)(1-p_s) + p_cp_s$ do estado 1 para o estado 1 representa a **probabilidade de não se atender o pedido do único cliente na fila** $\\color{red}{\\text{e}}$ **de não chegar um novo cliente na fila** $\\color{blue}{\\text{ou}}$ **de se atender o pedido do único cliente na fila** $\\color{red}{\\text{e}}$ **chegar um novo cliente na fila** durante o período de 1 minuto. Ambas as possibilidades irão manter um mesmo número de clientes no sistema.\n",
        "\n",
        "\n",
        "\n",
        "---\n",
        "\n",
        "\n",
        "\n",
        "É possível escrever equações de balanço para cada estado. Considerando que o \n",
        "\n",
        "$$(\\text{Fluxo que entra no estado }i) = (\\text{Fluxo que sai do estado } i)$$\n",
        "\n",
        "é possível escrever para o estado 1 que\n",
        "\n",
        "$$p_c x_0 + ( (1-p_c)(1-p_s) + p_cp_s)x_1 + p_s(1-p_c) x_2  = p_s(1-p_c)x_1 +  ( (1-p_c)(1-p_s) + p_cp_s)x_1 + p_c(1-p_s)x_1\\hspace{1mm}.$$\n",
        "\n",
        "Percebendo que a igualdade do lado direito pode ser simplificada, a equação pode ser expressa como\n",
        "\n",
        "$$\\begin{align}p_c x_0 + ( (1-p_c)(1-p_s) + p_cp_s)x_1 + p_s(1-p_c) x_2  &= x_1\\hspace{1mm},\\\\\n",
        "p_c x_0 + ( -1 + ( (1-p_c)(1-p_s) + p_cp_s)) x_1 + p_s(1-p_c) x_2  &= 0\n",
        "\\end{align}.$$\n",
        "\n",
        "\n",
        "Escrevendo as equações para cada um dos estados, é possível chegar em um sistema linear. Há, entretanto, um pedido a mais que deve ser feito. Como as incógnitas $x_i$ do problema são probabilidades, a seguinte equação também deve ser satisfeita:\n",
        "\n",
        "$$\\sum_{j=0}^3 x_j = 1 \\to x_0 + x_1 + x_2 + x_3 = 1\\hspace{1mm}.$$"
      ]
    },
    {
      "cell_type": "markdown",
      "metadata": {
        "id": "bHZHkwft5igq"
      },
      "source": [
        "Para resolver um sistema linear, pode usar a função linsolve da biblioteca Sympy como já vimos:"
      ]
    },
    {
      "cell_type": "code",
      "execution_count": null,
      "metadata": {
        "colab": {
          "base_uri": "https://localhost:8080/",
          "height": 58
        },
        "id": "Tc0K29IM5vOf",
        "outputId": "594ecfe9-db32-4e8f-97ba-5cfb4f51f4fe"
      },
      "outputs": [
        {
          "data": {
            "text/latex": "$\\displaystyle \\left( 1, \\  1, \\  \\frac{2}{5}, \\  - \\frac{2}{5}\\right)$",
            "text/plain": [
              "(1, 1, 2/5, -2/5)"
            ]
          },
          "execution_count": 190,
          "metadata": {},
          "output_type": "execute_result"
        }
      ],
      "source": [
        "#@title\n",
        "\n",
        "# Criando um exemplo de sistema linear Ax = b\n",
        "A = sym.Matrix([[1, 1, -1, -1], [1, 1, -2, 3], [2, 0, -3, 2], [0, 2, -3, 2] ])\n",
        "b = sym.Matrix([2, 0, 0, 0, 2])\n",
        "\n",
        "# Resolvendo o sistema (sem criacao da matriz aumentada e usando funçao solve)\n",
        "x = list(sym.linsolve((A,b)))[0]\n",
        "x"
      ]
    },
    {
      "cell_type": "markdown",
      "metadata": {
        "id": "CgToVuuE7yKf"
      },
      "source": [
        "Um simulador da situação acima foi realizado, de modo a comparar a solução via sistema e a via simulação."
      ]
    },
    {
      "cell_type": "code",
      "execution_count": null,
      "metadata": {
        "cellView": "form",
        "id": "5J5KZug2iyTO"
      },
      "outputs": [],
      "source": [
        ""
      ]
    },
    {
      "cell_type": "markdown",
      "metadata": {
        "id": "8X-WwTmdRcvQ"
      },
      "source": [
        "## Exercício 1\n",
        "\n"
      ]
    },
    {
      "cell_type": "markdown",
      "metadata": {
        "id": "N2_5BawGM6ai"
      },
      "source": [
        "\n",
        "\n",
        "---\n",
        "\n"
      ]
    },
    {
      "cell_type": "markdown",
      "metadata": {
        "id": "oxTDSChxWdXs"
      },
      "source": [
        "Construa um sistema linear $Ax = b$ que modelo o problema acima. Perceba que nem todas as transições estão com seus pesos apresentados no grafo, você deve antes perceber antes quem estes seriam. Em seguida, calcule a solução deste sistema. "
      ]
    },
    {
      "cell_type": "code",
      "execution_count": null,
      "metadata": {
        "id": "M2kJTMXlNYEq"
      },
      "outputs": [],
      "source": [
        "# "
      ]
    },
    {
      "cell_type": "markdown",
      "metadata": {
        "id": "lgDTttExNYQ0"
      },
      "source": [
        "Resposta:"
      ]
    },
    {
      "cell_type": "markdown",
      "metadata": {
        "id": "MvSZ8UWdNWsK"
      },
      "source": [
        "## Exercício 2\n",
        "\n"
      ]
    },
    {
      "cell_type": "markdown",
      "metadata": {
        "id": "3wnt7l6CNWs0"
      },
      "source": [
        " Verifique se sua solução está próxima do simulador abaixo:"
      ]
    },
    {
      "cell_type": "code",
      "execution_count": null,
      "metadata": {
        "id": "mRzgXydFNZLD"
      },
      "outputs": [],
      "source": [
        "simulador(servers = 1)"
      ]
    },
    {
      "cell_type": "markdown",
      "metadata": {
        "id": "LrZ-4v9jNZXZ"
      },
      "source": [
        "Resposta:"
      ]
    },
    {
      "cell_type": "markdown",
      "metadata": {
        "id": "hnaJcS0jNr-s"
      },
      "source": [
        "## Exercício 3\n",
        "\n"
      ]
    },
    {
      "cell_type": "markdown",
      "metadata": {
        "id": "mO1y3N5INr-u"
      },
      "source": [
        "Algumas métricas de teoria de filas são usadas em para a avaliar o desempenho de um sistema. Algumas delas são: \n",
        "\n",
        "- Probabilidade do sistema estar ocioso: $x_0$\n",
        "- Número médio de clientes no sistema: $\\overline{N} = \\sum_{j=0}^3 j \\cdot \\text{Prob}\\{j\\text{ clientes no sistema}\\} = 0x_1 + 1x_1 + 2x_2 + 3x_3$.\n",
        "- Probabilidade de alguém ser recusado no sistema: $\\text{Prob}\\{3\\text{ clientes no sistema}\\} \\cdot \\text{Prob}\\{\\text{novo cliente chegar}\\} = x_3 p_c$.\n",
        "\n",
        "Mostre todas as métricas acima a partir da resolução do sistema.\n"
      ]
    },
    {
      "cell_type": "code",
      "execution_count": null,
      "metadata": {
        "id": "nocy23iHNr-w"
      },
      "outputs": [],
      "source": [
        "# Calculos (pode criar mais celulas de código)"
      ]
    },
    {
      "cell_type": "markdown",
      "metadata": {
        "id": "bx49MPwJNr-x"
      },
      "source": [
        "Resposta:"
      ]
    },
    {
      "cell_type": "markdown",
      "metadata": {
        "id": "jJ-S0YvgN6Ke"
      },
      "source": [
        "## Exercício 4\n",
        "\n"
      ]
    },
    {
      "cell_type": "markdown",
      "metadata": {
        "id": "Al5NQR2bN6Kg"
      },
      "source": [
        "Os responsáveis pelo *food-truck* gostariam de verificar se haveria algum ganho expressivo ao se colocar mais uma pessoa para ser responsável pelo preparo dos pedidos. Você irá assumir que esta nova pessoa terá o mesmo desempenho que a o responsável que já atua no *food-truck*. Por simplicidade, ainda irá assumir que um cliente que chega e se depara com 3 pessoas na fila desistirá do seu pedido.\n",
        " A inclusão desta nova pessoa irá agilizar o processo quando houver 2 ou 3 pessoas na fila, uma vez que a probabilidade de um pedido ser atendido será maior. O pedido do cliente 1 ou do cliente 2 poderão ser atendidos por um dos dois responsáveis pelo preparo, diferente de anteriormente em que o cliente 2 necessariamente teria de aguardar o pedido do cliente 1 ser concluído. Em termos matemáticos, tem-se que:\n",
        "\n",
        " $$\\text{Prob}\\{\\text{um pedido ser atendido}\\} =  \\text{Prob}\\{\\text{um pedido ser atendido por pessoa 1} \\color{red}{\\text{ ou }} \\text{um pedido ser atendido por pessoa 2} \\} = p_s + p_s = 2p_s\\hspace{1mm}.$$\n",
        "\n",
        " Isso faz com que todas as arestas que saem dos estados 2 e 3 tenham $2p_s$ no lugar de $p_s$ em seus pesos.\n",
        "\n",
        " \n",
        "\n",
        "Crie agora um sistema linear que modele esta nova situação e resolva o mesmo."
      ]
    },
    {
      "cell_type": "code",
      "execution_count": null,
      "metadata": {
        "id": "5Mn7jCxZN6Kh"
      },
      "outputs": [],
      "source": [
        "# Calculos (pode criar mais celulas de código)"
      ]
    },
    {
      "cell_type": "markdown",
      "metadata": {
        "id": "Qk57KtZIN6Ki"
      },
      "source": [
        "Resposta:"
      ]
    },
    {
      "cell_type": "markdown",
      "metadata": {
        "id": "XIG0LhczOFpB"
      },
      "source": [
        "## Exercício 5\n",
        "\n"
      ]
    },
    {
      "cell_type": "markdown",
      "metadata": {
        "id": "4dqZ1RgwOFpC"
      },
      "source": [
        "Verifique se sua solução está próxima do simulador abaixo:"
      ]
    },
    {
      "cell_type": "code",
      "execution_count": null,
      "metadata": {
        "id": "4jgJ86WSOFpC"
      },
      "outputs": [],
      "source": [
        "simulador(servers = 2)"
      ]
    },
    {
      "cell_type": "markdown",
      "metadata": {
        "id": "kdaWqvtOOMxy"
      },
      "source": [
        "## Exercício 6\n",
        "\n"
      ]
    },
    {
      "cell_type": "markdown",
      "metadata": {
        "id": "QINvAt_dFVEU"
      },
      "source": [
        "Assim como no caso anterior, calcule as mesmas métricas:\n",
        "\n",
        "- Probabilidade do sistema estar ocioso: $x_0$\n",
        "- Número médio de clientes no sistema: $\\overline{N} = \\sum_{j=0}^3 j \\cdot \\text{Prob}\\{j\\text{ clientes no sistema}\\} = 0x_1 + 1x_1 + 2x_2 + 3x_3$.\n",
        "- Probabilidade de alguém ser recusado no sistema: $\\text{Prob}\\{3\\text{ clientes no sistema}\\} \\cdot \\text{Prob}\\{\\text{novo cliente chegar}\\} = x_3 p_c$.\n",
        "\n",
        "Mostre todas as métricas acima a partir da resolução do sistema. Na sua opinião, houve uma melhora expressiva no funcionamento do *food-truck*? Justifique. \n"
      ]
    },
    {
      "cell_type": "code",
      "execution_count": null,
      "metadata": {
        "id": "f33SQhIxOMx1"
      },
      "outputs": [],
      "source": [
        "# Calculos (pode criar mais celulas de código)"
      ]
    },
    {
      "cell_type": "markdown",
      "metadata": {
        "id": "dN_E_ZwjOMx2"
      },
      "source": [
        "Resposta:"
      ]
    }
  ],
  "metadata": {
    "colab": {
      "collapsed_sections": [],
      "name": "Lab_2_esqueletoB.ipynb",
      "provenance": [],
      "include_colab_link": true
    },
    "kernelspec": {
      "display_name": "Python 3",
      "language": "python",
      "name": "python3"
    },
    "language_info": {
      "codemirror_mode": {
        "name": "ipython",
        "version": 3
      },
      "file_extension": ".py",
      "mimetype": "text/x-python",
      "name": "python",
      "nbconvert_exporter": "python",
      "pygments_lexer": "ipython3",
      "version": "3.5.2"
    }
  },
  "nbformat": 4,
  "nbformat_minor": 0
}