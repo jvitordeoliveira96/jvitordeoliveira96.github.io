{
  "nbformat": 4,
  "nbformat_minor": 0,
  "metadata": {
    "colab": {
      "name": "Introducao_ao_Colab_pt2.ipynb",
      "provenance": [],
      "collapsed_sections": [],
      "include_colab_link": true
    },
    "kernelspec": {
      "name": "python3",
      "display_name": "Python 3"
    }
  },
  "cells": [
    {
      "cell_type": "markdown",
      "metadata": {
        "id": "view-in-github",
        "colab_type": "text"
      },
      "source": [
        "<a href=\"https://colab.research.google.com/github/jvitordeoliveira96/UFRJ_courses/blob/main/ALA_ICP115/Tutorials/Introducao_ao_Colab_pt2.ipynb\" target=\"_parent\"><img src=\"https://colab.research.google.com/assets/colab-badge.svg\" alt=\"Open In Colab\"/></a>"
      ]
    },
    {
      "cell_type": "markdown",
      "metadata": {
        "id": "rLhur7UR7MJz"
      },
      "source": [
        "**Autor: João Vitor de Oliveira Silva**\n",
        "\n",
        "**Data: 16/07/2021**\n",
        "\n",
        "\n",
        "\n",
        "---\n",
        "\n",
        "\n"
      ]
    },
    {
      "cell_type": "markdown",
      "metadata": {
        "id": "aXbOYtc0VNE1"
      },
      "source": [
        "## Referências\n",
        "\n",
        "- https://matplotlib.org\n",
        "- https://docs.scipy.org/doc/scipy/reference/\n",
        "- https://numpy.org/doc/1.21/\n",
        "\n",
        "<hr>"
      ]
    },
    {
      "cell_type": "markdown",
      "metadata": {
        "id": "R2hJnx4Aoqw7"
      },
      "source": [
        "## Biblioteca Matplotlib\n",
        "\n",
        "Trata-se de uma biblioteca famosa da linguagem Python para geração de gráficos e até mesmo animações. Normalmente importa-se os comandos de geração de gráficos da seguinte forma:\n",
        "\n",
        "```python\n",
        "import matplotlib.pyplot as plt\n",
        "```"
      ]
    },
    {
      "cell_type": "code",
      "metadata": {
        "id": "iEWmIoDQpj-X"
      },
      "source": [
        "# importando bibliotecas\n",
        "import matplotlib.pyplot as plt\n",
        "import numpy as np\n",
        "import scipy as sp"
      ],
      "execution_count": null,
      "outputs": []
    },
    {
      "cell_type": "markdown",
      "metadata": {
        "id": "1e-7fQuUpxpA"
      },
      "source": [
        "Como um \"aquecimento\", vejamos como gerar um gráfico da seguinte função usando esta biblioteca:\n",
        "\n",
        "$$ f(x) = \\cos(x), \\quad x \\in [-6, 6]$$"
      ]
    },
    {
      "cell_type": "markdown",
      "metadata": {
        "id": "cMnDxsJyqkeu"
      },
      "source": [
        "De início, vamos criar uma malha (*grid*) de 50 pontos dentro deste intervalo:"
      ]
    },
    {
      "cell_type": "code",
      "metadata": {
        "id": "J0FfJACbqq8k"
      },
      "source": [
        "# Gerando a malha (grid)\n",
        "x_grid = np.linspace(-6, 6, 50)"
      ],
      "execution_count": null,
      "outputs": []
    },
    {
      "cell_type": "code",
      "metadata": {
        "id": "mvIXfVe1uWV9"
      },
      "source": [
        "# Calculando o valor da função nesta malha (grid) gerada\n",
        "f_grid = np.cos(x_grid)"
      ],
      "execution_count": null,
      "outputs": []
    },
    {
      "cell_type": "markdown",
      "metadata": {
        "id": "PQgyAmy9uxNv"
      },
      "source": [
        "Agora que temos todos os pares de pontos necessários $(x_i, f(x_i)), \\quad i = 1,2,...,50$ para gerar o gráfico, basta usarmos o comando plot da biblioteca importada"
      ]
    },
    {
      "cell_type": "code",
      "metadata": {
        "id": "yKD8XolEuwyM",
        "colab": {
          "base_uri": "https://localhost:8080/",
          "height": 265
        },
        "outputId": "517896c3-495a-44b7-96f9-189f7cb1b9af"
      },
      "source": [
        "fig, ax = plt.subplots(figsize = (6,4))  # figsize indica largura x altura (opcional) \n",
        "ax.plot(x_grid, f_grid)\n",
        "plt.show()               "
      ],
      "execution_count": null,
      "outputs": [
        {
          "output_type": "display_data",
          "data": {
            "image/png": "[encoded data removed]",
            "text/plain": [
              "<Figure size 432x288 with 1 Axes>"
            ]
          },
          "metadata": {
            "tags": [],
            "needs_background": "light"
          }
        }
      ]
    },
    {
      "cell_type": "markdown",
      "metadata": {
        "id": "vHSDzMY2wC0I"
      },
      "source": [
        "Por padrão, a biblioteca interpola os pontos inseridos. Isso da a impressão de que de fato estamos trabalhando no mundo do contínuo (o que não é verdade, já que apenas informamos alguns pontos e seus respectivos valores na função de interesse). Para mostrar que isso é verdade, irei realizar o mesmo gráfico impondo que os pontos sejam graficados ao invés da interpolação automática: "
      ]
    },
    {
      "cell_type": "code",
      "metadata": {
        "id": "m5e8U9G8vUeX",
        "colab": {
          "base_uri": "https://localhost:8080/",
          "height": 265
        },
        "outputId": "f3c48a69-1455-400b-cdc0-81eaef47751e"
      },
      "source": [
        "fig, ax = plt.subplots(figsize = (6,4))\n",
        "ax.plot(x_grid, f_grid, linestyle = 'None', marker = 'o')\n",
        "plt.show()"
      ],
      "execution_count": null,
      "outputs": [
        {
          "output_type": "display_data",
          "data": {
            "image/png": "[encoded data removed]",
            "text/plain": [
              "<Figure size 432x288 with 1 Axes>"
            ]
          },
          "metadata": {
            "tags": [],
            "needs_background": "light"
          }
        }
      ]
    },
    {
      "cell_type": "markdown",
      "metadata": {
        "id": "kvjRBflb1SJ9"
      },
      "source": [
        "Vejamos o gráfico da função \n",
        "\n",
        "$$g(x) = \\text{sen}(x), \\quad x \\in [-6,6]$$\n",
        "\n",
        "para efeitos de comparação: \n"
      ]
    },
    {
      "cell_type": "code",
      "metadata": {
        "id": "zz89R_0a1RvY",
        "colab": {
          "base_uri": "https://localhost:8080/",
          "height": 265
        },
        "outputId": "563a9b1f-246e-4daf-e45b-c8090cd67dea"
      },
      "source": [
        "fig, ax = plt.subplots(figsize = (6,4))\n",
        "g_grid = np.sin(x_grid)\n",
        "ax.plot(x_grid, g_grid)\n",
        "plt.show()    "
      ],
      "execution_count": null,
      "outputs": [
        {
          "output_type": "display_data",
          "data": {
            "image/png": "[encoded data removed]",
            "text/plain": [
              "<Figure size 432x288 with 1 Axes>"
            ]
          },
          "metadata": {
            "tags": [],
            "needs_background": "light"
          }
        }
      ]
    },
    {
      "cell_type": "markdown",
      "metadata": {
        "id": "mKY4jQDLxmKp"
      },
      "source": [
        "Um gráfico no matplotlib pode ser altamente customizado com outros comandos. Estes comandos não serão discutidos em detalhes, apenas irei demonstrar a funcionalidade de alguns deles neste mesmo exemplo. Na página https://matplotlib.org/3.1.1/api/pyplot_summary.html é possível ver detalhes destes, além de exemplos de referência (para fazermos um famoso CNTRL C + CNTRL V quando nos interessarmos)."
      ]
    },
    {
      "cell_type": "code",
      "metadata": {
        "id": "1wNWUuzvyzaO",
        "colab": {
          "base_uri": "https://localhost:8080/",
          "height": 415
        },
        "outputId": "63cc0520-1e3b-48bc-956c-6d5009c297a0"
      },
      "source": [
        "# Gera uma nova figura, permitindo que seja definido o tamanho desejado dp gráfico final\n",
        "fig, ax = plt.subplots(figsize = (9,6))\n",
        "      \n",
        "\n",
        "# Definir um título, informando um dicionário no comando opcional fontdict\n",
        "# fontdict permite que seja definido o tamanho, cor e o tipo da fonte final\n",
        "# Aqui eu apenas defini um novo tamanho\n",
        "ax.set_title('Gráfico exemplo', fontdict = {'fontsize': 20} ) \n",
        "\n",
        "# Definindo um label para os eixos x e y do gráfico final\n",
        "ax.set_xlabel('x', fontdict = {'fontsize': 16})\n",
        "ax.set_ylabel('f(x)', fontdict = {'fontsize':16})\n",
        "\n",
        "# Gerando gráfico das fblackunções seno e cosseno\n",
        "# Irei aumentar o tamanho das linhas geradas usando linewidth\n",
        "ax.plot(x_grid, f_grid, linewidth = 3)\n",
        "ax.plot(x_grid, g_grid, linewidth = 3)\n",
        "\n",
        "# Adicionando legenda para os plots no canto direito\n",
        "ax.legend(['cos(x)', 'sin(x)'], loc = 'upper right', fontsize = 14)\n",
        "\n",
        "# Limitando o espaço dos eixos x e y\n",
        "ax.set_xlim(-6, 6)\n",
        "ax.set_ylim(-1, 1)\n",
        "\n",
        "# Mostrar grid \n",
        "ax.grid(True)\n",
        "\n",
        "plt.show()\n"
      ],
      "execution_count": null,
      "outputs": [
        {
          "output_type": "display_data",
          "data": {
            "image/png": "[encoded data removed]",
            "text/plain": [
              "<Figure size 648x432 with 1 Axes>"
            ]
          },
          "metadata": {
            "tags": [],
            "needs_background": "light"
          }
        }
      ]
    },
    {
      "cell_type": "markdown",
      "metadata": {
        "id": "3SdwBbHPDfhV"
      },
      "source": [
        "Em nosso curso de Álgebra Linear Algorítmica, estaremos interessados em também apresentar vetores na tela do computador. Veja em seguida como podemos fazer isso:"
      ]
    },
    {
      "cell_type": "code",
      "metadata": {
        "id": "hP5TPTk5aAR9",
        "colab": {
          "base_uri": "https://localhost:8080/",
          "height": 450
        },
        "outputId": "aac93a2b-7087-440e-abda-519b87ece8c6"
      },
      "source": [
        "p = np.array([0,0])  # Ponto de onde partirá o vetor\n",
        "v = np.array([1,1])  # Definicao de um vetor v\n",
        "w = np.array([1,-1]) # Definicao de um vetor w\n",
        "e1 = np.array([1,0]) # Definicao do vetor e1\n",
        "e2 = np.array([0,1]) # Definicao do vetor e1\n",
        "\n",
        "# Instrucoes para o plot\n",
        "fig, ax = plt.subplots(figsize = (7,7))\n",
        "    \n",
        "# Desenhando vetores\n",
        "ax.arrow(*p, *v, head_width=0.08, head_length=0.08, color = 'blue')  # head width e head length permitem personalizar a seta \n",
        "ax.arrow(*p, *w, head_width=0.08, head_length=0.08, color = 'red') \n",
        "ax.arrow(*p, *e1, head_width=0.08, head_length=0.08, color = 'black') \n",
        "ax.arrow(*p, *e2, head_width=0.08, head_length=0.08, color = 'black')\n",
        "# Usando o metodo anotate para inserir texto no plot. Aqui, usamos para colocar um label nos vetores\n",
        "offset = 0.07\n",
        "ax.annotate(\"$v$\", p + v + offset, color = 'blue', size = 18 )  # legenda do vetor v\n",
        "ax.annotate(\"$w$\", p + w + offset, color = 'red', size = 18 )  # legenda do vetor w\n",
        "ax.annotate(\"$e_1$\", p + e1 + offset, color = 'black', size = 18 )  # legenda do vetor e1\n",
        "ax.annotate(\"$e_2$\", p + e2 + offset, color = 'black', size = 18 )  # legenda do vetor e2\n",
        "\n",
        "# Inserindo titulo e definindo limites no plot\n",
        "ax.set_title('Exemplo de gráfico de vetores', fontdict = {'fontsize': 20} ) \n",
        "ax.set_xlim(-1.3, 1.3)\n",
        "ax.set_ylim(-1.3, 1.3)\n",
        "\n",
        "ax.grid(True)\n",
        "plt.show()\n"
      ],
      "execution_count": null,
      "outputs": [
        {
          "output_type": "display_data",
          "data": {
            "image/png": "[encoded data removed]",
            "text/plain": [
              "<Figure size 504x504 with 1 Axes>"
            ]
          },
          "metadata": {
            "tags": [],
            "needs_background": "light"
          }
        }
      ]
    },
    {
      "cell_type": "markdown",
      "metadata": {
        "id": "Vyrpi0cFMqJS"
      },
      "source": [
        "### Animação com a biblioteca Matplotlib\n",
        "\n",
        "Para realizarmos animações com a biblioteca matplotlib, é necessário importarmos os seguintes módulos:\n",
        "\n",
        "```python\n",
        "from matplotlib import animation\n",
        "from IPython.display import HTML\n",
        "```"
      ]
    },
    {
      "cell_type": "code",
      "metadata": {
        "id": "9LaquenLMV57"
      },
      "source": [
        "# importando módulos de animacao e de mudanca na página Web\n",
        "from matplotlib import animation\n",
        "from IPython.display import HTML"
      ],
      "execution_count": null,
      "outputs": []
    },
    {
      "cell_type": "code",
      "metadata": {
        "id": "ELDGzOIJPKc2",
        "colab": {
          "base_uri": "https://localhost:8080/",
          "height": 453
        },
        "outputId": "af365bbe-9b60-46f8-9bc0-f9ab31422069"
      },
      "source": [
        "# Criando janela de plot\n",
        "fig, ax = plt.subplots(figsize = (6,6))\n",
        "delay_time = 100  # tempo de transicao entre frames\n",
        "nframes = 40      # numero de frames total\n",
        "\n",
        "    \n",
        "# funcao animate, chamada sequencialmente. Funciona de maneira analoga a for k in range(0,frames)\n",
        "def animate(k):\n",
        "    # Limpando a tela anterior\n",
        "    ax.cla()\n",
        "    # Atualizando vetores seguindo alguma regra. Aqui, seria \"andar para tras\"\n",
        "    viter = v - v * k * 0.05 \n",
        "    witer = w - w * k * 0.05    \n",
        "\n",
        "    # Descrevendo o plot do proximo frame\n",
        "    ax.arrow(*p, *viter, head_width=0.08, head_length=0.08, color = 'blue')\n",
        "    ax.annotate(\"$v$\", p + viter + offset, color = 'blue', size = 18 )\n",
        "    ax.arrow(*p, *witer, head_width=0.08, head_length=0.08, color = 'red') \n",
        "    ax.annotate(\"$w$\", p + witer + offset, color = 'red', size = 18 ) \n",
        "\n",
        "    ax.set_title('Exemplo de gráfico de vetores, iter {0}'.format(k), fontdict = {'fontsize': 20} ) \n",
        "    ax.set_xlim(-1.5, 1.5)\n",
        "    ax.set_ylim(-1.5, 1.5)\n",
        "    ax.grid(True)\n",
        "\n",
        "\n",
        "    \n",
        "\n",
        "    \n",
        "anim = animation.FuncAnimation(fig, animate, \n",
        "                               frames = nframes, interval=delay_time);\n",
        "\n",
        "plt.close()\n",
        "HTML(anim.to_html5_video())"
      ],
      "execution_count": null,
      "outputs": [
        {
          "output_type": "execute_result",
          "data": {
            "text/html": [
              "<video width=\"432\" height=\"432\" controls autoplay loop>\n",
              "  <source type=\"video/mp4\" src=\"data:video/mp4;base64,AAAAHGZ0eXBNNFYgAAACAGlzb21pc28yYXZjMQAAAAhmcmVlAABfXW1kYXQAAAKuBgX//6rcRem9\n",
              "5tlIt5Ys2CDZI+7veDI2NCAtIGNvcmUgMTUyIHIyODU0IGU5YTU5MDMgLSBILjI2NC9NUEVHLTQg\n",
              "QVZDIGNvZGVjIC0gQ29weWxlZnQgMjAwMy0yMDE3IC0gaHR0cDovL3d3dy52aWRlb2xhbi5vcmcv\n",
              "eDI2NC5odG1sIC0gb3B0aW9uczogY2FiYWM9MSByZWY9MyBkZWJsb2NrPTE6MDowIGFuYWx5c2U9\n",
              "MHgzOjB4MTEzIG1lPWhleCBzdWJtZT03IHBzeT0xIHBzeV9yZD0xLjAwOjAuMDAgbWl4ZWRfcmVm\n",
              "PTEgbWVfcmFuZ2U9MTYgY2hyb21hX21lPTEgdHJlbGxpcz0xIDh4OGRjdD0xIGNxbT0wIGRlYWR6\n",
              "b25lPTIxLDExIGZhc3RfcHNraXA9MSBjaHJvbWFfcXBfb2Zmc2V0PS0yIHRocmVhZHM9MyBsb29r\n",
              "YWhlYWRfdGhyZWFkcz0xIHNsaWNlZF90aHJlYWRzPTAgbnI9MCBkZWNpbWF0ZT0xIGludGVybGFj\n",
              "ZWQ9MCBibHVyYXlfY29tcGF0PTAgY29uc3RyYWluZWRfaW50cmE9MCBiZnJhbWVzPTMgYl9weXJh\n",
              "bWlkPTIgYl9hZGFwdD0xIGJfYmlhcz0wIGRpcmVjdD0xIHdlaWdodGI9MSBvcGVuX2dvcD0wIHdl\n",
              "aWdodHA9MiBrZXlpbnQ9MjUwIGtleWludF9taW49MTAgc2NlbmVjdXQ9NDAgaW50cmFfcmVmcmVz\n",
              "aD0wIHJjX2xvb2thaGVhZD00MCByYz1jcmYgbWJ0cmVlPTEgY3JmPTIzLjAgcWNvbXA9MC42MCBx\n",
              "cG1pbj0wIHFwbWF4PTY5IHFwc3RlcD00IGlwX3JhdGlvPTEuNDAgYXE9MToxLjAwAIAAAB+yZYiE\n",
              "ABD//veBvzLLXyK6yXH5530srM885DxyXYmuuNAAAAMADN2InuD6dfgyw/mBgBOscsHnp7LvyS1q\n",
              "wZsaoJ1QS2oGhZWkrv7wCBt5p/0kIRtR9ioCC+G/f4LuAPwCjFO/DaWr9+C5bnZ296t7pq4McNN3\n",
              "e2jqLz7VKqtPqQREW29UZ4+xofePsl4+Z+TonFDdSes5MxjGl/tk8sm4SpbqZD8J4LqgvSJsIB3c\n",
              "TGU5FQrCrsw+5BKFJKG5rw/EDoePjYSNHQ91Rzt7a5RePtgRF163byRyQ8QAvv5L/bUUgRgcIbmP\n",
              "THN2o1NliC3cUCgctBB5z6WRhgNXPfpj/PQ3fGXoky+werRf27P91uuCaO3a0b3Iorwg/aO5fQwt\n",
              "jO1mv9CdI+pyRA2tXOcumtPvrtlVR5nSs5NJXyp3KojfdyiAiqdgYovtRGv9oAnKVARADecm0UiD\n",
              "gWv0i+goh45uCVAVupxDafqHnhuGkIc3EczgzsgS7J73u37ylXq5ongEPkc2v5LWIvFQsoEjmpt6\n",
              "+p+jeSZp7H2Kf/jZo/AsUUftlQRve6YW32+q/VqFsCUT1Wxx0U8aepxTde+jKMqzHcA7R+t0hc+3\n",
              "ZvIJ05REcQLGBTXGIMtp0gupUJoIHW2Nv/sqaff3TTMBIFY8uVisK/W1mn9OWEMWV7WPEXCKlo68\n",
              "nvvCwC5cXHo8c4+5XUmgbyiOhvAUSGCn19dFEztKc3RDqsv1+qo/Qnz//sFnMO0tOMnuN3my//VZ\n",
              "KTiCSzpjSR+QTDCIrI3gYm3N/hd+CYI0nFWqANp2r+tL3qiTY2t9PU+1UQVmJVreWBsfwSm6sRVZ\n",
              "XoJ0zWjRfY3MO5HJQ1xVALwM/gnzmyj+Bxov4V8gSW83viDmeJEJ0/IBmWBdO/SiPE6sk80IVRjI\n",
              "HvxaFzV9mRBPs87V+a6UN98R4tlOb6EAwKiOQnBhtbodvvA4M8rAfnJtLQLTGl3UMyD0I18YqqpV\n",
              "9MfKX1eEX4tEr6CS8dRDtmwcT6MAy3myg90GIp1yzg0nS6D7n2Vrbfq+7dUVMBgbvnunzroOp+DN\n",
              "9zZxS249eqxxQhTjrHaJvwXURVNR76HodfXdl8jAmNk6tbBGjauSdiJfmxZuWaF69/MBfLLpQGvC\n",
              "WlCS3oYGKWcDXD//D8zdWZay9XTSV/OJepaGGHGYTaaVa6NwreFJ5YeJWTlHIekhY3/kRBoFectv\n",
              "zmoZ26CSP4XAuF69vI1xlCL+R/DBCx0fgxzVtAPKMqz78ylQ2dFa2YSqS6MnlXQuA8DcaL6OhekB\n",
              "Swy0WzPV1vYaYOwWTnH2dnaZ+PF8LNsoVJYyqNJGbRCvoqJqGkEbHIL/3+cRCJrJUUmJhPsLuIVl\n",
              "Ni4jPgZqtT+aDt/ieAXU9pUUW1gaq2i+vVwpLGq6a2fIaHRsk0kkb7aKe/vxKYhRmOrCwqZ7SKRg\n",
              "GaHtE72yUX1JAD2Z4WM4g6n7RPixbf2WLENNOCDnSVG8pGsnmMQMDPlafQyL3GvimFavpuubCQWW\n",
              "frUjXcVgSPSZ8HOPd/7SwZ1NJiBl8IqjrOF4reZE8pfF2KduRIC/mDxtoYj6aFvuJ9Fb0gfPdTRn\n",
              "FmhDD+Lkmi8f1cuOuehn4FELsU6IktIQsbviiDskKLxEZah2KZfzECamZIp9UqQYDf+Y4HJyy3gP\n",
              "hR9TZ63j8TdAeuTiKS5saOCDIqe5hTE1KNQ2s6wdzG7iliP394/JLzMuHbiC1ZIFnbTJ9eh5df3A\n",
              "Zw/W1F/oEEfTdI1RWrqULIgBcQBIw05whNeRAEWQU1DMlzqZjRmEOZ09h8F7ACY/2HQCE2f+gtVr\n",
              "h5WYbSNT00YaCcYnXKY+jwyISrpPgOGas2r/Xd5ei7f2GOwFb0qP+bWlPdMZxI+zNZ7BRDmCVaKH\n",
              "IBW6yyWZlDbNcVIn/YKuFZEwEKDZ18PXav+znsf6cJjHD6a0oEQJQNsEahYuiVDVSgBScOO4hu23\n",
              "eZN9pzaZa2g1i6XCnOkdKaCjVd3DaFaAHqMrW/fm5ZyTgrsekHoA9E1nPmEDDB1IbRkG4rKCuymw\n",
              "CcxGYgnub+KlMzpyq7pn8BJdL9N7IXNMQ+AZ19/i0pCSJ6TQQmWKvIR+9DS8l5rnbHMJ0w6vK3vN\n",
              "J0vnLFwcQwmXtyZi6FEymJtpWKuFcS8HqNbZM3ajOyspOTyzJq6HiTvETapcRInpnDbB1GCW2RGv\n",
              "DAImp8BKNPPCXLAEJIRMTcLANFZoqTcdouyUDsNnbLS28iO8xtTljjhlExW1hYyBs66JNhFT/fRM\n",
              "WcNURJS3DRcLxnYrJTXcS9aVBTY95krUSzi0w5vGwY3AS/Yi2Q1lGb7ymbaqbQ1Bf9457o+CeLAv\n",
              "nw1WhOu3h5YjmjyM92qivL3OdnGk8fp5Gb89k6mE4TAOi5imh9wiaLlFqb9wK11aIPPUdv+4V9dd\n",
              "Z6D3k2WmLmVARYBXzAUf4k5AmuuzCWjNqyhw202ucx5oMbbLBgM6oERupPlZzREmgXInMH5qJKuo\n",
              "HbFMDJZ5mRxETjl501g8Ug9QQFzFJj301oq2JtrkcFHBRXQqOcnAWfdPFlpyck2kccenQR6QPWbo\n",
              "Biww6PfnP2mz2BezIwMX4fmzVrbEDPhgQEQAjMsoRuzIf49DplJ73Rr/jkATFH3LAW1IDXnF62Yi\n",
              "ZBzljuO5gNMuJYEn1Ngu4VpiXHVfLRonI6JuUhuJRdM/eUgECQuyr2oFZE5yKMCc3SXCjNsb7+ka\n",
              "dWfta8VHvklALrp+uOentPT0olq4hkKk9hp7qv8C0S2rmIpxU97JoRV/jSKONwBllejVKck7B3XD\n",
              "SNK8W3fpEk4L3dLrTJMB3ENnOexnWxAL5KvO2wmcx77gx031NJBXDwPqppZNensesHy6KteT/CV8\n",
              "KdnqDlR8WTLFekZFWhFgX24Ow851BsWJ0whI4JpUrr3t34TkrfKXp7qpvXVb53RHXwq5IHTxUhan\n",
              "X9R0u+Lrb6c0pIm6EVq4uO2JDSwM1cJnqHbt7jkN7982pclKmop9LU+SJctZfQXbT/AAK6PsxexN\n",
              "xftWeI0H9Qn/RlSCWhR5d9mwPdy73NyIqZ77iZr5dkGX+8ljM4PQrMz2K30TYnquBj1hwX52QQGb\n",
              "YiuU7kvu8qd1ubADaV/GKvP+68hm/Lk1JnnI3ljUC8NvCdUpA4+J3RcfWNZXq0WopSuMqtjIY266\n",
              "eD6Ne1R7Z6QxAuo7TGSycrU6JA2yrdOpyvM22majEZWHoSgU2njdsAGZWt9KwBE+8s09/XAvJbyo\n",
              "ClM0BJoqeZp9MxK86Na5xDaQ7vgGSCXdln/o+MpDjUotAE21AiAxxS4DtFRfgnKsx5LvDrsOahgY\n",
              "sSYfCSJ0RztDCQkv7Bt6JTJIrMu6GhNdiMx+He8MG0IPhU0Z99go4nMdVz7DoyJX0slap480XaEt\n",
              "qXHR+AcpzHi7umZRxgrtxiHwepUWLq9VmfrzbdY9uuSODsv5ukixnJxKXA52jPgVSzKlZo1gFVPp\n",
              "AcHlEddSXgMgwgISbdJ7MuWy7KantmGzzSNwBgQpQ5Y19M0tLzGyxoPpM2jo7M0s2syMflOdpFAX\n",
              "+IZr+su30h8K/No9DROX39nnZGOg+OXVjDmBofggwC2DAtQr/JOvscuMqPc8yzVS7M8uI3JGiJjr\n",
              "W4P7mf+v/YAOL9PGF80OQr3uM1TuzjiMRv5z4YJTmSn62zLOwGFs0te/Kppivch9J5Dd1mXwcvGA\n",
              "8UJssKDQFjyJ3t7Zg9hQaqUee71YTr4G6oSIVle5Tv52VWe1p5Yok1fpl5GNmOvaFzbC/OL+T2Ub\n",
              "mQGXOknAgcMG2No7U7yKaoQrf/DcqUR6GmH53OJK8oZ1R1BZ/3WS2h83tKZa/24aVfITNdDKInSg\n",
              "zPpq6tyTMYmsa37LbEZeEPnCSl22uy6DOABcFi3MPdhdw08S2nLt7u49VSNO6khcphaVGY1RXQ+L\n",
              "uPEed+E2iI6IiYT2dYE/ORIkrTliRR2PaRCCmOYVaM6qXIWyxceaaN6uUTn7zv04VOMwESVLzBIZ\n",
              "tGtXDVNLpoZ8vbYDGT0YXS001/FQIbiwkC0X0VlYjUjoGCEFel9IWtdWzNA1Gkr+fQGPiVx7Hc2g\n",
              "HuEdZEc5ZeeSm0+HF7UUipbOPV/T/WpH//w7b6HlArm5NlYfw6Rh5pY4DPq6DmGIMOaMacPGlSvt\n",
              "MIZ9X1+UcLzC+1EpdcbABYFQZIj40KKnNY5WeE3QHYoRjXDe8ZdXNqtwrNs/Rjn+cAWYAcxFzmmS\n",
              "A7UwOvZTeyAQwdWVG1Bs4JuA5SusYj/FS/c29rt0AgQeSd35xR0Vlf3/ffIbWv7vDrlOej2Qq47I\n",
              "0eQsxNEx4on8rAj62k+hYV93vTOVGTw13Nm5pO6rm+tEBkhAih6PUAg4/f9fM1ZcQKZxBZz9bc9u\n",
              "Q8282ZoE8mef6uEgD/Wsuyh1xyQqRf4NlbYwc2IA5fFfYL7s7TO9a8EyFe/TBV9YSb43Nyn9FJ4P\n",
              "4iy4hgDyQndE+5jjC1OP2r+i6iw2EwudqmhJBo2HTnyCr6gL4Jaje3+CGwumuUMGmfYb/6uozlHH\n",
              "hc/XeVs/Nw2myky6uG8YXO2JkqUyXOtg1epKqotU4VPGgJh1/+9pDaj2QRn/d70IzIMKiz5MmKAD\n",
              "3pPFStX6Uc7GDj2Zj2bMUsJz7XZo3vHdyFEkffZmPZsxSwgZ0/v/dyGFt8TUDI6AdYGlJ/l83WAj\n",
              "Hc+4JRNWXNnbQOeLBOeMy5uo9NKyn6T5u6wNHKgjcd+v7KU8bBCjeQHyh0sQzBGkR6Vr4KsS3FuQ\n",
              "F/9yHqoeKaztZ/DJhUIS4AhkODSdjy8t9vf6r6xBvk4gBXrWS9ZW+doK9lL6hMl2sCFsbtUlH1NF\n",
              "veysyICU8HhE5tZ1J5LAGX1Lflu831UGrV8egYcECENzUQGgADkDgMsggdg4rvq7jsL/+s4ZbjWv\n",
              "bmlLB8FJl1G2A+Q+zpR/QL3xShtYHZgFX1EL9d/H+DRKWTiC7ZMnPTkh2QMjMKDZDM+15QPdANUj\n",
              "4vp8nX5VwC3wQ3i/vr+buWsd8MYncsZaFX6i2pxj46PynKBTsDLMZi7Pk3WjWA0CEk0dQK7F2pGz\n",
              "8qF8HfKihn41eeBT95ULI6djgksJzyIOq07X1rbzx4PAhldMj5Bn/bhcqwaZ+lMKtNPBOGQtpHiM\n",
              "kPBhlPfC23Zo3rHB02HX3RPItZaJ4gcCXmSGS9fUlZ1mkKORiHg3nEsZPlQYyWhuNKJ/hAZBtYLa\n",
              "Toyag5bHfwC6k+xG3/FncU4xAuNgKqUfik8CFVAMPR3i41oviCrkEFXobpMt5qpbI9yLGD/PTssi\n",
              "Z50gdmE7yw6gocGbaIU010A8DX3gpmzSAHn0prBOG1hAu6LYDol56CLxfbyyrVrV5Dp5KoEnM0Wq\n",
              "eO0NmrUa7cu4I7M8aZvisQOhCi9thjdzYSCmS6YRpRjINVR8UlKruS4qJwETZSOuEci0ryEOtrgp\n",
              "DiFUHCkLaxHPTt9r73vPosUFJc79r+g/asHA9YRwBSEgjNLMOitncHqpxp5c4eos3o03s1Y6c6C/\n",
              "khZ8Kf/TW4ZxcM0b2duo4v730hvgEwiPGM18Ysb3pKepBrkcz05EklkvYEZKQC4v0h2K1TxkVsR2\n",
              "lb//fgt/i65iAEs/RKRzLE12iHY+iJj37ygJmpvO/WL5QD+WzKvBXBcBX99ZsTZRfwP79wssIdHI\n",
              "QMRfH669sUMSyS+2xgW9+P0FBHyiDBu8C43K+isZGElp3dIREolIkkwdFGTi21vnKcin3X25/kPi\n",
              "UHIydhkVZnP5RES8wmCZtzKxB0sS+t8wS4DdU5Z7GwuQj/y+XxgJPfuKOZYArWrDIb4VCEl2Yvk8\n",
              "WZ3WoFkdChInD464Boiv/LDssva20xwYdgyDi2mx/OJg1pUdkobj3NJsTgG1olYBrjbP7JvpmQHk\n",
              "8ZT28jP6xNDPZagLwNQ3oURCwsqJJCAAAA/d5zp1Nl89+y7pYp0MxQw+9wUHbn/G6AA91r/wL61Y\n",
              "sJMEDFxhjG+kWuBMkp7goFwW9C25lTBkJwV08JOKzVqoYXAhDiHthLRufYBDZd9I7wIEZcrkLB8b\n",
              "dEmDte2OwClJQ/6vtWsM+RPIQlw1Tq/A9wU7hRItTrKl/roR7gPODh+gBb3NCjT+Nj7oABJpmqQw\n",
              "/AFpkNZfCbhHn/ZKHsX9pW1kGq0D7QP6ToAvKY4nWj7Vq3s0c4SHdbuV0NDu/oF6lXp8opTcNBE3\n",
              "u7vUBgBneb59WS4EAtstnBoXtAhPLriB/IxWBIIu5JwNQTT864h2BlXJVm0vy7iSsNWSHP+uY30X\n",
              "HSNFVB5+AGsql2+7PTXPkSoTaM1M7t0P6DxtxBRlfFi4XchypT+RgdR3HXFSM4yWMT4S8Y3R/iGi\n",
              "oZzBcKQqbVqEIlP0AxtW5LOldvlK1qlx2wPxGVqfTR/88Fu5BSOrePjCuSYpqgNwDwpg9xmU8yMj\n",
              "4mTtt4AjDzuXXXoBNfzTLCQzpCnhf/Bd2Lse5x034FQor759NhAgLtXZieixl05/F/Rc+tMvJtac\n",
              "shMoNSrb6uC1hCwb+VtKR9mCr36DjQ35trOrqHIw0+SlWIio/IMPp/gm7Xf9Kvo45gNoEaydFLm+\n",
              "AiVZoaJh0HOCDS3CEoFkvich3fJndpMooMLhZnpw2+05EPX39LmJRHqhts3NQC2YRXIS1ZyaktPa\n",
              "HQ4ZtgZOfi7HTvEQwp5fF512x/lC/adRAWm37tDO14HVz0uFedsLq0MCTOpWKzKhBJMQZP/Rlsrh\n",
              "IFXUsRwKZABTE8b//sO6vWRAlf51fQFuIGnV3MMNwCKbnRU/tImXehFBoGcCmK2Ab46K1hSfnpNA\n",
              "AC3spqRV5kdnS/t63u6ESeH5h9jffhW7N/ToJDe+Fj9r5w/AfhDyB1Qy2uwEeuaE0AFKhVWJ/FGw\n",
              "TOx7Z7cVcDV+TrEzVx18i9pAGh6KRoWOcAvbGEvpHxn1PfQ5/vkDJDG9SZEsztR94/wrTR4vZk7g\n",
              "Imam3MYH3Vfoi+SmT0LiSoYPOO+inAeuXLXno6pvIWIzqiRk7lewiVTIrGMTGO13obMWcIDDzpcX\n",
              "cFoI/SMT3oY1+WlQGlh43MVWEQZEVO16E9VVTzHhGBrnMO58lOiVpHyGpCifehtYVg0IgAAJmilm\n",
              "BND0omu/enNnfRzXJBaPERTIoTwIwQWVKPkm3GiaEWb8c1fOsdgfLTzBWVDYKF8cMC0dhAlS/lFO\n",
              "fkuXbO6RXS/XJxE8ChtGQ5DqFHSwSIXDFoZZ9nocTiuW/oBXyRW0ZD7mH9PWMerOAD2yEtYMEZbr\n",
              "Dbx0OfxhyCVe44h5tUbymRrU1UFj6u4OKzjSgheYHNuIKibEMIPMV8/+VKylA8PEqkKCTwY+DURs\n",
              "n5FPQOBk5J9uJM4ag8CGzlga9w5gGUgcKcbkPRLnlWkc5uF5D/duUeDQCzl42dUslQzzxpSMTW0W\n",
              "bCC16M5uCEM/13UbB0ZoMxu84qBgpcnJ+0lZb+cf8fvcdb4dxZvIfnX6fMD9eCchVzzyzYAGytDd\n",
              "hpKLG/x08UqMklAsjoglNem1fzJr08Ww9rFsaN8++usAu8Rx3mnuuKCUovdv+0Cm+4PtWK+2du+M\n",
              "z7QplC1Rn37b+51lzCbMcSW3YrEPX7ryaVa88e7Hc5gMd7kx5ak/9C2HVPy4GdqgvCkwidC/MkB5\n",
              "O2ldMS4oEjlzzF2ucZWNU30K4uj8b4IlFJi25JKs/ZST2jpCR21ghyAdR8Ji538hp17nJgnCeSuE\n",
              "tvpJml3xOS53SIwb8HtPAdJs+QBQC5iLdtDgJ5tiV6zqVQg+xomgvW5WA/Uq6kUX16ORQd8AGXwV\n",
              "VOdqXBVzFxxgyZ/Bzg0GpGpVSgu1tS4GTPsmn////zJJRjWyMJAnBljN2wex1yHrVGpDZUcHh2Dq\n",
              "OeEkoBrLuux5Pukfezp3UJAE0efryvZZnjE3c1i+r/v+sh/OZyqQaM+NMwEV7p5ldBtGz7HHaljL\n",
              "YiTqUXS+1RGrutbqw7sUrj6wMEMGi6VUCRchGaOffX4QQ+0MQtKjSRhapV+jpAUlX2/xrzBzmz4M\n",
              "s075kbWlz/byt4AAAgHPCBcwJ/KXxPktB7JsSD2uqHysK/6l0eKfyxv7SmG5zXzV/mKgChoIV63s\n",
              "rFN2k4udxg/xoX+jUbWOsC6WLcqP6IGAR53LYyn6+CfWZ7rsBf8tjjFQK4wUU9n2X3Hz/p+ChM5b\n",
              "p9HK/cHXM+ClsFFbxqJl2o3osXQBbxoKcv+rjAgc2R6ph+vx/0/NdPOAB6Hp9WkmqTai94Ksceww\n",
              "R6U1z+nAiLfv/rUoWYl97aeDx4pA83/vmYOJ3cWKxRRF0+GRe19GI98wjKaAlxfO1neztTc0Joqu\n",
              "xWn9j7egG5a7vUKgh1C8If2n6tozIOJZ24DcvFGFXEVY/+taoqG6aEzwIIadku3LpRnIp+iGnL5T\n",
              "ATGmOUhLczuqJfx5QdcZH3EmLDZJRB8TbSRhd7WBzxzZ8g9RQR4FstMJqEI5nnAJpWONYNR5bpvi\n",
              "8DoDLRyfzSB8HwPI5qryfvreyt9FV2cBMDF2JaznvRplz6yHOT6cntUlkHBgIiWDIFcdhfpd3foT\n",
              "i2McvMMcfJtlbrSuQpxoytTUhxhkX5AG5Ecvkm8mxwJcCiBE3KgHLFF+UXXnzlNIAG4nrPvFulfT\n",
              "LqTgmgDi9bPzKwQ0hF4WrMWvrJYYVD9gMUET9DsrovZh9g5awTg1k0+Xz+Oy6CPYpIDuuMw0RPMA\n",
              "SOzW/EYqXkPSsGZ14j/P0eW+O4LRcEPBTmSd3qYBewwiX1+bNqCDT9kZhWepvXdyXs2PHTPQczxP\n",
              "r1FlOvW4HBG/3MmB95HUCl1gVj+ug1uaWp0mncMrth9JhyIrKAA/lTgRXvM2NXpQpWKdq/d1JUyA\n",
              "wZ1wCgJYBiz2Yc/2PITiwSY5SYKI4zqSfcv+Po3xzX7EYamiWoP639qxy98fgSXMDlb9yrgtuwbx\n",
              "47Yq8o3+t/09Tkr4c/ChWbfCMHv/6MA1ydvVQnXQhq2HCwfcsKaB4AAAPIKwQ/UIJX1TMDgAACmS\n",
              "2UleQ3QvFPpaItHTo+ym44PGy5IBPkglS15dwZMp2AWU9V7XAY6JAWk6r8vX3hEMWhV5RP8kU7xf\n",
              "H79q4VpFNLydMZXu3G6MsVL31Z/3my4dV5qr2dWpG+B3NXkSqwaom77m08a0l9hedIMOlhYn8ASN\n",
              "VU9mEjfY96A8zfJ+nI0F4YXygOpRigJSY5Um6tmyqKqwkdFbrhizEo4zRyk5yV2SdbTR6EjZuuQG\n",
              "YBvtFZxM8ogE0Ug1P7xnHqbz9IwB5dqUv8iifma1fFrZfsfQh6kphxsya2qCX7GWo+wYGK+Md6iF\n",
              "vRckGu/lNCigIOOEsTjCNVe3lcik2/9C9Tv/w5N0hLUrn9tK7Z2ExgdwUlxMQPCtEV40V/xcVPVj\n",
              "9aukXVz0N5dl1noIoHXR9Bdm55+1OYmxFPT3ZDYq0gSHCm5K28kUrXsEuJQ3mg25sh/176npildt\n",
              "VhdWEQoTyLPZyUgMsetYsILG1NGTLngdi9SAY7aPQUj536HctnAWaPkHSkdWLzFZH/6ivdon2vE7\n",
              "6nTsc7yB3Vrom8spH/bV6aBh7MMrq7AcZkNDp3b2+V3JHM0BgmQyi868NOqPYmrUms5QEWllSceC\n",
              "svI3UyVHxehBAoF5hB6XZWI06RaeGVVhwF28cU/YxzvxpAqHG3GT9Gf9/5PQuRsngBc+VMD2Sc5t\n",
              "K3gAAAq1u7r238ffJKLcHKaK700n/HDFh/9siKnOvSAv5gH5I9rb8HiwdeB089T7LXZXqXitivSm\n",
              "G9Qcm5Nu7pYKTOSR+BPn4362/bcZpdzMUwVcvtSjcWh0tdXomRfSwA0NX1wH3qec1zPLQjRRz9Xp\n",
              "3MsCCgVQu+6nZc8ARCC1ZmzytYR7XwO0nW3fkZ17q9cXJ6STwlp7NINiNSyMh+ccFqeFeqfShAOC\n",
              "UjB9NVBP/ZgiHJdiXRrcdRPHD2biMW20MRar5LLidOO1sw9cUGG9kAfMpAD/OUY/Jj9931oLfqS0\n",
              "7OWNdVFEnssCpLDO54pEC4V6drKNytxcqFdJZWcIdmYfCoHuRYeaxJl55biC8TfAfVroiP0FB937\n",
              "3CZUjwZA3rZLBA8xkVNAwvz9gA6p3BQ/l0LDotvXJNgycL7YsMFXkXqDGdw1oa/VcbkuY/TDwUsJ\n",
              "wJM6nWf7FTnoK9BJ8Qxj7FwOlkIyIJ4Os7Dc8MMOyNR+v0Qv+OT/dPBLkU9jDmKWbfrjBl8mIl6D\n",
              "iMcgAoZg2eSn8A8nytqqozztDD6fEcsBZyq5IWqQPX3HCzTmDnc8REpihmKaVJcIdmTFHT2ikRlh\n",
              "neyaWtFmdN5VA8zbMc/pmXoZNAkbOTeQBFVWIy0I2uC7dorvY7oryKBLP6/KkxVt+pqE5gR8RM3K\n",
              "alxAXyZ535am0PuR2DDFanmFjKvZnGeTYhCmDIdp+peKox0irvkkKXzb45XUIbgVoXTTN9O4ehFz\n",
              "qD/x/F8xHR11tobcaOKUCz8IKsBrvWcYBEWPXM1o/r9sWXvjOFecD36kMGZupjAIa3aJLFCJXaa4\n",
              "c7/6ZrDBwiSx2lO7enNuaOyyklONv71uR2DvDQi+/FsarLzTqU2gAVeoTLMIGXkGLN0tpA3WhPJH\n",
              "kWdg8bbLNddD7zB92ZRJpIhUN6xj1xe+EkkqKO9XC/ZJus94nbY4yPf+RFeSTY9ixu7PlQphbynq\n",
              "m7Y4oe4ssflz2m7w9vbqFUWMDXJ9AMp/ZmDSrCeOBp7MugloO3ip4Gr4K/hDAZeRqqQNgfjWls8B\n",
              "QQtDBJ+xnwhEAAAT6AAAa0EAAALXQZojbEP//qmWAQXBDgBRGteQRZlGBzYoq+jn4qaWi+7LVK/S\n",
              "PB5n81GmQWZ8M2dtWJfREsF934BUEGrbI1NhtvMCukrwGO8RI1OgY+puP0PNFGJbhcHpzToAVEnl\n",
              "Dy3KH5domtDTZvVlAtQWfpTeeFHWeJ1RN8yMe+1H6XaTYOEhvVu3XI4U7CrdX6eQe+LCbcHnuQq3\n",
              "Em7R2g9NPVGKt/YxHt6ffJXv8VyV3LSBuxmAtDbEYBr+eSzXVcAtRqnhwC+K3+FBJ99D+JSV6NEf\n",
              "Mxe77k1/dA9tLWxirjoNsN2pHcYd4l5/rY3LbHXw8tdMhF9iXYMS3Iw1OqcmxD3KywJB06HMQmMd\n",
              "qHIzpjMvYfCtEJKkeXojsZ3RRdjp8jLQAkLOZprxb+pKz16gqViBvFcZN69etCth7WI9z0ehQOzS\n",
              "pZGmZV/MNygpbYrCKM7OGIXDTPbwq/cc1qzVLcNWfx/6H75AmQdRvLTMQcXyGjrq/5UjYifSsId1\n",
              "njtPIjQKawTlszt3jfY3XsB/6ebiKuyyQZx3cewpr5rX59Weanj47XYxjkHrSB7jWzHfweOe8Ewj\n",
              "JLCWjrIJEwgAKbHc3W2kkI8bMdfMl+fxQvSDfSru3QkkuJMFXfFAJ0023DvMvJfIJVY9yScsv0Vt\n",
              "7Y+oKzmsdz4FdcH2z4JCq+kfw1OzPeJjscc4Bmg1rerO9R4+gweu5lVa7P9TkflfRZYy9coisVpp\n",
              "WActkoGMdr00U+jVcXcKJke/YlaYnl/07HvKq6jLjIyqDP15MZAmpuoE/LVjCPHcTv4/cxOo0Y8N\n",
              "Ux1mUcdo9wxPAv1cXYs+t22GNyLsyZBrQWQ3IgBCNChyXi6jntV4irwNnYK/E/OjsDhjiMZFOZlb\n",
              "//HPw1yC9n57e7VA6xB0zFQIOIDRRBwUHEbuXo9V/lrUObgvSdbb0jC3G5fq0cgR9F0zRxnmq6TA\n",
              "LYMsJty+iAAAASNBnkF4hv8An6e65vNiN/6ciUSBJ4TzwALkvroRTAAyDvzleFKzmJk8wATEcl97\n",
              "sPCFBOjHUUgp6f0X9jfC0rruJTige/OOJ7EJKnL8mPozvjVeoCajchwqHNO0rkj9rdseI3OBLyPj\n",
              "ykeJh23QLXZ/seMLQpBND0n9O98xYqIBrouQR/6hjA/erjidJTfzOT3ldSkDmvtgz51YgrGosFoW\n",
              "+FxJnOxFsIVLlci2pLfQjXlVT0Qc0nQ+bLkYe8zk0IhoObE+Xogm7bOi6pXLqtj17MOoaBwxWz8x\n",
              "6VzT8V6/x0usJJkHLeiy2asmihnUVrSiPL990G7wZEpLI7SXZhJfKXwu/JXBU1WGQEa77PWSQB82\n",
              "y+l03r6xpqf1jXSkG1qo/oEAAAEPAZ5iakN/AFv3GTM8aQAgu5oooXpfc/OI6hjANIBwzHpPtiTJ\n",
              "ihBCRtIuh98RKvQ17ozsnNIEw/DOKPuNqO4zh6MnJ/aCU3nu7r3obhA8Z2/dnhLcnd1vgoasq3ly\n",
              "30cI2Kx+0QuY7TS2O4iM9FduUmTAopoeLuZww1pskpOSWEsjDCx6T+jY06YQt6/ZVKPMpSHvwS0C\n",
              "SnVo+tFDAeUOLOLsveskAXhcS1B+HasJmT60WkXJWoVdPzTTgDyXl4uHszIxzoRtNLPo0fCS3TfQ\n",
              "IC5T2FeRw+3qiXso0IZw81HGF/L+BGu9+LONNf5AsPfcijgp7YwC8FDb4n6q+04advDWBrIR2hpz\n",
              "zBPDphwLaAAAAoZBmmVJqEFomUwU8P/+qZYAgARgAunwAXsZXPuEsrHtQjIwoOe4+TtiykzZpNpc\n",
              "I4lGva2eiLix9NFGmBOFfLFMFADHZOt9KoimNoFOXR7XM2UsPal8v2BFyr//mTjUwnJXEABK11Ar\n",
              "h4w7thek2JSs+pozG9oBXzDzkPOYeKv1xD/N/eqdGjmf//qd7hStcAqROD5RH/3jCszWoVGJBzkc\n",
              "F2SwdD+Vf9T4EgXuHc1zS14SiI2hmChyJDVH8HVlVNE4732IudUIrZMdoH0hPEk7essGWJvDd/Bu\n",
              "1KYG43vuawkNKKrARPSP/FVJIxG6cw69XuuF7UDznHKfYrgYZs8Al3f1BflCrWhIo7YM5pzMDy2o\n",
              "UT0DAwyCgB12xdkD9eFBBwNxbAcvUoGkJ1OXsh2S2VQqaVbZuVDWSoOrM1nYrBOGfbOWcNVBRueC\n",
              "Y+QiZE/EcDyXe+yFrir5/SIKsPCVDL+du3QqgFI9HLECeSPcAdnacLk6UmdV6RRQ1dzhTRLIN1su\n",
              "57oph46Qs44VpnCwcavRqpL4Vnuu2/Lakf3pl1RXJFZGSCF8at2DPLSj2wiMjGXMIrUDJjpx6kPQ\n",
              "Y1HAwnxEJH2cB/3YYm3uvJ0U54CKUH5hhrJOWO+xJbHYEA+KyToWGNLAwiD24pGlaMAGOEhtj2AM\n",
              "l4poG2Jh0E/Tdsyeyku861NSB2YBxkh67Kve14QiSB3fzE2qkPfTc49x2IuwPBD1fV/5Q9uXxqyN\n",
              "H0riDkL1lZ1J4weO9vy8hpIsnQT5VvbiRXIt9H1/gqc8mNzwnG3Cy4e0gLP7xuKhvdJaOqe011dA\n",
              "pHLOXRRmZ1VTsHvKWCFt4fD7aAXSUv5oOD3GDjKBAAABIAGehGpDfwBb8MnNiY/IozrjN0AH0C5/\n",
              "kv+JISYq2eJrr/o1iD0ajTeg31IF/IkwcYlLBizJalsVbU5DzfrKUcIAbDcPjNZ09WQ4KGgLHPl2\n",
              "MZBW2nVEHqPSIBiVjxnF+JRdSJb89he95obrYzU6JIkkqTQdqLt9sbTYOOUlaaH/vlnKfhvS075G\n",
              "OjZY2DxaLVK7P4H58sT0qt3UxfhaF44Zw4c4LCxq0NGk2rfGtS7DkblYkjYwANoKNnRui7FAv32F\n",
              "c6fg+PNEkLgaARYb44jmpK2761LAb6LYAQCGjWxNd+1C0oI6oy3v4OW6sWxzW+A/RJZRdigkhOMS\n",
              "lR3lGP5huKi+kro8s+4+q8A3soUfUd2tqn9QdAssvxuoh0BvQQAAAPJBmoZJ4QpSZTAh//6plgCA\n",
              "CGctyWkILAA0JGZ98NhiwLLzeCmrcT1vqFWEnoZcR1Wq/+h+ndt1sLLr90POw49/g7uVYfY5IP2B\n",
              "bJTaVXgrENQ2vVzL2dW9abaQgpGA83s/7TE/wGtyZtzSC2DXCpAFPu8Y09Z8+2C02sylvrVqz1gI\n",
              "sb/p+GQPMCGwlciEemRzzBpDJ3dqD7fGboEP2PuhcwNvJ25c+b7lj9j7q6yIDtYlvB0pbNwE4/qD\n",
              "mqxeN4fnGRwgAJ+dDd9K9WrjIctIJMr/FTIpf1K+JdHtTtLEv9eiGhmr6lz4fVk5A3FD7Y3wAwAA\n",
              "AVFBmqdJ4Q6JlMCHf/6plgCAB/biPqhCofAAqc0/2zmebNtzHVs/rNqBL0kXNHJpLtdm/5HfnHzV\n",
              "9OroIn2ebpv+NW696P7yISwQD3wwpQbXahkD+LZfcJ5+kC4oQAkOQfC5mUAXJfaPVmSqSV2PpP9f\n",
              "Wbdzy6oWJdDBORzEzG9ZXvu4OKdLIOSsQTKILnjiZugTbrzQP7BBpDLd1TBMyFljHYAHemRxNrV8\n",
              "ruDoaTOgtnWQ+lNo85TrF4QyXV9h48uTCqSSnOYdHCoe1ptxiQjHLjGV+qO+vVYVErmRVfOYa5zO\n",
              "iRl+n1+/ETGfiDtF6v66RTxzBnskr+lg3PcY++4c3ySef9cSHEJJobKZurDddhQ2TrkPPylJosKy\n",
              "4cwfjJLGmjPEWHwTz6yJS9F1jkm3H/0fOaCWHHtvCT6gdf14/CKPXY3cBpt9qxVDXg5BFVPhAAAC\n",
              "a0Gay0nhDyZTAh///qmWCu1QdRMWI43HqOHqnJSSBV43wAiLgkuUEfxPvkfnHArpiHjym+0ntswa\n",
              "SBtAIYzCNYhRoAFdUJXfeVUQ169pjXhrWwrheo61tTs11KRsnbM+xG8ch/LluFolNypjNHYMsSXP\n",
              "gm2fowgtQXSEnjuJr38nlHLdI2V2cx8w2wLjnXi7B7Q4NJcQ4mQf23PDM3/kEf9SDqdbWgv5mFNd\n",
              "NrRO4r10O7ruUnKvCVOHjj0lEtjzmypNO9L3dlvlfHq8t/xLkbSTVJJ/pYdHBzQ0kwGhQKZ7J/lD\n",
              "pSIadpXo+zqXrpgGeM+QS7ySg1bYE++LKSKSmVOeNT1/tmcnzb2YifJe72xxhXK5QlmW4lIYG2sA\n",
              "3cXe4d6lI014AWI/Wgr9chZh9Y/+E3YrsjuXm4mTu2c9TvadXVjN/EygjtSiiaf+mjKwbXapaIOL\n",
              "0i6LtdHh+sfJEZZzLes+gQG2FAsS/1y/wjimcEUcqNn1Fc9+UQ+4wg9JXmjpN0/vuvzovco16xke\n",
              "yKHokycvstcj8B111louMu0E0WfVd9F6vXRMIdKVtAP3QvDRXVBF56tisamUU5owm4V8ux2Y4xel\n",
              "OF9jiFwRjg9q4SUK5dyHuW7qBZ4vjsDCrSlQR58A409tT4LAuXZIRr+pYR84kU2OjqC+EaKH95m1\n",
              "w5LypFChq4sShsH5Md82k8KEMCW0maPkADXi3CcvxfwpFeinkWkvW1BdjdpE84Nio9rfSDs39nWq\n",
              "Pb6fIVjmG6hBqvWsu1NkLIz7Wed+ITWtBAFuDpW/wgOuE6atzFW5yHnuwepfvF1fnHwAAAFaQZ7p\n",
              "RRE8O/8BEKwzzCpnmkig4sFZHjfb9zRMABYCogBxfNpwYlL6tG1B7gA2SY+t8mIcRBG4C+gt5NCB\n",
              "et5PBOx9x4YB8N9kFmC+Jiy2ECS27tgMkBewFlenyg6Atk6X89QaKgsmVweeMLy5T52SUoNJ+nxn\n",
              "qun3TuawOS0BjP/SrCGAAAQgh7tGNCY0fSwDlA1e+Mv4TQG/CYNn6EPtEC7+LTQpJoYwm/h+cpy3\n",
              "FFCHzU5wMdw7FD/mqc/LHsMn9sEc9+Ge3RxCcgDU6zTlPV7sHj9cZ/ks2Mf918Knj6FTfiK2DhWd\n",
              "+izBlLsxTIqJG2w1DxAVKvfomgANSeoSa3oVvv11qx9N+/7ZjsO9U11v+0pVB8SmcbGYJAwGXvEg\n",
              "200DcmLL8Pzk/patzU8oF+o5CqbN0vRY93cza1zgsiI43KmpSt1/xk1xuVrQGcZeeHTqngkxLGXD\n",
              "xgAAAQsBnwh0Q38AXOhq7p6ADX1KXOGBC2AhGm6H2oiTqjW1i6xQbEztBklakS7hmlllUg7KtaE7\n",
              "MgyZU7kC7N/semBBKZyGY485yShh+ElahDt3gIkdK/NyVbgTl1S+YAswQ/6/Y4qZ2OI7+YNZ+64x\n",
              "fjh+O3WobYmsU5jbq9HCnU2JmJWRGTKyhKyZiRFDGzypROHNvpWO6nYRJek104Cgg9mlYA0Xlbwf\n",
              "Jxn+jKr9+7dGVug26zESKjJeumCUJAh9DamTKrbz/0+4NP6tSZQzSPWBVeUSbaU3Q16SmY3b2JuH\n",
              "khRVn2LcuhSyIitEujmif8g4tsIK8lIYA9q7FGw7kUZp980h98/C5aDL4d0AAAFWAZ8KakN/AX/0\n",
              "21aHAQjnI/2Cr/iarnAJiyIDgvkgAbVPv/bmp97naD7vwfSochFQo5DykkMBhb18p2mOl8SBCJPM\n",
              "Kn6e9lehq4NSYSbhrM7qq+mmd/A4beQFJuFcFOaNpEn13oEEFPd7P0HY/ktDZaPi5zIUlE/msBer\n",
              "dJIdvtlKxEYT/R+UeFg1TM/opncHaClO7qVCtNWBBgEacruk7xrkgpA6qEPk31p2YEiH0PCiutOP\n",
              "6rNFyCthTxyWJFlAa6xs76kcep6FLO5t+z47bwnwYGZWBLE7Z1Eqj7Ht3wdOSxH+Kz32agaM7oFA\n",
              "WPDICnqhohaL30zUg6oqxNfynFLty7cT60tvvDxVqSiwZ4n/aqMuOX/4Ca4L9w1OCnrqbCtBbHrF\n",
              "fkLxmsRAk7/ubiBx5+f/EQJzslY+TQAfx0NrvTVf/T8ABxX5Gi6o4xPwGK3wswK2AAABskGbDEmo\n",
              "QWiZTAh///6plgCAO4dgBVpKghk83+z4UNlupCr895BQfiYi09YZq4PtxO8a7sWFw639md8fZw28\n",
              "Il3W+C8dnm/gcjlfts0Jno9KjrVFMSZz6K9yoAAO/PpK/FKhI0PdCE42fY55Zl5a1FmawhGvftLv\n",
              "QILYah39g2OohTL91VzwCFdfHuGAEft/UDSvCj0Gl7jQslqOwqmXjU/62xXF3wHhaWve2qud6ZFQ\n",
              "E7+Y2U8MS9OyMGkdRiLIVi7UFf6o4bgA2SXcW/DW/9QzjdVsjaBRYKe05rCX79BiDYAYHpLlZgz5\n",
              "l80vMl3JB8FdSWJEU2seH1fXMksHnCh7LJT13LsXF4/jl/0MEUAL37A+xIPpbjqbzLGSXvH3issz\n",
              "YRwfkHme11yzvvLBbOIvoFN4OONjBLFY/Y0XGxVmO08NODh9tTvUc7qjbCKdgywEtTOgLlLGuLjP\n",
              "tZqX5EIXE23VvjxWviZum5HEY9Fjw4khSbQ+AlT0bNLpzysHjEP9qHOVGsq3q+4QO9gwMIWNRtUo\n",
              "hiG0JeuiUxMLAz0xZe7nSjYcaLCeJneu+8tIvsUUAAABa0GbLUnhClJlMCH//qmWAIAg6sARuy4w\n",
              "n2oT2nw36nDumAreXIxPrM+fyX+K3bqVPMitiLbO2ciwkyEV+0Nm3ad+g7YMCyBejl/oXhnqarEI\n",
              "Q/wBvLTnFun3P5x1X+YTZZc1p9AgkJ6fO252Wjo+8ZCa3mIr9cg1vEnDubFv80+9ed+qHuGq2iS5\n",
              "I4COjXj4Yn22e7rEMb20XdF9NAn18JzQKmkupC8xImph7KktIr+3jwZg89bkUQjS3Zp/tQXbrnAV\n",
              "x1ox/PKdFlVpSKja+J/tSZVhPJ3loSygU49cHnTUr/jDtY/p+5eX7e8pfrGvu7q0Y+/Cvq+H4938\n",
              "CAR9C75pv2ZsMiTBCGUGV5BbeZ+p/yBXSI762Cyg1dz1ovGekjgyQBsbvPIvuuOZTUcObL8hnm5c\n",
              "CLKCmYtT9IoyW/Rpwm7m3zszF3Rp94ZslxH4wVJn29VivsMPfZR1m50vJK7f9FzfIQLl9k6PmQAA\n",
              "AUFBm05J4Q6JlMCH//6plgB8v1SOeBNlPOsJTAAuZRUEDBPXvfXY2yNLf+92R9BvYr3AK7pYG/zV\n",
              "eVCzbwQMHfAwnpb6QFcEh5Tcwj6CJ46Mi2i1pe+ghaGPytQMlvBZqFLewuieq8qSPxDmA2p+3Xt9\n",
              "qd1FbmxsUd+OeLLgf2At4Q3YRWUNRzT3kijPrfSwkCWtyL1eh+4KsGQ12flgZiZ0BEgW0J1tiRp5\n",
              "TZw1YmyeT+mgq+iOvHN7A/lU1EnJloUuCIM+50lYkYDf0ArIETyvCx2HmeVV9JVDUwsntR2EuJPR\n",
              "2UUUNU2MG92HryERMKFH2kejm1ebaznziAP1hx5lLfjFuAp7eQsc0TJKUdup4OL2yqganIzN6GGn\n",
              "fHLMkt4II/cVDicDkQRtVRMZ73eMBelt4y2f6Nolba+voaq9CUEAAAEkQZtvSeEPJlMCCH/+qlUA\n",
              "IBw6XAAGQbx33g0rRrKt3r5lc88YhAchh5HPLltRT+xvlxx5CGifS0f4GCw3ejthtcy70jupXpnC\n",
              "bR/loFsGbHVoLhm/K85cjNXTTtdbWk04UCPCDAr0FiesqqGJA6tf48BbAUWmuZSpPTt1xiP//1Nn\n",
              "5B+5KVLX8OyPj2Cu11SnLYnvwbPQZ8nlYYuoVpNv0odMdbq/6xyhqHkBBPErPzrl0jn0QDRntbiw\n",
              "ZmGQTAB9W2jQhHlniqS7HsQ3qWNvdQ/RjJJZf93ZocwAWa2E3A6+6KdKc5hCD9fIzBOAONLIQeGm\n",
              "BqQTrXmxkw1CfAXxpUjAc9Xs0wLUNSObyP1YEe0XksJ4IkLY6rgbFwkKBZW4JLGCrwAAARJBm5BJ\n",
              "4Q8mUwIIf/6qVQAgAwL9HNQgAAKCvP0/H/SNs/916zx+1ctHj/sknh+w2NB3Orp7h/k2Utj5oVGi\n",
              "OLsC3NyXl4poFABy2S2w6fTdaBKIobO81oJB6SCl+MhKmDWxyBE+MgJTffsNifXrVAcGgNTMZI2V\n",
              "dRztqVTAiTKzhnx8JA8uoQVQ5gbODtmK8SOlnHd0uoG37jzoUlX+ojvOTy8E/H9rfPkCZDo8H0Nk\n",
              "w8QteRybtq7d9o/6fB3ZVaaB3FZ5HFAO+pQBe8GgANHVwItEFHUPyfCSulAOYXk+YaQrQPkbHHf4\n",
              "vyOScUXHBzsPpDHFDfSWK6ElY8c6sFE/klAR6/1Md7adVeEyo4QcWxiwAAABGUGbsUnhDyZTAgh/\n",
              "/qpVAF564YKVJMOPWPl0pjA7iECABbF3C0Y0lYBF+HodMaF/mxVHCOg1HQ2DnTn/8xJMH/QFINvx\n",
              "rp9zVEFw+M88++SypICmmrvkA7xSdnkq/F97ExBX2kBcaS2PX7I8ZRZRAzjbT28qSsg/xXN+NZ/g\n",
              "BsqL76bsdIWGomCLy1rBvvnKEd7VUjVwejmiouJanuvHbi3NSFPY7/+O6KCE7VUeVAD3+AFvQVAx\n",
              "vE43ko8sU/ud0bkajOAHh0I92nnh02AeR9JM7cmAYZakQlambHjkhsz/wQlkvmg5kzKUGOD6TXdd\n",
              "S6GB8U2EzwqivqiDdUZxAV7Sam2P+zsdzdrvKzDdI1JwNGOZzlicdw2oAAACWkGb1UnhDyZTAgh/\n",
              "/qpVACEHWuAAiEqdmjfpggtQuizdPETPqzuuoYHzGAmWN0B42OxJJGDgNCp13RzNTh73hUVYaV6m\n",
              "qc98yIIUnMczfD4WTGzomn03DMls3jcfvoqhDTua3NzLcOuNKZDTfqo0HaEe2hwHto/MBrsu8+NV\n",
              "XDjg+W0sziaDD5GckEBHWRY3cKFQBTLcoF+1Ku/zd9IGf/ln7H/DJ0TaDomd5LTRy5dbvGg2Vex/\n",
              "HKcSj0KhDxIEb7RPm+AKrQpNMl/46d9dmginpnhXNXTiWAFOMEAK1EP8YbTTIFHcH/IXwokqcjcy\n",
              "EkLqrFH3DLg//RXP/R3oK5RQuYhfkKglSgq8WxskGtGlJtlO7fKB15z1OpS8G2r+NTHJYaJxY+Gf\n",
              "G+5pK9+XHfymoHUyTq/zRUsIRplmqcsI73hadODo44/98MpdPdrbLDuX5dwYxeHdhOvJsQkqY82I\n",
              "J02zqpcQL8JMiNIOyJu+0vbSbtIxnJgi3uARalVF35C3fXf3EOCXYVPId6ZQFD+pqo/8Rk1FG0Yc\n",
              "0rrb4z1E7/0wWwJ5GIVHZ2qZtJPKoTEyn39TECSP4cc5tZFV3H58jjsaZ6EHD+KiFrYWKDf/Elim\n",
              "uU1cBwoZ/wsvay35Q5lEgi/N1J7lujhATtIlUKA/yxhn5Y8HElfB0FJLhpE7vRvDC/LiM7u0eayO\n",
              "vuZs9fv5On7U0ALrSqCIY6lB1h9vEzGMi5Rrhb6PTV5ZXBFMV5f/YXcrlDyczr7wsKHZ8a/4Qwhy\n",
              "l8dqPVe0PKAR/xcSUTvzXK6exCthAAABcUGf80URPDv/AH7AA3wFpzez+QxqyQ3YFACBmU929lIe\n",
              "lzbi6C+MODCY2LRTP5z12ettVM4b7DlA6H/MdqvrzLf/PdYbOPScNAcvQOMVkJBXk1bSC2dMwbPU\n",
              "OkeA+2tPunalAluFiUuAIZ4giBpnnUAfOqYBSqhH030Di0IjbX+jFz/6fUVK7B1XF5VVkQMyT5yH\n",
              "huFV+l3gWQKguvZRAdHDGo2QyOIMFyfaej4y57eKwjtz0wNDo6WUfr+rYMQ7asuO8g9wqVuc1M0/\n",
              "cEAZAebGhskCQDpLP/SzO4F0/scVGJPgyoC0W0jZZUwQ7qeTypa+K/CQWB3DieEIxEuIKJTCN+uO\n",
              "YYRXEmbe/PFvaHo92T/CzjYgPj/BLOXbyfcaq5CZODa7bDt4Hdt94KhjvmiFA1DwOC5oJkaRuyDW\n",
              "fBp3fDbt5QCO54xGSEwFiY3HLwdmaQXfCaRyCgLfD69HWmBT8NxPAD2gfyWngHlFZLuK7gAAAQcB\n",
              "nhJ0Q38Aup31lCX5MaxAAOeWHJMGE5VFgXQZ6ctIAD5VzFetanGrZRkMBvqUCp2N7cbXKCaMS/hF\n",
              "Us7sPuV5hTkTAx2TmMeiwlv/0oRM6XmNVXaD5rZxlFEbS+OtXyBup8xbks7e/9wEBHn/p5QbHjny\n",
              "BrRihF0ESA4JMqXvGJFNc02EBI0gxrphd+U/naJ+0wvdRACO/fHcfzfyzdPzmOGOP4uGzWr7tpuo\n",
              "tLfOH8mPA4GPNsu/WYQDE0+nIIcN3XzkXDHFBUwSk3EWWZofBw4tAEnPaJKUWW0qr3rnq9U9wYne\n",
              "s/6jJgaZczbzdc6fM2iVV6m1ehwPKmyv2slI46uHTn2h6QAAASMBnhRqQ38Aurz5Ig96soNZFDdn\n",
              "ABxC8F5UxuCaez65rJhpWaqGL8z7DLGySvj+HptP0c8fL5jewTS1tOtArsQdw5/JwfcFEOFLTkSR\n",
              "nBMr32py8ivwbGi6uXkVz1trPHpLKxflOexRNjNPdKTanB7a0PvFwuavtqMY9Z3K1rvcozyygh5O\n",
              "spF+Z1gzQMa6vfw76+vfRHPdwx4WYnMCSZQCVE/MXTeeTG8Q0IX/hvNBiqy/qH97Kqf+j/Cwdhq3\n",
              "OJmG3yjknUqQqo8DYhRAU2EQ+Vnc0tyhTl/G82Ae8b+KGSS/IHEDUxbPKhkVwMGhRsHNi/a9gkPK\n",
              "ydVag00faCt+IBzcXNWBd0KNGeJTkXj0QUalumWtGha0ZpC/jCWU9rckt0kAAAKJQZoXSahBaJlM\n",
              "FPD//qmWAXnqUPQr9S6OJ3bGEKgAoR1b78mcqYSey4yH3vuYPwhfReihO2cbmCakBgwG2tUi46LN\n",
              "lAZ5S6ou0Z9TQnMdDVNWMgh35F+AhqyDgyj7/5A15BI0jDaDI0vNUhKlHppZ6YEdBGOnpup6EoJs\n",
              "5K5fci7Yi9RThsbx0sWLE9dee9wyoPLbezv0scCqyRWZPff77YTltEysrIX5aQL/lDxf4W7wsZjy\n",
              "VUDyUhkvxcr9RQEH8B3im3ZpFkZH65lYrylUa6cNLa6hrIaFiLAxRcUA+zALPld/Bnlnz1C0GD5c\n",
              "ihgw/vs6MVZ1Sbs7YXBRRERsc/1U+GbwtHEqpErzpIJq8Htoo/ZVNP2MFvT8XLGGMrq2XKtruCw0\n",
              "u+DKuN26D/oMo2Ohu16UI8goSg0kKHK7gwcmirppX53APOJH298rKyST7UJM4Gl9ga2SG3KqmHXa\n",
              "d8hapTDKnfJSsLMMnziUT1cb2byuZDGSO155fsCefNsAXi0fB/d4sbER2IAmNH4YQkOxNTxrH9OT\n",
              "hWRKI6djAV0Ir+VsHEq3rcj57UbtxBPdUtWSZ/cR67JAuixMVJ6CXFVuqJV/RwjEXltFTGNTosL4\n",
              "V41PiyqhvCaSegokAR9wyOv5tlxt3PJOKTnEAunRHzqPlkT12lHo5ofDdayDB2gh2wrfy3RUsNkE\n",
              "UmDNEe1y3q3GitCpx63UBlJ5cjEPfBREHWqMn9ko1h7SBvwD9/UFIeW/+TBX8qsrinIhufSX+Xk5\n",
              "6+SlY2HqQVvw0clsFMS2/EHnE+Ib4Fxt4B5Kg1HaNWkQSw31gtvJt6nKb6KkLZEj6o9ngq/6JozP\n",
              "9ULVVgTM/P87Zgoj4AAAASsBnjZqQ38Auqda4rNeCLTABdj6U7fdq4Jw26mS2jRNpgFz7KLL0TN+\n",
              "zgMPk/P+uYzPBG7k49K3EV5eQ59ajDcZtAHGkOxAoZh+a3GfpD46KCKhhPC4qCByfAcyyJ0mqpKp\n",
              "1pIoaD+bMnKjNabKlOW7khmM9fd6DTL2RgIgtQOW3bEo0NNjy16O+fieoa1qtWZxeYRWIrQiDNf+\n",
              "HtqboJ+QfJ/rJR5g0OPE5UaHKr9b/LkucD9ypaa8XCgrqLb2nH4eWHGSwXM4H7pADbi5FiWsKJMG\n",
              "peV8qqtl4Gbol0Kg1Aaip4f89oDh8lsbRWAxOLqomvLp92BrN+K3t9Ju00OMVOqo76StSNwuaCXV\n",
              "L7Z3EIlSikpUOIdOUZd1vQu0RlF4vdjwj6aCKoAZ8QAAAdBBmjhJ4QpSZTAh//6plgB9cGp+k6bq\n",
              "ZZABaNhods/zAjsHycq0QXDm/NAnVVg/nnd6xKkA35KzcbfhP4NPiddZgm2JT58D3AdUxBlGBgJy\n",
              "XtNmG/6/LZSjTGwEXFWTT+nApkJKMnjhma1sxdrav5D/FDWEmPB7mGbHf+mJVaZZrUNZtxoUHIIH\n",
              "6S2zJ7hzKYxKfEXnuzMAUq/+bkH07XY2AzZyTErQwWcs1gvupG/b52brQb5LeIXUcMa0vd/uyLzk\n",
              "aTzZksU/zlrRNmxGKir1b5ZgZQGTPXWPmlnwuF/Ss+lJb5jaCgFXuiKNPymXMbRVS3J/x/BBLTVC\n",
              "lTJElyuSASiYVuefEZqwGkR9icxkGwPBbRjMQbCArL2jZPuLd6y6q31Ww9TePWMel/1qBMDEruo8\n",
              "Gp9edsr1Br+oe6LkwXBMcsaqwHYkpoWJ2rhAax32ng8T6VX3YzTSJWatX0E9hWvrELxFOey+I4LZ\n",
              "984tjRj/BBjaQyk57+02XOMdCjIHskapHDfgD4AZAyxR4YeIVSCOZMtxYIwEfkL/+KkD4Rg6RoaS\n",
              "BZI0guidrFgMhnmxs4Ui6hWZtkacgZv8eQRZPnR64zp1dkDHIwZcSUUSwQAAAbRBmllJ4Q6JlMCH\n",
              "//6plgB8vNOaG6BH3/20eABw9A7AbOO8a1MtP/SrVU41JrL+QL9zriQ8+1dtMnkjr3uK0k02ZYI3\n",
              "o2s/89OxF8IldeQOBnUypcwg6OQN0g6Vdv4Q4FvhNOkfL9RyeRDpg/sY/2WWccZkyl2V3ILIsvcg\n",
              "nuQZkURLHV540xo5k+PLdqIqsZJamJJXt91HUk35Vdceats+iZjMrG8Sc9v5WQwGR7Hd0Egs0G0g\n",
              "5nWIO1sRVU+ZiF5cXuQCwrj8HpYrAl6FNN5yE6FchOVEGxTfqDBS6oSdRthp2LmTtfM6oRoa+Ac7\n",
              "z/n4JLCNwmprj+AdThingA/D+g9yIs2yFFYuX2k5L5juQchkpFhhGld74v4XIp/GDhY+qEQbD/jm\n",
              "NyG6f5mYTK3dlNQ5o55lQizX0JE5+G8c8Q0zxweEPsyBUaIeega6lrBLBXVp0PBPzNM/bQ+ZFXzz\n",
              "+MHaFf3L83pFDA7BiYahfz+JLiI17UVNPZj831oNU0Ka6dDexP4sdj0TpcMV682225nEZohYeGb6\n",
              "HpGK9HRqDb9wR1i4TFFFH0CfJoNA7RpquDLgAAABhUGaeknhDyZTAh///qmWAHy6Gy/MTDwALJYa\n",
              "xtEZUo6GGHFCYIDcmS1TUYxWhyYjxOwc70MWp/wdjBzGPk6YZl3fxnz6RkbNUDJgxoW1Vblke7oB\n",
              "hCZUCXr9roXMtAqfa5LJVnX3Obd11eNssJ5xHiSXz/ljgxMQZogAAQPFiScE9QAJze6CWbcIseV7\n",
              "VYettqgASjrIJ7J3MwYgGUkNwAIDOboF9pM1xxm462ejAOG4iFpype6xv6dPne0J/h5ODVbrgWHa\n",
              "9bSuiu240A/Wg3HnHZvlFvQWkLgGFJXUge20CYr4mHd2Mf7TOe+41SrWnVNrhzi+cSukxBMtJuhc\n",
              "h1uKMpRswTyJbnrC5d4hODNf271GkJdwWd5OaUKIcNHkUZ7wwMQnnXN0kjUHmkfjOJwrXUdRH76o\n",
              "y+zFJmXwWF9iLlU6nNiy/DM8WPuKl9vlMUpae2GWQ7EQQ2i2wVRXfXLrqIgK26WSUl/3e4Ye1fVp\n",
              "bW5mgthAXhPDNFj7q4PV8/T33hjRAAABk0Gam0nhDyZTAh///qmWAH11vxWqTbmHAAAZxhH3tQpI\n",
              "tn4UO9x9xfz7WGTI6Jhw8286xq263cTwkOt5ARIY/BP5DdQqNUwZNEteX0M2NV27YWXvL+EfTzmf\n",
              "0/aK6hSHtDF48MWfVXjiR7VnM0waO4sSGI40pomAtg96UhcwqSbHZkJKFFtP95SuA/jfWiqaRGd/\n",
              "kR0Ix78oef/h4w5jmpHI8xB43AKontjwONds4vY9znOyzQQpm7V+mlrRLOsKhAyOOwl5He5c9D3p\n",
              "zsbrxLkE4JJDmubw6J2XMM4r8HahWLvfae8xbRudCqX/MYWgkoe9Kk5w+EOAUIuCVKQtnJ31uapk\n",
              "/HQ9SznjIr1Xrei/ovalEY0Ona06Q7hVuCn7r5xU7xbbgCRqNyf71ifRbcMRKWLu/4YLztjHD0F9\n",
              "l+1nw+n7yJTwoxbAqDN6Ckpt3zgFHgEq63e5kSRzcPAYlRBGTpKKbxZsPxm5aOeyjzcvNxc/OAAq\n",
              "00gW77CyWZ3oM8nbLYanDLn2iHTyHbmFat/FQMAAAAG/QZq8SeEPJlMCCH/+qlUAIByzyJhAAyS3\n",
              "ng/jlePV4azWi098exZ6SQztb/dT0NRmaYj9oJBeZex0fLtnnBLA4pZsj/xZZKkC5VgZll7pKcJO\n",
              "2scngg3dxmao8dWxS5JAcr1UKFl5rRXiClrujHF4gOsWVRSs3OYL72TZrdUxbsn8aMAOxuV7Egg6\n",
              "uUUrRpVPa88eGVQXPCz9/QB73UEOJd0r9wW1K7YlkoGVYYqTeh5vo50V5yoJWqc9qKNlJzm+WobL\n",
              "HfWmg+7aybHlwxY39yMGpUj+b0zJRlUDEhqcwAXZKzN4xjp+jCJPWefFKCvRjuHTbE/L3s/6qUbZ\n",
              "lpcnpkFNj/KJXFZMJLvCKPvJFK11c69KQ4XhrGefqJSCUbGBvbEmoZVqw23ySM/DZEJg5UU17BZg\n",
              "yU1G6KLyGFVdTj67G/xDpTD13vRTpRtbjFHHGcPquOHy2ErKfAjRWIa6DQGIjr7kvrX9nsjeu9dO\n",
              "0IPY1S0X0oDTV/2u2WdUaVNK5AAOTqAKSCVoZaRvStMNvbkm3yV9FErwd4fIPxXN8gTHlRnofYnS\n",
              "vL3pPEyHjAkt/m4U6CwdlEsPHPzfqtOPAAACkkGa3knhDyZTBRE8P//+qZYAgAhfsWugjngBC31Z\n",
              "FZOQzocY1Y4DpUd/TDfNCo9Jo3Doq0mQX50hG6DDqPOL1e3NHXr+4sQvxI3o8A5aVbqniwbyrES+\n",
              "p5pY7uEQYF7r/XH5DtJaRvd4IC9EnocikffHOo058ovK3tJXxGynd3ecSWx+4E/+ydmfn9Pv2rqy\n",
              "ZyhQVo15FftVhu3ytl8RX0N22to4T5ycAqnWoiEh2ZMxWfKmKpYm3vorpGsrUcsWnaslRTC//Hss\n",
              "s9EEc1qC5oA57At3OJG4QasHI2NAbEPUwkn8S8116GTIcy2dEhskz+zz6k9pCmj9F1VGslMk0OY0\n",
              "rJF7ohOciZUhRf7KOAiy7efDgFUXgxuyHnwpAgsthOjf3q0CWeVpIlZxM1/XB5EenfDTOWrvBWpL\n",
              "V30k6knCe1PN07RBTRbPgA4YdMPAvS1d8IUpD9FAwOhcvriiY3Q3/eYeUeK5dmZti6t0G+l8ii9C\n",
              "b/LUcZMKp0zx0/qIH3157EVePGCbehxF1+02s9HZy27fL5U76pmh/ZGdWYD2hT671e8l7V/e1hCd\n",
              "Soxr6h/TF9YRKh/vZ/MeRwrRAXLj5WJwKENv5bK6nXbo/z6H0Sg2rRcrvuOgAyWpSNgQ+PBPzFo/\n",
              "VfrzBGiiTLIhBN9bffcqQhO2EqZlaMc8MLv34a5l+knVDmSIyk/pYqhIlAIqn+LSaqBWK66NPoZI\n",
              "ZPcbPVpK8qL+WHym/2RUtlywJ1pzwZIhqC+hU38rGL9q4f06x6DQtDzHqUn4nX/0BOccn+hRBQZm\n",
              "Ti1+e3yIAPT4n7UQ9ISHpGyO98NaIYofyNK8EDARm5NMGQbcBZ/4u/UfjPKsl1hshF1U2IPQOCX5\n",
              "PLEAAAD+AZ79akN/AF0eVH9JLS9XzFGBZ4ALTB4igfNFGkOJWUgENKVmYVmWStSPPrRyNiSN24SG\n",
              "m8mPiT0EQo4vjmEKAL7DTQfTih/E5K2ZZLzwn4oD+qfe+P5B4fNdF1BIuNXWtBOHkph8nr666NO5\n",
              "nxvpgFJMs3aWz2FcCpocMqkMno66Vr2Iqn809SQziYpI30lXtHxEaXKw4TevnORRsYGcVLBrWxFQ\n",
              "GVo9Ecv91VkNc/IixW85mACqNh8mcUbRx2ElvVAMoZvX53Y1jN9piYywxNt9Qb+9zzT0aZLkGzQ+\n",
              "1YEMWHUZCApEbvHoe6hl4pbL2dzjYKbkcd3TP1BbAhYAAAGHQZr/SeEPJlMCH//+qZYAfW4TqXHN\n",
              "DIAADoSUjqlLri0u4dngIxSYwXZYNI/1RwCNGP+EIP+0rvB48zx+WrGPDpsdGHmuOXVrrGlxlNce\n",
              "0/0nxmo/f2c0L26x77eCxOygf7aONe2NZ7duroOZuDTKjtAvMit3N3PVb21aZFZuXaPPPaz4K0kf\n",
              "5pMw9GNdC3RcSxQwKH0I3sdY0uukVNHgPv3itAxqbWNiiTe1rxLoM0Q3rTm/4Ew+pKcw4iuqP0mC\n",
              "jiHSl0LpjD7uFWr+XsvpN5N9raQV81UR5jc6VuuwfTdOAJML0YsLEJLiNPg6G2tCFsVRq1dnYdsm\n",
              "v+9UEx8EHyt8eSUDTXFoX8BSkrYZrJDFFj5lJccIpVkl4FgYnXPGmtYKTHXIh8LNDXNBdd2I6N8L\n",
              "y8lTNhMSWWZQvKcqCJXmcW6NAN4kHIPHLKZXPQWX0UvooZ1yFB+Mj3tvTnqM4G8oE2nNebuL/34p\n",
              "CUUtm9l+a6AHwEmf5+N3dXo6uxWlwQWuFt3uOAAAAYJBmwBJ4Q8mUwIf//6plgB9dW8L2NIff6LA\n",
              "BcSKY8heSoBuexlNbYy9NImTXpSRHKdgP/8Ok1sAebNCEZkwTl1+QUK/rDnr1cnVmz5JqLHNefYa\n",
              "DIFRCyupteeCZO866HMbqEykFXeIDQG0yF/OPaHceA8/TYYaraOC/L5JI35EN0+nYq1NEDXWSht9\n",
              "32weVoBLWgM8ye8F8PRynN8P6oHXc7yMjbLsQHMvSWbjFe/ExzXmV7VJJMm73ZAjAM59Iug5Q4ut\n",
              "TZuiNpdTjLyoBvziUd1UrWOsa9CC8UJwevlT7cnANKKcx7CV154Vf0vPqB0d133DQEgBZZ9ScjaJ\n",
              "PUHyh16lJWfgE1jEuLfHkztjtyX7ksFk+fIfEgl8GBs+vaJu6Jhtzyqjnh9Y3j2QCciSPSupjrRa\n",
              "wn1wJRtPE2yuF6UHX35LLurc9mXQ3QCJTSNkAsDcHhJb854Ykl/6E5mbUakjfr5tMnMOFhpQswKz\n",
              "69NTJyUua/WVErYShgzKrZhrjwAAAdtBmyFJ4Q8mUwIf//6plgB8upyqkcPAAx9FMA2CFRa6YLcJ\n",
              "Vk1k+DKmGd6tUvrQZ7InHrknmigmqjs5A/ADSN2SoED9GRjfmN0AL8dNpdcyvGjwZpu/GsyzMBDO\n",
              "R7xxCd/pNoNj2rUirlRfnOKymTU7x1V4865exMBf5iznOm1uy+JYZQ7j0rAlHCHUS84XjkepngGG\n",
              "VGS4DNhAbSB1EDBnk7tFNAjAsZcVSLBg/YgqWiGBzhOZe567LxGtIJgTDLj3OsEILLKHAZnP/PQF\n",
              "lC6YB3b/V/SuVFEL3hcr9K20PI7YoqvTTGLfpHIYzdqPXrH3Vk505Vys7QdJCRNoxKxyHNi9Csjt\n",
              "W+NCuFSwFyRoPh1zLxXe8YhFPjZqJfd9kN0OjD9t4J179HXmEz+zGrnMoD/wpaSGczAoqQ2maFhg\n",
              "8VTz0YyrVf8TEdDGsVYFgXTldEMhcXBbXZ+5s0zfn2Ow4hxzUFdXqmMZ9Fn3G8p2eqtreqSkQY36\n",
              "dm2G0K1VVvrhvRVijbpaGT1MFLaTkYAROofD1mi7mN/l/v02HQluH1etECnYKwywRtTdi2Z4/wvs\n",
              "QuKlSx1qZ1gtRJ/DKvFu1NSZLf3xlbWGbcJ/xRCkOVk185mLLjIuY9TKAAABxEGbQknhDyZTAh//\n",
              "/qmWAHy/VGfpqzXmJofwAMjjNrw/DsMjdnDcAG8iCqsG/s/4yXBAtveH3NaDDH6sw1bO7rxuF97d\n",
              "uXyMcxVnm6eFbDbmqltEFKkET3/at4EdMe/hdHpVcqbXA8jeTiIRADZ261DRyOd19GfcsCPDx0b0\n",
              "3NYaRAu5aaVF6r17vD6eZzg/yENLWKstGi9uNTjR86FJ4af+reLxCFO0iYxFWrkNOb1hea0W+P0X\n",
              "3jUFcoZFYYa5NOmH21zoOyjrKUgDcB8xsB+BRO908Fz4l8mOFNBWXxxj1P2OWZhcQxteojjG5CZo\n",
              "dAk7dH46+22rJRDwqbq+ebdYsoYhCSTIxQWlB7lMhdgx3f4uqAJFTGI3ndK0bou7rOTN8YqytX13\n",
              "SP8I5P5HYJ03n/fBOjdwz8PldYsOYhYjvf/+pMOd22wpHcmewdYcUE9Nesrrt581p+Xie/RkfGIM\n",
              "NnFxb2o0fgsSUaEuekUDvdWaVmlrENA7liNmNHcxCz4NyOTFT14ePD/bFG64oodQycRamcb3LXex\n",
              "jfSTGeIrsBN/Py1JGoDqrvVmE/PohxBKHRQO9Lo2VUGvH1m52faf33j5AAABj0GbY0nhDyZTAh//\n",
              "/qmWAHy9cpN4G92BBVwAXZhB5bxvRT44CyqP9Hs7eQ5d8XSBA9wvG61W4Cz7o8A2PcYDK5llHo7L\n",
              "bAY2xWKCYSVVs0t0ZzeoFwfF/zYWn7FpZVlLBwrrR8/rTCK/ZT8oZY0cROdAP3C0u7uwaOq6nQM8\n",
              "s9fKAHgfWCSQoJeIdhPt7b9MnXz/EpWoG45eyB1qNfMJg5olTcLBCJQ+l1dn5/al2FtvVn2elmHi\n",
              "P3WI774h+Yf+iB5QRmHrf0hNBE62Hc7Vdzc3IIuixGzZhHaadYobSQ9NlbXu44JFPZt5X/4XASe3\n",
              "JQSCQzjRWywI/yBzUqOTMfNamBTdfUOPNoiizJG3rI4D+p97JXbXvyKnFqDWEQagh6t7pSPlaAqB\n",
              "J4RPHFC/Z34EtNH5y0BQ84vPw64LSszCbXr8tozRnkHzphQ234er9YGb2Sn88SccxO/F3+d7wkoH\n",
              "97U1y+beNT1/9vWAMaUv+tSH3FVlnzwgN6wgjM2TE2Q2yjV7ZTIbqsIu8CQk2gAAAX5Bm4RJ4Q8m\n",
              "UwIf//6plgFi6lDediuyCuuJgAXAs7Qr72udEXMu6ASqstgWlOzgwh2s0rb4wVehQ9UNuSXEH5J3\n",
              "/QK5ghO3P8Drry/z9wLXrDTpKmF8F5LaqgMS9kZt9U8BlJRKQ8EaHjRbwkrRlOL1xyY8lxDUzSAD\n",
              "1UIY3/z7HmkXhpvR4+4CtFCrXv8916WFymasCo377y89pxLgKETc73/xLiVeYAHifXREn3qF7FQE\n",
              "mXupSmkiQ58JYFB1BQ4ktNBet/9mUPigqSCUL4+5q/MiCsiFF2ZewholYJDzkVbhnYha9L9yvTQc\n",
              "qBlYdCTwoB/+WMf88yWeUS9l/qnrzEKBG369uUm+78EY3XGAqK8E/efeOwb2hGVGwW5/s1IH1BNA\n",
              "CkSKPRiFKCh8E4TcNOJaUE1dH+AV7B04ES+g8hC9HnSKuClEGPBsjmX1HRjyIApD4iu/uAoUqPfw\n",
              "JXnYYZ6Lr9KC8FaXD9ieiWIa3E4pF1kIR6H5O8nhPKHxAAABJUGbpUnhDyZTAh///qmWAHzAW2vl\n",
              "oRm0ukJpUAFLWtOdOrvZjhRdhA0FiIR1i5Jf2cwxjv8M8qUa0Jh8cuk8YwLBjw6wkR6KPCxTMeaG\n",
              "qfcQvzasX65IbQ8jPPBTKUj9Y5PZwNb9z9U3uXEKSQFuPLeZTFhGH3PqxkNjzCftFg0PbQ1o8Xht\n",
              "lSjb7uh5htuMlKpAxfmvz6blU/zzHt3/5RVqsUHd+Vq5n/hG8qHiaHh0v7wmgKcCyKbiR3Y2eh0z\n",
              "NiHJTg0DI8TmrlKztLcZu1umusVYVyT7RuOkBrmImt3TMEPcZyOntNS7Fhxbl0nikCMHoEnFdImO\n",
              "Q6IQD0D3mfVNk2sSLT7HiGzDyh+VdPEj7y3w3eu8CaM9pLGzHVQ2CC/zrS7RAAABbUGbxknhDyZT\n",
              "Ah3//qmWAHy8rHCThjmeADb04eXPrlwvq9B5gliSE2gqY//Cjx7DEkBU7zvMNeAzLzF5aJPvwOnV\n",
              "h4D1AtaiGXABa0Cill9w4+U8YiOA2edN7NJ+3x1Xg/ZZcyTIq3sj669vaHECJ1E6LNN84CO/IBoy\n",
              "R2OX/S5zxTs5YH8spt8+QcBu2NhDfGY6PXdzJuT8MyhU+hQigZKj9lVIiSxKtTyU8/uQbEyL8YkI\n",
              "NvsoZ4z+/GJa2m75NCAq445DswFkmTND4RqGCbGlS35//RcH5dZBbqiH/QMtxEnglBRg+qWIOX2L\n",
              "rCjeJFIZXUCXiycrwQI4hhIRI/6ro7AZkEf8f4lUDnPrTnl5bHQZ9GQ+RbwdRAzBh0TF5vh320Bs\n",
              "5oFes+5Nd6RsTzdDfG8hzUmBek+0bbWswqgvV09pyHbzBK1/RavBJMKR6j/6DbmJ7MhBuXO6uEm/\n",
              "vUA64O2XgV/LsD3C6LW7AAABsUGb50nhDyZTAhv//qeEAPhp7eEyp9ZW1+AB0C3bOmWtUqzVYEeX\n",
              "kwHMzggn0YHfHQ/WlalOhUErkB6mt7lcq+Fsx6SvXUQknwa61XVY3l4ljcYaRToAn1nJgtupPnPx\n",
              "hHWJdf9QPNunnLAnYLf4Vo9/VXeYmdgq2N9HeovAQQg0Jb84AztEErpChvanTfrxPTfugmSSJ1CZ\n",
              "8/2sVcdgFIkL+9WvFVMmSf1ez+TH61YjBS1E3Y1OmJVjPUVd9+qjPHzXdUYeRwzBndpbfVs4k4K0\n",
              "zV1/uZXUhyuOHsUXQe8PPuHKv8ouPsnbSQ1phLP6+kJ3lq56efLhnsFvHdToa6R7m/ZDtlQAYJHP\n",
              "7TDykypQAyWk0mZOjb28tsPDRtdaSzILC0b5JoXx1owxKJkMa0DU32eKRP1Mln6uhx2WzyNNsgW+\n",
              "NLe7aoySDtOTVsCO4ct38EPrHA/U4KcB8IQrwdw+Xh1HWXtrKXlSZIkh6be5+dIgdpVtk70AF+ec\n",
              "sBPm+KggQjgIM+qj/WDV07te1Ldp0Vbg3KyUIT0Yp/pbE4knPd/P1u/6vLrJE9/zyZAHW8EAAAR2\n",
              "bW9vdgAAAGxtdmhkAAAAAAAAAAAAAAAAAAAD6AAAD6AAAQAAAQAAAAAAAAAAAAAAAAEAAAAAAAAA\n",
              "AAAAAAAAAAABAAAAAAAAAAAAAAAAAABAAAAAAAAAAAAAAAAAAAAAAAAAAAAAAAAAAAAAAAAAAgAA\n",
              "A6B0cmFrAAAAXHRraGQAAAADAAAAAAAAAAAAAAABAAAAAAAAD6AAAAAAAAAAAAAAAAAAAAAAAAEA\n",
              "AAAAAAAAAAAAAAAAAAABAAAAAAAAAAAAAAAAAABAAAAAAbAAAAGwAAAAAAAkZWR0cwAAABxlbHN0\n",
              "AAAAAAAAAAEAAA+gAAAIAAABAAAAAAMYbWRpYQAAACBtZGhkAAAAAAAAAAAAAAAAAAAoAAAAoABV\n",
              "xAAAAAAALWhkbHIAAAAAAAAAAHZpZGUAAAAAAAAAAAAAAABWaWRlb0hhbmRsZXIAAAACw21pbmYA\n",
              "AAAUdm1oZAAAAAEAAAAAAAAAAAAAACRkaW5mAAAAHGRyZWYAAAAAAAAAAQAAAAx1cmwgAAAAAQAA\n",
              "AoNzdGJsAAAAs3N0c2QAAAAAAAAAAQAAAKNhdmMxAAAAAAAAAAEAAAAAAAAAAAAAAAAAAAAAAbAB\n",
              "sABIAAAASAAAAAAAAAABAAAAAAAAAAAAAAAAAAAAAAAAAAAAAAAAAAAAAAAAAAAAGP//AAAAMWF2\n",
              "Y0MBZAAV/+EAGGdkABWs2UGw3oQAAAMABAAAAwBQPFi2WAEABmjr48siwAAAABx1dWlka2hA8l8k\n",
              "T8W6OaUbzwMj8wAAAAAAAAAYc3R0cwAAAAAAAAABAAAAKAAABAAAAAAUc3RzcwAAAAAAAAABAAAA\n",
              "AQAAALhjdHRzAAAAAAAAABUAAAABAAAIAAAAAAEAABAAAAAAAgAABAAAAAABAAAMAAAAAAEAAAQA\n",
              "AAAAAgAACAAAAAABAAAUAAAAAAEAAAgAAAAAAQAAAAAAAAABAAAEAAAAAAYAAAgAAAAAAQAAFAAA\n",
              "AAABAAAIAAAAAAEAAAAAAAAAAQAABAAAAAABAAAMAAAAAAEAAAQAAAAABQAACAAAAAABAAAMAAAA\n",
              "AAEAAAQAAAAACQAACAAAAAAcc3RzYwAAAAAAAAABAAAAAQAAACgAAAABAAAAtHN0c3oAAAAAAAAA\n",
              "AAAAACgAACJoAAAC2wAAAScAAAETAAACigAAASQAAAD2AAABVQAAAm8AAAFeAAABDwAAAVoAAAG2\n",
              "AAABbwAAAUUAAAEoAAABFgAAAR0AAAJeAAABdQAAAQsAAAEnAAACjQAAAS8AAAHUAAABuAAAAYkA\n",
              "AAGXAAABwwAAApYAAAECAAABiwAAAYYAAAHfAAAByAAAAZMAAAGCAAABKQAAAXEAAAG1AAAAFHN0\n",
              "Y28AAAAAAAAAAQAAACwAAABidWR0YQAAAFptZXRhAAAAAAAAACFoZGxyAAAAAAAAAABtZGlyYXBw\n",
              "bAAAAAAAAAAAAAAAAC1pbHN0AAAAJal0b28AAAAdZGF0YQAAAAEAAAAATGF2ZjU3LjgzLjEwMA==\n",
              "\">\n",
              "  Your browser does not support the video tag.\n",
              "</video>"
            ],
            "text/plain": [
              "<IPython.core.display.HTML object>"
            ]
          },
          "metadata": {
            "tags": []
          },
          "execution_count": 10
        }
      ]
    },
    {
      "cell_type": "code",
      "metadata": {
        "id": "8x7T1Pn4NBUs"
      },
      "source": [
        ""
      ],
      "execution_count": null,
      "outputs": []
    }
  ]
}