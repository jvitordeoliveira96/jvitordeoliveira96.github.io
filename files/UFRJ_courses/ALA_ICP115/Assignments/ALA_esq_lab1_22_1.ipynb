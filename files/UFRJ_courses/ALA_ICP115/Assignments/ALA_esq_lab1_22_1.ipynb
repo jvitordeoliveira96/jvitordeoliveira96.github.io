{
  "nbformat": 4,
  "nbformat_minor": 0,
  "metadata": {
    "colab": {
      "name": "ALA_esq_lab1_22_1.ipynb",
      "provenance": [],
      "collapsed_sections": [],
      "include_colab_link": true
    },
    "kernelspec": {
      "name": "python3",
      "display_name": "Python 3"
    },
    "language_info": {
      "name": "python"
    }
  },
  "cells": [
    {
      "cell_type": "markdown",
      "metadata": {
        "id": "view-in-github",
        "colab_type": "text"
      },
      "source": [
        "<a href=\"https://colab.research.google.com/github/jvitordeoliveira96/UFRJ_courses/blob/main/ALA_ICP115/Assignments/ALA_esq_lab1_22_1.ipynb\" target=\"_parent\"><img src=\"https://colab.research.google.com/assets/colab-badge.svg\" alt=\"Open In Colab\"/></a>"
      ]
    },
    {
      "cell_type": "markdown",
      "source": [
        "#**Álgebra Linear Algorítmica 2021.2**\n",
        "\n",
        "**Professor: João Vitor de Oliveira Silva**\n",
        "\n",
        "**Laboratório 1**\n",
        "\n",
        "\n",
        "*Para realizar uma cópia editável deste esqueleto, você pode clicar em Arquivo > Salvar uma cópia no Drive. Você pode remover as células de texto de enunciado e de avisos*, **mas mantendo as células de texto que marcam o início das questões.**\n",
        "\n",
        "---\n",
        "###**Avisos**:\n",
        "\n",
        "\n",
        "*   **Sua solução deve ser devidamente comentada, usando células de texto e/ou códigos desenvolvidos.**\n",
        "\n",
        "* **A atividade pode ser feita individualmente ou em dupla**\n",
        "\n",
        "*   **Como já informado, soluções com plágio serão desconsideradas e receberão grau 0.**\n",
        "\n",
        "* **O nome do seu arquivo contendo a solução deve ser**\n",
        "$$\\mathtt{nome\\_DRE\\_lab01.ipynb} \\text{ (indiv.)} \\quad \\quad \\mathtt{nome\\_DRE\\_nome2\\_DRE2\\_lab01.ipynb}\\text{ (dupla)} $$\n",
        " **e deve ser submetido no formulário presente no Google Classroom até as 23:59 do dia 17/01.**\n"
      ],
      "metadata": {
        "id": "3uaqHedqWmTP"
      }
    },
    {
      "cell_type": "code",
      "metadata": {
        "id": "e5Ll-WGV2OXH"
      },
      "source": [
        "import numpy as np\n",
        "import scipy as sp\n",
        "import sympy as sym\n",
        "import scipy.linalg\n",
        "from google.colab import files\n",
        "from matplotlib import patheffects\n",
        "from matplotlib import animation\n",
        "from IPython.display import HTML\n",
        "import matplotlib.pyplot as plt\n",
        "from PIL import Image\n"
      ],
      "execution_count": null,
      "outputs": []
    },
    {
      "cell_type": "markdown",
      "source": [
        "Neste laboratório, deve ser desenvolvido uma função que permita animar os operadores lineares no plano que estudamos. Antes de começar a atividade, faça o upload de uma imagem qualquer do seu interesse ao executar o bloco de código abaixo. 😃"
      ],
      "metadata": {
        "id": "07-nLUgZ4RyC"
      }
    },
    {
      "cell_type": "markdown",
      "metadata": {
        "id": "wZCNML5Q2t7q"
      },
      "source": [
        "#### Lógica para upload de uma imagem. Esta imagem será salva em uma variável de nome ``img``."
      ]
    },
    {
      "cell_type": "code",
      "metadata": {
        "id": "pw0AID7i2Rmc"
      },
      "source": [
        "uploaded = files.upload()\n",
        "width, height = 250, 200\n",
        "\n",
        "for fn in uploaded.keys():\n",
        "  img = Image.open(fn)\n",
        "  img = img.resize((width,height), Image.ANTIALIAS)\n",
        "  img = img.transform((int(width * 2), int(height * 2)), Image.AFFINE, data=np.array([1,0,-width/2,0,1,-height/2]), resample=Image.BICUBIC)\n",
        "  print('User uploaded file \"{name}\" with length {length} bytes'.format(name=fn, length=len(uploaded[fn])))"
      ],
      "execution_count": null,
      "outputs": []
    },
    {
      "cell_type": "markdown",
      "source": [
        "#### Plot da imagem ``img``."
      ],
      "metadata": {
        "id": "KLun_Jl4Jjuk"
      }
    },
    {
      "cell_type": "code",
      "metadata": {
        "id": "OQUWnOBi3Gnt"
      },
      "source": [
        "plt.figure(figsize = (10,9))\n",
        "plt.imshow(np.array(img))\n",
        "\n",
        "plt.grid(linewidth = 0.2)\n",
        "plt.show()"
      ],
      "execution_count": null,
      "outputs": []
    },
    {
      "cell_type": "markdown",
      "source": [
        "## Animando transformações geométricas do plano"
      ],
      "metadata": {
        "id": "Kr8Nm3WZ-VbT"
      }
    },
    {
      "cell_type": "markdown",
      "source": [
        "Abaixo, há algumas funções (**`apply_xform`**, **`animate`**) e trechos de código em Python pré-desenvolvidas. **Não altere estas funções!** Há também uma função incompleta chamada **`interpolate`**, que recebe uma matriz associada à um operador linear (como um **`numpy array`**) e um parâmetro $t$ que varia 0 a 1. \n",
        "\n",
        "Ao final da execução de todos estes blocos de código, um vídeo é gerado no próprio notebook. O objetivo é realizar o que se pede nos exercícios abaixo, de modo que o vídeo gerado seja de fato a animação da transformação aplicada.\n",
        "\n"
      ],
      "metadata": {
        "id": "y8TaoPDBXDel"
      }
    },
    {
      "cell_type": "code",
      "source": [
        "#@title Função apply_xform (não é preciso alterar)\n",
        "def apply_xform(A, img):\n",
        "  \"\"\" Apply linear transform over raster image.\n",
        "  A: numpy array\n",
        "  img: Image (Pillow library) \"\"\"\n",
        "  \n",
        "  size = img.size\n",
        "  T = np.eye(3)\n",
        "  T[0:2,2] = np.array(size)/2\n",
        "  A_augmented = np.eye(3)\n",
        "  A_augmented[0,0], A_augmented[1,1] = A[1,1] - 1e-8, A[0,0] - 1e-8\n",
        "  A_augmented[0,1], A_augmented[1,0] = A[0,1], A[1,0]\n",
        "  A_augmented = T @ A_augmented @ np.linalg.inv(T) \n",
        "\n",
        "  img_transformed = img.transform(size, Image.AFFINE, data=A_augmented.flatten()[:6], resample=Image.BICUBIC) \n",
        "\n",
        "  return img_transformed"
      ],
      "metadata": {
        "id": "wyNNFkHDXbXG",
        "cellView": "form"
      },
      "execution_count": null,
      "outputs": []
    },
    {
      "cell_type": "code",
      "source": [
        "def interpolate(A, t):\n",
        "  \"\"\" Apply linear transform over raster image at time t.\n",
        "  A: numpy array\n",
        "  t: float (varies from 0 to 1) \"\"\"\n",
        "\n",
        "  # For now, it simply returns the identity matrix. \n",
        "  # It should return the matrix associated with the animation time t.\n",
        "\n",
        "\n",
        "  return  np.eye(2) \n"
      ],
      "metadata": {
        "id": "Zg0wCb_8Sah7"
      },
      "execution_count": null,
      "outputs": []
    },
    {
      "cell_type": "markdown",
      "source": [
        "## Exercício 1\n",
        "\n",
        "Complete a função **`interpolate`** para que a mesma retorne a matriz associada ao tempo $t$ da animação. \n",
        "\n",
        "Para ajudar nesta atividade, é interessante pensar quem seria um vetor qualquer transformado em um tempo $t$, que iremos denotar por $v(t)$, como uma combinação linear do vetor inicial $v_{\\text{ini}}$ e do vetor transformado por uma matriz $A$ como $v_{\\text{final}}$:\n",
        "\n",
        "$$ v(t) = \\alpha_1 v_{\\text{ini}} + \\alpha_2 v_{\\text{final}} = \\alpha_1 v_{\\text{ini}} + \\alpha_2 A v_{\\text{ini}}$$\n",
        "\n",
        "- Sabendo que $v(0) = v_{\\text{ini}}$ e $v(1) = v_{\\text{final}}$, você é capaz de determinar quem seriam os pesos $\\alpha_1$ e $\\alpha_2$ em termos do parâmetro de tempo $t$. \n",
        "\n",
        "- Após isso, o seu desafio é pensar como seria possível escrever $v(t) = B v_{\\text{ini}}$. Esta matriz $B$ deve ser uma matriz que relacione $A$, $t$ e a matriz identidade $I$.\n",
        "\n",
        "- A função **`interpolate`** deve retornar justamente esta matriz $B$.\n",
        "\n",
        "* Dica: para criar a matriz identidade no numpy de tamanho 2x2, use **`np.eye(2)`**. "
      ],
      "metadata": {
        "id": "dPIydB4riI1R"
      }
    },
    {
      "cell_type": "markdown",
      "source": [
        "## Exercício 2\n",
        "\n",
        "Execute o trecho de código abaixo. Qual(is) efeito(s) geométrico(s) associado(s) a matriz aplicada abaixo?\n"
      ],
      "metadata": {
        "id": "mPzR1S75ypvw"
      }
    },
    {
      "cell_type": "code",
      "source": [
        "#@title\n",
        "fig, ax = plt.subplots(figsize = (10,9))   \n",
        "delay_time = 110\n",
        "nframes = 60\n",
        "M = np.array([[1, -0.7], [0, 1]]) \n",
        "screen=plt.imshow(np.asarray(img))\n",
        "ax.grid(linewidth = 0.2)\n",
        "img_t = img\n",
        "\n",
        "def animate(k, M, img_t):\n",
        "    img_t = img\n",
        "    t = (k/(nframes - 1))\n",
        "    M_iter = interpolate(M, t)\n",
        "    img_t = apply_xform(M_iter, img_t)\n",
        "\n",
        "    screen.set_array(np.array(img_t))\n",
        "    return [screen]\n",
        "\n",
        "    \n",
        "anim = animation.FuncAnimation(fig, animate, \n",
        "                               frames = nframes, interval=delay_time, fargs=(M,img_t));\n",
        "\n",
        "\n",
        "plt.close()\n",
        "HTML(anim.to_html5_video())"
      ],
      "metadata": {
        "id": "gp7HV-gRyz6S",
        "cellView": "form"
      },
      "execution_count": null,
      "outputs": []
    },
    {
      "cell_type": "markdown",
      "source": [
        "**-Texto de resposta-** "
      ],
      "metadata": {
        "id": "VudaxQwG3iDf"
      }
    },
    {
      "cell_type": "markdown",
      "source": [
        "## Exercício 3\n",
        "\n",
        "Qual(is) efeito(s) geométrico(s) associado(s) a matriz aplicada abaixo?"
      ],
      "metadata": {
        "id": "UBTJ0_Oe1rls"
      }
    },
    {
      "cell_type": "code",
      "source": [
        "#@title\n",
        "fig, ax = plt.subplots(figsize = (10,9))   \n",
        "delay_time = 110\n",
        "nframes = 60\n",
        "G = np.array([[0, 0.8], [1.5, 0]]) \n",
        "screen=plt.imshow(np.asarray(img))\n",
        "ax.grid(linewidth = 0.2)\n",
        "img_t = img\n",
        "\n",
        "def animate(k, M, img_t):\n",
        "    img_t = img\n",
        "    t = k/(nframes - 1)\n",
        "    M_iter = interpolate(M, t)\n",
        "    img_t = apply_xform(M_iter, img_t)\n",
        "\n",
        "    screen.set_array(np.array(img_t))\n",
        "    return [screen]\n",
        "\n",
        "    \n",
        "anim = animation.FuncAnimation(fig, animate, \n",
        "                               frames = nframes, interval=delay_time, fargs=(G,img_t));\n",
        "\n",
        "\n",
        "plt.close()\n",
        "HTML(anim.to_html5_video())"
      ],
      "metadata": {
        "id": "JXar__htzkrw",
        "cellView": "form"
      },
      "execution_count": null,
      "outputs": []
    },
    {
      "cell_type": "markdown",
      "source": [
        "**-Texto de resposta-** "
      ],
      "metadata": {
        "id": "wBqtLh_Z3_yO"
      }
    },
    {
      "cell_type": "markdown",
      "source": [
        "## Exercício 5\n",
        "\n",
        "Considere a aplicação de uma rotação de 150 graus (em sentido anti-horário) $R$ sobre a imagem. A animação não satisfaz uma propriedade de rotações. Qual é esta propriedade?"
      ],
      "metadata": {
        "id": "RjdzdGLX-s5J"
      }
    },
    {
      "cell_type": "code",
      "source": [
        "#@title\n",
        "fig, ax = plt.subplots(figsize = (10,9))   \n",
        "delay_time = 110\n",
        "nframes = 60\n",
        "R = np.array([[np.cos(np.pi * 5/6), -np.sin(np.pi * 5/6)], [np.sin(np.pi * 5/6), np.cos(np.pi * 5/6)]]) \n",
        "screen=plt.imshow(np.asarray(img))\n",
        "ax.grid(linewidth = 0.2)\n",
        "img_t = img\n",
        "\n",
        "def animate(k, M, img_t):\n",
        "    img_t = img\n",
        "    t = k/(nframes - 1)\n",
        "    M_iter = interpolate(M, t)\n",
        "    img_t = apply_xform(M_iter, img_t)\n",
        "\n",
        "    screen.set_array(np.array(img_t))\n",
        "    return [screen]\n",
        "\n",
        "    \n",
        "anim = animation.FuncAnimation(fig, animate, \n",
        "                               frames = nframes, interval=delay_time, fargs=(R,img_t));\n",
        "\n",
        "\n",
        "plt.close()\n",
        "HTML(anim.to_html5_video())"
      ],
      "metadata": {
        "cellView": "form",
        "id": "kdcCK9LI_PgC"
      },
      "execution_count": null,
      "outputs": []
    },
    {
      "cell_type": "markdown",
      "source": [
        "**-Texto de resposta-** "
      ],
      "metadata": {
        "id": "XnD3WwE6_qeS"
      }
    },
    {
      "cell_type": "markdown",
      "source": [
        "## Exercício 6\n",
        "\n",
        "Uma maneira de fazer com que a animação de uma rotação funcione como esperado é verificando de antemão que a matriz passada como argumento trata-se de uma rotação. Lembre-se que uma matriz deve satisfazer duas propriedades para ser uma rotação. Após fazer essa verificação, você pode usar funções trigonométricas inversas como $\\arccos(x)$ para determinar qual é o ângulo associado a rotação. Sabendo qual é o ângulo $\\theta$, você é capaz de aplicar matrizes de rotação intermediárias que variam o ângulo de 0 até o $\\theta$ usando o tempo $t$ da animação. Modifique a função **``interpolate``** para que a mesma realize estes procedimentos.\n",
        "\n",
        "Dicas:\n",
        "\n",
        "- O numpy conta com funções como **``np.arccos``** que podem ser utilizadas.\n",
        "- Para comparar se uma matriz é igual a outra, **NÃO** use o operador **``==``**. Como estam sendo usados **``floats``**, é possível que erros numéricos comprometam o processo de comparação. Use a função **``np.allclose``** que funciona tanto para números quanto para vetores/matrizes (**``numpy arrays``**). \n"
      ],
      "metadata": {
        "id": "MWhQWEeXUu0x"
      }
    },
    {
      "cell_type": "markdown",
      "source": [
        "## Exercício 7\n",
        "\n",
        "Execute o trecho abaixo após atualizar a função **``interpolate``**."
      ],
      "metadata": {
        "id": "ZFu5j5xsFdww"
      }
    },
    {
      "cell_type": "code",
      "source": [
        "#@title\n",
        "fig, ax = plt.subplots(figsize = (10,9))   \n",
        "delay_time = 110\n",
        "nframes = 60\n",
        "R = np.array([[np.cos(np.pi * 5/6), -np.sin(np.pi * 5/6)], [np.sin(np.pi * 5/6), np.cos(np.pi * 5/6)]]) \n",
        "screen=plt.imshow(np.asarray(img))\n",
        "ax.grid(linewidth = 0.2)\n",
        "img_t = img\n",
        "\n",
        "def animate(k, M, img_t):\n",
        "    img_t = img\n",
        "    t = k/(nframes - 1)\n",
        "    M_iter = interpolate(M, t)\n",
        "    img_t = apply_xform(M_iter, img_t)\n",
        "\n",
        "    screen.set_array(np.array(img_t))\n",
        "    return [screen]\n",
        "\n",
        "    \n",
        "anim = animation.FuncAnimation(fig, animate, \n",
        "                               frames = nframes, interval=delay_time, fargs=(R,img_t));\n",
        "\n",
        "\n",
        "plt.close()\n",
        "HTML(anim.to_html5_video())"
      ],
      "metadata": {
        "cellView": "form",
        "id": "-3n9sEZ_FLy6"
      },
      "execution_count": null,
      "outputs": []
    }
  ]
}