{
  "nbformat": 4,
  "nbformat_minor": 0,
  "metadata": {
    "colab": {
      "name": "Introducao_ao_Colab_pt3.ipynb",
      "provenance": [],
      "collapsed_sections": [],
      "include_colab_link": true
    },
    "kernelspec": {
      "name": "python3",
      "display_name": "Python 3"
    }
  },
  "cells": [
    {
      "cell_type": "markdown",
      "metadata": {
        "id": "view-in-github",
        "colab_type": "text"
      },
      "source": [
        "<a href=\"https://colab.research.google.com/github/jvitordeoliveira96/UFRJ_courses/blob/main/ALA_ICP115/Tutorials/Introducao_ao_Colab_pt3.ipynb\" target=\"_parent\"><img src=\"https://colab.research.google.com/assets/colab-badge.svg\" alt=\"Open In Colab\"/></a>"
      ]
    },
    {
      "cell_type": "markdown",
      "metadata": {
        "id": "rLhur7UR7MJz"
      },
      "source": [
        "**Autor: João Vitor de Oliveira Silva**\n",
        "\n",
        "**Data: 16/07/2021**\n",
        "\n",
        "\n",
        "\n",
        "---\n",
        "\n",
        "\n"
      ]
    },
    {
      "cell_type": "markdown",
      "metadata": {
        "id": "aXbOYtc0VNE1"
      },
      "source": [
        "## Referências\n",
        "\n",
        "- https://www.sympy.org/pt/index.html\n",
        "\n",
        "<hr>"
      ]
    },
    {
      "cell_type": "markdown",
      "metadata": {
        "id": "R2hJnx4Aoqw7"
      },
      "source": [
        "## Biblioteca Sympy\n",
        "\n",
        "Trata-se de uma biblioteca famosa da linguagem Python para computação simbólica/algébrica. Diferente das bibliotecas que vimos anteriormente, essa biblioteca permite realizarmos calculos sem qualquer aproximação. Em problemas\n",
        "onde estamos interessados nos números em si, em questões em que há símbolos e não desejamos produzir visualização,\n",
        "usaremos exclusivamente esta biblioteca. Ela pode ser importada da seguinte forma:\n",
        "\n",
        "```python\n",
        "import sympy as sym\n",
        "```"
      ]
    },
    {
      "cell_type": "code",
      "metadata": {
        "id": "glCzX01fUyyd"
      },
      "source": [
        "import sympy as sym\n",
        "# Outros imports\n",
        "import numpy as np\n",
        "import scipy as sp\n",
        "import matplotlib.pyplot as plt\n",
        "from matplotlib import animation\n",
        "from IPython.display import HTML"
      ],
      "execution_count": null,
      "outputs": []
    },
    {
      "cell_type": "markdown",
      "metadata": {
        "id": "17htxhu9VfD2"
      },
      "source": [
        "É interessante indicarmos que para o Colab imprimir as saídas em MathJax/Latex. Isso faz com que a leitura dos resultados seja melhor."
      ]
    },
    {
      "cell_type": "code",
      "metadata": {
        "id": "LI5Th41Tiew7"
      },
      "source": [
        "sym.init_printing(use_latex='mathjax')"
      ],
      "execution_count": null,
      "outputs": []
    },
    {
      "cell_type": "markdown",
      "metadata": {
        "id": "Nf-PCW-WwwTw"
      },
      "source": [
        "### Expressões com Sympy\n",
        "\n",
        "Vejamos alguns exemplos de expressões em Sympy. Veja que podemos trabalhar com frações, representar números irracionais como $\\sqrt{2}$, $e$ ou $\\pi$.\n",
        "\n"
      ]
    },
    {
      "cell_type": "code",
      "metadata": {
        "colab": {
          "base_uri": "https://localhost:8080/",
          "height": 51
        },
        "id": "Hju-UxCmxwzp",
        "outputId": "409847c3-1768-4ea8-e988-30a666be543b"
      },
      "source": [
        "# Exemplo de fracao\n",
        "sym.Rational(8, 3)"
      ],
      "execution_count": null,
      "outputs": [
        {
          "output_type": "execute_result",
          "data": {
            "text/latex": "$\\displaystyle \\frac{8}{3}$",
            "text/plain": [
              "8/3"
            ]
          },
          "metadata": {},
          "execution_count": 3
        }
      ]
    },
    {
      "cell_type": "code",
      "metadata": {
        "colab": {
          "base_uri": "https://localhost:8080/",
          "height": 51
        },
        "id": "4GJHZO6Yx_cv",
        "outputId": "f770fda1-04fa-4c7b-bbf2-ef51f505e6e6"
      },
      "source": [
        "# Adicao entre um numero inteiro e fracao\n",
        "sym.Rational(8, 3) + 3"
      ],
      "execution_count": null,
      "outputs": [
        {
          "output_type": "execute_result",
          "data": {
            "text/latex": "$\\displaystyle \\frac{17}{3}$",
            "text/plain": [
              "17/3"
            ]
          },
          "metadata": {},
          "execution_count": 4
        }
      ]
    },
    {
      "cell_type": "code",
      "metadata": {
        "colab": {
          "base_uri": "https://localhost:8080/",
          "height": 55
        },
        "id": "EQO8rdDGyOcB",
        "outputId": "1d84cd46-6c48-4f8e-a1f2-7466fc177147"
      },
      "source": [
        "# Expressoes envolvendo o raiz\n",
        "sym.sqrt(2) * 5 / 4 + sym.sqrt(61)**3"
      ],
      "execution_count": null,
      "outputs": [
        {
          "output_type": "execute_result",
          "data": {
            "text/latex": "$\\displaystyle \\frac{5 \\sqrt{2}}{4} + 61 \\sqrt{61}$",
            "text/plain": [
              "5⋅√2         \n",
              "──── + 61⋅√61\n",
              " 4           "
            ]
          },
          "metadata": {},
          "execution_count": 5
        }
      ]
    },
    {
      "cell_type": "code",
      "metadata": {
        "colab": {
          "base_uri": "https://localhost:8080/",
          "height": 58
        },
        "id": "9U5fJJEAVwqd",
        "outputId": "824d79e9-0863-4a52-fca5-15ccbdb5b685"
      },
      "source": [
        "sym.E ** 5 / ((sym.pi)**sym.Rational(1,3))"
      ],
      "execution_count": null,
      "outputs": [
        {
          "output_type": "execute_result",
          "data": {
            "text/latex": "$\\displaystyle \\frac{e^{5}}{\\sqrt[3]{\\pi}}$",
            "text/plain": [
              "   5 \n",
              "  ℯ  \n",
              "─────\n",
              "3 ___\n",
              "╲╱ π "
            ]
          },
          "metadata": {},
          "execution_count": 6
        }
      ]
    },
    {
      "cell_type": "markdown",
      "metadata": {
        "id": "Ml8B9lyLbUOU"
      },
      "source": [
        "### Sympy Matrix\n",
        "\n",
        "Assim como no Numpy haviam a estrutura básica Numpy array para representação de vetores e matrizes, aqui no Sympy há o Sympy Matrix. O funcionamento é bastante similar ao de um Numpy array, com o diferencial de se poder realizar operações em símbolos (sem aproximações numéricas). Veja abaixo as similaridades nos exemplos de criação de um vetor e uma matriz."
      ]
    },
    {
      "cell_type": "code",
      "metadata": {
        "id": "jhaGe340b-t4"
      },
      "source": [
        "# Exemplo de criação de vetores de duas entradas \n",
        "v = sym.Matrix([1, 2])"
      ],
      "execution_count": null,
      "outputs": []
    },
    {
      "cell_type": "code",
      "metadata": {
        "colab": {
          "base_uri": "https://localhost:8080/",
          "height": 58
        },
        "id": "QgOf1aYwcIVX",
        "outputId": "a4f3714c-cd50-43f2-e8b9-dfb53651e6c2"
      },
      "source": [
        "v"
      ],
      "execution_count": null,
      "outputs": [
        {
          "output_type": "execute_result",
          "data": {
            "text/latex": "$\\displaystyle \\left[\\begin{matrix}1\\\\2\\end{matrix}\\right]$",
            "text/plain": [
              "⎡1⎤\n",
              "⎢ ⎥\n",
              "⎣2⎦"
            ]
          },
          "metadata": {},
          "execution_count": 8
        }
      ]
    },
    {
      "cell_type": "code",
      "metadata": {
        "id": "vTG1wGircJzW"
      },
      "source": [
        "# Exemplo de criação de uma matriz 2x2 \n",
        "A = sym.Matrix(\n",
        "    [[2, -sym.Rational(1,2)],\n",
        "     [-sym.Rational(1,2), 2]]\n",
        ")"
      ],
      "execution_count": null,
      "outputs": []
    },
    {
      "cell_type": "code",
      "metadata": {
        "colab": {
          "base_uri": "https://localhost:8080/",
          "height": 58
        },
        "id": "_sdqLh0LcnoJ",
        "outputId": "73f6a19a-510a-4874-d095-25fa61b451f7"
      },
      "source": [
        "A"
      ],
      "execution_count": null,
      "outputs": [
        {
          "output_type": "execute_result",
          "data": {
            "text/latex": "$\\displaystyle \\left[\\begin{matrix}2 & - \\frac{1}{2}\\\\- \\frac{1}{2} & 2\\end{matrix}\\right]$",
            "text/plain": [
              "⎡ 2    -1/2⎤\n",
              "⎢          ⎥\n",
              "⎣-1/2   2  ⎦"
            ]
          },
          "metadata": {},
          "execution_count": 10
        }
      ]
    },
    {
      "cell_type": "markdown",
      "metadata": {
        "id": "kuX-sXsUc61r"
      },
      "source": [
        "Além de criar uma Sympy Matrix informando uma lista, existem funções da próprio biblioteca para criá-las. Algumas delas são:\n",
        "\n",
        "- **`zeros( dim1, dim2 )`**: cria uma Sympy Matrix de dimensão dos argumentos dim1 e dim2 com 0's em todas as entradas. Há uma diferença em relação a função  de Numpy arrays: se passado como argumento apenas dim1, não se cria um vetor, e sim é criada uma matriz quadrada de tamanho *dim1*x*dim1*.\n",
        "- **`ones(dim1, dim2)`**: cria uma Sympy Matrix de dimensão dos argumentos dim1 e dim2 com 1's todas as entradas. Há uma diferença em relação a função  de Numpy arrays: se passado como argumento apenas dim1, não se cria um vetor, e sim é criada uma matriz quadrada de tamanho *dim1*x*dim1*.\n",
        "- **`eye(dim)`**: cria uma Sympy Matrix sendo uma matriz identidade de dimensão dim x dim.\n"
      ]
    },
    {
      "cell_type": "code",
      "metadata": {
        "id": "rGS_gUB97xii"
      },
      "source": [
        "z = sym.zeros(2)"
      ],
      "execution_count": null,
      "outputs": []
    },
    {
      "cell_type": "code",
      "metadata": {
        "colab": {
          "base_uri": "https://localhost:8080/",
          "height": 58
        },
        "id": "iFQiWxdu72Qb",
        "outputId": "0d8751d8-56d9-476c-8bbd-b0a093cb2193"
      },
      "source": [
        "z"
      ],
      "execution_count": null,
      "outputs": [
        {
          "output_type": "execute_result",
          "data": {
            "text/latex": "$\\displaystyle \\left[\\begin{matrix}0 & 0\\\\0 & 0\\end{matrix}\\right]$",
            "text/plain": [
              "⎡0  0⎤\n",
              "⎢    ⎥\n",
              "⎣0  0⎦"
            ]
          },
          "metadata": {},
          "execution_count": 12
        }
      ]
    },
    {
      "cell_type": "code",
      "metadata": {
        "id": "vD_afq6Gev2L"
      },
      "source": [
        "zv = sym.zeros(2, 1)"
      ],
      "execution_count": null,
      "outputs": []
    },
    {
      "cell_type": "code",
      "metadata": {
        "colab": {
          "base_uri": "https://localhost:8080/",
          "height": 58
        },
        "id": "4V9roRdtezx9",
        "outputId": "ecc08f04-75a2-4415-818b-39740bba951b"
      },
      "source": [
        "zv"
      ],
      "execution_count": null,
      "outputs": [
        {
          "output_type": "execute_result",
          "data": {
            "text/latex": "$\\displaystyle \\left[\\begin{matrix}0\\\\0\\end{matrix}\\right]$",
            "text/plain": [
              "⎡0⎤\n",
              "⎢ ⎥\n",
              "⎣0⎦"
            ]
          },
          "metadata": {},
          "execution_count": 14
        }
      ]
    },
    {
      "cell_type": "code",
      "metadata": {
        "id": "l8NIXEts74DA"
      },
      "source": [
        "Idt = sym.eye(2) # tambem poderia ser sym.eye(2,2)"
      ],
      "execution_count": null,
      "outputs": []
    },
    {
      "cell_type": "code",
      "metadata": {
        "colab": {
          "base_uri": "https://localhost:8080/",
          "height": 58
        },
        "id": "ETyAF9uW79Aw",
        "outputId": "4188ea4a-ccab-4ea7-9458-d0e12221b09e"
      },
      "source": [
        "Idt "
      ],
      "execution_count": null,
      "outputs": [
        {
          "output_type": "execute_result",
          "data": {
            "text/latex": "$\\displaystyle \\left[\\begin{matrix}1 & 0\\\\0 & 1\\end{matrix}\\right]$",
            "text/plain": [
              "⎡1  0⎤\n",
              "⎢    ⎥\n",
              "⎣0  1⎦"
            ]
          },
          "metadata": {},
          "execution_count": 16
        }
      ]
    },
    {
      "cell_type": "markdown",
      "metadata": {
        "id": "wIpKFjbrf340"
      },
      "source": [
        "Assim como um Numpy array, Sympy Matrix também possui **operadores** definidos, que podem ser operados entre  2\n",
        "Sympy Matrix ou entre um Sympy Matrix e um número\n",
        "\n",
        "- operadores \n",
        "  - **`+`** (adição)\n",
        "  - **`-`** (subtração)\n",
        "  - **`/`** (divisão)\n",
        "  - **`*`** ou **`@`** (multiplicação/multiplicação matricial/ produto interno)\n",
        "  - __`**`__ (potenciação)\n",
        "\n",
        "Uma diferença clara entre a Sympy Matrix e os Numpy Array é que não se possui operados associados a operações *elementwise*. Todas as operações são feitas exatamente como se espera na matemática. Ainda sim, é possível usar o método **`multiply_elementwise`** para se realizar esta tarefa."
      ]
    },
    {
      "cell_type": "code",
      "metadata": {
        "id": "xFTUE6mDIQAq",
        "colab": {
          "base_uri": "https://localhost:8080/",
          "height": 58
        },
        "outputId": "dedbe730-982c-4d0d-e6d1-b9d416ac8fc2"
      },
      "source": [
        "# Adição/subtração\n",
        "v + v"
      ],
      "execution_count": null,
      "outputs": [
        {
          "output_type": "execute_result",
          "data": {
            "text/latex": "$\\displaystyle \\left[\\begin{matrix}2\\\\4\\end{matrix}\\right]$",
            "text/plain": [
              "⎡2⎤\n",
              "⎢ ⎥\n",
              "⎣4⎦"
            ]
          },
          "metadata": {},
          "execution_count": 17
        }
      ]
    },
    {
      "cell_type": "code",
      "metadata": {
        "id": "MPxiAuyXMN_g",
        "colab": {
          "base_uri": "https://localhost:8080/",
          "height": 303
        },
        "outputId": "ce8ee566-e43d-41e9-b522-a8c22eb5c192"
      },
      "source": [
        "v - 3  # Erro, pois nao se eh possivel realizar operacoes elementwise"
      ],
      "execution_count": null,
      "outputs": [
        {
          "output_type": "error",
          "ename": "TypeError",
          "evalue": "ignored",
          "traceback": [
            "\u001b[0;31m---------------------------------------------------------------------------\u001b[0m",
            "\u001b[0;31mTypeError\u001b[0m                                 Traceback (most recent call last)",
            "\u001b[0;32m<ipython-input-18-110e502c8f5a>\u001b[0m in \u001b[0;36m<module>\u001b[0;34m()\u001b[0m\n\u001b[0;32m----> 1\u001b[0;31m \u001b[0mv\u001b[0m \u001b[0;34m-\u001b[0m \u001b[0;36m3\u001b[0m  \u001b[0;31m# Erro, pois nao se eh possivel realizar operacoes elementwise\u001b[0m\u001b[0;34m\u001b[0m\u001b[0;34m\u001b[0m\u001b[0m\n\u001b[0m",
            "\u001b[0;32m/usr/local/lib/python3.7/dist-packages/sympy/core/decorators.py\u001b[0m in \u001b[0;36mbinary_op_wrapper\u001b[0;34m(self, other)\u001b[0m\n\u001b[1;32m    135\u001b[0m                     \u001b[0;32mif\u001b[0m \u001b[0mf\u001b[0m \u001b[0;32mis\u001b[0m \u001b[0;32mnot\u001b[0m \u001b[0;32mNone\u001b[0m\u001b[0;34m:\u001b[0m\u001b[0;34m\u001b[0m\u001b[0;34m\u001b[0m\u001b[0m\n\u001b[1;32m    136\u001b[0m                         \u001b[0;32mreturn\u001b[0m \u001b[0mf\u001b[0m\u001b[0;34m(\u001b[0m\u001b[0mself\u001b[0m\u001b[0;34m)\u001b[0m\u001b[0;34m\u001b[0m\u001b[0;34m\u001b[0m\u001b[0m\n\u001b[0;32m--> 137\u001b[0;31m             \u001b[0;32mreturn\u001b[0m \u001b[0mfunc\u001b[0m\u001b[0;34m(\u001b[0m\u001b[0mself\u001b[0m\u001b[0;34m,\u001b[0m \u001b[0mother\u001b[0m\u001b[0;34m)\u001b[0m\u001b[0;34m\u001b[0m\u001b[0;34m\u001b[0m\u001b[0m\n\u001b[0m\u001b[1;32m    138\u001b[0m         \u001b[0;32mreturn\u001b[0m \u001b[0mbinary_op_wrapper\u001b[0m\u001b[0;34m\u001b[0m\u001b[0;34m\u001b[0m\u001b[0m\n\u001b[1;32m    139\u001b[0m     \u001b[0;32mreturn\u001b[0m \u001b[0mpriority_decorator\u001b[0m\u001b[0;34m\u001b[0m\u001b[0;34m\u001b[0m\u001b[0m\n",
            "\u001b[0;32m/usr/local/lib/python3.7/dist-packages/sympy/matrices/common.py\u001b[0m in \u001b[0;36m__sub__\u001b[0;34m(self, a)\u001b[0m\n\u001b[1;32m   2840\u001b[0m     \u001b[0;34m@\u001b[0m\u001b[0mcall_highest_priority\u001b[0m\u001b[0;34m(\u001b[0m\u001b[0;34m'__rsub__'\u001b[0m\u001b[0;34m)\u001b[0m\u001b[0;34m\u001b[0m\u001b[0;34m\u001b[0m\u001b[0m\n\u001b[1;32m   2841\u001b[0m     \u001b[0;32mdef\u001b[0m \u001b[0m__sub__\u001b[0m\u001b[0;34m(\u001b[0m\u001b[0mself\u001b[0m\u001b[0;34m,\u001b[0m \u001b[0ma\u001b[0m\u001b[0;34m)\u001b[0m\u001b[0;34m:\u001b[0m\u001b[0;34m\u001b[0m\u001b[0;34m\u001b[0m\u001b[0m\n\u001b[0;32m-> 2842\u001b[0;31m         \u001b[0;32mreturn\u001b[0m \u001b[0mself\u001b[0m \u001b[0;34m+\u001b[0m \u001b[0;34m(\u001b[0m\u001b[0;34m-\u001b[0m\u001b[0ma\u001b[0m\u001b[0;34m)\u001b[0m\u001b[0;34m\u001b[0m\u001b[0;34m\u001b[0m\u001b[0m\n\u001b[0m\u001b[1;32m   2843\u001b[0m \u001b[0;34m\u001b[0m\u001b[0m\n\u001b[1;32m   2844\u001b[0m \u001b[0;34m\u001b[0m\u001b[0m\n",
            "\u001b[0;32m/usr/local/lib/python3.7/dist-packages/sympy/core/decorators.py\u001b[0m in \u001b[0;36mbinary_op_wrapper\u001b[0;34m(self, other)\u001b[0m\n\u001b[1;32m    135\u001b[0m                     \u001b[0;32mif\u001b[0m \u001b[0mf\u001b[0m \u001b[0;32mis\u001b[0m \u001b[0;32mnot\u001b[0m \u001b[0;32mNone\u001b[0m\u001b[0;34m:\u001b[0m\u001b[0;34m\u001b[0m\u001b[0;34m\u001b[0m\u001b[0m\n\u001b[1;32m    136\u001b[0m                         \u001b[0;32mreturn\u001b[0m \u001b[0mf\u001b[0m\u001b[0;34m(\u001b[0m\u001b[0mself\u001b[0m\u001b[0;34m)\u001b[0m\u001b[0;34m\u001b[0m\u001b[0;34m\u001b[0m\u001b[0m\n\u001b[0;32m--> 137\u001b[0;31m             \u001b[0;32mreturn\u001b[0m \u001b[0mfunc\u001b[0m\u001b[0;34m(\u001b[0m\u001b[0mself\u001b[0m\u001b[0;34m,\u001b[0m \u001b[0mother\u001b[0m\u001b[0;34m)\u001b[0m\u001b[0;34m\u001b[0m\u001b[0;34m\u001b[0m\u001b[0m\n\u001b[0m\u001b[1;32m    138\u001b[0m         \u001b[0;32mreturn\u001b[0m \u001b[0mbinary_op_wrapper\u001b[0m\u001b[0;34m\u001b[0m\u001b[0;34m\u001b[0m\u001b[0m\n\u001b[1;32m    139\u001b[0m     \u001b[0;32mreturn\u001b[0m \u001b[0mpriority_decorator\u001b[0m\u001b[0;34m\u001b[0m\u001b[0;34m\u001b[0m\u001b[0m\n",
            "\u001b[0;32m/usr/local/lib/python3.7/dist-packages/sympy/matrices/common.py\u001b[0m in \u001b[0;36m__add__\u001b[0;34m(self, other)\u001b[0m\n\u001b[1;32m   2559\u001b[0m             \u001b[0;32mreturn\u001b[0m \u001b[0mMatrixArithmetic\u001b[0m\u001b[0;34m.\u001b[0m\u001b[0m_eval_add\u001b[0m\u001b[0;34m(\u001b[0m\u001b[0mself\u001b[0m\u001b[0;34m,\u001b[0m \u001b[0mother\u001b[0m\u001b[0;34m)\u001b[0m\u001b[0;34m\u001b[0m\u001b[0;34m\u001b[0m\u001b[0m\n\u001b[1;32m   2560\u001b[0m \u001b[0;34m\u001b[0m\u001b[0m\n\u001b[0;32m-> 2561\u001b[0;31m         \u001b[0;32mraise\u001b[0m \u001b[0mTypeError\u001b[0m\u001b[0;34m(\u001b[0m\u001b[0;34m'cannot add %s and %s'\u001b[0m \u001b[0;34m%\u001b[0m \u001b[0;34m(\u001b[0m\u001b[0mtype\u001b[0m\u001b[0;34m(\u001b[0m\u001b[0mself\u001b[0m\u001b[0;34m)\u001b[0m\u001b[0;34m,\u001b[0m \u001b[0mtype\u001b[0m\u001b[0;34m(\u001b[0m\u001b[0mother\u001b[0m\u001b[0;34m)\u001b[0m\u001b[0;34m)\u001b[0m\u001b[0;34m)\u001b[0m\u001b[0;34m\u001b[0m\u001b[0;34m\u001b[0m\u001b[0m\n\u001b[0m\u001b[1;32m   2562\u001b[0m \u001b[0;34m\u001b[0m\u001b[0m\n\u001b[1;32m   2563\u001b[0m     \u001b[0;34m@\u001b[0m\u001b[0mcall_highest_priority\u001b[0m\u001b[0;34m(\u001b[0m\u001b[0;34m'__rtruediv__'\u001b[0m\u001b[0;34m)\u001b[0m\u001b[0;34m\u001b[0m\u001b[0;34m\u001b[0m\u001b[0m\n",
            "\u001b[0;31mTypeError\u001b[0m: cannot add <class 'sympy.matrices.dense.MutableDenseMatrix'> and <class 'int'>"
          ]
        }
      ]
    },
    {
      "cell_type": "code",
      "metadata": {
        "id": "OU23S60BT7RY",
        "colab": {
          "base_uri": "https://localhost:8080/",
          "height": 58
        },
        "outputId": "26baa9b4-ff4e-42e7-a205-4de4a699c4dc"
      },
      "source": [
        "v - 3 * sym.ones(*v.shape)  # Desta forma, somos capazes de realizar a opecao anterior"
      ],
      "execution_count": null,
      "outputs": [
        {
          "output_type": "execute_result",
          "data": {
            "text/latex": "$\\displaystyle \\left[\\begin{matrix}-2\\\\-1\\end{matrix}\\right]$",
            "text/plain": [
              "⎡-2⎤\n",
              "⎢  ⎥\n",
              "⎣-1⎦"
            ]
          },
          "metadata": {},
          "execution_count": 20
        }
      ]
    },
    {
      "cell_type": "code",
      "metadata": {
        "id": "3LotnfEdMPsT",
        "colab": {
          "base_uri": "https://localhost:8080/",
          "height": 58
        },
        "outputId": "6195be90-cb64-45db-e997-5902ae78af2c"
      },
      "source": [
        "# Multiplicação (por escalar)\n",
        "v * 2"
      ],
      "execution_count": null,
      "outputs": [
        {
          "output_type": "execute_result",
          "data": {
            "text/latex": "$\\displaystyle \\left[\\begin{matrix}2\\\\4\\end{matrix}\\right]$",
            "text/plain": [
              "⎡2⎤\n",
              "⎢ ⎥\n",
              "⎣4⎦"
            ]
          },
          "metadata": {},
          "execution_count": 21
        }
      ]
    },
    {
      "cell_type": "code",
      "metadata": {
        "id": "aOaayb24siG-",
        "colab": {
          "base_uri": "https://localhost:8080/",
          "height": 320
        },
        "outputId": "3b116c31-0f58-40af-a747-c0fa061c33b9"
      },
      "source": [
        "# Multiplicação entre vetores\n",
        "v * v  # Erro, pois matematicamente nao se pode calcular o produto entre 2x1 e 2x1, apenas 1x2 e 2x1 ou 2x1 e 1x2."
      ],
      "execution_count": null,
      "outputs": [
        {
          "output_type": "error",
          "ename": "ShapeError",
          "evalue": "ignored",
          "traceback": [
            "\u001b[0;31m---------------------------------------------------------------------------\u001b[0m",
            "\u001b[0;31mShapeError\u001b[0m                                Traceback (most recent call last)",
            "\u001b[0;32m<ipython-input-22-b5cf1ff3f555>\u001b[0m in \u001b[0;36m<module>\u001b[0;34m()\u001b[0m\n\u001b[1;32m      1\u001b[0m \u001b[0;31m# Multiplicação entre vetores\u001b[0m\u001b[0;34m\u001b[0m\u001b[0;34m\u001b[0m\u001b[0;34m\u001b[0m\u001b[0m\n\u001b[0;32m----> 2\u001b[0;31m \u001b[0mv\u001b[0m \u001b[0;34m*\u001b[0m \u001b[0mv\u001b[0m  \u001b[0;31m# Erro, pois matematicamente nao se pode calcular o produto entre 2x1 e 2x1, apenas 1x2 e 2x1 ou 2x1 e 1x2.\u001b[0m\u001b[0;34m\u001b[0m\u001b[0;34m\u001b[0m\u001b[0m\n\u001b[0m",
            "\u001b[0;32m/usr/local/lib/python3.7/dist-packages/sympy/core/decorators.py\u001b[0m in \u001b[0;36mbinary_op_wrapper\u001b[0;34m(self, other)\u001b[0m\n\u001b[1;32m    135\u001b[0m                     \u001b[0;32mif\u001b[0m \u001b[0mf\u001b[0m \u001b[0;32mis\u001b[0m \u001b[0;32mnot\u001b[0m \u001b[0;32mNone\u001b[0m\u001b[0;34m:\u001b[0m\u001b[0;34m\u001b[0m\u001b[0;34m\u001b[0m\u001b[0m\n\u001b[1;32m    136\u001b[0m                         \u001b[0;32mreturn\u001b[0m \u001b[0mf\u001b[0m\u001b[0;34m(\u001b[0m\u001b[0mself\u001b[0m\u001b[0;34m)\u001b[0m\u001b[0;34m\u001b[0m\u001b[0;34m\u001b[0m\u001b[0m\n\u001b[0;32m--> 137\u001b[0;31m             \u001b[0;32mreturn\u001b[0m \u001b[0mfunc\u001b[0m\u001b[0;34m(\u001b[0m\u001b[0mself\u001b[0m\u001b[0;34m,\u001b[0m \u001b[0mother\u001b[0m\u001b[0;34m)\u001b[0m\u001b[0;34m\u001b[0m\u001b[0;34m\u001b[0m\u001b[0m\n\u001b[0m\u001b[1;32m    138\u001b[0m         \u001b[0;32mreturn\u001b[0m \u001b[0mbinary_op_wrapper\u001b[0m\u001b[0;34m\u001b[0m\u001b[0;34m\u001b[0m\u001b[0m\n\u001b[1;32m    139\u001b[0m     \u001b[0;32mreturn\u001b[0m \u001b[0mpriority_decorator\u001b[0m\u001b[0;34m\u001b[0m\u001b[0;34m\u001b[0m\u001b[0m\n",
            "\u001b[0;32m/usr/local/lib/python3.7/dist-packages/sympy/matrices/common.py\u001b[0m in \u001b[0;36m__mul__\u001b[0;34m(self, other)\u001b[0m\n\u001b[1;32m   2605\u001b[0m         \"\"\"\n\u001b[1;32m   2606\u001b[0m \u001b[0;34m\u001b[0m\u001b[0m\n\u001b[0;32m-> 2607\u001b[0;31m         \u001b[0;32mreturn\u001b[0m \u001b[0mself\u001b[0m\u001b[0;34m.\u001b[0m\u001b[0mmultiply\u001b[0m\u001b[0;34m(\u001b[0m\u001b[0mother\u001b[0m\u001b[0;34m)\u001b[0m\u001b[0;34m\u001b[0m\u001b[0;34m\u001b[0m\u001b[0m\n\u001b[0m\u001b[1;32m   2608\u001b[0m \u001b[0;34m\u001b[0m\u001b[0m\n\u001b[1;32m   2609\u001b[0m     \u001b[0;32mdef\u001b[0m \u001b[0mmultiply\u001b[0m\u001b[0;34m(\u001b[0m\u001b[0mself\u001b[0m\u001b[0;34m,\u001b[0m \u001b[0mother\u001b[0m\u001b[0;34m,\u001b[0m \u001b[0mdotprodsimp\u001b[0m\u001b[0;34m=\u001b[0m\u001b[0;32mNone\u001b[0m\u001b[0;34m)\u001b[0m\u001b[0;34m:\u001b[0m\u001b[0;34m\u001b[0m\u001b[0;34m\u001b[0m\u001b[0m\n",
            "\u001b[0;32m/usr/local/lib/python3.7/dist-packages/sympy/matrices/common.py\u001b[0m in \u001b[0;36mmultiply\u001b[0;34m(self, other, dotprodsimp)\u001b[0m\n\u001b[1;32m   2628\u001b[0m             \u001b[0;32mif\u001b[0m \u001b[0mself\u001b[0m\u001b[0;34m.\u001b[0m\u001b[0mshape\u001b[0m\u001b[0;34m[\u001b[0m\u001b[0;36m1\u001b[0m\u001b[0;34m]\u001b[0m \u001b[0;34m!=\u001b[0m \u001b[0mother\u001b[0m\u001b[0;34m.\u001b[0m\u001b[0mshape\u001b[0m\u001b[0;34m[\u001b[0m\u001b[0;36m0\u001b[0m\u001b[0;34m]\u001b[0m\u001b[0;34m:\u001b[0m\u001b[0;34m\u001b[0m\u001b[0;34m\u001b[0m\u001b[0m\n\u001b[1;32m   2629\u001b[0m                 raise ShapeError(\"Matrix size mismatch: %s * %s.\" % (\n\u001b[0;32m-> 2630\u001b[0;31m                     self.shape, other.shape))\n\u001b[0m\u001b[1;32m   2631\u001b[0m \u001b[0;34m\u001b[0m\u001b[0m\n\u001b[1;32m   2632\u001b[0m         \u001b[0;31m# honest sympy matrices defer to their class's routine\u001b[0m\u001b[0;34m\u001b[0m\u001b[0;34m\u001b[0m\u001b[0;34m\u001b[0m\u001b[0m\n",
            "\u001b[0;31mShapeError\u001b[0m: Matrix size mismatch: (2, 1) * (2, 1)."
          ]
        }
      ]
    },
    {
      "cell_type": "code",
      "metadata": {
        "id": "F66hPxLktaWz",
        "colab": {
          "base_uri": "https://localhost:8080/",
          "height": 38
        },
        "outputId": "2b3e3dd5-8523-48c3-cfe3-59f32769068e"
      },
      "source": [
        "# Multiplicação (produto interno, após transposicao)\n",
        "v.T * v"
      ],
      "execution_count": null,
      "outputs": [
        {
          "output_type": "execute_result",
          "data": {
            "text/latex": "$\\displaystyle \\left[\\begin{matrix}5\\end{matrix}\\right]$",
            "text/plain": [
              "[5]"
            ]
          },
          "metadata": {},
          "execution_count": 23
        }
      ]
    },
    {
      "cell_type": "code",
      "metadata": {
        "id": "kur-K7Sgv6AM",
        "colab": {
          "base_uri": "https://localhost:8080/",
          "height": 178
        },
        "outputId": "30dec3e8-64d7-47fd-c681-85e3e4f77edc"
      },
      "source": [
        "# Divisão (escalar)\n",
        "1 / A   # Erro: matematicamente nao faz sentido dividir por uma matriz"
      ],
      "execution_count": null,
      "outputs": [
        {
          "output_type": "error",
          "ename": "TypeError",
          "evalue": "ignored",
          "traceback": [
            "\u001b[0;31m---------------------------------------------------------------------------\u001b[0m",
            "\u001b[0;31mTypeError\u001b[0m                                 Traceback (most recent call last)",
            "\u001b[0;32m<ipython-input-24-4ca4f30c9cdc>\u001b[0m in \u001b[0;36m<module>\u001b[0;34m()\u001b[0m\n\u001b[1;32m      1\u001b[0m \u001b[0;31m# Divisão (escalar)\u001b[0m\u001b[0;34m\u001b[0m\u001b[0;34m\u001b[0m\u001b[0;34m\u001b[0m\u001b[0m\n\u001b[0;32m----> 2\u001b[0;31m \u001b[0;36m1\u001b[0m \u001b[0;34m/\u001b[0m \u001b[0mA\u001b[0m   \u001b[0;31m# Erro: matematicamente nao faz sentido dividir por uma matriz\u001b[0m\u001b[0;34m\u001b[0m\u001b[0;34m\u001b[0m\u001b[0m\n\u001b[0m",
            "\u001b[0;31mTypeError\u001b[0m: unsupported operand type(s) for /: 'int' and 'MutableDenseMatrix'"
          ]
        }
      ]
    },
    {
      "cell_type": "code",
      "metadata": {
        "id": "VKg08h5Xv8gN"
      },
      "source": [
        "# Potenciação \n",
        "v**2  # Erro, pois nao se pode elevar um vetor ao quadrado"
      ],
      "execution_count": null,
      "outputs": []
    },
    {
      "cell_type": "code",
      "metadata": {
        "id": "a2aaHrGDtiqP",
        "colab": {
          "base_uri": "https://localhost:8080/",
          "height": 58
        },
        "outputId": "052ed692-6328-46ae-e301-7de00032724f"
      },
      "source": [
        "# Potenciação (obs: mesmo que AA = A^2, não é elementwise)\n",
        "A**2"
      ],
      "execution_count": null,
      "outputs": [
        {
          "output_type": "execute_result",
          "data": {
            "text/latex": "$\\displaystyle \\left[\\begin{matrix}\\frac{17}{4} & -2\\\\-2 & \\frac{17}{4}\\end{matrix}\\right]$",
            "text/plain": [
              "⎡17/4   -2 ⎤\n",
              "⎢          ⎥\n",
              "⎣ -2   17/4⎦"
            ]
          },
          "metadata": {},
          "execution_count": 25
        }
      ]
    },
    {
      "cell_type": "code",
      "metadata": {
        "id": "zDDD-npV2_RE",
        "colab": {
          "base_uri": "https://localhost:8080/",
          "height": 337
        },
        "outputId": "12a124b6-1cef-42f2-a1b5-3adcf0841195"
      },
      "source": [
        "# Multiplicacao matricial/produto interno\n",
        "\n",
        "v @ v  # O operador @ para Sympy arrays não possui distincao ao *"
      ],
      "execution_count": null,
      "outputs": [
        {
          "output_type": "error",
          "ename": "ShapeError",
          "evalue": "ignored",
          "traceback": [
            "\u001b[0;31m---------------------------------------------------------------------------\u001b[0m",
            "\u001b[0;31mShapeError\u001b[0m                                Traceback (most recent call last)",
            "\u001b[0;32m<ipython-input-26-641e97e98d82>\u001b[0m in \u001b[0;36m<module>\u001b[0;34m()\u001b[0m\n\u001b[1;32m      1\u001b[0m \u001b[0;31m# Multiplicacao matricial/produto interno\u001b[0m\u001b[0;34m\u001b[0m\u001b[0;34m\u001b[0m\u001b[0;34m\u001b[0m\u001b[0m\n\u001b[1;32m      2\u001b[0m \u001b[0;34m\u001b[0m\u001b[0m\n\u001b[0;32m----> 3\u001b[0;31m \u001b[0mv\u001b[0m \u001b[0;34m@\u001b[0m \u001b[0mv\u001b[0m  \u001b[0;31m# O operador @ para Sympy arrays não possui distincao ao *\u001b[0m\u001b[0;34m\u001b[0m\u001b[0;34m\u001b[0m\u001b[0m\n\u001b[0m",
            "\u001b[0;32m/usr/local/lib/python3.7/dist-packages/sympy/core/decorators.py\u001b[0m in \u001b[0;36mbinary_op_wrapper\u001b[0;34m(self, other)\u001b[0m\n\u001b[1;32m    135\u001b[0m                     \u001b[0;32mif\u001b[0m \u001b[0mf\u001b[0m \u001b[0;32mis\u001b[0m \u001b[0;32mnot\u001b[0m \u001b[0;32mNone\u001b[0m\u001b[0;34m:\u001b[0m\u001b[0;34m\u001b[0m\u001b[0;34m\u001b[0m\u001b[0m\n\u001b[1;32m    136\u001b[0m                         \u001b[0;32mreturn\u001b[0m \u001b[0mf\u001b[0m\u001b[0;34m(\u001b[0m\u001b[0mself\u001b[0m\u001b[0;34m)\u001b[0m\u001b[0;34m\u001b[0m\u001b[0;34m\u001b[0m\u001b[0m\n\u001b[0;32m--> 137\u001b[0;31m             \u001b[0;32mreturn\u001b[0m \u001b[0mfunc\u001b[0m\u001b[0;34m(\u001b[0m\u001b[0mself\u001b[0m\u001b[0;34m,\u001b[0m \u001b[0mother\u001b[0m\u001b[0;34m)\u001b[0m\u001b[0;34m\u001b[0m\u001b[0;34m\u001b[0m\u001b[0m\n\u001b[0m\u001b[1;32m    138\u001b[0m         \u001b[0;32mreturn\u001b[0m \u001b[0mbinary_op_wrapper\u001b[0m\u001b[0;34m\u001b[0m\u001b[0;34m\u001b[0m\u001b[0m\n\u001b[1;32m    139\u001b[0m     \u001b[0;32mreturn\u001b[0m \u001b[0mpriority_decorator\u001b[0m\u001b[0;34m\u001b[0m\u001b[0;34m\u001b[0m\u001b[0m\n",
            "\u001b[0;32m/usr/local/lib/python3.7/dist-packages/sympy/matrices/common.py\u001b[0m in \u001b[0;36m__matmul__\u001b[0;34m(self, other)\u001b[0m\n\u001b[1;32m   2571\u001b[0m             \u001b[0;32mreturn\u001b[0m \u001b[0mNotImplemented\u001b[0m\u001b[0;34m\u001b[0m\u001b[0;34m\u001b[0m\u001b[0m\n\u001b[1;32m   2572\u001b[0m \u001b[0;34m\u001b[0m\u001b[0m\n\u001b[0;32m-> 2573\u001b[0;31m         \u001b[0;32mreturn\u001b[0m \u001b[0mself\u001b[0m\u001b[0;34m.\u001b[0m\u001b[0m__mul__\u001b[0m\u001b[0;34m(\u001b[0m\u001b[0mother\u001b[0m\u001b[0;34m)\u001b[0m\u001b[0;34m\u001b[0m\u001b[0;34m\u001b[0m\u001b[0m\n\u001b[0m\u001b[1;32m   2574\u001b[0m \u001b[0;34m\u001b[0m\u001b[0m\n\u001b[1;32m   2575\u001b[0m     \u001b[0;32mdef\u001b[0m \u001b[0m__mod__\u001b[0m\u001b[0;34m(\u001b[0m\u001b[0mself\u001b[0m\u001b[0;34m,\u001b[0m \u001b[0mother\u001b[0m\u001b[0;34m)\u001b[0m\u001b[0;34m:\u001b[0m\u001b[0;34m\u001b[0m\u001b[0;34m\u001b[0m\u001b[0m\n",
            "\u001b[0;32m/usr/local/lib/python3.7/dist-packages/sympy/core/decorators.py\u001b[0m in \u001b[0;36mbinary_op_wrapper\u001b[0;34m(self, other)\u001b[0m\n\u001b[1;32m    135\u001b[0m                     \u001b[0;32mif\u001b[0m \u001b[0mf\u001b[0m \u001b[0;32mis\u001b[0m \u001b[0;32mnot\u001b[0m \u001b[0;32mNone\u001b[0m\u001b[0;34m:\u001b[0m\u001b[0;34m\u001b[0m\u001b[0;34m\u001b[0m\u001b[0m\n\u001b[1;32m    136\u001b[0m                         \u001b[0;32mreturn\u001b[0m \u001b[0mf\u001b[0m\u001b[0;34m(\u001b[0m\u001b[0mself\u001b[0m\u001b[0;34m)\u001b[0m\u001b[0;34m\u001b[0m\u001b[0;34m\u001b[0m\u001b[0m\n\u001b[0;32m--> 137\u001b[0;31m             \u001b[0;32mreturn\u001b[0m \u001b[0mfunc\u001b[0m\u001b[0;34m(\u001b[0m\u001b[0mself\u001b[0m\u001b[0;34m,\u001b[0m \u001b[0mother\u001b[0m\u001b[0;34m)\u001b[0m\u001b[0;34m\u001b[0m\u001b[0;34m\u001b[0m\u001b[0m\n\u001b[0m\u001b[1;32m    138\u001b[0m         \u001b[0;32mreturn\u001b[0m \u001b[0mbinary_op_wrapper\u001b[0m\u001b[0;34m\u001b[0m\u001b[0;34m\u001b[0m\u001b[0m\n\u001b[1;32m    139\u001b[0m     \u001b[0;32mreturn\u001b[0m \u001b[0mpriority_decorator\u001b[0m\u001b[0;34m\u001b[0m\u001b[0;34m\u001b[0m\u001b[0m\n",
            "\u001b[0;32m/usr/local/lib/python3.7/dist-packages/sympy/matrices/common.py\u001b[0m in \u001b[0;36m__mul__\u001b[0;34m(self, other)\u001b[0m\n\u001b[1;32m   2605\u001b[0m         \"\"\"\n\u001b[1;32m   2606\u001b[0m \u001b[0;34m\u001b[0m\u001b[0m\n\u001b[0;32m-> 2607\u001b[0;31m         \u001b[0;32mreturn\u001b[0m \u001b[0mself\u001b[0m\u001b[0;34m.\u001b[0m\u001b[0mmultiply\u001b[0m\u001b[0;34m(\u001b[0m\u001b[0mother\u001b[0m\u001b[0;34m)\u001b[0m\u001b[0;34m\u001b[0m\u001b[0;34m\u001b[0m\u001b[0m\n\u001b[0m\u001b[1;32m   2608\u001b[0m \u001b[0;34m\u001b[0m\u001b[0m\n\u001b[1;32m   2609\u001b[0m     \u001b[0;32mdef\u001b[0m \u001b[0mmultiply\u001b[0m\u001b[0;34m(\u001b[0m\u001b[0mself\u001b[0m\u001b[0;34m,\u001b[0m \u001b[0mother\u001b[0m\u001b[0;34m,\u001b[0m \u001b[0mdotprodsimp\u001b[0m\u001b[0;34m=\u001b[0m\u001b[0;32mNone\u001b[0m\u001b[0;34m)\u001b[0m\u001b[0;34m:\u001b[0m\u001b[0;34m\u001b[0m\u001b[0;34m\u001b[0m\u001b[0m\n",
            "\u001b[0;32m/usr/local/lib/python3.7/dist-packages/sympy/matrices/common.py\u001b[0m in \u001b[0;36mmultiply\u001b[0;34m(self, other, dotprodsimp)\u001b[0m\n\u001b[1;32m   2628\u001b[0m             \u001b[0;32mif\u001b[0m \u001b[0mself\u001b[0m\u001b[0;34m.\u001b[0m\u001b[0mshape\u001b[0m\u001b[0;34m[\u001b[0m\u001b[0;36m1\u001b[0m\u001b[0;34m]\u001b[0m \u001b[0;34m!=\u001b[0m \u001b[0mother\u001b[0m\u001b[0;34m.\u001b[0m\u001b[0mshape\u001b[0m\u001b[0;34m[\u001b[0m\u001b[0;36m0\u001b[0m\u001b[0;34m]\u001b[0m\u001b[0;34m:\u001b[0m\u001b[0;34m\u001b[0m\u001b[0;34m\u001b[0m\u001b[0m\n\u001b[1;32m   2629\u001b[0m                 raise ShapeError(\"Matrix size mismatch: %s * %s.\" % (\n\u001b[0;32m-> 2630\u001b[0;31m                     self.shape, other.shape))\n\u001b[0m\u001b[1;32m   2631\u001b[0m \u001b[0;34m\u001b[0m\u001b[0m\n\u001b[1;32m   2632\u001b[0m         \u001b[0;31m# honest sympy matrices defer to their class's routine\u001b[0m\u001b[0;34m\u001b[0m\u001b[0;34m\u001b[0m\u001b[0;34m\u001b[0m\u001b[0m\n",
            "\u001b[0;31mShapeError\u001b[0m: Matrix size mismatch: (2, 1) * (2, 1)."
          ]
        }
      ]
    },
    {
      "cell_type": "code",
      "metadata": {
        "id": "3BkHKgh6xzf1",
        "colab": {
          "base_uri": "https://localhost:8080/"
        },
        "outputId": "713d0109-b33b-4b71-f184-91aefe68f504"
      },
      "source": [
        "# Multiplicacao matricial/produto interno\n",
        "# (matriz-vetor)\n",
        "A @ v"
      ],
      "execution_count": null,
      "outputs": [
        {
          "output_type": "execute_result",
          "data": {
            "text/latex": "$\\displaystyle \\left[\\begin{matrix}1\\\\\\frac{7}{2}\\end{matrix}\\right]$",
            "text/plain": [
              "⎡ 1 ⎤\n",
              "⎢   ⎥\n",
              "⎣7/2⎦"
            ]
          },
          "metadata": {},
          "execution_count": 27
        }
      ]
    },
    {
      "cell_type": "code",
      "metadata": {
        "id": "g_baV-qj1LNe",
        "colab": {
          "base_uri": "https://localhost:8080/"
        },
        "outputId": "ca20929b-c031-41b7-84e4-2f41097b860c"
      },
      "source": [
        "# Multiplicao matricial\n",
        "# (matriz - matriz) \n",
        "A @ A"
      ],
      "execution_count": null,
      "outputs": [
        {
          "output_type": "execute_result",
          "data": {
            "text/latex": "$\\displaystyle \\left[\\begin{matrix}\\frac{17}{4} & -2\\\\-2 & \\frac{17}{4}\\end{matrix}\\right]$",
            "text/plain": [
              "⎡17/4   -2 ⎤\n",
              "⎢          ⎥\n",
              "⎣ -2   17/4⎦"
            ]
          },
          "metadata": {},
          "execution_count": 28
        }
      ]
    },
    {
      "cell_type": "markdown",
      "metadata": {
        "id": "uWipGMJFVV9h"
      },
      "source": [
        "## Acesso e modificação de Sympy Matrix\n",
        "\n",
        "Os acessos e alterações a Sympy Matrix são feitos exatamente da mesma forma do que os Numpy arrays, com exceção de não ser permitivo acessar elementos usando a forma **`A[linha][coluna]`**, apenas **`A[linha,coluna]`**."
      ]
    },
    {
      "cell_type": "code",
      "metadata": {
        "colab": {
          "base_uri": "https://localhost:8080/"
        },
        "id": "QImBlKx9V28W",
        "outputId": "b374ee5a-a790-4450-bce5-ddb03540f4cf"
      },
      "source": [
        "A"
      ],
      "execution_count": null,
      "outputs": [
        {
          "output_type": "execute_result",
          "data": {
            "text/latex": "$\\displaystyle \\left[\\begin{matrix}2 & - \\frac{1}{2}\\\\- \\frac{1}{2} & 2\\end{matrix}\\right]$",
            "text/plain": [
              "⎡ 2    -1/2⎤\n",
              "⎢          ⎥\n",
              "⎣-1/2   2  ⎦"
            ]
          },
          "metadata": {},
          "execution_count": 29
        }
      ]
    },
    {
      "cell_type": "code",
      "metadata": {
        "colab": {
          "base_uri": "https://localhost:8080/"
        },
        "id": "AzHMYnShWNBz",
        "outputId": "dfe90b05-04f0-4139-e3be-6f4d1c76f211"
      },
      "source": [
        "# Acesso a um elemento de um Sympy Matrix\n",
        "A[0,1]"
      ],
      "execution_count": null,
      "outputs": [
        {
          "output_type": "execute_result",
          "data": {
            "text/latex": "$\\displaystyle - \\frac{1}{2}$",
            "text/plain": [
              "-1/2"
            ]
          },
          "metadata": {},
          "execution_count": 30
        }
      ]
    },
    {
      "cell_type": "code",
      "metadata": {
        "id": "oiLyKqrCWTET"
      },
      "source": [
        "# Alteracao de um elemento de uma Sympy Matrix\n",
        "A[0,1] = -1"
      ],
      "execution_count": null,
      "outputs": []
    },
    {
      "cell_type": "code",
      "metadata": {
        "colab": {
          "base_uri": "https://localhost:8080/"
        },
        "id": "n1OCRL9yWbcD",
        "outputId": "5e20b3b9-87b7-4dea-eb85-c1d2d2e6b3cc"
      },
      "source": [
        "A"
      ],
      "execution_count": null,
      "outputs": [
        {
          "output_type": "execute_result",
          "data": {
            "text/latex": "$\\displaystyle \\left[\\begin{matrix}2 & -1\\\\- \\frac{1}{2} & 2\\end{matrix}\\right]$",
            "text/plain": [
              "⎡ 2    -1⎤\n",
              "⎢        ⎥\n",
              "⎣-1/2  2 ⎦"
            ]
          },
          "metadata": {},
          "execution_count": 32
        }
      ]
    },
    {
      "cell_type": "code",
      "metadata": {
        "colab": {
          "base_uri": "https://localhost:8080/"
        },
        "id": "PEk-1BMjWcmJ",
        "outputId": "a0dc160b-9a31-4478-dd86-78a535ad9059"
      },
      "source": [
        "# Acessando a primeira coluna de uma Sympy Matrix\n",
        "A[:, 0]"
      ],
      "execution_count": null,
      "outputs": [
        {
          "output_type": "execute_result",
          "data": {
            "text/latex": "$\\displaystyle \\left[\\begin{matrix}2\\\\- \\frac{1}{2}\\end{matrix}\\right]$",
            "text/plain": [
              "⎡ 2  ⎤\n",
              "⎢    ⎥\n",
              "⎣-1/2⎦"
            ]
          },
          "metadata": {},
          "execution_count": 33
        }
      ]
    },
    {
      "cell_type": "code",
      "metadata": {
        "colab": {
          "base_uri": "https://localhost:8080/"
        },
        "id": "CwRAfYCRWmB6",
        "outputId": "188f6912-6fbc-4afc-d9d2-8ba60710c470"
      },
      "source": [
        "# Acessando a segunda linha de uma Sympy Matrix\n",
        "A[1, :]"
      ],
      "execution_count": null,
      "outputs": [
        {
          "output_type": "execute_result",
          "data": {
            "text/latex": "$\\displaystyle \\left[\\begin{matrix}- \\frac{1}{2} & 2\\end{matrix}\\right]$",
            "text/plain": [
              "[-1/2  2]"
            ]
          },
          "metadata": {},
          "execution_count": 34
        }
      ]
    },
    {
      "cell_type": "code",
      "metadata": {
        "id": "rZPDl-6CWqPm"
      },
      "source": [
        "# Alterando a segunda linha de uma Sympy Matrix para uma outra de dimensão compativel\n",
        "# Perceba que foi necessario transpor a Sympy Matrix, uma vez que por padrao são criados vetores em forma de coluna\n",
        "\n",
        "A[1, :] = sym.Matrix([7, 10]).T"
      ],
      "execution_count": null,
      "outputs": []
    },
    {
      "cell_type": "code",
      "metadata": {
        "colab": {
          "base_uri": "https://localhost:8080/"
        },
        "id": "1QFucJS1Wzzj",
        "outputId": "b1131790-4208-411d-d4eb-645bddfe9628"
      },
      "source": [
        "A"
      ],
      "execution_count": null,
      "outputs": [
        {
          "output_type": "execute_result",
          "data": {
            "text/latex": "$\\displaystyle \\left[\\begin{matrix}2 & -1\\\\7 & 10\\end{matrix}\\right]$",
            "text/plain": [
              "⎡2  -1⎤\n",
              "⎢     ⎥\n",
              "⎣7  10⎦"
            ]
          },
          "metadata": {},
          "execution_count": 36
        }
      ]
    },
    {
      "cell_type": "markdown",
      "metadata": {
        "id": "VBOjDjUfAhPD"
      },
      "source": [
        "Também somos capazes de obter as dimensões de uma Sympy Matrix usando o atributo **``shape``**. É retornada uma tupla com estas informações."
      ]
    },
    {
      "cell_type": "code",
      "metadata": {
        "colab": {
          "base_uri": "https://localhost:8080/"
        },
        "id": "ia9Cvh5xAqRo",
        "outputId": "ef39adb4-cb39-4eb5-ffd1-cc47b2f71f1e"
      },
      "source": [
        "v.shape  "
      ],
      "execution_count": null,
      "outputs": [
        {
          "output_type": "execute_result",
          "data": {
            "text/latex": "$\\displaystyle \\left( 2, \\  1\\right)$",
            "text/plain": [
              "(2, 1)"
            ]
          },
          "metadata": {},
          "execution_count": 37
        }
      ]
    },
    {
      "cell_type": "code",
      "metadata": {
        "colab": {
          "base_uri": "https://localhost:8080/"
        },
        "id": "lN5IvEnJBOjR",
        "outputId": "fe663a85-169d-469a-dcae-e74ca2914e02"
      },
      "source": [
        "A.shape"
      ],
      "execution_count": null,
      "outputs": [
        {
          "output_type": "execute_result",
          "data": {
            "text/latex": "$\\displaystyle \\left( 2, \\  2\\right)$",
            "text/plain": [
              "(2, 2)"
            ]
          },
          "metadata": {},
          "execution_count": 38
        }
      ]
    },
    {
      "cell_type": "code",
      "metadata": {
        "colab": {
          "base_uri": "https://localhost:8080/"
        },
        "id": "YYcW2v-OBhX_",
        "outputId": "fa8aae2d-cf43-48fb-ec1b-c331a9fa01b4"
      },
      "source": [
        "# Conta arbitraria: soma entre numero de linhas e colunas\n",
        "A.shape[0] + A.shape[1]  "
      ],
      "execution_count": null,
      "outputs": [
        {
          "output_type": "execute_result",
          "data": {
            "text/latex": "$\\displaystyle 4$",
            "text/plain": [
              "4"
            ]
          },
          "metadata": {},
          "execution_count": 39
        }
      ]
    },
    {
      "cell_type": "markdown",
      "metadata": {
        "id": "j7FGNESDbaeJ"
      },
      "source": [
        "### Definindo uma função no SymPy\n",
        "\n",
        "\n"
      ]
    },
    {
      "cell_type": "markdown",
      "metadata": {
        "id": "y9c6FivKA51S"
      },
      "source": [
        "Vejamos a seguir como definir funções no Sympy. De início, é necessário reservar símbolos:"
      ]
    },
    {
      "cell_type": "code",
      "metadata": {
        "id": "5yiAzQLn6eaJ"
      },
      "source": [
        "x_s = sym.symbols('x')"
      ],
      "execution_count": null,
      "outputs": []
    },
    {
      "cell_type": "markdown",
      "metadata": {
        "id": "hI_zCNtt6fUM"
      },
      "source": [
        "É possível definir uma função com alguma expressão envolvendo a variável previamente criada:"
      ]
    },
    {
      "cell_type": "markdown",
      "metadata": {
        "id": "vydkw003Fwk5"
      },
      "source": [
        " **Atenção para uso de *sym.sin(x)* e NÃO *np.sin(x)*. A versão da biblioteca Sympy que resolve esta função simbolicamente para algum número simbólico!**"
      ]
    },
    {
      "cell_type": "code",
      "metadata": {
        "id": "rKM99ErxBTQ-"
      },
      "source": [
        "f_s = x_s **2 - 2 * x_s + sym.sin(x_s) "
      ],
      "execution_count": null,
      "outputs": []
    },
    {
      "cell_type": "code",
      "metadata": {
        "id": "YNr6ENqbBX_n",
        "colab": {
          "base_uri": "https://localhost:8080/"
        },
        "outputId": "a79b519d-0912-460d-a5fd-2cb3bd92358e"
      },
      "source": [
        "f_s"
      ],
      "execution_count": null,
      "outputs": [
        {
          "output_type": "execute_result",
          "data": {
            "text/latex": "$\\displaystyle x^{2} - 2 x + \\sin{\\left(x \\right)}$",
            "text/plain": [
              " 2               \n",
              "x  - 2⋅x + sin(x)"
            ]
          },
          "metadata": {},
          "execution_count": 42
        }
      ]
    },
    {
      "cell_type": "markdown",
      "metadata": {
        "id": "RC66OkzmEsA1"
      },
      "source": [
        "### Avaliando uma função em um ponto\n",
        "\n",
        "Se fosse do nosso interesse encontrar\n",
        "\n",
        "\n",
        "*   $f(0)$;\n",
        "*   $f(2)$;\n",
        "*   $f(\\pi)$,\n",
        "\n",
        "poderíamos usar o método **`subs`**, que recebe uma lista contendo tuplas. Nestas tuplas, se indica o símbolo a ser substituído e por qual valor. Veja abaixo alguns exemplos:\n",
        "\n"
      ]
    },
    {
      "cell_type": "code",
      "metadata": {
        "colab": {
          "base_uri": "https://localhost:8080/"
        },
        "id": "9zMwqYSxwYzS",
        "outputId": "521fcad3-0421-4dd6-e1bd-5a7fcd88a3e8"
      },
      "source": [
        "f_s.subs([(x_s, 0)])"
      ],
      "execution_count": null,
      "outputs": [
        {
          "output_type": "execute_result",
          "data": {
            "text/latex": "$\\displaystyle 0$",
            "text/plain": [
              "0"
            ]
          },
          "metadata": {},
          "execution_count": 43
        }
      ]
    },
    {
      "cell_type": "code",
      "metadata": {
        "colab": {
          "base_uri": "https://localhost:8080/"
        },
        "id": "BLGLJEyQweA2",
        "outputId": "74f2ad5b-1cbe-4b70-9d74-86af0283c2ca"
      },
      "source": [
        "f_s.subs([(x_s, 2)])"
      ],
      "execution_count": null,
      "outputs": [
        {
          "output_type": "execute_result",
          "data": {
            "text/latex": "$\\displaystyle \\sin{\\left(2 \\right)}$",
            "text/plain": [
              "sin(2)"
            ]
          },
          "metadata": {},
          "execution_count": 44
        }
      ]
    },
    {
      "cell_type": "markdown",
      "metadata": {
        "id": "g94tHSqFW-uV"
      },
      "source": [
        "Observe que $f(2)$ no Sympy resulta em $\\sin(2)$, não sendo realizada alguma aproximação numérica."
      ]
    },
    {
      "cell_type": "code",
      "metadata": {
        "colab": {
          "base_uri": "https://localhost:8080/"
        },
        "id": "KPbZMn7iwhQc",
        "outputId": "1f54c647-169b-4c34-d6ea-8c84d7439407"
      },
      "source": [
        "f_s.subs([(x_s, sym.pi)])  # Atencao ao uso do pi simbolico com o sym.pi"
      ],
      "execution_count": null,
      "outputs": [
        {
          "output_type": "execute_result",
          "data": {
            "text/latex": "$\\displaystyle - 2 \\pi + \\pi^{2}$",
            "text/plain": [
              "        2\n",
              "-2⋅π + π "
            ]
          },
          "metadata": {},
          "execution_count": 45
        }
      ]
    },
    {
      "cell_type": "markdown",
      "metadata": {
        "id": "CVg9KYQDTiTs"
      },
      "source": [
        "Se fosse desejado converter o resultado de alguma expressão para ponto flutuante, é possível fazer:"
      ]
    },
    {
      "cell_type": "code",
      "metadata": {
        "id": "BGUWQkTWTPYd",
        "colab": {
          "base_uri": "https://localhost:8080/"
        },
        "outputId": "02d51c2a-848f-4c15-b4e6-265d03c1b496"
      },
      "source": [
        "float(f_s.subs([(x_s, sym.pi)])) "
      ],
      "execution_count": null,
      "outputs": [
        {
          "output_type": "execute_result",
          "data": {
            "text/latex": "$\\displaystyle 3.58641909390977$",
            "text/plain": [
              "3.586419093909772"
            ]
          },
          "metadata": {},
          "execution_count": 46
        }
      ]
    },
    {
      "cell_type": "markdown",
      "metadata": {
        "id": "Ut4PJ4XNTq2R"
      },
      "source": [
        "Ou"
      ]
    },
    {
      "cell_type": "code",
      "metadata": {
        "id": "jteborthTpzG",
        "colab": {
          "base_uri": "https://localhost:8080/"
        },
        "outputId": "20bca14c-bd47-4089-c166-648f38a71ce8"
      },
      "source": [
        "sym.N( f_s.subs([(x_s, sym.pi)]) ) "
      ],
      "execution_count": null,
      "outputs": [
        {
          "output_type": "execute_result",
          "data": {
            "text/latex": "$\\displaystyle 3.58641909390977$",
            "text/plain": [
              "3.58641909390977"
            ]
          },
          "metadata": {},
          "execution_count": 47
        }
      ]
    },
    {
      "cell_type": "markdown",
      "metadata": {
        "id": "Nf7VHAWbUSmc"
      },
      "source": [
        "# Simplificando expressões"
      ]
    },
    {
      "cell_type": "markdown",
      "metadata": {
        "id": "t-nClfhUUVVg"
      },
      "source": [
        "Algumas vezes o SymPy pode não dar como resposta a expressão em uma forma muito interessante. \n",
        "\n",
        "Exemplos:"
      ]
    },
    {
      "cell_type": "code",
      "metadata": {
        "id": "PlijI8K2Vt-R"
      },
      "source": [
        "f_s = sym.sin(x_s)**2 + sym.cos(x_s)**2"
      ],
      "execution_count": null,
      "outputs": []
    },
    {
      "cell_type": "code",
      "metadata": {
        "colab": {
          "base_uri": "https://localhost:8080/"
        },
        "id": "1tgDc-FAYJ7T",
        "outputId": "7a404943-e057-45b6-889e-02a4a225e1f8"
      },
      "source": [
        "f_s"
      ],
      "execution_count": null,
      "outputs": [
        {
          "output_type": "execute_result",
          "data": {
            "text/latex": "$\\displaystyle \\sin^{2}{\\left(x \\right)} + \\cos^{2}{\\left(x \\right)}$",
            "text/plain": [
              "   2         2   \n",
              "sin (x) + cos (x)"
            ]
          },
          "metadata": {},
          "execution_count": 49
        }
      ]
    },
    {
      "cell_type": "code",
      "metadata": {
        "colab": {
          "base_uri": "https://localhost:8080/"
        },
        "id": "VhoavXq1YQQM",
        "outputId": "9adb9dd8-bdae-4d4b-c9bc-34be1210f3cb"
      },
      "source": [
        "sym.simplify(f_s) # Apresentando versao simplificada da expressao anterior"
      ],
      "execution_count": null,
      "outputs": [
        {
          "output_type": "execute_result",
          "data": {
            "text/latex": "$\\displaystyle 1$",
            "text/plain": [
              "1"
            ]
          },
          "metadata": {},
          "execution_count": 50
        }
      ]
    },
    {
      "cell_type": "code",
      "metadata": {
        "id": "ilKGdvsTYpJh"
      },
      "source": [
        "f_s = (x_s**3 + x_s**2 - x_s - 1)/(x_s**2 + 2 * x_s + 1)"
      ],
      "execution_count": null,
      "outputs": []
    },
    {
      "cell_type": "code",
      "metadata": {
        "colab": {
          "base_uri": "https://localhost:8080/"
        },
        "id": "zaKctlQCYvQv",
        "outputId": "a799d792-084b-46de-c0d3-8c05117fa15f"
      },
      "source": [
        "f_s"
      ],
      "execution_count": null,
      "outputs": [
        {
          "output_type": "execute_result",
          "data": {
            "text/latex": "$\\displaystyle \\frac{x^{3} + x^{2} - x - 1}{x^{2} + 2 x + 1}$",
            "text/plain": [
              " 3    2        \n",
              "x  + x  - x - 1\n",
              "───────────────\n",
              "   2           \n",
              "  x  + 2⋅x + 1 "
            ]
          },
          "metadata": {},
          "execution_count": 52
        }
      ]
    },
    {
      "cell_type": "code",
      "metadata": {
        "colab": {
          "base_uri": "https://localhost:8080/"
        },
        "id": "lDQv94k2YwuY",
        "outputId": "e5da62f0-a8fd-46e0-e043-14fcf481ddec"
      },
      "source": [
        "sym.simplify(f_s) # Apresentando versao simplificada da expressao anterior"
      ],
      "execution_count": null,
      "outputs": [
        {
          "output_type": "execute_result",
          "data": {
            "text/latex": "$\\displaystyle x - 1$",
            "text/plain": [
              "x - 1"
            ]
          },
          "metadata": {},
          "execution_count": 53
        }
      ]
    },
    {
      "cell_type": "code",
      "metadata": {
        "id": "1Q0Aw6CAZI8e"
      },
      "source": [
        "f_s = (x_s+1)**2 - x_s**2 + 2*x_s + 1"
      ],
      "execution_count": null,
      "outputs": []
    },
    {
      "cell_type": "code",
      "metadata": {
        "colab": {
          "base_uri": "https://localhost:8080/"
        },
        "id": "3eLlzRIoZtA7",
        "outputId": "b20e8a1b-0c57-4338-aabc-1b7e0fbfe599"
      },
      "source": [
        "f_s"
      ],
      "execution_count": null,
      "outputs": [
        {
          "output_type": "execute_result",
          "data": {
            "text/latex": "$\\displaystyle - x^{2} + 2 x + \\left(x + 1\\right)^{2} + 1$",
            "text/plain": [
              "   2                2    \n",
              "- x  + 2⋅x + (x + 1)  + 1"
            ]
          },
          "metadata": {},
          "execution_count": 55
        }
      ]
    },
    {
      "cell_type": "code",
      "metadata": {
        "colab": {
          "base_uri": "https://localhost:8080/"
        },
        "id": "lzIgs9I3ZurK",
        "outputId": "979de7c1-e888-4041-db07-df963eb9655b"
      },
      "source": [
        "sym.simplify(f_s) # Apresentando versao simplificada da expressao anterior"
      ],
      "execution_count": null,
      "outputs": [
        {
          "output_type": "execute_result",
          "data": {
            "text/latex": "$\\displaystyle 4 x + 2$",
            "text/plain": [
              "4⋅x + 2"
            ]
          },
          "metadata": {},
          "execution_count": 56
        }
      ]
    },
    {
      "cell_type": "markdown",
      "metadata": {
        "id": "dh75MfIaXDuT"
      },
      "source": [
        "São usadas algumas heurísticas para se decidir o que fazer na expressão, de modo que ela possa tornar-se mais simples. Não é garantido que o uso do comando *sym.simplify* irá melhorar a representação da expressão. "
      ]
    },
    {
      "cell_type": "markdown",
      "metadata": {
        "id": "1PqMUg-5XXft"
      },
      "source": [
        "# Definindo operador linear no plano"
      ]
    },
    {
      "cell_type": "markdown",
      "metadata": {
        "id": "lg008rlDXgig"
      },
      "source": [
        "É possível um operador linear no plano usando a biblioteca SymPy seguindo os seguintes passos:\n"
      ]
    },
    {
      "cell_type": "code",
      "metadata": {
        "id": "I_lR8hsdXZ3i"
      },
      "source": [
        "# De inicio, criamos os simbolos necessários\n",
        "x_s = sym.symbols('x')\n",
        "y_s = sym.symbols('y')"
      ],
      "execution_count": null,
      "outputs": []
    },
    {
      "cell_type": "code",
      "metadata": {
        "id": "-aHpiydqak2d"
      },
      "source": [
        "# De volta a criação do operador, definimos o operador desejado da seguinte forma. \n",
        "# O mesmo irá receber um vetor e retornar o mesmo após sofrer ação deste operador.\n",
        "T_s = sym.Matrix( [sym.cos(sym.pi/4) * x_s - sym.cos(sym.pi/4) * y_s,\n",
        "                   sym.sin(sym.pi/4) * x_s + sym.cos(sym.pi/4) * y_s] )"
      ],
      "execution_count": null,
      "outputs": []
    },
    {
      "cell_type": "code",
      "metadata": {
        "id": "UGq7yCmpX7N-",
        "colab": {
          "base_uri": "https://localhost:8080/"
        },
        "outputId": "89216949-f152-4013-d4b2-63361e370e2f"
      },
      "source": [
        "v = sym.Matrix([1, 1])  # vetor que irá sofrer operação\n",
        "T_s.subs( [(x_s, v[0]), (y_s, v[1])] ) # Aplicação do operador linear T"
      ],
      "execution_count": null,
      "outputs": [
        {
          "output_type": "execute_result",
          "data": {
            "text/latex": "$\\displaystyle \\left[\\begin{matrix}0\\\\\\sqrt{2}\\end{matrix}\\right]$",
            "text/plain": [
              "⎡0 ⎤\n",
              "⎢  ⎥\n",
              "⎣√2⎦"
            ]
          },
          "metadata": {},
          "execution_count": 59
        }
      ]
    },
    {
      "cell_type": "code",
      "metadata": {
        "colab": {
          "base_uri": "https://localhost:8080/"
        },
        "id": "Z9NqhTeVcozx",
        "outputId": "60f8d97c-57fe-4857-8c6e-e0a0786091cd"
      },
      "source": [
        "# Outro exemplo de aplicação do operador linear T\n",
        "e1 = sym.Matrix([1, 0])  \n",
        "T_s.subs( [(x_s, e1[0]), (y_s, e1[1])] ) "
      ],
      "execution_count": null,
      "outputs": [
        {
          "output_type": "execute_result",
          "data": {
            "text/latex": "$\\displaystyle \\left[\\begin{matrix}\\frac{\\sqrt{2}}{2}\\\\\\frac{\\sqrt{2}}{2}\\end{matrix}\\right]$",
            "text/plain": [
              "⎡√2⎤\n",
              "⎢──⎥\n",
              "⎢2 ⎥\n",
              "⎢  ⎥\n",
              "⎢√2⎥\n",
              "⎢──⎥\n",
              "⎣2 ⎦"
            ]
          },
          "metadata": {},
          "execution_count": 60
        }
      ]
    },
    {
      "cell_type": "markdown",
      "metadata": {
        "id": "mg1Wqen9dUuY"
      },
      "source": [
        "# Obtendo matriz associada a um operador linear em uma base $\\epsilon$\n",
        "\n",
        "Juntando nossos conhecimentos anteriores, é possível obtermos a matriz $(T)_{\\epsilon}$, que seria a matriz associado ao operador $T$ em uma base $\\epsilon$.\n",
        "\n",
        "Para isso, podemos fazer o seguinte:"
      ]
    },
    {
      "cell_type": "markdown",
      "metadata": {
        "id": "aITFbE9rjwYf"
      },
      "source": [
        "Considerando a base ortonormal $\\epsilon = \\{{e_1, e_2}\\}$, façamos:"
      ]
    },
    {
      "cell_type": "code",
      "metadata": {
        "id": "brBFvrMhYA5b"
      },
      "source": [
        "# Definindo a base\n",
        "e1 = sym.Matrix([1,0])\n",
        "e2 = sym.Matrix([0,1])\n",
        "# Calculando o operador linear sobre e1 e e2. Isso serão as colunas da matriz (T)_eps\n",
        "Te1 = T_s.subs( [(x_s, e1[0]), (y_s, e1[1])] )\n",
        "Te2 = T_s.subs( [(x_s, e2[0]), (y_s, e2[1])] )"
      ],
      "execution_count": null,
      "outputs": []
    },
    {
      "cell_type": "markdown",
      "metadata": {
        "id": "p7D3jibXlmDp"
      },
      "source": [
        "Para se construir uma Sympy Matrix a partir de 2 vetores coluna, ao invés de uma lista de listas, podemos fazer:"
      ]
    },
    {
      "cell_type": "code",
      "metadata": {
        "colab": {
          "base_uri": "https://localhost:8080/"
        },
        "id": "ZEECZCshl6vs",
        "outputId": "35ef0225-7c39-4007-98d4-67e172059afc"
      },
      "source": [
        "# Opção 1: Cria matriz de zeros e depois alterar suas colunas por Te1 e Te2\n",
        "Teps = sym.zeros(2, 2)\n",
        "Teps[:, 0], Teps[:, 1] = Te1, Te2\n",
        "Teps"
      ],
      "execution_count": null,
      "outputs": [
        {
          "output_type": "execute_result",
          "data": {
            "text/latex": "$\\displaystyle \\left[\\begin{matrix}\\frac{\\sqrt{2}}{2} & - \\frac{\\sqrt{2}}{2}\\\\\\frac{\\sqrt{2}}{2} & \\frac{\\sqrt{2}}{2}\\end{matrix}\\right]$",
            "text/plain": [
              "⎡√2  -√2 ⎤\n",
              "⎢──  ────⎥\n",
              "⎢2    2  ⎥\n",
              "⎢        ⎥\n",
              "⎢√2   √2 ⎥\n",
              "⎢──   ── ⎥\n",
              "⎣2    2  ⎦"
            ]
          },
          "metadata": {},
          "execution_count": 62
        }
      ]
    },
    {
      "cell_type": "code",
      "metadata": {
        "colab": {
          "base_uri": "https://localhost:8080/"
        },
        "id": "bYUbKPWxmYwT",
        "outputId": "7a118411-659f-466b-c2e2-afd8cd0e4fb0"
      },
      "source": [
        "# Opção 2: transpor os vetores, definir lista, criar nova sympy Matrix e transpor novamente\n",
        "Teps = sym.Matrix( [Te1.T, Te2.T ]).T\n",
        "\n",
        "Teps"
      ],
      "execution_count": null,
      "outputs": [
        {
          "output_type": "execute_result",
          "data": {
            "text/latex": "$\\displaystyle \\left[\\begin{matrix}\\frac{\\sqrt{2}}{2} & - \\frac{\\sqrt{2}}{2}\\\\\\frac{\\sqrt{2}}{2} & \\frac{\\sqrt{2}}{2}\\end{matrix}\\right]$",
            "text/plain": [
              "⎡√2  -√2 ⎤\n",
              "⎢──  ────⎥\n",
              "⎢2    2  ⎥\n",
              "⎢        ⎥\n",
              "⎢√2   √2 ⎥\n",
              "⎢──   ── ⎥\n",
              "⎣2    2  ⎦"
            ]
          },
          "metadata": {},
          "execution_count": 63
        }
      ]
    },
    {
      "cell_type": "code",
      "metadata": {
        "colab": {
          "base_uri": "https://localhost:8080/"
        },
        "id": "TB3jcIMUnBie",
        "outputId": "5cc8c93b-27a3-4a53-a1b7-352d361448a0"
      },
      "source": [
        "# Opção 3: usar método col_insert, indicando o indice da coluna a ser adicionado e qual coluna\n",
        "Teps = Te1.col_insert(1, Te2)\n",
        "\n",
        "Teps"
      ],
      "execution_count": null,
      "outputs": [
        {
          "output_type": "execute_result",
          "data": {
            "text/latex": "$\\displaystyle \\left[\\begin{matrix}\\frac{\\sqrt{2}}{2} & - \\frac{\\sqrt{2}}{2}\\\\\\frac{\\sqrt{2}}{2} & \\frac{\\sqrt{2}}{2}\\end{matrix}\\right]$",
            "text/plain": [
              "⎡√2  -√2 ⎤\n",
              "⎢──  ────⎥\n",
              "⎢2    2  ⎥\n",
              "⎢        ⎥\n",
              "⎢√2   √2 ⎥\n",
              "⎢──   ── ⎥\n",
              "⎣2    2  ⎦"
            ]
          },
          "metadata": {},
          "execution_count": 64
        }
      ]
    },
    {
      "cell_type": "markdown",
      "metadata": {
        "id": "8Ey2hwAioB33"
      },
      "source": [
        "Fazendo o mesmo para uma outra base ortonormal $\\beta = \\{v, w\\}$, onde $v = \\frac{1}{\\sqrt{2}}\\begin{bmatrix}1 \\\\ 1 \\end{bmatrix}$ e $w = \\frac{1}{\\sqrt{2}}\\begin{bmatrix} 1 \\\\ -1 \\end{bmatrix}$. \n",
        "A obtenção de $(T)_{\\beta}$ é feita da seguinte forma:\n"
      ]
    },
    {
      "cell_type": "code",
      "metadata": {
        "colab": {
          "base_uri": "https://localhost:8080/"
        },
        "id": "aoj_yizaonzF",
        "outputId": "b04c2c77-ff9e-4c7c-a3be-2b56d92635e1"
      },
      "source": [
        "# Definindo a base\n",
        "v = sym.Matrix([1,1]) * (1 / sym.sqrt(2))\n",
        "w = sym.Matrix([1,-1]) * (1 / sym.sqrt(2))\n",
        "# Calculando o operador linear sobre e1 e e2. Isso serão as colunas da matriz (T)_beta\n",
        "Tv = T_s.subs( [(x_s, v[0]), (y_s, v[1])] )\n",
        "Tw = T_s.subs( [(x_s, w[0]), (y_s, w[1])] )\n",
        "# Criando matriz\n",
        "Tbeta = sym.zeros(2, 2)\n",
        "Tbeta[:, 0], Tbeta[:, 1] = Tv, Tw\n",
        "Tbeta"
      ],
      "execution_count": null,
      "outputs": [
        {
          "output_type": "execute_result",
          "data": {
            "text/latex": "$\\displaystyle \\left[\\begin{matrix}0 & 1\\\\1 & 0\\end{matrix}\\right]$",
            "text/plain": [
              "⎡0  1⎤\n",
              "⎢    ⎥\n",
              "⎣1  0⎦"
            ]
          },
          "metadata": {},
          "execution_count": 65
        }
      ]
    },
    {
      "cell_type": "markdown",
      "metadata": {
        "id": "Qb_GR0fQrKjf"
      },
      "source": [
        "# Conversão de um Numpy array em Sympy Matrix\n",
        "\n",
        "Para conversão de um Numpy array em Sympy Matrix, podemos fazer:"
      ]
    },
    {
      "cell_type": "code",
      "metadata": {
        "colab": {
          "base_uri": "https://localhost:8080/"
        },
        "id": "nexXWFfyrkVj",
        "outputId": "ec454f93-b519-47fc-e5da-2f28eb8d5fd0"
      },
      "source": [
        "a_num = np.array([1,2])\n",
        "a_s = sym.Matrix(a_num)\n",
        "\n",
        "a_s"
      ],
      "execution_count": null,
      "outputs": [
        {
          "output_type": "execute_result",
          "data": {
            "text/latex": "$\\displaystyle \\left[\\begin{matrix}1\\\\2\\end{matrix}\\right]$",
            "text/plain": [
              "⎡1⎤\n",
              "⎢ ⎥\n",
              "⎣2⎦"
            ]
          },
          "metadata": {},
          "execution_count": 66
        }
      ]
    },
    {
      "cell_type": "markdown",
      "metadata": {
        "id": "SA_4M8pRyFmk"
      },
      "source": [
        "# Conversão de Sympy Matrix em Numpy array\n",
        "\n",
        "Para conversão de uma Sympy Matrix em Numpy array, podemos fazer:"
      ]
    },
    {
      "cell_type": "code",
      "metadata": {
        "colab": {
          "base_uri": "https://localhost:8080/"
        },
        "id": "mfYSuvv1yQhS",
        "outputId": "30175823-32fa-4a93-fda5-b81b77268888"
      },
      "source": [
        "b_s = sym.Matrix(\n",
        "    [[5 * sym.pi, 2 * sym.sqrt(2)],\n",
        "     [0, -sym.Rational(5,3)]])\n",
        "\n",
        "b_num = np.array(b_s).astype(np.float64)\n",
        "b_num"
      ],
      "execution_count": null,
      "outputs": [
        {
          "output_type": "execute_result",
          "data": {
            "text/plain": [
              "array([[15.70796327,  2.82842712],\n",
              "       [ 0.        , -1.66666667]])"
            ]
          },
          "metadata": {},
          "execution_count": 67
        }
      ]
    },
    {
      "cell_type": "markdown",
      "metadata": {
        "id": "MFoPGQz-fQD7"
      },
      "source": [
        "# Convertendo uma função em SymPy para função (numérica) do Python"
      ]
    },
    {
      "cell_type": "markdown",
      "metadata": {
        "id": "_s1o-ogufYBs"
      },
      "source": [
        "Para posteriormente gerar gráficos e/ou apenas trabalhar com pontos flutuante de modo a se obter maior desempenho, é possível converter a função simbólica em uma chamada *lambda function*, nativa da linguagem Python. Vejamos como isto é feito para o operador linear que definimos anteriormente:"
      ]
    },
    {
      "cell_type": "code",
      "metadata": {
        "id": "p5agsZwXdj3V",
        "colab": {
          "base_uri": "https://localhost:8080/"
        },
        "outputId": "9f8f0db2-117e-4db0-ae18-41cd656d003f"
      },
      "source": [
        "T_s"
      ],
      "execution_count": null,
      "outputs": [
        {
          "output_type": "execute_result",
          "data": {
            "text/latex": "$\\displaystyle \\left[\\begin{matrix}\\frac{\\sqrt{2} x}{2} - \\frac{\\sqrt{2} y}{2}\\\\\\frac{\\sqrt{2} x}{2} + \\frac{\\sqrt{2} y}{2}\\end{matrix}\\right]$",
            "text/plain": [
              "⎡√2⋅x   √2⋅y⎤\n",
              "⎢──── - ────⎥\n",
              "⎢ 2      2  ⎥\n",
              "⎢           ⎥\n",
              "⎢√2⋅x   √2⋅y⎥\n",
              "⎢──── + ────⎥\n",
              "⎣ 2      2  ⎦"
            ]
          },
          "metadata": {},
          "execution_count": 68
        }
      ]
    },
    {
      "cell_type": "code",
      "metadata": {
        "id": "eZATXB7dfwJA"
      },
      "source": [
        "T_num = sym.lambdify((x_s, y_s), T_s)"
      ],
      "execution_count": null,
      "outputs": []
    },
    {
      "cell_type": "code",
      "metadata": {
        "id": "yvoP1eGHf_kG",
        "colab": {
          "base_uri": "https://localhost:8080/"
        },
        "outputId": "4d6a94c9-69a6-44f6-e0d0-a7dd8797b59f"
      },
      "source": [
        "T_num(1, 1) "
      ],
      "execution_count": null,
      "outputs": [
        {
          "output_type": "execute_result",
          "data": {
            "text/plain": [
              "array([[0.        ],\n",
              "       [1.41421356]])"
            ]
          },
          "metadata": {},
          "execution_count": 70
        }
      ]
    },
    {
      "cell_type": "code",
      "metadata": {
        "colab": {
          "base_uri": "https://localhost:8080/"
        },
        "id": "GTN-qO4rqfwL",
        "outputId": "17f37783-aa8c-4dc8-a5e6-63b71a82ad75"
      },
      "source": [
        "T_s.subs([(x_s, 1), (y_s, 1)])"
      ],
      "execution_count": null,
      "outputs": [
        {
          "output_type": "execute_result",
          "data": {
            "text/latex": "$\\displaystyle \\left[\\begin{matrix}0\\\\\\sqrt{2}\\end{matrix}\\right]$",
            "text/plain": [
              "⎡0 ⎤\n",
              "⎢  ⎥\n",
              "⎣√2⎦"
            ]
          },
          "metadata": {},
          "execution_count": 71
        }
      ]
    },
    {
      "cell_type": "markdown",
      "metadata": {
        "id": "IcAh74CzgM4K"
      },
      "source": [
        "**Perceba a diferença como cada função é executada e seus resultados. A primeira tem a forma de uma função nativa do Python, retornando um Numpy array como resposta. Já a segunda chama um método de um objeto definido na biblioteca Sympy para apenas trocar os símbolos $x$ e $y$ pelo número 1.** \n",
        "\n",
        "**Também note que o Numpy array tem dimensões 2x1, ao invés de um Numpy array com duas entradas (representação mais usual para vetores). É possível usar o método** **``flatten``** **para realizar esta mudança, como feito abaixo.**"
      ]
    },
    {
      "cell_type": "code",
      "metadata": {
        "colab": {
          "base_uri": "https://localhost:8080/"
        },
        "id": "cDzJ0bLA6ksz",
        "outputId": "2dd2013a-d0cb-4eba-b17b-566e5d8d7f7e"
      },
      "source": [
        "T_num(1,1).flatten()"
      ],
      "execution_count": null,
      "outputs": [
        {
          "output_type": "execute_result",
          "data": {
            "text/plain": [
              "array([0.        , 1.41421356])"
            ]
          },
          "metadata": {},
          "execution_count": 72
        }
      ]
    },
    {
      "cell_type": "markdown",
      "metadata": {
        "id": "yK5dmvaxgiFp"
      },
      "source": [
        "Como lambda function, fica fácil gerar gráficos baseados nesta função. Basta fazer exatamente o que era feito usando apenas NumPy + Matplotlib. Façamos uma animação com vetores, usando nossa função **`T_num`**."
      ]
    },
    {
      "cell_type": "code",
      "metadata": {
        "colab": {
          "base_uri": "https://localhost:8080/"
        },
        "id": "sCtiUO79zO79",
        "outputId": "61e73e1b-c05c-4626-a1e8-16c82d710140"
      },
      "source": [
        "# Criando janela de plot\n",
        "fig, ax = plt.subplots(figsize = (6,6))\n",
        "delay_time = 1200  # tempo de transicao entre frames\n",
        "nframes = 16      # numero de frames total\n",
        "origin = np.array([0.,0.])  \n",
        "offset = 0.07\n",
        "viters = []  # Lista que irá salvar um vetor gerado em um frame k\n",
        "\n",
        "# funcao animate, chamada sequencialmente. Funciona de maneira analoga a for k in range(0,frames)\n",
        "def animate(k):\n",
        "    # Limpando a tela anterior\n",
        "    ax.cla()\n",
        "    # A cada frame par, geramos novo vetor e apresentamos ele na tela\n",
        "    if (k%2==0):\n",
        "      v = np.random.rand(2) - 0.5\n",
        "      v = v / sp.linalg.norm(v)  # normalizando vetor\n",
        "      viters.append(v) # Salvando este vetor em uma lista, para ser acessado no proximo frame\n",
        "\n",
        "      # Descrevendo o plot \n",
        "      ax.arrow(*origin, *v, head_width=0.08, head_length=0.08, color = 'blue')\n",
        "      ax.annotate(\"$v$\", origin + v + offset, color = 'blue', size = 18 )\n",
        "      ax.set_title('$v = ({0:.3f},{1:.3f})$'.format(*v), fontdict = {'fontsize': 18} ) \n",
        "      ax.set_xlim(-1.5, 1.5)\n",
        "      ax.set_ylim(-1.5, 1.5)\n",
        "      ax.grid(True)\n",
        "      \n",
        "    else:\n",
        "      v_transf = T_num(*(viters[-1])).flatten()  \n",
        "\n",
        "      # Descrevendo o plot \n",
        "      ax.arrow(*origin, *v_transf, head_width=0.08, head_length=0.08, color = 'blue')\n",
        "      ax.annotate(\"$T(v)$\", origin + v_transf + offset, color = 'blue', size = 18 )\n",
        "      ax.set_title('$T(v) = ({0:.3f},{1:.3f})$'.format(*v_transf), fontdict = {'fontsize': 18} ) \n",
        "      ax.set_xlim(-1.5, 1.5)\n",
        "      ax.set_ylim(-1.5, 1.5)\n",
        "      ax.grid(True)\n",
        "\n",
        "\n",
        "    \n",
        "\n",
        "    \n",
        "anim = animation.FuncAnimation(fig, animate, \n",
        "                               frames = nframes, interval=delay_time);\n",
        "\n",
        "plt.close()\n",
        "HTML(anim.to_html5_video())"
      ],
      "execution_count": null,
      "outputs": [
        {
          "output_type": "execute_result",
          "data": {
            "text/html": [
              "<video width=\"432\" height=\"432\" controls autoplay loop>\n",
              "  <source type=\"video/mp4\" src=\"data:video/mp4;base64,AAAAHGZ0eXBNNFYgAAACAGlzb21pc28yYXZjMQAAAAhmcmVlAAB5r21kYXQAAAKtBgX//6ncRem9\n",
              "5tlIt5Ys2CDZI+7veDI2NCAtIGNvcmUgMTUyIHIyODU0IGU5YTU5MDMgLSBILjI2NC9NUEVHLTQg\n",
              "QVZDIGNvZGVjIC0gQ29weWxlZnQgMjAwMy0yMDE3IC0gaHR0cDovL3d3dy52aWRlb2xhbi5vcmcv\n",
              "eDI2NC5odG1sIC0gb3B0aW9uczogY2FiYWM9MSByZWY9MyBkZWJsb2NrPTE6MDowIGFuYWx5c2U9\n",
              "MHgzOjB4MTEzIG1lPWhleCBzdWJtZT03IHBzeT0xIHBzeV9yZD0xLjAwOjAuMDAgbWl4ZWRfcmVm\n",
              "PTEgbWVfcmFuZ2U9MTYgY2hyb21hX21lPTEgdHJlbGxpcz0xIDh4OGRjdD0xIGNxbT0wIGRlYWR6\n",
              "b25lPTIxLDExIGZhc3RfcHNraXA9MSBjaHJvbWFfcXBfb2Zmc2V0PS0yIHRocmVhZHM9MyBsb29r\n",
              "YWhlYWRfdGhyZWFkcz0xIHNsaWNlZF90aHJlYWRzPTAgbnI9MCBkZWNpbWF0ZT0xIGludGVybGFj\n",
              "ZWQ9MCBibHVyYXlfY29tcGF0PTAgY29uc3RyYWluZWRfaW50cmE9MCBiZnJhbWVzPTMgYl9weXJh\n",
              "bWlkPTIgYl9hZGFwdD0xIGJfYmlhcz0wIGRpcmVjdD0xIHdlaWdodGI9MSBvcGVuX2dvcD0wIHdl\n",
              "aWdodHA9MiBrZXlpbnQ9MjUwIGtleWludF9taW49MSBzY2VuZWN1dD00MCBpbnRyYV9yZWZyZXNo\n",
              "PTAgcmNfbG9va2FoZWFkPTQwIHJjPWNyZiBtYnRyZWU9MSBjcmY9MjMuMCBxY29tcD0wLjYwIHFw\n",
              "bWluPTAgcXBtYXg9NjkgcXBzdGVwPTQgaXBfcmF0aW89MS40MCBhcT0xOjEuMDAAgAAAFuBliIQA\n",
              "F//+99S3zLLtU2+2C6j3op4mX0N1JQGblsTtOoAAAAMABnddzdfZ7UFwH2gAB4xor7uC4V6SPMAJ\n",
              "2LBeyprWxHNm1KCnNDnasqQB/wFStP+S9R1Kne/OtSbzaW1ZZHOLVe6Nsp8z12KkqSXgm9sOGgiR\n",
              "uRf0UZuh/5/qYkREO6SgRlaKn+08Ky3aP/fnkDqKcIU18sQ3S8P/50PDGMW+EwFLWrComH/wNv/Y\n",
              "cB5X+3IH0GgR7T1/pSyNNLnkxjODIYGPa/8rJRyaiO3HcHQP1KACWbd5PoH38H5iKtojNZUcPqz9\n",
              "kG8NoC49iMuUW2pwOqqc0+g3El1mYVDkA5fkq1Y5bFcL7ZMpSgLpvg4jIADBNrFrvT+SdU+SAf5m\n",
              "W/QXq7wZpYt+OWIGp5Zo8hLynbb0bH9LUraGphcA/XCpd2UgwYZ1ACdHgFEvAx9Sgl4bH++5jU6J\n",
              "CB/gK6TJimxtcJ3oIjlPH2XqzXNk9eKtjYwypc676bkv7c2hW34Z/2+nRPgxlyzLtx+6M48GrTTY\n",
              "AfW4fXicGBbHIpqlbJaVvE1665nm2s+yEDumcCp9w1t7rlU5RISAA43mr8cWgOk3wR7aoCv7KK1a\n",
              "IrOnBSLlzhRhvmFj1SPXjauJDXh+C8ImJ5OB7e+qwgx+8gIdH5j2nSN0wWZcskmw/UOMG0P4hk+C\n",
              "fLKVmb7C6oC0sM+OxXvNeirygvF5SsffLNoEZpMT5sYThyhK6soaJishRL9eT3MHbLryQCsk5j4u\n",
              "AHuN9JHJ866DV7aWv5FSCNnhdy7ui1mnMRqErTx2kToucM0XPosQ6lQgWJZOGNk5NN1pde60gmU9\n",
              "r+PhdIACmKLPtC6PDfgEGjpVZA1fP/uhLqelN/96rCcK+rB37l7ECVheRgKIYwVpP39ji+7QsTTh\n",
              "eVmQ0/fH3ZygLr46Plt/NAwXyeoJFOKw+m8o3Q2ilpBicz6BUdVVGDwVpA0vH6Lq023TPTdE3Eco\n",
              "xQdSjXLt98NnpMxuZ0GhI+qLAf9CjxNHy798oXbxsU/TMX0LV/lEq+zlKiqBKN81qwaj1KbMGKma\n",
              "jbF+qO+qYwDeGGbYWAbyCJ5EiwXBOCoJL+dUT5tqj0lZAayEBgISaFRNRU4IsXOSmsnyo6nWb7pN\n",
              "nf7OnxRb2QsAHAIDBLxAG97bo7ICd49Cjgice9hFjZ1Y8tejWTQClJ0gGMlnPFG5atk9gtPKjbxe\n",
              "wYC+rzbO6LMeYdKWZIYaTi9WFbfPoSwSoqIDfr9AbjT9esJX0Vbeq4ZnDV2AY3JcmXkA0DZP3VjZ\n",
              "ZKG3VG7B4CYGpKKfSrfi2n0Bopbuh24ygDVqeOy0SwhGk8x/E4yzAWFfjT4LKv343I7w4WGnoWnW\n",
              "UtAicdJon8hs3G6UXVaMeTUSs+ujQpvCtDnsvnY6EikM2R0mF9OxS+aDcuUj+AdYaiNILeuF4/go\n",
              "jyRwUEep2Rtkd5ljQCHVW/KG5/uVPdx3bhb50ig0qvOqTn0rXsaqdcm8tg3sUb1fQs0ta1vk+nyp\n",
              "6GApt73N/RcU+z9c6qAiqV5H6NRzfnQb9+4WPatqbC30V7c57pbCsPj2aUlkEUa5ws64+CmhFRiy\n",
              "9GvNlhwulvv3pifVyfTfvzNvp6n8PX9A9DBUmtsgDal4532af+fcLALBeIR35w7q13nISe80IFO7\n",
              "qJ9DpjP/hSFwp86RSqwlcK7k1Rk5DqYOyGXYB5hljcVM1rvQtZU1pL06HbBOTM2ERfO6gDLXUo+6\n",
              "SyHiC4QnJI0mRn3P+rW7tuC6ckO7kayMhxfhNQNH5XYtZUtg2OzHR8cCYe9nhaTzs3hOGT5dnQKQ\n",
              "JDRMjUyUDJsenFkjT1GA/FRoQUdDv37iwphvu+tNhtG4lVaoF49fXEfOSjIIRxOghYRL7iaZnbsf\n",
              "mSirw/Zqz6hsrUCi1/gUKiy9+3x6Y7INd/q+cSNZfC99VqNE5Jd6Oo3WKbgyRSE2BVb083wVfRT2\n",
              "wmjNWSXVVCbVbARtivq/aqMigutV1I2hXqXrvIJOepQwmIEDEBn0c9UMuLQvdVdSHl07Hmje0IP/\n",
              "///AIcYaEZZtL4MuFghSah974XuqupG7KGOBQ4FrLszzvqOakNYb+soraL2lXZXthCZThUA0TJv7\n",
              "Gcxb2FJLkFQh9ExKgCgB2XedEOoIRUBAR3APWyKOxJzVg+QLasoAWceA0hJunKnmnDVDqyrFyWO5\n",
              "LI8oWCUYF5TPlIYk0prLD3alvOYZGTZSVYb18meD2Uw+su+z713MXtsC2UILMs1zL2k2UXgZp8j+\n",
              "bMuaBYsVufQ1s0BDq5sg8gV3/0JHloYN3XR6X8kX4AYJJ//Je+yDj5C2tTc2C5qHxK925PRe1zMS\n",
              "QFmy+pJZjRRp+8611+2leaMKRnbPQE6MNatzhHI83wWLvufwSs9j2RgP6/22UYs4CD4YrHY0GAwJ\n",
              "uwSHxPsc6iBYFdjk2Yx4bnwk3LF/OaAK9gkPifY51EC4mv/ftVWgWZA09MLKVU/gdzf5K4fJYGsq\n",
              "RYaQrrExyXPpWr4alDipBhCRQgAAFOHWDmIXQa4h6NwOxXucjnM3mnVj27ua3mJNCy6+J/qQ6KG+\n",
              "b2alaY7vNClTfopT5Pe8svJTB4EKI11b6K50jnuNvn6r9EtNhFgXIM/iowV00++V/Khw2pESQOYO\n",
              "h8r8NjbTHIv1I4DNstUahMrtMG+JuVgksZ8FG7B4DpFOvepY/HKU999P8yqbKfeEhVGZ3JWn/Zjs\n",
              "ym/KNaIcTGW1OTth8jwrkwBFasjVvuPHUkX/t95fT8E+Ksm4rSxztvi/CBW4uuhhZQWg0won6cSi\n",
              "C2/Ga7BBnzkmTbx/k9hCTZZgnrdcKQQhL1cuVQw1mCFiDUhb1qscnzoxINHjY4afYUpzTtj8le28\n",
              "FX727U/zxbIKBChFTcUR+SvbeCr9UxmjjRIB8c03FEfkr23gq6Fq+yRKtvrCqsHAHlG6jD+P8zXC\n",
              "ITeAAAADAALGg3BlmTtItE4yNDCdWgD63Swcg2iqGcFURMMF/rfDCzypWCj/fyUDxS1+ryJe3SwD\n",
              "AzIFTnHRow8XQrvRhDi40JgGrrxoOtDHHEtrvgR/uBrnX4vJVEXwypCvtwH8uCNL57hQ8xVVLhM8\n",
              "nFEdslJxrJ2USftqHjiovFLJAIbRIKwI9RHQ3tDZCBlQcdi3VGyddzpe2k1TFMlQH7bLRE0Tsa8y\n",
              "/E3TwFFqyFSRjWul6Ta6dWW//HLQlBy4h2YfyJkRP1H/4V+tP2oFL3sLIYyox3+SsRHjMkNSWw2E\n",
              "4oaG+kVKme5s8yCJYifB41+ER081z01ayc86qAFxXXpm94lqoP7N3jHKT4XbCNrxW7rfce+P040t\n",
              "t00x13qAwQZ19h0vlioPVJGqBXV2VHiYMLP7qcTz9OG5xvFlNbtHOy/kvbhCZZ8YVly0lwFJR3vQ\n",
              "VYjuesffs77b+inZXi1FddXXJhEFxH9oIs3FzplbvXf+ug7GgPxWSmmz6GihNVlKORKW71R5N3o+\n",
              "lghSigYHECei+vuDep6QLjamuCBsQJLxIswZ2L3Ys2cFy2CFxKwskNMCC7vu3GTh0KSBbCwYI8AI\n",
              "95FR5N2zO1hix9ueLAnfVOou2FD6/VLmuNATUMhw/8VaORBSqU++xSRM2/A0U3wg6dHu9+4TMfHn\n",
              "oTefm3AKb/IKaL/G/VY7UzoiJgAAGXSbRyiOw758bHDJao5sWifg/Usr8jqKoSmmfc02nfkcSJLj\n",
              "F1CrI4324TFjveHkU854DrZaDeTzxfClR9W7FZ0Blx3LIG80Ylu82FcJVfkbmbxuFpR3eRiftFMt\n",
              "NVFo6+9GvHyulMhU2txEibC49P3I53rdblOVGJRmHztiuH0UeX6Ab0O2ICKgE9qJhYyOIMKpz5p/\n",
              "Q+163Fz9L2jPHnjD0xKGfyHStIGNFs7ZiEJ/an9lGmZnBOaAzg/cE8hr8fe2aNcwPGWPyPHXpIPt\n",
              "BPTKKIRpj85kNtp88ndJ52+TXEXiSsmnmEaIw8VsWG08j3+wIdGwAAiR9+wH/XrNRu/JBrlnelBK\n",
              "CHkgUn3Y0ulP0tE4kfvspk89SOt3ktXE0BrlFfw8JkAh1XxIz7M53pxkCcvdJXgun1dgpqzmvreW\n",
              "OUPcwbWvEMed38kG/j/cSFsKoCKqjgkBq3+xJ1JO1xlWQXuz93FujgpDdHv0qL00YspAQApwKKIq\n",
              "CO5wYhQR4M01df7304IVD+xz3URAmB1vyJLWLmmJXlNvwRSbgyuyiPHRyaIqU2BMUFMT5Y7ibrFG\n",
              "c5C+cIr7EwzKcPwpF5fduxsUSN6wWEqxiIeLNrtyTSwD3S4CjG1es76rXB9a9obZmYJJ5/ElwXuE\n",
              "b2ENgVx8ShH/7oz/34FPcyrKz5lBDWV/j6h2WUNRKi6p15ekmYjvyG9WqbUV/AkwvcB4snHrOZbm\n",
              "/LYZ94awisvXq2spCYol4r0x9Xyip7ab+5dgoGG7gPZbhxgVszw9Tj2H2hDyFJBmXQmMrLaqWnVN\n",
              "ymFLaAFgX9ta2xeUvtxo3uL4WZyOlupI4ZmGeq1RDYXgbxNa3ObKw0ovTpfNETtQ4JdrLqBEjCyz\n",
              "Jlm9blIQpEP3KjxdjM5l4hJtj9+IVWFiC0PRBUkicBj9jj8abHm9vwrUQAtILbscyVjZWQdHkUzW\n",
              "bP5ZOO/Rb7scoGgcLy3O7nij3CmxfRNPYcsICtKRR/19XSRmVkzpSj/uZ6e8pQ9h1feUvuWugmsK\n",
              "m0W2Bt0aQzt7GMANx0r2vCSJy79iwrRjxxasdhk+SVDAYxpSXlMRm2o+MZsU1Y0LCqpDuCj6QVr3\n",
              "/2AGu/J00H02YIAO8aeDuPVyPjXjBHwNZ+gTL6OXWP3Vh+LwxwSE/yS6oRdqNpenkudPuY7lL8Xu\n",
              "PTwJjAYlIRHSQNBrCVDdNcF8omtj53IKK5t+5V7vXLOmay1tjQmkT5JoquTSMBo0G3D9ocK/jMQh\n",
              "LMuxbqXrff3YmP+f5J5GT/ffDNigyVbPjUkKhA6570BQQ7qwDvUvODd2NMFIrBc/woZZ+mf06Dlp\n",
              "ODT7aItMVBxRLFdPsXK9kP1xp0xg+9Ksot/KJfp6BrD4FFKYi4GRCfHD8GOx04WgjhQqFArmfITJ\n",
              "HVucp/pbzp1g006IT5Sghcfm67QA9oLZeKF9rU9lUl1cDKF52xtQ3Bf5wbv192/GIXf1+KOHAITm\n",
              "8XnkbyvTQTI9sf6yh///xA6krtAYA1AAAAMAEAB5D+KiTD595HP7dyMsg9HfTFehCOYK7Lz2y4+L\n",
              "wZ76+ySj7F9L1N/jYrc5i1oOnxB8uWPA8hYLq7Z3cVojKdOw9plyOfmUylUa4WBFH59ysaIaPVXO\n",
              "k+YMr4EU8+2z6U5AqGlx8juHiOqvMA0L4jUgpH/oAsH9JALZABNS9TxwpeqPy1Y/i/UBRsW8RlT1\n",
              "ibatbNaRnD5x9GAxc8k40630jrJ7ElSVHXI2EktPnwByAGjqcCeYTSwADKzabuFeahNe3gvAuqa7\n",
              "pmoWs+i8Xl+4kjo08rVy7EiZub6vS3I/nVdLML5P8T9I2spyoG2cvgtMtM/xcX+xLCgUj+xp2nDi\n",
              "EKLxqDdY/YTd7EmBW7CgDD3MiGXoSCuaQolwngpVpdX4epYAAobWHLoQ6T69YrbsACAzrjlbk3ns\n",
              "CiCG6hkkKsuhBR4MO855gzutqf4Pdk7nLEDVwsaUjCgUPPxcNNwsTO5xTHwOXgKktS9v0jJDJTc/\n",
              "FuBlaZlhn1dqswmUE6d1CqSKrpxlYVjbdZifDhC5Ad6ZSlgPuPQK82BKeQTAqF8Mj/xBamuPQ7Xn\n",
              "QldwcTDt1kkGwzI8h4keJw3zTEbaId7nyePv4gNckVUhtUNetiWCQ07vtF+oAnhxHUTptMR2QNkG\n",
              "Bif2+2CIJzVziJo0nxiPMQHcsEAUtVV/2a9ar54+t53kwqk/jhi96tICDjIuDWq+sQkVTPGNq97x\n",
              "OK/uVzh49MHGPlA0Alm9K7vpOGw31pz6CXR8MXlwx9btz6XRSZAlJ////YnNHnS79vfStWebbemo\n",
              "K7vpOGw30cPsmTG57pxzeZ8Jnz5vP+D3OiADTquVnz+DpomwTU/a5BJ9zNJIBqvFiI8BOaGYirIx\n",
              "2Pj4JAfGXdgNJyauDCoHSpFGIFmXzL69sN6+GXF559mw+I1pXYFjP1DXQ+5BY1UVnbyrrucQi7lX\n",
              "i53P95cWhFbjROrb3peiEwySTkMNJCCp3KmiG63U/a0SvkyHPHfOb/T8qQqGcc6vVz05jrcaJq7d\n",
              "hTeTyQLzF1Eh42GLmNdhv//9LlUs+vXidFneVVVFSfSAiYnS6WB74fdjvzkFIOYsX3VsWSqP0keG\n",
              "eLKZoXszW3UiPZpJHV7HsUdpf9UcRWdQwGqFkRDQckBY+HYKaP9gdVJr8ZSVkZkpRNhPtKy4Kc0x\n",
              "0lQKbp/jBh8IwSPtoEqOIMoYB5eMVPHJcZn4z30sGXvG2NSPnGBx3AsdZ5yqIJUkks1xqP27ADk5\n",
              "l9CwZs+LUq2uozkVp26MdjpeYjwguiRXv4XWT6yjXH//t+BZpeaJ/2BYhrzfWQAfjG6M//SN6CVp\n",
              "gX6+PYJMMId5AKKPvy+IKLH9pGV+x4Ocux1Y2wS5dB4X75iUI5bomSGM7lfxSbn8TVW5l+jjOZ6J\n",
              "LXepVIHG4ExaVzWCLAaPPz2U1FCNHeT7zYb7FIiABLshfhv9fzFwvew+BHmDuNd45/OgEHUw8vAv\n",
              "76mnP6zpXtUoGG6bNHEJESnXZldzgOYgDB6INHlhW62t3Z2bsy9UFLzwf05n/9CNzePAmEJHHJia\n",
              "6IuexHCgle7gStqV+3GBzO+Pktl+0Wnbry+bgHQyrKf7ovmP3wjG9sOsnFLyEV3nMVuKRlugsXu/\n",
              "PuWeHs56h/kP4ItuH8zY+fu8gzVOc/RP7TxTWDue/6t9x0BFSHGx5G5vFTc8drcs5BAmEr7zj9ez\n",
              "yuBFRbdoleOApl9pzJh9JkV/zXaSASaz8/3TCGdvxchown0eudj9Drd5+rnmhe+DIDZrPBcufEzX\n",
              "ctinu0evB67oYvxwhbDmBPBhGWMYsHKUYRKoaGvYI7sNYKWo2lmDNV6UnM8tZ6mKrkFIgVo8aXVC\n",
              "T1Y7wNX7JGJJRD3PsuncrxqiSLVRfH5UcRwvvO+yZza1E6gM71mOhPfijcwcXdhIlCRs1QwXT0YZ\n",
              "OXJ3hcFgOQrHbhjofmYs10aQ6OINNWUin9HBhNoP3gjaM02m5CAIvO0hblHcc0L1dAjzrM+E/PHf\n",
              "Vspp8f7bZZd7FgCi5MXTPavaDzFmrEA0ZMzAzLkOlU+vNgQGzgM/n55B5IsVLb/9g7+83oKC5TIS\n",
              "Kb+Qz7MXRVli0d6QqJFIK0b7oLghqP1vn0xJRvpN14kMhmMV3C2ZCz/6MOuLIDpfhjgfuO/yOGca\n",
              "HDt0qazecCatQjH2obcmOEy+DGGroNA5Ti4jO+buud1xG4oCQnfM7C7Joi6JuZDTbmT7U8sZar+e\n",
              "nsPQDc7jFDxXu5YL6LPw490vj2QLXGgLhWGGH/s8sWqmIUMkscAJH5Qci4dVohdyAPK/a9uSWsRN\n",
              "XxB4Rd3/f25EPcBVCM5Q7CS5MKESts1BFHHeE+ymmrtqLYzor9Uz76n9C4IIVBY9g+3PViLgggmU\n",
              "zyPIPPj6znAeZtKVYvo/9jP0L/1NZe4b/zwoaRcOy70T8I4GzWhABfPzmbLUylXM9KxS03myBWNe\n",
              "GisUWragx+2JxuRWVBkWRMMDO6d+O4PwqgBf7F1YF3QB1ozpZwaid1JTYjYzjnm/koVxLFVs8fKU\n",
              "P4mvLOazn+xbgvZuAdngFaUr8TPFOaGnVI0DzyNFAAADAAADA5sAAAZuQZokbEF//tqmWAMo5MwA\n",
              "G4SUAV7Y1vbBNXYPBALhR4bTzs9BDiuwgryn2UJRFcGoNk5b/PDGiTCoMoF9s0ArM0c4BACpcQsu\n",
              "Mow5jIf/eTnSMFTjYSFfcj2TJAjnnMsSf4p4V2DgNjX47ZWa+6Mg02DqhqqBDNgttjRZpSlRZJNd\n",
              "erELXAAV2OteCdF+aHdmPTMFCcXpotKlOBAxI2ztdQAPksU9ts8zasQY6w5wi9Z6Xs2eb9SiXjh2\n",
              "EQL3oiEjQw1ZSsM2iwtMGtfJZnZr7xeWMa07BPuS+w8sc4n4xJk2/1K4eqLWh5Izyeq6qbZYTPAR\n",
              "SEd7xtvl6YKWDb06z/tCNPlBip05utPKQjGzbiwp9PropBnj1CYSwBf68hEloWyaO5kADyQ0vZKN\n",
              "gTzvOYKal1RiFX8pzlhFbO7UxouWheNPV/SsTao376LGTe4uOXxylrBWm1NFsHFLJ0Ari495Gfp7\n",
              "ltwuSEZcDinvvWifxcNLXjKvlx6UAClVZ+RigxuhTzOQ+gyPNh0jkXDzq2aUPShG09WBz11h8kPV\n",
              "J5SCv1xXNBIiSoQq4kGIwu3jy1fZ4ybQyGbdFtg5rn6tN1oQxLxQC6ll1ZwvU5SH9+u1mXoOp1q0\n",
              "FuLkZt0iamfSuqFj/UdvSpd/cwOtTugiwCO3CfQzZ1u8G0sAdVbnb5p3/bVh2JD7fvcJaTjeyMMp\n",
              "ZBxVL78Pr/a8lM053qy8QefDhixxR99yTRDiSeEoRLI2HAb9sR7E7Vg5cu+8ZfDCl2h8HQeWoR1u\n",
              "bLu5qQ9Y7NG/UfWpcevodhIYcC7LU5Kwv+tLznG1HBzh98e3wWG5YDOnU8pCfU/qsnrUOguy5ZKN\n",
              "3zzrLOAJgsKq3chaxCa7l2mHcRhYMfI2yDibLIf0eO8LRYe2oTiS3C5Y9o1IZefP2naUgXhSarcl\n",
              "5a9DorTY9gHv00v/V0gCYjal/V9hN2KieBpzZWQUnw+dODFk4VvSa5O8bV367Br6lKg9RqL2mDpu\n",
              "SD/Ya+Zo23nctDGkPriQpjEpUZzyralGyWzMfVm290aAenEv+QB44zdjGbhJxxtKGCzf/mKS2Pbe\n",
              "ddapfaRyEAwqxyWNx9DN9mehNk0kKF2CXOnaz5nA2FsGytTaPZVJRAJJYeuWlRNrl6BU6Frb6qBB\n",
              "Jo3CnOCamSYVhYxWueL3wdIyoGJLM3uGz7GckGwcDT40ZOqgYrFyNdloRSKlVGWSQIh1RnE/peRV\n",
              "ZgBloWQ6Ra2unxoWNnwYoLaaUYyRxNLefvz0qO5Uk88rXU+htzW7CMfRQesgqy3r4/+BJHz8vn1i\n",
              "AH9uCxfvpGhj6+yXivGIsaWlq3yEv6W/jNZpIBitvVKlpDLMwQYyzDSDIH3vEM798zhRLB32Qqpg\n",
              "f7FDyHRBnCy57KcZdVUAwHIgyN7zNmvbfWCwUXl1hEmVfe1pqUTK4oXvrQ0e7BzXZXLyOxmuFdp1\n",
              "B4DGnOKWdSvSb59HNsEvIhpV1/pIMI3EtjjYRtArCJjUCzS1oN4HEUtMrGSCX/NclDgH4LfbRg4n\n",
              "vkD447mDRbVsKHivvg8iM1CkrQVQjaI5MSc1dQu+hSH+/kKWRtrWEhby1uDc7ztlpd2fKMvaQ2ne\n",
              "heOFo3UEPpVgDS5OnVKuHPKH/ICDkMKrRpAwJI4QnuTZGnyJW3gtCLpyKNV8fMrQqgT1P+FIOXxs\n",
              "HupYCnqqLcHxnIu/4N/GXewHE2YJtcVzsVj4v8BrweMlzq/gkLj3wdhqym6gjkUlNR5U5sS326n6\n",
              "/l3cACCl1/Ro+MbGtUJBvG/c7qBkdKaJbyTZLSD1o8Ks9khbYvjExILUxSm85nLCaoLwkhRryf59\n",
              "VsyKEffH/RgFCO07AExNRMFud+ZnzOHV2+EBxiQT3nV9rGD/zoRgu+VVqtKLC731vh4QgFj7ygGJ\n",
              "HGa2ifokd1M7apbsrjxILkYAqvg8zQKM8zQnKwMUyQcuwimnV24UGcK0MdKbKxwHGcMBSrf28c4F\n",
              "z8j7e9nNqu3/kIFQQ268PGHQji004+0h22V3s6T4oF6kbcbW2ayQC7N+tayaEfMiAQqPvu2qDDv+\n",
              "LVme15M0PNJvz3fIdlplSEGnHfaFyONVbuDzOSJdD8bGM1NPN9Weil0eE9rgTA7tQ/rynJ7qY2En\n",
              "BdC8nLMp68fPNlR7lEet6QIfH8KmfdEZHmdkI82FZfgaySAAAAZbQZ5CeILfAAFoXCnJ6IQ3c+GT\n",
              "HdD935mY6UAB16AFHq2jktZc2SnIPBxfvNJosO0KNZLDK67ogu0oset6/E6Fr6ZXHbks37TIK9vc\n",
              "Rxg4tbKGdtyJGzPO4sKeymgngl6ChegqfI/9f4NUdJYkR4xa2C+8UlNO5GgTUkqyIiSy2jPCaxoR\n",
              "uiG2ZxQ5U4HvuhPL9Wpj2ItJVSjnkqMrgxiLORymgwQhhNOuvSnGBv3UjWkwhNwepiijp86PZpwP\n",
              "jXK69laxb6mXfW9YbRsbm7poLPiTJQCEwSpKhnW9aEYlbPAm7N3edPO7iwtSwxVxlTAFBcHoTbFj\n",
              "d93qeCEfjXvUnmjUB6gVK7Lv20hWomAT7wkZRBYlU9yQ/pCf1keURI8QKdeHaZwj/zuHA5qVYLLK\n",
              "5fqhOqYl42boMGm37z4gh8+2+gTlYXug8B5a41wZ2nE4BnNViCQ5692HS6LOjVC0c7O226ZQJjmz\n",
              "I+yqLQjMP5CEKaqwJbo6H5qBoe3hnMYdynHkF3mZx1pXXtP8RcrSQQMeh+ZKI/BWv4lyeQIsou/i\n",
              "gOUl0O7AoG9w7scPtpXNwhkfp3VKJwCruZgJ8rrNhOKle368kUbV+NN2rIiTk7ZK2/gfx4F+kiyu\n",
              "w1P/bzmCpmpivvKGJH/GXTrrtzmuyN8WrQdxTOprtDarG3Bf4jFTbfiA0m2zMslNn0oNGgg+jSWh\n",
              "mmYbmhBTTyB8qxJO7H6Z+3Zxfo2QVw+5b7lYzYeQWg4oAN1hI7eV6phFSMHgHOZ8M0pJEKM2DFPw\n",
              "f6nLMHpwoD5NG/MccbKfVetKNUDVokwzT0k/ov+yffxyGUYyeyWFRiDIgBFiS0mbwcrQ8L52D+9O\n",
              "TZSuCAjqqV+FHk9KJXGiQMN41U/gYBgjweENQmK0m2keQW6MuKtARPxoouNg4os1ghR0gvwEGxDc\n",
              "YX74QB80yfiijpLHI9lvRqJTPue7oQRgJlL57jNdKKNv6WbzRPdgDeA+nIGetY8KJ4Mf8fcKqqQD\n",
              "0yAEdBpYzP/tarrGRXoxDTkMu+NEZ/uwPMsXFVb9w9+u106jcS8V/uD6CDczyf4f0u9Gd30tPoiR\n",
              "J8chPrKtCeACxDIdIE8vmpFEOHDJxCm+cH7JhJBEdCtMioFAoMyeCg/VfLUaTk6t6E03IQAsqyAx\n",
              "+Kv4VzjTBGEQ1IkwLJt8WvFY4vtsKoRSzbaUKLJPQwqpx/B357IiA0V0HNFJcizaAWPNnJP5WTiK\n",
              "tbdWBDVDUmjMTLt5/LUXc5isz0FQio3saI9WVPmzm2sQPDwdGTGeTt+ebedo8apj5ODeawQd3lCG\n",
              "wnSHsgewIUlexe8LbL3g3lNJ4uNwpYefI/Ii77eOm6a+310xYEgZE61fTjd10bvrYYruGUZ87eMI\n",
              "4Dn1E7WSYEEMXB6uASVE4H1PfUfqYvDVj9MUXzx3KrJk0YH1RCrh3GqOCI5spFuFDrmi8HBYZ14i\n",
              "Cyjfef2AnIOamLaj5aqj9fg6WFImN6soe/Q5u/KA8btG2gwfaKRu3t98LjwCQD7G7CPqfPQDPZTf\n",
              "jvoaU+X3NmZXIO1KANXI4rPaqBFrMbhvKP3JZlaR1I8KeHGKpAjcS8gG+7FnqRNLBe9sURRLGKBQ\n",
              "6uN91JHBFVQREvkxBBaLO9f4OL1WXQQVqBxqq8gO6HTFkvIQZEFbM8EH6c4SzpJ4AX8aDPVHa0UV\n",
              "2YuFKu3E4o4EdeKgdJSNBKvTJ/NMjU9cW/0M5eADq+peLc6SPezatf/C8FHcRF1fB/bfgPbrhEHt\n",
              "egpWginl9HcVroTM7RhVeeDV+IgKWPQcr26UNEH7mHhKEzmiw9TTSndBn+N1Bu4/wCbtIQ6FspNC\n",
              "68ZbBHRSC5rrq++Pj7A0yv7fcp1hkZ9Ybw+ywDHr+uRH+DkxboQ7ZEdYqTw3L38p41R8gtCI49Es\n",
              "PtcxY8451tC395mDovYDQRbtg9Kcn/Kg1b57myhGKVSx01pPA15iwf+UR5Uise6jqgOJEpSx+WUf\n",
              "VdARyM0IAl/FAyG9/0jFgNcvCMeQFmJubMNgifzVhWrS9uvCLIfSQt2V75BRyy3HblwEmOPSly/o\n",
              "MRgGQffl23ri2vwi52p8slECImNCoG7Qj5qurePjygzuq/qCbk34UUZhrnuwboQi06Cs9rvDR2yC\n",
              "oU9mjY1CSMLEGqAA/wAACAwBnmF0QV8AAiLs/JcjvEKSAC9l3X/wQPATlQ0NGbctiYJOj6Kn2Paj\n",
              "/rhLb+pkmio5XG2u3zqSL+HE1+zECATjLab5R8qufBqoSx7sffy7lT1tFDOmjReZsu2q5SZ/sUTr\n",
              "KX/zveDcKJYQ31jdVhDwx9c8OSsFefY/EuAyONs1Hqm9BPN+BZBE9/iLcBkU/RE7H5arN7p+FBC5\n",
              "VV4MRSI+iNRUrwMKFDnXZmR4QfBFV/MShVVwF6+u8QkC6MW/g4NQkGiWo+8Fbu4cy0URz1bMn1J6\n",
              "3/doTfpwpqDBmNuo+PeXbOVdRi2LzGeIvVyydxPEUiGznSx60VASO3sl9JiApjB/VpTW9+Dex403\n",
              "a/yAy8aFQE3uGjQNbeP5/uFtr5JnfK0W48qx/4jr6e2OyTaGze13MXnBiodOkPcRWwanEXgf9/mx\n",
              "ORPjfiYFwLgrAINKJoxlM8IfcYDb5tUxKtMN1gS+qayyzj2msEJzsbnceu+U6zOzskYq5jHIXkVQ\n",
              "uDNEltlGu7ciA8vxsDlEsWNT8MlbWfZBMAMQ4zm9enaZEY5g+9rg23YLnxIZCOxssL0Z0TVmtPVu\n",
              "SGW6yz56NtIyLw5jVoZJpP9p4wbaBMQyOmHmOXOzl3N9g0WVFrBH6+5Tpt0SebUogyw9zrSnWLgp\n",
              "KO8OY0Dgx5XZ8iI6jbSz9CysfJTK4n0VUspBidCs67IEC2zV33eUGM93bXms+mOL2E0oRX4ic/Ku\n",
              "fP2ZadAR3aGjYXa7fCaV6g8cwmhtMTMLw9V9/W313hpMBb0gv+Wo7/GKfehLdJDFcBIERmU20elJ\n",
              "JmAusc0ePRTsUz71596bSKnk9HXJFX+9jr0qZ0S6lb6SuWv67aezIkiYW3RQgCKRBURpSuCsSjUz\n",
              "/KEtucaLXKdUleN+7kerv7eY2Dq53UH1a/dPQCsg+Kas+CgnO0JzkuiZ5rYY2jeSl3WXOgfQ8H4E\n",
              "ek+mqwYHslR66o19/Ou/fiIfAeBappSXUOMRejAwvbnFlgZAXysFw+rV3cugdaCvzuW6UTs7WMfk\n",
              "kiFkCUnF3z4PJS/cgcdmsiBO+l7QujruZ7xJRVFEF/PVEOjCUy6VqfJHI9JXFQKcUfJjGHlpzX9C\n",
              "+20sqAngRQb8UWlysbaiSm+BJSz1gk/7k2pLJeuahtoihXqGyYZGo/fb4bFG0saasdHqGQ5kPWyI\n",
              "K826lrp1vnv4IM5IfmZDXUCiRj6Jp7wVIhFIYjJTGB5nBeYuxErgqLBg+7Ky2cPmmrMKFmvcotYw\n",
              "z9jd6CED4Zoe4XrsvHhKS2tqS86M+XTRkST0KdW879ZCPBtLspLhkDZTmSdIy160FosgcbT2OAtq\n",
              "0ylDdeW+TVqqTkHiXNB07icUgtda38sDkKohEDCLtdewusBKG8636AIAWqX3unAAtGU9mThrJW8P\n",
              "Y///i24r3rz6T8SuY4Hr/jFnhuRi7b7ptB747ATYo8v2Cu0PU6gBKw4d7U0wuApxk5wGlSQvmRFf\n",
              "24ytNNvTxcYBht7RXQMRYK1geodFAjgK3VsaEqHhbf7iKmGNnsrhpNQehSuswiHeO+WsMmnaJMsg\n",
              "MyWUwagEoRAHQnK4FBOqMDuzGU+upb1Hh+nPYRu8Jy1ZXsL/K7X9OYDMLZXitnKBIP6qzdi/aJnM\n",
              "w+RRSeTQuNL5W7s5YooT2RJGvvweDdAjuwkgKgc4yJ1L0UliIlL7oknXaK46W/0aOOcJqgpm4Ixj\n",
              "IYqvhN66zo/LMpk4yxiM5Tp0YffRV4A80vOcUHwTGHMqMvtJFOophY/3+swJBT9mFDQgDatr/aqw\n",
              "4t3rxKFOTAiOnpyf/eGzz4nX4XpfaLWHJPmeCa6+1dPC/ElqYG+4jh/aLeA99LDvA4AT2HcVx2hL\n",
              "BmHVb9lcjqIy3Sr0COWRNARzL8sLZM9qZmtkc2DIZ5IuE1ty4hYM9+0hsVZiaUCVVDuSdHvyU6HO\n",
              "CN3R6cRqoupnN7/hVEuFFuzju/Wv+PRkXfRnH01XDce9SQmKBaOYM2BYtMCSL02uJdKZkhxoaEIg\n",
              "/jg9wYhlcPfylzuUtGh8nbclPGodgHv8saqU+ms3QjKC79nsNsecG9k6kkCRYoyzM592sOaWyrpx\n",
              "01ZJq54DzO/wyWvzuIe5/urg3nfYuzNdX2swPjHhrOMKx23FarlcRMjZO+k10yzWBqczeBP8ODbm\n",
              "scT20yx3JBJoLmSKYIWgMmUOHvLcE4EXKS9CcS5OGY/wAckvKrPThDG/1hTisOr5Wa8n84pxhv31\n",
              "SbNoScocZ4PqTNM7WLvGirRYiyr38/8OC9Pm+4Dsd/TFflECvFc2ywZ9yw1qJAydL0NG18BumWJN\n",
              "HjGBjJlPm0UxElvc8dZy52fqEKMKH5A6dzfnZsmHi3N98FnTCBBVe/x1O51gEWFfF406T3QkCCZ6\n",
              "9SP7503ueTxQK4VHRTua7XZAyFoVMWxOKamKaHo1AvMxVJWKxuBYWDb4y1w0WkjpzjjEs5mBzLRa\n",
              "+0l95QLYSvoQWdKxFw4BdRokHbYllYIrBDoiPBvI3VyhryyO+xLmyJY18CJEEWW5xj7PbQ5L4jOc\n",
              "1rLEE6oSjs+oMyNZAPAsgEa3H51gdr93pEkBQib3g6dRUOoCdmOLhHajbvpIgXKe7KLE/PlBxZic\n",
              "5rj2qMyvArnST3J+jHipUDJEIoB4ekQ9I1dRQ2zXZ67s9ZHa+RBak/XLwtG9qrUZX+RiU1/r6x25\n",
              "aTu/6asxAHKTg7jsuTnpJcwlKuIIV0wfMAAACM0BnmNqQV8AAjLy9f6Hc4AAE0VoLGIDf/BTDgE7\n",
              "7FmyNAN+tDfRnGMvDpFbVjHQlrWEJdBDJLw6rTfOcq9TCoV2M3HUXkK/u7gBmUhynqMy9hBFIpYF\n",
              "5DO7XhslXpfe2y5MhgGf87PGZcRb8sBjAx7ByoEG1hkR1MF8nGnpdn4i+fqop/TYEcb63rVd218g\n",
              "cC3AswembMG+2IvcvmgJ5Sqim7p+SR6H2XYkoy0rkNs8/Qc/GR2lebj3BYyUAykxd9qOxKcYc0Vf\n",
              "WWotIR6c2SIl0Mi3G6HIRJEIXuy30t2nMvUBshBUrKua2s8FvBNUqquXLpgRosTPl8JDKmKFQM2f\n",
              "M5qqciZ1sXPqJ8TPbkHz8JFiK2pzU06eQ2xN88APKBBrIXZsjPpaqnfTv15U1Rqmo6lwRFx1IPtw\n",
              "py7206gCUvZw4usYB6B57WjBl4yjWIHrP2qB+M1GHtFmFWovVtOCGAlcKvRVGipPZcls74Gfi9aq\n",
              "9q7mTqh7BZ0uy+FwJoAsKQdYnBadLNEXjN+UuM+hrd9EM64zG8TH98K0pST9hjMrE7Bcgbm5wsqf\n",
              "CHY/hOyIKZ7q6d7h0MsJ2NzgvwQFHzATsqdsSDJ7ezLrR6/HlNvl4U343O6cIXG9sp7W6if80Q8c\n",
              "zaZrW8hcH/iQi5RNQQqgpmkxfBrgZjHtSNAiRMj8/WFykRurD7J3BBQJOG/MqnHfUjIaZsmwAeem\n",
              "+hdIqQ9Fo2NVS09IwmFqRzTNkDocIgYFRIzIb4R3UBacCvLr7HR3P+IixySVptgveSad6zSZlflI\n",
              "RELA3+OLHus7hoJwxM30HAgomWarTAD8Ks/ArV2j1kIK6TfmVehyStwEmnFB4SW+he45HR3m3d7F\n",
              "bwekHUTXZGwKBrIu/Ho9IKxEvxSUw/5lSiFk6evWKt5YY70tsWiI7+AU/AfmfjChMHg7+L/8KEA6\n",
              "ciRaQxXqvD49h7gHpiKhsdyzY9Url6e2yiUHmM0QVP7gOZB9OSHyA7aJWvtUO5eMAoGOrM+jJ7rx\n",
              "QGB7WRyntMzJq9NAyKYlHvKpBc3ebxjTSYRT5RlUxuU8J0wgdeRUUQ30i9/GLOIBzi+g/XyWcnjo\n",
              "LIoXIWhvnFZxzOUdCtJeziCOMIWMZt9qRuXZgXOcRO3YKK3OqXHmFRBTMeR7APjRaE5+J9HE1PPH\n",
              "ryczBeUVWGJNW2kLMJqg6pOl5FUZv9up7gY5Uuyhc5yoUkEI9xt8sBJe21LLDegR0HKL6KH+v/qP\n",
              "U3YRenUVBCeXYmBcEa9BNk8TKwzoLhFP8xJuoGxN9vfK/9M0hiacJp/Ci7GVxGcBEdRtT6R0BToF\n",
              "6pTs7o/smijy86ZHWW7Wc0D8PZYbH/i7Ia9BlgIJvUJJCN2LirstwfKdKbvmi1CfiLL/lQySHvWW\n",
              "TGxcNJ2wiqTFReiUqp2ftV+lMX068wkK33mMWEkpJjqVno5Jg/cIJ+XC84lVgGCTe0emRzvWP1zJ\n",
              "d/3Zyw8s1dJCMORkvELGxpy85MAJ/CER1AYgVte+Q+Vmk366SR3P71oMtBWWBRcgNRKwqZ/WAYkc\n",
              "Jc2SEgh3001uNLadc7C2upl3bZtdoq5JHPAdsPjjgdLJDZZQIKGeJB3D3VpcqVsz7/K02r+1v9je\n",
              "9scrrmLejr9U/PvXglzPmLwp6TEMSFULu+oSFtCFGSm3MPZKvnFNlwFCjghIrxWuNKH4QEFl+zKA\n",
              "wAK/orbFYH6A8ddAmjEBURDA45H7eL4IJvmc/U49TQFoC+jDs8iNYZPv/qT+eEo0eEP7SgjyulQC\n",
              "dL28IIl3GyuLNNXBRzsAVGTLHoFw2hPW3IJPpTSB+syFc5ZJWJ5IbjloJv79z3i1c4q/dPDfsmCE\n",
              "YTtBMWyesqb1unzQu8uUancF2P0piCWBOucg5OoM41KZlW1ZmyV/uofSXwAUBNPlpGUvcCLILUaT\n",
              "FCBIx6HAwuJHQIuv3+GC8L6UelGMbo7cGQMotX4kkfTlZ37tS+ECQ00LxUScwWZ0d6uXj9vItb3U\n",
              "vSIMjEwGKGZDSsNQFvauyTkty50rUI/rSFTF8JjvuqQSLLuCTmsF8STej16hh2iocrVz7L+E+8nl\n",
              "RXuJMyhU93Tf3NVy3hsDcAhptG3UTbvU4Y9DP5vm6IXRAxFfgEJWL9EdY7gqYWpiMq2ENlshYEEG\n",
              "8L4OgQ/1XHKVtGz3ke8ZQFtTnJUdfH3vasJ2tXs5q5+lSSv7zrymvflUEYCUER667nSGi7q6mx4e\n",
              "pwtESBkPNhPt8zKp6uWxGTwpwj6EBFSvI63cqFJY1I3hdcusiTjco/oY50k8Vcrr12N9AxUPlZZY\n",
              "a7XGRvplyuwR3Pv4opTNcOGZ7jzH3PpTMizdgblJHZkRHGS9T5rKbNBxO4dHQzmsZawnJXFq7et9\n",
              "oQIAmgARpzdzGqMrlsprAsBnRRLPGSiHed5/KC+my06iUs+6O/FWaYJuJ2TY9kQvpZ6HKv0cj/d7\n",
              "8k1/Krsp5HVqgSV8vjQ/LUPnrdzCuCwrgfZUERkQQ8kJ4n8GJPKTtOqkFd3/9fjPFFUBKcjShP/H\n",
              "kQWECZDY43b18DCgj6k/dNYhF21PJ0bviboDc9iwhg9HtMpRyws+ux7HE816cu8plFWc9vTWSsAC\n",
              "o4rXEbOaIcLXq4ywBFTGRBCAeAf6TJKz4KWxZ5lbiwuRVps9LHg5xk7f4Bgce49wE+lG5N0Ln7vG\n",
              "5UVPq0poenvsysQynJ5TlCYucFqpvLo68JYtB5PfWdKs5miAIqnYrVzips2+wmm/MtiDU31qPlxd\n",
              "8bu4H/gQQ8HvFh4Pcl2UmW3EfM3qNTLjKT0AdW+mjs/ndUk/xUv5cIDM7Yj6KIdOQVxWN4iJ+p0F\n",
              "7uIyq+Zwi/GJOy6FhsvpctnLNfawbJgub1JQWHknd8w6V1M+zs5JY2BnAOXTwqqTx3YQOa6kmIRW\n",
              "RCkQmd6k2mNXz+3brX++OAc/OieZ/6HjaG6MXcsVchzDs9evcAKRBs690y1O3/ey8jj50ixxioxA\n",
              "soEAAAdYQZpnSahBaJlMCC///tqmWAPDfFa8JU8nmQAHDSYouG741/4HZJDK44Ih3yK2Lg9yWtMR\n",
              "T4/6J87UnpAEhhnumB9sl1JPeFY2+DX0NQoIoWkPhzm3KcF7zAFpFNxuTzpxpYotEiJKoAvEPaod\n",
              "aTev63SUMVrCIhlMP5fbq689rMcdeZPzbydvz+SbdSKTm2JETMCvBZj6O9QJfF4W8rnHFCU9Vn/f\n",
              "2OjNVr3AB005+2iOoQpjd7MaShqohCQW9cVgbUJxvSSCedxKmpJgDb5ZLEG4NSB4WwMyH/8C1Lk5\n",
              "7hLAcqyYVvD0I3LMY8giBihaib7Qchpqnz8NiiqDRYPnCHekUH1aRwe67GuZpTXdLH8O6j2HeWHP\n",
              "0btUG7CfrhmWs83kFwbIwT7RnhQhmWKVlxWNrgBtuiFvH/VAPyhsRhGFhPLE44jOAVrt0/19g0r6\n",
              "uej1bf6JuZMKbuaE4NXaEcUysRNfYZriy39H+O7weACQuleVHtOBdIDb/cOM8w5B2yQsebcb2lDN\n",
              "E56FziyqAIF3JJC60f+3bjF5FssuwbOlggOb+maBndGDp6V6woBgu8vZq8hebl5poMwSpFmH7g3n\n",
              "NTWCZY1QCLb1MNoc0XJ+cWrk4f+Xanco6j3ALIcNbIyWV2VZkFnU5WAvMw5ByPGWR2otWjDwQoL3\n",
              "jP/gLMl6GNKFE5XS6esjJydHn+Wkvq7/RvL6D/BrZNKAqrzPOKCjRwdTmNXHiZdR19fjE1hM8iB0\n",
              "YPTpME9USsrkPktI2YipMTu1AJJEZIRrr7w94cH/+7dUTReyNX8bnsnxZ5FoDC+Of+ng4Js8kfoO\n",
              "hHpuuqjRW/tkaHTVLnNJni2bmHvtRBpFYrOkPgUrtVGXtl/PBKedb60JVFTGc7+/A5I5tpfcK7RK\n",
              "4rkRP27AXibUUBwo9F0afHT5/FghzjcUDkjBIJUJ0eFd8P2419JG11TKvl4qZsyoXfrafP/ST6Av\n",
              "geQLN9s2KR9OtIY7aHQExHEYzumUwVyflHQiJ7N/onnTHs1W2ah1X8+Dg1wGrHydlmoj/XqSgYsg\n",
              "AtdzA68doBeZM5awa+pSoN3WAeGcXBAN+qnkjZgCwZ+/brND++q7wM7BXdfhRE8T3jp0UvMABybX\n",
              "ebA0pp23IzhpHkvDDYflvGUX5PLhGqdcrOpVgOZaGvj7VUbbUjFpAxnxtMK28AoR68xmPvF8xDcx\n",
              "+P5BDVb5pT3rJf227cAY4VXiXbqgSyw6sq7Vo6ARobW0p3sOMhDQaUpQ/8lq/Cec/+mIB8JmgMTM\n",
              "HtnnqHbqRtNLZdXpgw0fFyJrxUBs/BZNj1J0ECWN2gSGlxqK78WkDCTumKlJEoKoy5n/yUtjUKYI\n",
              "rba5m2l9Ud44gU+LP2Rzov50voYKcS31M3ATxAyMJdZQB8XxS/57//OfWbHzDYxkREsT8+62iJ/K\n",
              "1qD6HHHh+J3PULt2MAwLa8xCI+ItYJBeAxmxfHC4kM8sF6NOUebJTVbyyNBtp+JhamDPvqKMqGEs\n",
              "3inRdIgkwql5DsHSDWczZ+Pqz2T/1H0t9jaB7Qocpj3ruadPWOD9GdahB54jPPaAVGcCFgRrErzV\n",
              "yFC26tUTkzmig1J/irG13ofGf2zf4lHOLdkKaFyCZlY4S5x1IeBRzi99yuCXyei8kYeypKid/1Tn\n",
              "L7FbjarMZXruLnJ/TJGYoROb1qWLPH+pczc6qF+Lt05iO7X8NYbb9+OSN711H66XqvAaEy2okNX2\n",
              "3sulc6IdumtHMvIKGL3ZhSGCQ1qvIa6irlQH69XMdNC4w3F/tTo7fnLoc13ebXP/KUaVUcr5b3qI\n",
              "ljxodTj6rN0pmisdQ8Nv3Z+qPhzV6F4TbkIypdzQRt7xG+qEQLwMEFI0JRqp7DZgQ2CffwokuF3K\n",
              "6Er/r9rkuiTA+VO0MZbFZ3eE91uzS6ABrYknTUgcXvWHaIkk1Z04NisDHsqPkkL4FwomIC7DxqUY\n",
              "D8oniW5cn9e4mYrjmhokHDVMkjycGrY+pYkM4WB6Q2VsrsyW3qvNFN0MTfrNkG/nfrQGYYvn7K4p\n",
              "lC6X58lTLHkQerOWdmvmLFPuWl3G6bO6eesP9qDl+23dhQ/eb7nlcRKGM5g3c/Ur7oeNsYFegpJn\n",
              "i/u4wBe+Map6jo6NyittTIY5j9mtbC67NsLeEF5vv6bdf9mPyIdI3fE9FGG8dTD17NCjCnsz7SG7\n",
              "4/85ndfFcN7W3hLpWurMIymkucRT2ql5NZSKcfkbWAzKhGHXSRsdecqEUXCwWdUtC9hks5xpj+mX\n",
              "ewbIWYmhkGf/RjNfZrvRlg3bDu1/hnbJMKVDNeShmkBJ6JCbVxzFt3qwjSxfdV/i+VlS1RgLsz2A\n",
              "MRooNVPOAG/+8TNab+vGXI+USYNGSqjSUGO9is53FyNLerxhp3YpT/rFo/Gf36wf5/+lknPDnVdX\n",
              "RVsY0neVIsapDRAhOZtmUzD8MC9phEnKa4JeOmtqVpBZ8BtPSvKIRbBcXCpf9Rml6vcrOklqOsKL\n",
              "21ZImSsAAAVHQZ6FRREsFf8AAjcivCBd1FiqR84DwAhFjG1FrGbSCy6r1GLutCfU8LE+eCOwkxdY\n",
              "MK7P9YYcchKxsCUz83A83pkRQLHXHZabGkvGwfQrdx3w9zhxejwlcnVVd0dH5PEGtk7OQ8TkJqPx\n",
              "eUWTZYNeLp+6vg3Hw5AE3rhihKS4l/QALVHUHlrrbN7A2GLQbFHYwLFA2UoXjD/kBqxmSv29484j\n",
              "DpE7ZUfQm9hewI5wOO71AF+r3v+IjGN3RKptaORCnA7h8tr4C04kAApt3Eg+7QG3X9Hg8N3krCaC\n",
              "LwknyVO/S4xbfw+PW2COETz6Pj1FpzLxMmDRgNwwCCIHbEM6Jejtd8s8O2Z2B9dDoj3tm/e2MLtd\n",
              "cY6Sp4RJdeBgs642XDNi0BYTAWmcFAYjN0lUpucz98SuWaKNdMNJkMYTsgSzr957o4EDo3NSI2Id\n",
              "/A9qKJHZFAL0IuT0DCWAJMIDKASFCAYA7ehgCzgI+f3H6Cm1hYXBT3i681MI5KSWT4Bp6u4WPIyT\n",
              "RAMARYohOSIqSqqHWMmL2iueJFQxGvtF2YnOsLNKHPkyQ8PSQKy6nMeN1LciiqmWCVAy0kAwghxc\n",
              "HGvjiJr9XkBcYUfyIg3F3jN26Y3vC7XI4Q2+yueyUX/Vigh3gTRZA+EtLVLD6BoeT9iDxESSXeHT\n",
              "ZcQiIeQx58w/86lfO7BquWkZ7aIweBh7bRdXYY+QnvTEdOvRa6dAoX2VwAW/KCYnL0eeWW8ITpQi\n",
              "AT/zqrm/PPfHNiA2GISOQilVmHEYJz1u/3hbX+3c20N2i0Y+lmfMCbW1PBfD63pi6sS/cX0Dzw6g\n",
              "BLjbQgbY+YZ996Ojzlz+cbm3hFCFgAxYHWd4b+18nkmYePKFhr0vOlp0m0xdmm/Hctem9n5uruIZ\n",
              "67SgCg5mlwp6AoSzu5tYZZBeHrWLmPoQqBA0+bFynCrMCF9mRRDzLfqt80VCcCmNiqLtZvs4soVZ\n",
              "rnQRg6a1zTFqdwBdodErTnJXNqRMPU5MRUq7EeTNBtT+w4EiZMRohe33um2WHvUSHXktsR8xFgfk\n",
              "RDUysdvuGw2ZKf+JyE6N0oEHSnNiqo+cKhBGNUabN/PQCSCARcebtVAUTa4yYAclcO4CcMxbcDul\n",
              "ueRvsIoKJWbVH9qnJTUPzw00z8u+k7vkKS7ZS6aMSnVOc20ZSjC/gg9bII3/2gwIPxSOpmj59pWe\n",
              "LNJu9zz8tBWNw3NB8KAFRc5paXPBYR46vPkNjei+0sSEAcxtHZE7lN2P0EEneRFiI25LxMx+eyf/\n",
              "dbBTGZhOedSZ9buLNPH+9Yq4WLxWTyLa41c7iBSyoUxlz1s8jcvTYoDwNBlWEcs5VEWm3jXHWz7n\n",
              "odu7+4aGnCGiykJitGerHNzJVUJErkTYc6+GT3Lp2O0kVZkTU/X/qCPD/EWfT0AMLr4C4lZnJ0vt\n",
              "NGc+mWT6Ty5/tNFyPhlrBYznCeXlwwiQoQ9/yVq7fR0nJdM1OwC7Grh28SmWc7llTVzcUX5WrLk3\n",
              "EwrZZTX2BwLhdG4aXEx4mdLNNHyQZKfbbKJYikdY49UjbE5prJ1OeTN/5UXGqLyy3LmMpTY+zBBt\n",
              "8/etky5CnFh2zfXWPd3EHUYgxTdFBe232wVicdwlqY8awMm5JkwYlyywVVzPr4YsiPOwh6r9xZfA\n",
              "/9m2U0a+gtIwN1wDfWyNCw+UKU/p38epH8VDdEhBrbNtcanowiwAhU4MYYrd4TT9DBT+/6+49G3F\n",
              "Rbm5vn+MMkVMMH6cb8UBkzV2Ifqn9n1+1YMHrByE15S0zVIjPXCXYhLlqRisI4DugQAABwIBnqZq\n",
              "QV8AAjLy/+SvjRQAt7cAtRZ0uCX4YlHoHRngGDFbDmr2jywZwsQgfIaCqUG/0XH8UlvGH7yfYxwi\n",
              "l2L4szmeP0r9bL83d6xpHo/MP52wRp8UBPpJz3CcgZMuBk79L0CNy+eiH8QGZODDldNgiuvCD0Ge\n",
              "+TnYYaIQnHOWb7T+uv8doAY1+tuerMpwVrBavBsgiubhibP2R1xouTO2KWbRomwsjbBX92x2b46s\n",
              "e5/6qc1P7V9yNctj0PEtsa5eb6ab+hoaN4i0OjWXoBMDmM3e5ch7I6ytIowUODe7JqhT9PO/KQDW\n",
              "uwGiRDuxXTBlOtLWy0kOtQlZeY5uz4rWOqUNwz2snySjXNRsq1Bi/kmXDtnwDp1DaP1USuvqvN2K\n",
              "e3f9ui4lGF6J2jmbVvHE6lAvYt2XdGpV7fhKZzJaUFL6BNYwoXERRByKo/Xd4jeyXfJ2nXtS+O+H\n",
              "hqLcwkXrdkrVl5l+J+SirkpOccjh6NEL75Fd7LzDAImlxEJcRoNAoYcq5z1J3meyo4fGhKKGzFBE\n",
              "WFEcdh26QlWOAQudfKRK6dbjwI8ddtk/0/G7QOuqq15NjhsJHYmAwMO8dV0b3Al4MFUAPgvWMsSc\n",
              "qj0wpbpwcFW+U9S/BuIcr71rgAswb9XDRdLAIx5oUrHBdUed/0i2o/wAyAYTvLWIBhxOYREQBqaW\n",
              "XS5cJrrqGEfS9xkXnxYjdZZBD8XUYgy95YwBP3dsNf64a8u3g0UcyFW2nItotNgc3Mu8SP1sTd6g\n",
              "AowrfH04AD4Sd7xXoKac0FuHRCLB0k53FmTA808yi8ljJ1Pxco/3rHdJl27v/WR2ILdq16Z4g5qu\n",
              "IEPXgj8h1180ECMZIDdJ7bu1PxL58mcX0lQDyLZsN4jSvsFkpA3VEUSFZK9GKASZFIzYtZRm+iqh\n",
              "Jk4jAhHejBstUk4EW4Blt0tmV1SDpRSAEm7fovjTqsBLjHJ3kGSv5SFvC2qETv/ZGsFvN1aAvCwQ\n",
              "vV5fXvfESPrhfOgrfEwrawqGkbzqIyix0BxqLBlresZvWWtLTflFfmbS0PSiahEammuH768YtJRe\n",
              "51UywSr0v81nMKlGiSgTbzwFl/ZcAYw9pKJsnGDH/VIsGl1vtpg8Z8SUBKVk74lCywquXuBp0hY3\n",
              "pP6AQ8Mzb1BcRnAeXT/EVGsjnnpfjWzL3QQz/t3Nd0cD1O5736OTNv5mKMe06uUiT3c5K3iHMVlg\n",
              "D2zYuZOAejrjwy5/70FGoyap43alqM+Q21P7VDfqNXw3SBpPNcNiE/zQvYfyZ3Kqam+6zIsyUzr6\n",
              "nkAJY57Gn0MnwiJUynPfKsYavguofxmHHap/nQAFoSjzId390WZ4WvfoRvybxPlCoQC2eqcssI7P\n",
              "MAMdf8WOEGuNaXPfZApxQZqJcIrIOzy0+d/KUf93zbBaI3+Nij71SQ5hsLMDRpViaTLWfg89bg5p\n",
              "c5F4Xh2tP2OMnpAsXlI+wFOc+Ydn4C4b7pAYVyxAjVFvR/fwI/X+nEVWdlNuNO4MVw1lyx9Q7Bdf\n",
              "D73D2iALFMwxqVizGTImN/srKN2Ckag2Wp7N9VhOJDT6x7LXtXC+3kM1guPWe1xQ5s5z7aMbt0WL\n",
              "5ZMeVQo3e9sIPSb2v2hhoxp4BePd4zZNpe+bwjbkoKWWv//DjtPkjrOYLmJT5O11jbKjSM61NRci\n",
              "IjafoxITXk6twZAEoHU+otDgmpaKwB80UB0RAZE9JiGEtNpMP034NbP9fz+caZO/XyTx2hgjngbM\n",
              "imF77tl8SRy8xM2RX+RESi4FNCX9L2f9qRL4Gxc6BlPQ/0pgNTUBbznQaGNEYSq1lPv+iMTlFQam\n",
              "t3FZWVWG82SrJsBzid2XFI/yP6bblRMHh9vbcrjF9H86O8oyYDESmnvjRtg52r1QgqLV3Eplmr9j\n",
              "JuDxcM7uOBMLyUx2P/IRe8n54jrOvcyvppBB4z0QAswtENVyBzbRIgNyQCHbWwhq7aoUrX9uRxsE\n",
              "mploGjiPDUfKQlLv3jEpp3v7DEvgX8o1wXpmyHBufOhJI447kOmh6Zw13k9+aLQlH0PukLlcLG0m\n",
              "2x0A/eFp4wj/3lfo+as/xp8Xov+ZkK4d/w7gjg9EKewtWAJboJpg0a+7ibGWeYxbqmt7wRf+wZrD\n",
              "26z7TIIHH/oWzbEG1fa66CA5GCs2hmAn3hRYHw51krxRmueOes0yay0UHpzvoIZQ3VHQtKbif+4O\n",
              "hUzRfQIHL5T3W+fxwnoFsNZr4bspBdTY1t1yXy2BYinTNXa0TGPx9fBTnsrPMF0vw9+GasSJAagv\n",
              "UDw+Lgcv10FnkSU8vQz90Ly9Y5oLSCdH7Zkofcan7Ien6NLv9MAw1LB5Lf/aq1/ED0EMurfkvsZZ\n",
              "NA0lz9jPCYZWkk+6hUBsWtBOitruGXEAAAUBQZqrSahBbJlMCC///tqmWAMLWNYr7N5eeoAMyAAQ\n",
              "inPAaGqbWjaKarjlCjAcGJ2id76OiRY42KtlEnHmJuIfF9kubiITfE/XwQQJARFP8BaW9P0CZ9wO\n",
              "D7jtqgHrv48jR9rikjzc9qC4vtqcjskoMClSS8moWUqqRSM6/CJuj0RQVFB1Je2yga0FMDMGeRur\n",
              "IWzuajkKo56MJM+9ciORPuyGGGOoKx2oO60KbD671/NbYEiTLsuMAKirULofpiCG/+Xay5l28W5G\n",
              "hfv6Fe/g1OmBUL+dwRyMKEXzfIuU7ZH7ssNmdLAXiq+tdA76FeBX8qp9zEfeZYsUdkluQ8m8r5PB\n",
              "j3kBKRy5NMg0+8ZJbJaMCTSUb4zibit4NR9g7G2yqBSvnYLdBRlzD6atlRUEoilQnW1WGYkvuUAA\n",
              "btpxBTCrGWrvqz5D6DYAU9vQESYjA+6yqtFbzy3W+bQ3Kvy3sb99mh8wx0g5/v9Cbs79tGEI9DNS\n",
              "e8WypPQlm2kIN2vNETkVFndUmtDK9uvui2JNEiyXV+O853o1jD337AccMo1idX/sf/L2SAnBw61W\n",
              "eGrKXjbHyDI8yYQcfOMAxb3YqZeWUc/hE/0H9M7IVLtdRhXhTVWasgMfMUKcAJaDTH05hzzXfW7a\n",
              "iL2fU/PS71DgkEA7EHIizGkr9szpKEYave7k0m2/ceDkTCqDFkvqmnCL5214ixCvRm+CMwPrXwey\n",
              "II2Ud9RyccTl2gh0GHsgMaev7Vb2WCAHZi7ZoyFKHvtdz79634XS2mBllEZAA8ASWsG1EqmLv5V/\n",
              "xR/CNBK2pX4JBfs4o287SAfI6BJSn0F7fE/pBLc1kAIeok1MNscbJBnIgzzqc2R1prMmoGqqgU1F\n",
              "2Mro2A9QwGWufKeJzs90EbNi+L+gsn0TqFfE+QMZyAtZGLtYNB734nNA5fYaFechtPqqvPzGEbQ0\n",
              "ICrGRxronohUAPO49ipIdIiiaVRLaLkHcwwDTxtv8IBl4Ex18e1Zku8WgSr1194DX7gSKtqksGMG\n",
              "j9Jh2s3a0UScNuKG38Z5Xm1FKkiQ+hrU6vwytktiGSx6XxTkWiC57cVpN5rvww2XmKK1dx5DYsTH\n",
              "rXKIDSDkykymUZMSqnDRVyDhMNIuAzBIwkDlUfSMU6czQM2bEexBOe7jyOyU2WwdExWf4MtBnRtA\n",
              "T+PrHvlI9YHP7hzDsgIZPZcDCH50AUXUF3Me8yMQHavm2CIZoc9lRaCpRolaTbfvC72GgqXuWFbc\n",
              "vHjsDqE3z2orVIajqW72k7xbMq9wb6ePukxQiz1kWC2G5Wyhswa+InhLQ+ASu98rJ3oYdAlSwiMQ\n",
              "5OxA5rjVTmzyjxt+tNnnaV6R231nNc9xu+myMu5VgDlb/l5sCYHhDGV+OSmmOdpMduI6l/s6SSwo\n",
              "BYeVsjdXSNBtwt4oNqrAHb0XAKJWHZgWMC7tp1Pq+XAtkry1102qS7W5dCyWLfVF3UgRNUlSFQKR\n",
              "1hdNzJ597EfquF5d9qhWQS5EndFrjyPAYBUCAeaQkN0mfGYechNGOq5EQNbyxGsxu8lF2TEzyxGF\n",
              "BHwO/FWQCyAr/yxn25eLoIqDq+7Nw+d7mOMocoy1b3t5/lqs3s6MM1VKFK8qV9kIRHPUfe9e46UD\n",
              "G+xSUUxZ3NSm1wyAPJjyDYjdYFmebhZYcP45YkYLgQyeo6NPpD2V5OhetEbGD8it/Dlj1/pAAAAF\n",
              "SEGeyUUVLBb/AAFz4y1fW3zEKMUPtdZ9gAdfNRliGQlBXs9UrEQ0KmU5LNxG5lq7aDl+AZ0f8Cc9\n",
              "TQj6Ss32ulb547FsfaUEj1I7vLVH0RMtRyU3MgMr6vNzSJyub0qw8oiz2XT3raLun15dTZKXwKGQ\n",
              "QBnDdRXJfHD9po7TB/tR0r74g+YZGCF/KBXZngN0+Jw8QoTnG/zYDnnI9wv3lGfaF7Rn3zEulyKs\n",
              "voXoKaSqxdjeYDUf4pE0cwzv6GgWmaCW0aw4PLa0bjAU270eWvsluMLCcoFz9UV1Zqxkf/pF+Lqy\n",
              "EBl6yjivarCr/n98AmZVGbgnSXm5N7KS22QXPyKWu34SC0wJxV6Oq/7ukJ+OhIEmkbT+3FXDH4Wh\n",
              "DzJdKV0kwSWoP9GjWJ/VoOKp04o0N+1olO1h4s34E3J+ZzFLxdQmt4Bwt8yEiLJz2KU4u9HR78EE\n",
              "JN0rvLBjW2umsc01QJGWo8BAa8xzOmy0WDmeAKtpqIPL1zY4FIx3VTYkTuprcIGgyRiLdbM9zUUL\n",
              "26QTh34/agpA17lczTzybaTVJ//voPSEpBMUWyT3Dj+5ZEI4htavpwK6glutrrbxJll0YlqA+EwI\n",
              "gCsZNfNAzjLW52XgMkJqs7zDiuO72tLe2UeECfuRNEbss3y9nRO70bHuHIO8Mxg43DEQypnQ2vEn\n",
              "cdsxJ7QITNoWATI5VHt9KeMgD8d7eF/VjA97xdWhRqJFiBfqjnp8ShTYuJFzrbf520SnB1c3x0MD\n",
              "IwbYrR1i+4Ng+ahE3f2h4EXHyQJDxGBE1ZQCoKl20chV5Y4N8cQtiKp1A4Q1R9qf5AYCc/o/J8Ef\n",
              "u0c/jSx7BqS8ZJ1nH6UpC4/kVyB9xtnQGnA+tfuH6oqP9Mv3Ju6PEFGSDpgxNF5U2md+dV/R8X01\n",
              "r+BfBiGnMIBAGRMI00W9s/UC4YGOxSkxyLyS4WRLcqrGo9L4GEOsaMkaJJzdXQ/eQXCX04kEJYln\n",
              "QVVWCuvJB+huRhPj/8JKeoo8cd8xIqBztd+uUJBh0HiOQnTmmtr8mlPBixfuX9e1Q+ptZyRMbpHO\n",
              "bG08d9eMxJac6Ccl9hyjWow/na31JPTQ4iKZFilzHawBHn3IxsmdAY+4ryeQxLZT1qXcAfTdMdwi\n",
              "ABAIZrn0rWc3FoKIsBwSN+PVrh/IFjJWrqlhTlq8PPGcgLvUxB8qVMjmvuKTg4cEoAJWRPsZ7Yhy\n",
              "FynrcAGs5USogKVKT5F8GXc9ixiZuuEAPKx10dtT1psn7et3p7qF7V0OmCi9Ym1F5Vpp/kT+P2EQ\n",
              "0/qW5LWEVOqL7Jf16NHqxCD8GuUC/NpO6jn70+B7/DL+LhOYAJRz9aHzkkLNJbAFU1yACxwQFVfH\n",
              "tTKo1frkDVKeLXHKXLOgu/Ld2iT6x4NofPGrMB3OPzsNsbfUNs4lZ0HnUYS3m4x3qUQ0dAFut974\n",
              "npIEeIbXEsNpDhsRstdFiIWfY9URqo2yi7oqBADquNPA9Mp0FE5kIlnvsOxx737dyKEmXXRasaAX\n",
              "AOJVt2dGVgj2nf48fhmxR+Wh32DYqc7nxf7nudzmI6LIKJbkfzlIL04cpQDzbXj/o0WH7qUIo2oz\n",
              "2sIkgbM/YEJ6oJKTZXXsB24WQeYaWtt7/TRPdXNR9xOG+kKCk8ixUqEapBzL78VYmncRx9JY+AKX\n",
              "6IRs6uD/nUHqFpK1BHeFEeaeadsRGnO8XuKUWfr06JQ4reP/s4U2FmQfWN+Rq4ovVKGvP//Yh4qg\n",
              "8GWfd3w/m08+p0u2UIS3WT92MT9YS8vUkhmkTlegvCIoiYvQkm4YXqlBAAAHCQGe6HRBXwACMotF\n",
              "igcZ7iyZT4qgARAdzvW2aY9irW0E726S9K9cln+xM/ZvMRjjzP3CNlMqs5CVySwszgZas6qlBOlC\n",
              "POQJNPyH/1AZUAWNuAKYMK1Q4EERQYdkguXEFx4A/0dotvKoRRhAhGXZ85bTn2KSHlOq/Q/w8va8\n",
              "H2xsPdJEIE+l0c72fjGEHk8apn16A7VrVT3RDNeh6oXoxC3hmsFzRJ62HYnHwCFz2b40Ot5v0slp\n",
              "4oN52oijecjh6K1Ef1l5HSP51yTY0q9qhIwwoyC6Bhf++I0UMOIRjW5GsKehrDlEgseNUcpdwmsN\n",
              "UCz0j9ekOFVzbw33QGbfywpg/n6UAOMmyHmc8F6wh756NxXk4CsPtDukfXrNR5UKbGljI524hb80\n",
              "Ry/N8leHEvAKx+ataJVkDrD4yB3nUalFiiqr9TvJIJYV9O9N80LPhgYNj6rcRndyDJbqqoaeSbOH\n",
              "e6VtjF0oZsJ5Ze3bk8Vsb/XupioRQN/WHoB+vXBjS6bWucQvUeAMjsVVXMQO96lbdsx6PL08qAX0\n",
              "I/TJEzIAowROl/zTNtHTVH/PSoCDLykrJGEd5VHm9H2w4a4EG7FGSaUYdcWJCN8wrxS2pJqpIO3G\n",
              "LbMI9l1OcfhSZAnbcjnG3XcGI/Us9JAWxEQOzM/fLIZ7lYZ6gbp+I9LpzahfE7En/Z+EsP/PlqfB\n",
              "teCWIOkTlpQwgRwMPhpluYYJLJ0F+IwKwd6+DbRvg3/Jp3o/CO9tKaOjDRaIBQR+iSf2J8gTz/QA\n",
              "58rodBbiFTXN0idrgJhpZeO8LjXuFuo608vnRlFRJaonuFd6Uj0vBqORPalVHW5By6R8RXgph+PF\n",
              "TWCsxzIZZ2Km6ldqPpdjRW3JhPl/PSEgH8B8/bXr6ybnzncPTr9gJd+G1o7wLQe3uAAGXaCT/llt\n",
              "rnsGgTBbNnFUu7bc8lHwbUvfZ3jrLmkyGwzSGvWxK34YFXEL7drefjiaUKj08pDnoMt3sj0FB+61\n",
              "H/SKYG59sSESYZGKiHpo8jm0foH/1+tvI1GYsGeYuZKZmi2IsloHVXokdZnDJv/0V+g0XPgwQRZm\n",
              "4LAx11Q1kHXQnSyPvgUCagIyoV5ZY+ymgNszRb7Dg1twf4WHS/I6ntPKVM8JDjXWLB9++uuLni4V\n",
              "pHk9qy2wzVMs67+SkYMiVCKUIXsDqGsgL5eJWLQu1vBfIKvV3AQnamzRN74zTh2QeIj6lGN8xH70\n",
              "pHRtrdmgH8YpOMEvPuSigRZccoE9jcwLNKe+hyttLwtX7u3dOeQcpFzuf+yqOtifOYDmrerzzuDd\n",
              "OSKozJXoHjB9bykzosMp9YoeWKaHaC81ol4r9pBIWtlen6zYS2CVd7Dke3B08L7EJvzQwswke0dF\n",
              "d5sM6ywZ7w81BJwznxnPhvua/70UCBGsKhZl+2inIGXeBSCvhd1Boen/gLOGleZZcvFejTsXaPGj\n",
              "6ho9/PMTGn1sFjEcm8/vKZiTiuKwj1fzV2NXb2kIYlP/l5KImUixdSBSHDZqhQ2vD1gfxLNgsNPV\n",
              "vLgv/LQz7cO4FpWfi+SNXuu54wHnlgFYPGXXlfjbjZWRZU4yUgsvTcbEJN8CbrV48WMBI/Yyjs+V\n",
              "SRi3T56G65zOgyDs29gGUGHkyc+q008zgGJjHz3f5T0wqQ6FWY063fFGitkbT30GbF1GGlHLENC/\n",
              "qg83i9RtmJ2J/iA5UFWc1k3qLMvhDA0+dKE+jJXSdZcR5hvOgmj+avGXoLqOBRA0fbcSBhCOmb5M\n",
              "FffO8qV08kQdIeZRIbo1p60kOJ6UgYQ2xpdF+tZ9vkkc/Kxy2fqGriRUgi+sha1+Ttgp9aOah/KJ\n",
              "cthabpkZ793o8t2nepvfjXuEoafEVvuyHGpz/xWA8OldGyZztNT5u8NMIzICcddI8nFRAgeXlra1\n",
              "LjGhnwWQtfEfQh2TCYHgVuesKMzZvLnOSq7IXHAIn1KjxdNCGfWifqr/LdVA/uxwCDaC1E8xrhWF\n",
              "rIgx1+/Pq4p36xXGVFvr8MDkjID2c/FoIYLxr4/x6bTJz3nVmZmdj/f3ITrjDLeI6RIQwaX5kAzg\n",
              "H5DK3DJ7hTCaTk04LC3Vi9VlPfLeiDdVJ5aeNmVbDKuIWJsZiBYn4YmNOY4XfVr8nAyL2YGKuDTk\n",
              "me7yzMpWGXjhZ9/e+BgQgS35h1cKW6OJAMV+sv0chhHUlN/bQ7u11IaUrA6LWF8phDqKxMdGptJT\n",
              "8f7hspj5RTij5BFaAzfnBtxyQ/GGaz1ncZtDSSby94vXiI8GrUXksCI7JIRblHcy9cdEMFlTipLt\n",
              "hEqPF0QMUJKiXunBF+qLZMyqxCY4BcV1gL++i5JLUmyV1xdG4QE0w5YzF+ShVn2xX2PlLnnVZdkV\n",
              "4d72dbqx8VpQZ+6lwZUKqsD69d2Y15UAAAYRAZ7qakFfAAIy8v/kL4ygAJ3RAjxPVhrUQqfkRuo1\n",
              "Jdl4j/v6e5konFjgHuOrUrF6eLHH61JFsFDL5J+dh9vdD2qeM1BWIHHJMK6eLeynwDgFhgzcq1k1\n",
              "cr7N5VTf5hm31O3QbExT6UdguOTnGwqV9g1jLilAcIvfOiKkFrpPb/rq8pCacudaqHwgjNB0VFvb\n",
              "rS44WnESRdgf4YjAZoubyfsPsXjBc4WLzHYs1DsE9okREjSjbzWe/fb1e74LYJ+I79QX1HJDVvAo\n",
              "4P8bHMMay5rxR5Np54LZTyf6krsOFehtqFvXkLIi2R+GEMF24HiJxPoW/hrPvID6tGoTHDI2G2mC\n",
              "QGNBbg/6Kji2xGCn/6H6d2ADpk+AjYmswbftC8BeFNKZpkS+1IC3h/2085Y1pWzLig5o0ufBhzYA\n",
              "wIluaCbakDlkmXMnLBpLHoZa0Gk5Nt5QvRa+y6omK9b7PPL2GnqUOeUcFM5OBDZNb1qkVhjsM938\n",
              "xoiFg28nMEjrqt88Dz19Kr5UHLya1VMDBhR5Qyj+llL4L5GfqgTahoES01MvuqIrVDXf9n58EreW\n",
              "eFZg5mJhvb82SzQcNSn+0A6sgSQVJ2rBguhTztRcGOMy3RFkFGp0lx44vuzwR47n2fJOH+kdMECg\n",
              "okvopeYEZc9rxvoZ7N/iIOdP6vU49VZWijcyeWyVeq7edg96szGc5KoH8Y+8kmh+AsOIb8aApENu\n",
              "1pEkGNhswjaRSsC+96DcCbHeWCcuN0431wzZwXt62u7ZrK1NNqVQWDLpVcnnh+wdZfXvMkmIFn0o\n",
              "TTzUP6tr3qxe8oYn4uZaGF843dFSCTzW+LamqduLrraw/rGWIla3wpBxNZFvH5+3wqc//V30jtEX\n",
              "I/E7+0nPs/r4ktz39IRibw4KHDVpg8kRFyn6uZ+WAZPD9mhtQcFVUQxLcj+BTtjE+QZ7tfM9bzSn\n",
              "YAn0qvyIEkWDL8KZQyn/KMMLDRFAAp9IWx7O12jERFnJYLFhxJR5/knn62XaC0EhEj1Hz22iDdO+\n",
              "2nhef0CEzr44T1nC8wkUhNibuolvIOMjIjdieQ398cjNv1MxeVEiTCMjV9aVXT0H7Nr1SXL8jJU6\n",
              "6WnpStR62n34PzjfV1mAoJfyk02/Wq+M8AhyCXVNDJTtXRLRDpu8Sp7ShBzysgidaqvXpWlhv4i+\n",
              "DhzkofKCdGIAxGJmnYZJl0SwClkaRqtAVnlDNivdIHHuw/Xxbj8K/ek+7U/VMGzqtuKQudQn85VR\n",
              "Bfj1FHrM3MrSqOZa+nR9h3uEbKtG88Duv28MrYuiJalteDezeWbGTABQTlFUZ2pLXIK2g35Llxci\n",
              "0U8KNv1lQY8TFPX0L4GHgf0hsBnbYmT8biWTqGn553jUx8VqNpyWN3ZOIlIHAlI7zaAeA44fxsj1\n",
              "5eZavQx7IJWXV/CL7p6ScA7uGUViVDKOhxQwNYeBeZ/s36mEZ2X926oWdNK5s0jPz2ZgwLVsI5Id\n",
              "/Xwm1RjgjcBWcSNf3gtH9unm/a/nMxvvafChFOU1VeJ+Kc3oFhB3Z2J0IPeaXSl60VQKiSeLnVbU\n",
              "d6NcigiH2ax742lZIBsZT3El7GXPUnI9xDBw4Ioiadu2U7yoyOw9nq4oCkCNEijqeKCUvcE/lz3y\n",
              "+vRzPlf0/PPVaIcD6nBLcuYR49IhD29d/YX77Dr4C4QD7vGZkU6uQM0ALsyQ3TBcvcjBcWSKXfIF\n",
              "Fb4tPNyAj88z5R9rkjMz61WIw5zWHy3J7Id4z/bmTJ2G4yCeV7zOaPWkqhvG1eNlXg9naj37SfMw\n",
              "SgT8L/2Z2Q7PTIS/ZOPE33aMp+JxuE3eiREMkyRcpFaP86PNpOJjUZAa8DhpiJBSu7gOgtF2+u2b\n",
              "lWceEpjtR0CJ6I0jEEZapjA0copcbABA2oOUOprYrfI4QbXqz8RuX7GZ5vvqTBiP45AJdUAzixok\n",
              "2ODVKclE/9eIIMe4CJ0CgDG82ZaJfwektGnzcSJIfzFhsd6+UQwGi25sg/UzqPvQJOCRQG+P6m9a\n",
              "o/ytfS+YGrCaIGrT9qBRfr291cDPjzm36HI+fcfW0r3YU9iohUiACtgAAAcIQZrvSahBbJlMCCv/\n",
              "/talUAML5B0ACE+ReW4+mJfSayonec3Q0GUeMXGr8Y0cyIl34oztlz7sCSYexD4zAq/i//CMffu+\n",
              "Qd8Re+ZspywrXEdKDYQ9+wyC4YJK+RRc/4W9quNPV+6QAZXaoTd+cbuBa7GcNINYFGl3kMpXoEIR\n",
              "Je6bmvAFsq9hQAXv954g1FFFQzeTq9j4XHZfL8ncDQGDGS07J025SUifcibaFySt0nl9bDPmzScX\n",
              "bvNPn0xDan8koOKIuHuqHw6F42zvDBWCuX65lc0jGpzjiAO8C4yJMf7WyqG5T8UzEa7BS0lcxVMh\n",
              "3q+biLH8ppkiiZfI1wURTyq4snzGzwDGSbZT9agP4sS0Qp20k7nYWnkE0TFy0iepkRlAZEWkVJ6S\n",
              "7i8nggpNkFVenBlBKqzkhAN4KdZDmWt4jNb2fyVGiRoNU6eekw4LjONSaYQkFcJ9SGOHG3qTYH1t\n",
              "fnFAz0PLl9E5mqdVpzrC6yLHOIcEXCOFrFslyCFoM10RNx4ft0hHcpU8MsP//X1+RYdNfq1cugbm\n",
              "LmQr67WkVJXFq49zkLcshqaXCnyfhmLxIBPXKd1kuytXqyGp+MlMt1rqiAuoPCfiThEj1TfpUeq1\n",
              "H3+Gm4A6zoa1B8qv/imOrPGsbJfnZOo+3em271UccMnIWXx1nSuqV02wOJymvnXfj2ZHFYHgKq4d\n",
              "fIGJq3zQ4lO+RuX+qqWHScZymBG//LaFBSxnKim0EXVRkFQy2ydCAZCJdZ55lx0BT3kzgcPr5UZp\n",
              "IxQ+TAGvM7krNd0LbvCg6P717nrN4h8MohRF918mReKlzSdRm9Tq2WAHEjPQmwYcEUn2I51N+vyr\n",
              "yuUqb2FDkf2AoYdoKcOVjTdu7R0guzRP5qDOEZ20DY2fIfE9qCI2AT+A4TFRV/817p3wLV0H5oFC\n",
              "eWc87Rt+95h6T3CxKkt+UNh035+QtNPl/q1nFrPGkpaXbCSF3gO4iToZ1tca0IA0BEN1tP/+5qsc\n",
              "gUCpkHuAUdc9sNY9MLnxkokoZz8HFMNhKT/T+gPFrFAXoAoXDyzV+m7tgcpcrG/mx5j+v70qFyqa\n",
              "KmIdej/fYkn+U2x2oVn86NUZzHLCazmkWHetbBI1udgrB5sbVYJ88CWrBpWiI1rRjdGpOlH7mCzY\n",
              "XaJbv8Gj/KCcLHNT+uy0lDX9lqVeRSvxNnsDIEaeUSNGZMSlTLIm6dy21Jp8yr9pvAIOx6AgXxHR\n",
              "AyxxxDuOKC5LBWRhqoLTjJSKjRFG/i4vhneFrwffum+6u2UW4eZ3GHObkNLrqXh79nljUspYbLMt\n",
              "tBYFnsAVvZ/ni6K2BMVOglUyQORSj63puxC7vN/Az766miMSA/fm9ki5EbN9PXpMh7CkquKKcCcq\n",
              "j7MpZeJaQh8/HL6Jg3hX8sZ8jVydCGoa0cw4NBohsmcAh9i2RNfotU5ALj/3nNCdFoMCaiQfOaev\n",
              "7QkgKcU+gSPQpsT4NThcihkThfKo8wEhrghx3j/snY5PHySuL1iDxffIvhTFx7nUnsMLfC4WzJ3X\n",
              "BEFpkHWzt0zNuM9cUEzqFzRZLjHaVPFH+qN5VBHmcFZQ6/rnZjr1y7b5W/CaWr8KvyLcU6aI9Rhf\n",
              "WF+DKtHbkPthmWF1GoHGH2QXE/MASVThvmY9T8inqMt3+fsXdjzINBQD7fn1TKqX1Fb7ak5oIg+D\n",
              "Vme4L0u+1+V4Ar6+F47SadTeGhrdAkIGItHTBrQu1cJV+br3ZXQQYFEc1CATZ+pHzH34ZVyfa9Bx\n",
              "z49lSzqUz4eYRpF3LffjYvcUUFUGW78V/T2nS2KRPH1jpDyNoAnozZE1OXoToU/PaZhJqZGhW5jt\n",
              "R5tn0DYvbGdLcm0pI+4ZL8tpCKWZKp+P3T9FDJSU/pEIrBueJSuFfpe7QktERW4Fjkl3+N2a7yaP\n",
              "DGfln3qoTNbZFIrpmOQqA7PcSzhre9nZ2OZo3ROqSMzRhNc2xiP2TQbs5Wy2ouV+MWqEo6NTThbn\n",
              "ndr4yyhGGkzCez9VxbQDmOV3/KYjoJgqRi/OazookJMDEMrJhu/v4A7Y/0v/xIsMLXyFDoVyKNXc\n",
              "FI2xRnYreyaTK1T4xJUcQrAzOQCtT1nK3jMXnDAahOOHG6UjjChaEIMUIQKahwwnOlAIo63A774u\n",
              "m4ngylJtftUTvH6pmawLfAz5QGzHlF8l0RPI4c2/5QMLJDWbUyJCETa3x61+2rhpoOFff3gUsxQq\n",
              "NF7RXUg4S5xjwM4oya6xDu21uPk7h/XX+MfXkAEhLyLvXsIqL0OdDj6y7E0lYADXPETqaUB4uVZi\n",
              "i9ZzjJRlAM0R4uOgP3QlP9K2WIU+UgRbaaJnw/hrGLtAZ9oQaWF5HsGPRF310BnZb9RlvhAo/1Yn\n",
              "GGTbWCshSi0n0ecHnyfRGot2blbgAAAHzUGfDUUVLBb/AAFz75luCcuckB7vFB2UzmI9s7RQAF1e\n",
              "SBR1isHzMXPOicNFogAZyJXswuTJETv4wlMDwMWZFeUC7Hein2LdQDnrG8KbRZMWMuo3bT/7gfgS\n",
              "AaYM/6fwE5yRjC5H214lMjbQQd0G1jt2p456dgApa9LwH1GMpdjnl+OHsmSl9Jiu3WpSEbhsZTP1\n",
              "h5oHTqS36ePCL+gzDLuNO0IxFtQT1Pt6oBcgyC4K7qrh6l9vKjdrN0Vg7FpTauGP5UZZQhHLf+De\n",
              "iz/V3De3lQr5SgA+2noCXJeJeaNWz10EPRjGFw9N+zFrG3GIKfj1l2S/TAUaDDcol8HPydmaS5wj\n",
              "JwXpRlkZSxaLj4+J5JhyiwkBpzg4Ilk8rrrju+VXz6RIhAUeW3IoA2JSEQsRiZwEOsKnj156kSth\n",
              "yIHTPU6OFkKkmRwvaRM+2fW/dlHwc5I1tVVrhL023U6SU/VHfcPCbPF42sVZL1Taf8nu5ay70NOR\n",
              "5LSMg/qn3pLI0JMey9LfdSNViU5PyURqtK9oRnI6vb25OfhQt1MkyjRsuV1/wzIjrYxRHCPo7hMw\n",
              "YYOP4gVBX6IxD0kz0zT3rmUTfz90G0QvN//tcb3HQtnT0ld02gpwkRvHmYqWyiVb7SaYRm4/hcUf\n",
              "9gxrEO8VUsLvCXswHS8DYy3QwsdBAlHKqsQAj08CdTRjZDtWQpvDaWWufa62ZUCgBT9zJMBWy3b6\n",
              "DRvkNzSUHbKnvKBtTp+c++p950fNw3EtSOFcYtDMwDWMzdfrTiYR3romO6X5K7Zp1f3pBkE+biMS\n",
              "jWRnJIz6gSbrwT67Vb5NPvMm7TS3FuqveNDiIfVg2l7m+78OmvqftgKIBTff8Mz272jYiVv3LTC8\n",
              "RUUe+l/SiWBhDkCOChtTWsAujmU0XUJCGZbeB7RkqxRCA7IlioqCgk1cpMTYzf0qlg6a43Ys3oSV\n",
              "DW/8DRDL2sF/jKLe876gVwTwYJzlS2GUCdckBwmBTad6ES0qR6eZ2LTJNpxvEpV8/f1DCSTzYfi2\n",
              "p7/TdPuw5hpUgL/H8J/n0MLnS4r1MdF1mTo4l8XByEVY/ZtTBd3Wb4twAeunpyz4/PoRrIIB4/Y9\n",
              "QmLseCQ5AAjEAB9btWcVShlp+V6bsY1NaTr+B7Mo3wTEEoH9Kr9q/vWIiQhOFB+/zP2ybyLiKoma\n",
              "cVsxWOZG4xSMCo63anaMyk9Y5cjJHgoLeUp9O0fOmMg83fviYMml1AEFJ6U6Wy833xKsfWZl5lpQ\n",
              "l1dUAwNnkAsjnNgvLmzm0zd8mb5yobtgK1qgCtJ0kaMu4tDRwXVJB/h6jSEyqfkVvJKSTiHVVDA9\n",
              "HRDJtVjWNVeJ6QpCGzUHnVrFO8FZmS5XvBBk5fVecStuhbIIuFaYwK9X7nwemYWkwWmu7SxGZsav\n",
              "j2rw93tXhq8JTa4rPCkGZQw/eG2JuzRmNpR4LFAp3kNgZ364GV/kEremMEdCf6YJ9b+PxZIzMz1m\n",
              "tBZlCn3/3FuZ1JaOuH0pkoLBLkQHm9KNnsrg61l1hCPhgubjBrI6cLwttxYOccisLAhz4O6IeGQK\n",
              "Db4bZpZ6+zWEoW8oTBiePkMApygVl+U792GbQ7a0oz0NRD7TebRSnRNFXRNNy8lu4/Sv3gKDXcxo\n",
              "XIrz0EaPHNMOF44Aj1MzBDhJLVe/o6z/nRNFDWLd42iAvnYjboqmx5m0ENhYDXDGBYqqHifMm2iq\n",
              "+GvVBFfnb5Fw2llH3dGS02ofAvBA6306d/ydAKq3W/SnTVW+zu47L3bXBWmvELdAx3pIkDyJaIiS\n",
              "KgIEnTUoKJmIK2jX+EgKGkELdtzmYzzySehoDkI/M03pBrnhPuZMRfker69HPNvcKnr+i8rTj4zs\n",
              "Oeqrj8r+37xfnC5BeRZtvcK0I52GSIiWIm5capjz4PkgvzAhTe3JIIU40gkll+6bj8IUnlFBr2iS\n",
              "SkCnUj0S0QXlpdTiakYacMxrf453DJMiCK0TFsFxqkLoX2+6af/sWzruf8PKQ1zN7hMOLJyOUtR2\n",
              "UT0Tt71TrdvOJs32iG3dCIeOBME8eAB1oNXagLpndnK0cnPOuHkhg8box1Gfch9Is184SIooBauO\n",
              "2RNVE4zUZfjLLFbzFowhzLhCZUIGzzrQ709tCkLVbxws233gEooBMLb40IJ5/P+s/Doe/t/sQQ/s\n",
              "3afKK26xEuPwheyxmiw1OkDRmvciFhaw4OCqFzqsIscFvxHN9WstRfHUbL8z3dcCEoeJZ1J81/WQ\n",
              "b1pPl1BZ9QpWsXeFUTW+JD7b6PYhagtrhQqfUxgzxjx6So7BUr0OFtRfQnnnfzVEC5SFDUtnBsaa\n",
              "25GEwtxI3gs2EA0GpbbHwIkb1ndm740Gu5uU3FZDwKiBjkSu2JNWuovjqNl9wVB6e49JUdgqV5bH\n",
              "8hj/HUbL9T9Xlvu8fhOCYRchFPVxuHu0+UVJYs3HJgC9lhkLb6KYW4kL4fU3fKQUB6e49JUdgqV6\n",
              "KrgS36mAGIRbxXxSAaDcfRgndxmKPrTzoV3aMp/TSY5o7ed/5esth1UDktwTjMDYf/TiW+E5/v2z\n",
              "mU0Ox/jqNl/MmOPb9C8ejm7krwZPf0DpLnfKjhKBN4uV2wA4iER0tpLcoZBfEyMcv3wy7Dhs/ZBf\n",
              "VdrxeJ1dx//g51mAKfULRgHBQ33a+WZo0YH/AAAEXwGfLHRBXwACMotHAzzMWcMoAEQHc7Ve3BBj\n",
              "jdueFXMPhzhFNnsV7pcnGlfNjO8swkn1G3Hb5lxQ6X8oFwOIwHE8Yr28ozUCh7tHKuSrP4Hg2v0D\n",
              "sOt7V3CuiToT8niEK6GiJ0KuzgAx3xoiGc0/NeFkUw8esOl+Z0fgm1e3UFBt9sfLVZ7vF+4DA2m8\n",
              "kfTa/jixH2fWytt4OJqu4Lpth++LrBDgyT3dzTTulTpU3cJp9Qzy72gHw1tMBcYG7Di1JdQzm8gj\n",
              "HgtRxmN+gIgmkVp9SJy6LR532ZXYovjP2tpjeavwQ354LOjKpvOoJLhQ7ic0pe0JAkAqrgpH998K\n",
              "FJvkf8uAQiUNUl4q0ngcWxfyLxSmGDkmS6QLrq1yHKOggqaMS00tk1soMZ6j8oih1twNdoZP+iiW\n",
              "sJihIpuxJFwdAiV9iAkcukicCbD1P5/uaWsLwR+HUd9JP/OWiYTNremNNloMWqAn1M/FTUVsLq8b\n",
              "uAn3nedv5fXw/n7yBbl5ncrmwr95eZkb46iNzUyWrj/NRtTU0WcWO1I8GARVs/yv52BUkLU02Ou2\n",
              "yfYrHUgCtxqakJSMwvHOyjgf6ASWCGffUeEYU/RA/Wm8KauRR6e0FIj8ttohHvIWZuKrAI802CvV\n",
              "1QBWmtd9A90x5+AV42wsutkCJv7vIrPkmujIgCYG+wFYPWcZMfBi+5VrLlkaDHeutYkt5GXW2dgd\n",
              "p0m/8mrsBsg1om6v8IPJZWKCJ5WkKFqpiItc10eukfUHWTXUBdsQb1kkm5Mjwiv8MjCQ1XeIJ7q3\n",
              "bT2TdqqLTfRKLQPa1CRnHgih78weZ9KGswm2PUQXEr9+0RtXePcQc+p/AR3SxgVUz4xKwWcg94hV\n",
              "Pn7xnoOBxGAQVAJrOXN8Fodck+8kLyL3pO1EbGwlFSrS/kFgqTBGvTLRIXfVCIZUPsoRPyVgHL9P\n",
              "yc5fpxkSp6/VSFCI3d/xkvfZW0TZ7iK+IRJVYwDdpcI+m7HvDMGxo5ZpTX/uj9W//IvAVQd4UT1S\n",
              "B6ezFkZLNYHdKAU4WTO3F36wkQuPIemZmfIQqhuF4HaXhg2RBUvKjLgVdRk89qZSJJPYseUtVDDF\n",
              "3s7BzMsbfh5OPLTrzo1g3MARuEAm4ik6MsjXoaVG5noBHTnQ63POJnbVLz3q0wmtwz0IB97yppWv\n",
              "m5ZtHC66uATC8zkgCQYH/4JQjUUo2W9hdumbucHPdFC96scCfTw9qTKJXL+gQv4m50V5oCd///OA\n",
              "tb5E0NHsveztadU/6OSL6nYb9wK48ogOKQHOrIRYcUU+IaoDuBpS7qhzg5sFkUzYj4pViOfoj+i+\n",
              "Ht1bz9EUDTuyFa2OgpgfZj7lBR9Dk72GLpqhTraG+CogSW2jxtETi3P07yxJAr0VtAO6VAyCSFX+\n",
              "taMd0MDF+2mRxxVtgjKUUgxhGTvUdCBo+KTu7fWtDFmekd0EIJMAKwU0mIkudqbD3E9uynLmlPwi\n",
              "Iye861IwXjgDjwAAA/wBny5qQV8AAjKLSBz0C6sr1blABtWbMXbBFGDXes760cjdN5lk0JLsVMwu\n",
              "ogFQxrasUNlUUrS6tOUesawq8xF3gppfOlGOvPk4gP7LQTFc33GivsCnTRp5KAM0Kuso6AHb2caZ\n",
              "HA177y5w4ce/nzMPLJba/hse2QQP6JAh9LmDkifM7Ew7wIxhZKTKA6QJ7bPGmXABpmAOy3tcAlvt\n",
              "vZGh9/Xf+Em2wqCmvb0vOIT4VjaAR5JfPmSXPqOA14iZJSd6tFxgfPlQScctqQqBr1mHwq+s8pV9\n",
              "DnKDq0RH6guSn+YJEeghCz+Sv+lekLiVKrCNLOd/VKWWIMCH0RRobjKHRnEsG3xk+Lnf8iC08MGd\n",
              "NnXvrLdgv0daMLMdCAX2gxPUvY1qK071NI3ft5swZjj3eqJGcdLuyrTTRHbQ9qhVmb+7VA9qEYAi\n",
              "LLs/7/hThYwKvHgXjiQPrUPRkrjFqtSo+Hc8NFCaP5qmsgUBDp+xxnpYYDMk5O9OwsgWIOuxLpt3\n",
              "IR3A4jiVu34M26ZgT4tW4EGREp1m2uDV8biDrnFQBBID7iWGUe6N9aYutmyJTIJMvwDYrAQpbCPr\n",
              "Jnk6f1AKg4Cqd3Xe/hSTMzMZ/TPJc1FkMF0+fl54QDKy20CGNqa7zNlO0hsP2RAvJTlw4iSa7Mw4\n",
              "zeJkVUzFe475699dhbuMJasA7fd3p7MJh6gmLqPJMC59bby4RbFysukj6lRBTLpEfSfyYJR1iu2k\n",
              "zeXiorUcCYY4Wt/7exjQ6G/dK8mzJrq/Q8eAIDGJcPI0+k4iJ50yPCGDS2X1l+M/DFbqCX/Aj8n1\n",
              "CuC+mNxxQzyT///9h4VKUh+5+YFC2/CS2Fa2D+Zbp3qt5y+AAEi4UZ82Ndk6jKunDqn0HahPHKVW\n",
              "o2XgSho9xLZ84OwGsFuv26ifw+q71orCCJlGFekaYwvhBCVm/zMMHfaxZnpbF9q3H7uhnMAsbn2u\n",
              "H2Tms9rZrmKmR5Tzl6TlS2BVxdfT3g7k1IGt8ExVa/guvcQg524KA052QLS62snMU3aL9wl5tTxF\n",
              "dPwvQzBwFR2alCiIP5hMg2HkXh7teVfKdi04WIiFCul/8l7hCP2fMFDAAkcGjzXuHueUVMuSwOV2\n",
              "OR4PMoAKES+F7+1e9o0E3IiH4I9bzz7pX2bD5J4XWr+IES3ZH++rqei09wQZKK3GTkdKoM5Bfbuc\n",
              "s3mQCtqIoand9u5d8uVJDeFOr5+HMQ71ySjQ+CRgKXRsV/2Xj91aPNqrBqFYPx4o2s7gzg9uC0tP\n",
              "kM5Bae3+l5iaWywxYPr2dfsQSrPDX3wTj+iWNxmwMwE/dBSXzFqnyhZQLG8QKWSJ74uwNrKj/KAJ\n",
              "SB4Q2uREG9EAAAPmbW9vdgAAAGxtdmhkAAAAAAAAAAAAAAAAAAAD6AAASwAAAQAAAQAAAAAAAAAA\n",
              "AAAAAAEAAAAAAAAAAAAAAAAAAAABAAAAAAAAAAAAAAAAAABAAAAAAAAAAAAAAAAAAAAAAAAAAAAA\n",
              "AAAAAAAAAAAAAgAAAxB0cmFrAAAAXHRraGQAAAADAAAAAAAAAAAAAAABAAAAAAAASwAAAAAAAAAA\n",
              "AAAAAAAAAAAAAAEAAAAAAAAAAAAAAAAAAAABAAAAAAAAAAAAAAAAAABAAAAAAbAAAAGwAAAAAAAk\n",
              "ZWR0cwAAABxlbHN0AAAAAAAAAAEAAEsAAABgAAABAAAAAAKIbWRpYQAAACBtZGhkAAAAAAAAAAAA\n",
              "AAAAAAAoAAADAABVxAAAAAAALWhkbHIAAAAAAAAAAHZpZGUAAAAAAAAAAAAAAABWaWRlb0hhbmRs\n",
              "ZXIAAAACM21pbmYAAAAUdm1oZAAAAAEAAAAAAAAAAAAAACRkaW5mAAAAHGRyZWYAAAAAAAAAAQAA\n",
              "AAx1cmwgAAAAAQAAAfNzdGJsAAAAs3N0c2QAAAAAAAAAAQAAAKNhdmMxAAAAAAAAAAEAAAAAAAAA\n",
              "AAAAAAAAAAAAAbABsABIAAAASAAAAAAAAAABAAAAAAAAAAAAAAAAAAAAAAAAAAAAAAAAAAAAAAAA\n",
              "AAAAGP//AAAAMWF2Y0MBZAAV/+EAGGdkABWs2UGw3oQAAAMAGAAAAwAoPFi2WAEABmjr48siwAAA\n",
              "ABx1dWlka2hA8l8kT8W6OaUbzwMj8wAAAAAAAAAYc3R0cwAAAAAAAAABAAAAEAAAMAAAAAAUc3Rz\n",
              "cwAAAAAAAAABAAAAAQAAAIhjdHRzAAAAAAAAAA8AAAABAABgAAAAAAEAAPAAAAAAAQAAYAAAAAAB\n",
              "AAAAAAAAAAEAADAAAAAAAQAAwAAAAAACAAAwAAAAAAEAAPAAAAAAAQAAYAAAAAABAAAAAAAAAAEA\n",
              "ADAAAAAAAQAA8AAAAAABAABgAAAAAAEAAAAAAAAAAQAAMAAAAAAcc3RzYwAAAAAAAAABAAAAAQAA\n",
              "ABAAAAABAAAAVHN0c3oAAAAAAAAAAAAAABAAABmVAAAGcgAABl8AAAgQAAAI0QAAB1wAAAVLAAAH\n",
              "BgAABQUAAAVMAAAHDQAABhUAAAcMAAAH0QAABGMAAAQAAAAAFHN0Y28AAAAAAAAAAQAAACwAAABi\n",
              "dWR0YQAAAFptZXRhAAAAAAAAACFoZGxyAAAAAAAAAABtZGlyYXBwbAAAAAAAAAAAAAAAAC1pbHN0\n",
              "AAAAJal0b28AAAAdZGF0YQAAAAEAAAAATGF2ZjU3LjgzLjEwMA==\n",
              "\">\n",
              "  Your browser does not support the video tag.\n",
              "</video>"
            ],
            "text/plain": [
              "<IPython.core.display.HTML object>"
            ]
          },
          "metadata": {},
          "execution_count": 73
        }
      ]
    },
    {
      "cell_type": "markdown",
      "metadata": {
        "id": "-grdvFGlAcCK"
      },
      "source": [
        "## Operações da Álgebra Linear (Sympy)\n",
        "\n",
        "Vejamos novamente algumas operações da Álgebra Linear, agora com a vantagem dos cálculos exatos do Sympy. \n",
        "\n",
        "- **`norm`**: obtem a norma da Sympy Matrix\n",
        "- **`det`**: obtem o determinante da Sympy Matrix\n"
      ]
    },
    {
      "cell_type": "code",
      "metadata": {
        "id": "lVAmaejyGccJ"
      },
      "source": [
        "v = sym.Matrix([3, 2])"
      ],
      "execution_count": null,
      "outputs": []
    },
    {
      "cell_type": "code",
      "metadata": {
        "colab": {
          "base_uri": "https://localhost:8080/"
        },
        "id": "B6lhIS2QGicg",
        "outputId": "7a43c688-9b07-4c55-f52f-47ef361fa76d"
      },
      "source": [
        "v"
      ],
      "execution_count": null,
      "outputs": [
        {
          "output_type": "execute_result",
          "data": {
            "text/latex": "$\\displaystyle \\left[\\begin{matrix}3\\\\2\\end{matrix}\\right]$",
            "text/plain": [
              "⎡3⎤\n",
              "⎢ ⎥\n",
              "⎣2⎦"
            ]
          },
          "metadata": {},
          "execution_count": 75
        }
      ]
    },
    {
      "cell_type": "code",
      "metadata": {
        "colab": {
          "base_uri": "https://localhost:8080/"
        },
        "id": "dOh20H0fGjZi",
        "outputId": "8e020c26-f36b-4592-c1dc-f66e03aae22e"
      },
      "source": [
        "v.norm()"
      ],
      "execution_count": null,
      "outputs": [
        {
          "output_type": "execute_result",
          "data": {
            "text/latex": "$\\displaystyle \\sqrt{13}$",
            "text/plain": [
              "√13"
            ]
          },
          "metadata": {},
          "execution_count": 76
        }
      ]
    },
    {
      "cell_type": "code",
      "metadata": {
        "id": "vrS_aXP9FVQm"
      },
      "source": [
        "A = sym.Matrix(\n",
        "    [[1,1],\n",
        "    [2,3]])"
      ],
      "execution_count": null,
      "outputs": []
    },
    {
      "cell_type": "code",
      "metadata": {
        "colab": {
          "base_uri": "https://localhost:8080/"
        },
        "id": "r3X91dPYFkYj",
        "outputId": "4e304f11-26b0-4c2f-aceb-c5403ea88c71"
      },
      "source": [
        "A"
      ],
      "execution_count": null,
      "outputs": [
        {
          "output_type": "execute_result",
          "data": {
            "text/latex": "$\\displaystyle \\left[\\begin{matrix}1 & 1\\\\2 & 3\\end{matrix}\\right]$",
            "text/plain": [
              "⎡1  1⎤\n",
              "⎢    ⎥\n",
              "⎣2  3⎦"
            ]
          },
          "metadata": {},
          "execution_count": 78
        }
      ]
    },
    {
      "cell_type": "code",
      "metadata": {
        "id": "m7JWYtgJCFDC",
        "colab": {
          "base_uri": "https://localhost:8080/"
        },
        "outputId": "421844c5-3b60-4600-c37c-42fe4cfc9de7"
      },
      "source": [
        "A.det()"
      ],
      "execution_count": null,
      "outputs": [
        {
          "output_type": "execute_result",
          "data": {
            "text/latex": "$\\displaystyle 1$",
            "text/plain": [
              "1"
            ]
          },
          "metadata": {},
          "execution_count": 79
        }
      ]
    },
    {
      "cell_type": "markdown",
      "metadata": {
        "id": "HChhAPD0HE4v"
      },
      "source": [
        "## Polinômio característico\n",
        "\n",
        "Poderíamos obter o polinômio característico de uma Sympy Matrix da mesma que faríamos \"no papel\".\n",
        "\n",
        "1.   Encontrar a matriz $L(\\lambda) = A - \\lambda I$.\n",
        "2.   Encontrar o polinômio $p(\\lambda) = \\det(L(\\lambda))$. \n",
        "\n",
        "*Lembrando que as solução da equação $p(\\lambda) = 0$ nos fornecem os autovalores da matriz $A$.*\n",
        "\n",
        "\n"
      ]
    },
    {
      "cell_type": "code",
      "metadata": {
        "colab": {
          "base_uri": "https://localhost:8080/"
        },
        "id": "QPY-oRIXNyWn",
        "outputId": "16008347-3032-4c05-e297-00e5ca6d5f2c"
      },
      "source": [
        "A"
      ],
      "execution_count": null,
      "outputs": [
        {
          "output_type": "execute_result",
          "data": {
            "text/latex": "$\\displaystyle \\left[\\begin{matrix}1 & 1\\\\2 & 3\\end{matrix}\\right]$",
            "text/plain": [
              "⎡1  1⎤\n",
              "⎢    ⎥\n",
              "⎣2  3⎦"
            ]
          },
          "metadata": {},
          "execution_count": 80
        }
      ]
    },
    {
      "cell_type": "code",
      "metadata": {
        "id": "CQDksvdzHRn_"
      },
      "source": [
        "# Primeiro, criaremos o símbolo lambda\n",
        "lambda_s = sym.symbols('\\lambda')\n",
        "# Em seguida, criaremos a matriz L\n",
        "L_s = A - lambda_s * sym.eye(*A.shape)"
      ],
      "execution_count": null,
      "outputs": []
    },
    {
      "cell_type": "code",
      "metadata": {
        "colab": {
          "base_uri": "https://localhost:8080/"
        },
        "id": "vtjZxXPtJ1mY",
        "outputId": "88249f3d-6604-455e-c029-3d8d47ba8979"
      },
      "source": [
        "L_s"
      ],
      "execution_count": null,
      "outputs": [
        {
          "output_type": "execute_result",
          "data": {
            "text/latex": "$\\displaystyle \\left[\\begin{matrix}1 - \\lambda & 1\\\\2 & 3 - \\lambda\\end{matrix}\\right]$",
            "text/plain": [
              "⎡1 - \\lambda       1     ⎤\n",
              "⎢                        ⎥\n",
              "⎣     2       3 - \\lambda⎦"
            ]
          },
          "metadata": {},
          "execution_count": 82
        }
      ]
    },
    {
      "cell_type": "code",
      "metadata": {
        "id": "XBNVhtWqJ99Y"
      },
      "source": [
        "# Por fim, calculamos o determinante desta matriz L.\n",
        "p_s = L_s.det()"
      ],
      "execution_count": null,
      "outputs": []
    },
    {
      "cell_type": "code",
      "metadata": {
        "colab": {
          "base_uri": "https://localhost:8080/"
        },
        "id": "DdkKIEUVNNyV",
        "outputId": "76eccf46-724f-4a7c-f627-0c0eea42e745"
      },
      "source": [
        "p_s"
      ],
      "execution_count": null,
      "outputs": [
        {
          "output_type": "execute_result",
          "data": {
            "text/latex": "$\\displaystyle \\lambda^{2} - 4 \\lambda + 1$",
            "text/plain": [
              "       2                \n",
              "\\lambda  - 4⋅\\lambda + 1"
            ]
          },
          "metadata": {},
          "execution_count": 84
        }
      ]
    },
    {
      "cell_type": "markdown",
      "metadata": {
        "id": "MiUL2HZOKkbj"
      },
      "source": [
        "Se fosse do nosso interesse encontrar os autovalores por $p(\\lambda) = 0$, o Sympy possui funcionalidades que resolvem equações e sistema de equações (lineares ou até mesmo não lineares). Entretanto, só veremos como fazer isso posteriormente. "
      ]
    },
    {
      "cell_type": "markdown",
      "metadata": {
        "id": "ckO2obnbLIyt"
      },
      "source": [
        "### Autovalores e Autovetores (\"Autocoisas\")"
      ]
    },
    {
      "cell_type": "markdown",
      "metadata": {
        "id": "POifZCeKKxQ_"
      },
      "source": [
        "Se desejarmos os autovalores e autovetores da matriz $A$, isso pode ser feito diretamente, usando o método de uma Sympy Matrix **`eigenvects`**. É retornada uma lista de tuplas, em que o primeiro elemento desta lista é uma tupla contendo o autovalor, sua multiplicidade (um assunto que veremos mais a fundo no decorrer do curso) e o autovetor correspondente."
      ]
    },
    {
      "cell_type": "code",
      "metadata": {
        "colab": {
          "base_uri": "https://localhost:8080/"
        },
        "id": "acCUb04iKLrV",
        "outputId": "7dec75a9-dd11-4cd1-b30f-ee879db3708d"
      },
      "source": [
        "A.eigenvects()"
      ],
      "execution_count": null,
      "outputs": [
        {
          "output_type": "execute_result",
          "data": {
            "text/latex": "$\\displaystyle \\left[ \\left( 2 - \\sqrt{3}, \\  1, \\  \\left[ \\left[\\begin{matrix}- \\frac{1}{-1 + \\sqrt{3}}\\\\1\\end{matrix}\\right]\\right]\\right), \\  \\left( \\sqrt{3} + 2, \\  1, \\  \\left[ \\left[\\begin{matrix}- \\frac{1}{- \\sqrt{3} - 1}\\\\1\\end{matrix}\\right]\\right]\\right)\\right]$",
            "text/plain": [
              "⎡⎛           ⎡⎡  -1   ⎤⎤⎞  ⎛           ⎡⎡  -1   ⎤⎤⎞⎤\n",
              "⎢⎜           ⎢⎢───────⎥⎥⎟  ⎜           ⎢⎢───────⎥⎥⎟⎥\n",
              "⎢⎜2 - √3, 1, ⎢⎢-1 + √3⎥⎥⎟, ⎜√3 + 2, 1, ⎢⎢-√3 - 1⎥⎥⎟⎥\n",
              "⎢⎜           ⎢⎢       ⎥⎥⎟  ⎜           ⎢⎢       ⎥⎥⎟⎥\n",
              "⎣⎝           ⎣⎣   1   ⎦⎦⎠  ⎝           ⎣⎣   1   ⎦⎦⎠⎦"
            ]
          },
          "metadata": {},
          "execution_count": 85
        }
      ]
    },
    {
      "cell_type": "markdown",
      "metadata": {
        "id": "tRQz4OD8L7Ie"
      },
      "source": [
        "Os autovalores da matriz $A$ são então $\\lambda_1 = 2 - \\sqrt{3}$ e $\\lambda_2 = \\sqrt{3} + 2$, com $v_1 = \\begin{bmatrix} - \\frac{1}{-1 + \\sqrt{3}}\\\\ 1 \\end{bmatrix}$ e $v_2 = \\begin{bmatrix} - \\frac{1}{-1 - \\sqrt{3}}\\\\ 1 \\end{bmatrix}$ sendo seus autovetores correspondentes."
      ]
    }
  ]
}